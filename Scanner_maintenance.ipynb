{
  "cells": [
    {
      "cell_type": "markdown",
      "metadata": {
        "id": "view-in-github",
        "colab_type": "text"
      },
      "source": [
        "<a href=\"https://colab.research.google.com/github/sroy890/Airline-scanner-failure-prediction/blob/main/Scanner_maintenance.ipynb\" target=\"_parent\"><img src=\"https://colab.research.google.com/assets/colab-badge.svg\" alt=\"Open In Colab\"/></a>"
      ]
    },
    {
      "cell_type": "markdown",
      "source": [
        "# Predictive Maintenance  - Classification approach\n",
        "\n",
        "**Task 1 - build a model to answer a question**\n",
        "\n",
        "question: Model the err, and errf columns for individual 'scanners' to show a expected failure rate of the encoder component. \n",
        "Scanners identified into two groups, based on the following criteria and grouping:\n",
        "never fail: scanners whom never reach the 12 % range for err\n",
        "routinely fail: scanners whom reach the 12% range for err on a routine basis\n",
        "err and errf are both float values, they are loosely tied to each other, and are not a 1 for 1 relationship, e.g. a rising err value doesn't mean a errf value will rise, nor the opposite.  \n",
        "Failure is defined as a err that is above 12 % and/or a errf that is above 0.5 %\n",
        "\n",
        "background:  err and errf represent a encoder error rate at which a led light is pulsating into a window barrier.  This barrier, and subsequent calculation, represent the rate of rotation of a component, and the compensated ERRor and ERRor Filtered value.  \n",
        "\n",
        "**task 2 - explain why the model was chosen to answer the question asked**\n",
        "\n",
        "**task 3- explain the performance of the model, and of other models that would prove the same question.**\n",
        "\n",
        "**task 4 -: Build documentation and share it across.**"
      ],
      "metadata": {
        "id": "sneL4V2dd0cu"
      }
    },
    {
      "cell_type": "code",
      "source": [
        "from google.colab import files\n",
        "\n",
        "\n",
        "uploaded = files.upload()"
      ],
      "metadata": {
        "colab": {
          "resources": {
            "http://localhost:8080/nbextensions/google.colab/files.js": {
              "data": "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",
              "ok": true,
              "headers": [
                [
                  "content-type",
                  "application/javascript"
                ]
              ],
              "status": 200,
              "status_text": ""
            }
          },
          "base_uri": "https://localhost:8080/",
          "height": 74
        },
        "id": "gJUmUYd9fEYo",
        "outputId": "f3593182-fa84-49d8-d549-405172c70722"
      },
      "execution_count": 209,
      "outputs": [
        {
          "output_type": "display_data",
          "data": {
            "text/plain": [
              "<IPython.core.display.HTML object>"
            ],
            "text/html": [
              "\n",
              "     <input type=\"file\" id=\"files-61f11a51-670a-4d7f-8696-49d8263cac50\" name=\"files[]\" multiple disabled\n",
              "        style=\"border:none\" />\n",
              "     <output id=\"result-61f11a51-670a-4d7f-8696-49d8263cac50\">\n",
              "      Upload widget is only available when the cell has been executed in the\n",
              "      current browser session. Please rerun this cell to enable.\n",
              "      </output>\n",
              "      <script src=\"/nbextensions/google.colab/files.js\"></script> "
            ]
          },
          "metadata": {}
        },
        {
          "output_type": "stream",
          "name": "stdout",
          "text": [
            "Saving encoders (1).csv to encoders (1) (2).csv\n"
          ]
        }
      ]
    },
    {
      "cell_type": "code",
      "source": [
        "import pandas as pd\n",
        "import numpy as np\n",
        "import matplotlib\n",
        "import matplotlib.pyplot as plt\n",
        "from pandas import read_csv\n",
        "import math\n",
        "import warnings\n",
        "warnings.filterwarnings(\"ignore\")\n",
        "import seaborn as sns\n",
        "import statsmodels.api as sm\n",
        "\n",
        "from plotly.subplots import make_subplots\n",
        "import plotly.graph_objects as go\n",
        "import plotly.express as px\n",
        "import plotly.io as pio \n",
        "pio.templates"
      ],
      "metadata": {
        "colab": {
          "base_uri": "https://localhost:8080/",
          "height": 0
        },
        "id": "CuhvIxlZe8bS",
        "outputId": "99361eca-6b3f-42a1-9d23-a14327df4815"
      },
      "execution_count": 206,
      "outputs": [
        {
          "output_type": "execute_result",
          "data": {
            "text/plain": [
              "Templates configuration\n",
              "-----------------------\n",
              "    Default template: 'plotly'\n",
              "    Available templates:\n",
              "        ['ggplot2', 'seaborn', 'simple_white', 'plotly',\n",
              "         'plotly_white', 'plotly_dark', 'presentation', 'xgridoff',\n",
              "         'ygridoff', 'gridon', 'none']"
            ]
          },
          "metadata": {},
          "execution_count": 206
        }
      ]
    },
    {
      "cell_type": "code",
      "source": [
        "from sklearn.preprocessing import MinMaxScaler\n",
        "from statsmodels.tools.eval_measures import rmse\n",
        "from sklearn.metrics import mean_squared_error\n",
        "from sklearn.metrics import mean_absolute_error"
      ],
      "metadata": {
        "id": "_11XLv2VFL8q"
      },
      "execution_count": 208,
      "outputs": []
    },
    {
      "cell_type": "code",
      "execution_count": 207,
      "metadata": {
        "id": "zEwIwXlhODgQ"
      },
      "outputs": [],
      "source": [
        "plt.rcParams[\"figure.figsize\"] = (15,4)\n",
        "matplotlib.rcParams['axes.labelsize'] = 14\n",
        "matplotlib.rcParams['xtick.labelsize'] = 12\n",
        "matplotlib.rcParams['ytick.labelsize'] = 12\n",
        "matplotlib.rcParams['text.color'] = 'k'"
      ]
    },
    {
      "cell_type": "code",
      "source": [
        "df = pd.read_csv('encoders (1).csv', parse_dates=['date'], infer_datetime_format= True)"
      ],
      "metadata": {
        "id": "_95wPKHL0y72"
      },
      "execution_count": null,
      "outputs": []
    },
    {
      "cell_type": "code",
      "execution_count": null,
      "metadata": {
        "colab": {
          "base_uri": "https://localhost:8080/",
          "height": 143
        },
        "id": "5WKvJSqqOIKX",
        "outputId": "e00b15f4-5966-4f21-d93c-24d4fdfc249a"
      },
      "outputs": [
        {
          "output_type": "execute_result",
          "data": {
            "text/plain": [
              "   id       date scanner    min    max   err  pixels   minf   maxf  errf  \\\n",
              "0  12 2017-12-17    K219  35435  35933  1.40       6  35681  35688  0.02   \n",
              "1  30 2017-12-18    H161  35155  36382  3.43      14  35731  35761  0.08   \n",
              "2  47 2017-12-18    K211  35305  36042  2.07      43  35692  35739  0.13   \n",
              "\n",
              "   created_at updated_at  \n",
              "0         NaN    26:16.5  \n",
              "1         NaN    26:16.9  \n",
              "2         NaN    10:57.5  "
            ],
            "text/html": [
              "\n",
              "  <div id=\"df-4a3116a5-1a13-4eb8-8602-4f259ce4fa08\">\n",
              "    <div class=\"colab-df-container\">\n",
              "      <div>\n",
              "<style scoped>\n",
              "    .dataframe tbody tr th:only-of-type {\n",
              "        vertical-align: middle;\n",
              "    }\n",
              "\n",
              "    .dataframe tbody tr th {\n",
              "        vertical-align: top;\n",
              "    }\n",
              "\n",
              "    .dataframe thead th {\n",
              "        text-align: right;\n",
              "    }\n",
              "</style>\n",
              "<table border=\"1\" class=\"dataframe\">\n",
              "  <thead>\n",
              "    <tr style=\"text-align: right;\">\n",
              "      <th></th>\n",
              "      <th>id</th>\n",
              "      <th>date</th>\n",
              "      <th>scanner</th>\n",
              "      <th>min</th>\n",
              "      <th>max</th>\n",
              "      <th>err</th>\n",
              "      <th>pixels</th>\n",
              "      <th>minf</th>\n",
              "      <th>maxf</th>\n",
              "      <th>errf</th>\n",
              "      <th>created_at</th>\n",
              "      <th>updated_at</th>\n",
              "    </tr>\n",
              "  </thead>\n",
              "  <tbody>\n",
              "    <tr>\n",
              "      <th>0</th>\n",
              "      <td>12</td>\n",
              "      <td>2017-12-17</td>\n",
              "      <td>K219</td>\n",
              "      <td>35435</td>\n",
              "      <td>35933</td>\n",
              "      <td>1.40</td>\n",
              "      <td>6</td>\n",
              "      <td>35681</td>\n",
              "      <td>35688</td>\n",
              "      <td>0.02</td>\n",
              "      <td>NaN</td>\n",
              "      <td>26:16.5</td>\n",
              "    </tr>\n",
              "    <tr>\n",
              "      <th>1</th>\n",
              "      <td>30</td>\n",
              "      <td>2017-12-18</td>\n",
              "      <td>H161</td>\n",
              "      <td>35155</td>\n",
              "      <td>36382</td>\n",
              "      <td>3.43</td>\n",
              "      <td>14</td>\n",
              "      <td>35731</td>\n",
              "      <td>35761</td>\n",
              "      <td>0.08</td>\n",
              "      <td>NaN</td>\n",
              "      <td>26:16.9</td>\n",
              "    </tr>\n",
              "    <tr>\n",
              "      <th>2</th>\n",
              "      <td>47</td>\n",
              "      <td>2017-12-18</td>\n",
              "      <td>K211</td>\n",
              "      <td>35305</td>\n",
              "      <td>36042</td>\n",
              "      <td>2.07</td>\n",
              "      <td>43</td>\n",
              "      <td>35692</td>\n",
              "      <td>35739</td>\n",
              "      <td>0.13</td>\n",
              "      <td>NaN</td>\n",
              "      <td>10:57.5</td>\n",
              "    </tr>\n",
              "  </tbody>\n",
              "</table>\n",
              "</div>\n",
              "      <button class=\"colab-df-convert\" onclick=\"convertToInteractive('df-4a3116a5-1a13-4eb8-8602-4f259ce4fa08')\"\n",
              "              title=\"Convert this dataframe to an interactive table.\"\n",
              "              style=\"display:none;\">\n",
              "        \n",
              "  <svg xmlns=\"http://www.w3.org/2000/svg\" height=\"24px\"viewBox=\"0 0 24 24\"\n",
              "       width=\"24px\">\n",
              "    <path d=\"M0 0h24v24H0V0z\" fill=\"none\"/>\n",
              "    <path d=\"M18.56 5.44l.94 2.06.94-2.06 2.06-.94-2.06-.94-.94-2.06-.94 2.06-2.06.94zm-11 1L8.5 8.5l.94-2.06 2.06-.94-2.06-.94L8.5 2.5l-.94 2.06-2.06.94zm10 10l.94 2.06.94-2.06 2.06-.94-2.06-.94-.94-2.06-.94 2.06-2.06.94z\"/><path d=\"M17.41 7.96l-1.37-1.37c-.4-.4-.92-.59-1.43-.59-.52 0-1.04.2-1.43.59L10.3 9.45l-7.72 7.72c-.78.78-.78 2.05 0 2.83L4 21.41c.39.39.9.59 1.41.59.51 0 1.02-.2 1.41-.59l7.78-7.78 2.81-2.81c.8-.78.8-2.07 0-2.86zM5.41 20L4 18.59l7.72-7.72 1.47 1.35L5.41 20z\"/>\n",
              "  </svg>\n",
              "      </button>\n",
              "      \n",
              "  <style>\n",
              "    .colab-df-container {\n",
              "      display:flex;\n",
              "      flex-wrap:wrap;\n",
              "      gap: 12px;\n",
              "    }\n",
              "\n",
              "    .colab-df-convert {\n",
              "      background-color: #E8F0FE;\n",
              "      border: none;\n",
              "      border-radius: 50%;\n",
              "      cursor: pointer;\n",
              "      display: none;\n",
              "      fill: #1967D2;\n",
              "      height: 32px;\n",
              "      padding: 0 0 0 0;\n",
              "      width: 32px;\n",
              "    }\n",
              "\n",
              "    .colab-df-convert:hover {\n",
              "      background-color: #E2EBFA;\n",
              "      box-shadow: 0px 1px 2px rgba(60, 64, 67, 0.3), 0px 1px 3px 1px rgba(60, 64, 67, 0.15);\n",
              "      fill: #174EA6;\n",
              "    }\n",
              "\n",
              "    [theme=dark] .colab-df-convert {\n",
              "      background-color: #3B4455;\n",
              "      fill: #D2E3FC;\n",
              "    }\n",
              "\n",
              "    [theme=dark] .colab-df-convert:hover {\n",
              "      background-color: #434B5C;\n",
              "      box-shadow: 0px 1px 3px 1px rgba(0, 0, 0, 0.15);\n",
              "      filter: drop-shadow(0px 1px 2px rgba(0, 0, 0, 0.3));\n",
              "      fill: #FFFFFF;\n",
              "    }\n",
              "  </style>\n",
              "\n",
              "      <script>\n",
              "        const buttonEl =\n",
              "          document.querySelector('#df-4a3116a5-1a13-4eb8-8602-4f259ce4fa08 button.colab-df-convert');\n",
              "        buttonEl.style.display =\n",
              "          google.colab.kernel.accessAllowed ? 'block' : 'none';\n",
              "\n",
              "        async function convertToInteractive(key) {\n",
              "          const element = document.querySelector('#df-4a3116a5-1a13-4eb8-8602-4f259ce4fa08');\n",
              "          const dataTable =\n",
              "            await google.colab.kernel.invokeFunction('convertToInteractive',\n",
              "                                                     [key], {});\n",
              "          if (!dataTable) return;\n",
              "\n",
              "          const docLinkHtml = 'Like what you see? Visit the ' +\n",
              "            '<a target=\"_blank\" href=https://colab.research.google.com/notebooks/data_table.ipynb>data table notebook</a>'\n",
              "            + ' to learn more about interactive tables.';\n",
              "          element.innerHTML = '';\n",
              "          dataTable['output_type'] = 'display_data';\n",
              "          await google.colab.output.renderOutput(dataTable, element);\n",
              "          const docLink = document.createElement('div');\n",
              "          docLink.innerHTML = docLinkHtml;\n",
              "          element.appendChild(docLink);\n",
              "        }\n",
              "      </script>\n",
              "    </div>\n",
              "  </div>\n",
              "  "
            ]
          },
          "metadata": {},
          "execution_count": 157
        }
      ],
      "source": [
        "df.head(3)"
      ]
    },
    {
      "cell_type": "code",
      "execution_count": null,
      "metadata": {
        "id": "f7rcXOFQOtvd"
      },
      "outputs": [],
      "source": [
        "df.drop(['created_at','id'], axis=1, inplace= True)"
      ]
    },
    {
      "cell_type": "code",
      "execution_count": null,
      "metadata": {
        "colab": {
          "base_uri": "https://localhost:8080/",
          "height": 467
        },
        "id": "zW-0Nt1NV3qt",
        "outputId": "bd815a40-f2d7-477b-bbd9-d3e18bd8f101"
      },
      "outputs": [
        {
          "output_type": "stream",
          "name": "stdout",
          "text": [
            "<class 'pandas.core.frame.DataFrame'>\n",
            "RangeIndex: 2752 entries, 0 to 2751\n",
            "Data columns (total 10 columns):\n",
            " #   Column      Non-Null Count  Dtype         \n",
            "---  ------      --------------  -----         \n",
            " 0   date        2752 non-null   datetime64[ns]\n",
            " 1   scanner     2752 non-null   object        \n",
            " 2   min         2752 non-null   int64         \n",
            " 3   max         2752 non-null   int64         \n",
            " 4   err         2752 non-null   float64       \n",
            " 5   pixels      2752 non-null   int64         \n",
            " 6   minf        2752 non-null   int64         \n",
            " 7   maxf        2752 non-null   int64         \n",
            " 8   errf        2752 non-null   float64       \n",
            " 9   updated_at  1921 non-null   object        \n",
            "dtypes: datetime64[ns](1), float64(2), int64(5), object(2)\n",
            "memory usage: 215.1+ KB\n",
            "None\n"
          ]
        },
        {
          "output_type": "execute_result",
          "data": {
            "text/plain": [
              "        date scanner    min    max   err  pixels   minf   maxf  errf  \\\n",
              "0 2017-12-17    K219  35435  35933  1.40       6  35681  35688  0.02   \n",
              "1 2017-12-18    H161  35155  36382  3.43      14  35731  35761  0.08   \n",
              "2 2017-12-18    K211  35305  36042  2.07      43  35692  35739  0.13   \n",
              "\n",
              "  updated_at  \n",
              "0    26:16.5  \n",
              "1    26:16.9  \n",
              "2    10:57.5  "
            ],
            "text/html": [
              "\n",
              "  <div id=\"df-923f6b72-e5cc-4f03-8a00-efc99f1a5026\">\n",
              "    <div class=\"colab-df-container\">\n",
              "      <div>\n",
              "<style scoped>\n",
              "    .dataframe tbody tr th:only-of-type {\n",
              "        vertical-align: middle;\n",
              "    }\n",
              "\n",
              "    .dataframe tbody tr th {\n",
              "        vertical-align: top;\n",
              "    }\n",
              "\n",
              "    .dataframe thead th {\n",
              "        text-align: right;\n",
              "    }\n",
              "</style>\n",
              "<table border=\"1\" class=\"dataframe\">\n",
              "  <thead>\n",
              "    <tr style=\"text-align: right;\">\n",
              "      <th></th>\n",
              "      <th>date</th>\n",
              "      <th>scanner</th>\n",
              "      <th>min</th>\n",
              "      <th>max</th>\n",
              "      <th>err</th>\n",
              "      <th>pixels</th>\n",
              "      <th>minf</th>\n",
              "      <th>maxf</th>\n",
              "      <th>errf</th>\n",
              "      <th>updated_at</th>\n",
              "    </tr>\n",
              "  </thead>\n",
              "  <tbody>\n",
              "    <tr>\n",
              "      <th>0</th>\n",
              "      <td>2017-12-17</td>\n",
              "      <td>K219</td>\n",
              "      <td>35435</td>\n",
              "      <td>35933</td>\n",
              "      <td>1.40</td>\n",
              "      <td>6</td>\n",
              "      <td>35681</td>\n",
              "      <td>35688</td>\n",
              "      <td>0.02</td>\n",
              "      <td>26:16.5</td>\n",
              "    </tr>\n",
              "    <tr>\n",
              "      <th>1</th>\n",
              "      <td>2017-12-18</td>\n",
              "      <td>H161</td>\n",
              "      <td>35155</td>\n",
              "      <td>36382</td>\n",
              "      <td>3.43</td>\n",
              "      <td>14</td>\n",
              "      <td>35731</td>\n",
              "      <td>35761</td>\n",
              "      <td>0.08</td>\n",
              "      <td>26:16.9</td>\n",
              "    </tr>\n",
              "    <tr>\n",
              "      <th>2</th>\n",
              "      <td>2017-12-18</td>\n",
              "      <td>K211</td>\n",
              "      <td>35305</td>\n",
              "      <td>36042</td>\n",
              "      <td>2.07</td>\n",
              "      <td>43</td>\n",
              "      <td>35692</td>\n",
              "      <td>35739</td>\n",
              "      <td>0.13</td>\n",
              "      <td>10:57.5</td>\n",
              "    </tr>\n",
              "  </tbody>\n",
              "</table>\n",
              "</div>\n",
              "      <button class=\"colab-df-convert\" onclick=\"convertToInteractive('df-923f6b72-e5cc-4f03-8a00-efc99f1a5026')\"\n",
              "              title=\"Convert this dataframe to an interactive table.\"\n",
              "              style=\"display:none;\">\n",
              "        \n",
              "  <svg xmlns=\"http://www.w3.org/2000/svg\" height=\"24px\"viewBox=\"0 0 24 24\"\n",
              "       width=\"24px\">\n",
              "    <path d=\"M0 0h24v24H0V0z\" fill=\"none\"/>\n",
              "    <path d=\"M18.56 5.44l.94 2.06.94-2.06 2.06-.94-2.06-.94-.94-2.06-.94 2.06-2.06.94zm-11 1L8.5 8.5l.94-2.06 2.06-.94-2.06-.94L8.5 2.5l-.94 2.06-2.06.94zm10 10l.94 2.06.94-2.06 2.06-.94-2.06-.94-.94-2.06-.94 2.06-2.06.94z\"/><path d=\"M17.41 7.96l-1.37-1.37c-.4-.4-.92-.59-1.43-.59-.52 0-1.04.2-1.43.59L10.3 9.45l-7.72 7.72c-.78.78-.78 2.05 0 2.83L4 21.41c.39.39.9.59 1.41.59.51 0 1.02-.2 1.41-.59l7.78-7.78 2.81-2.81c.8-.78.8-2.07 0-2.86zM5.41 20L4 18.59l7.72-7.72 1.47 1.35L5.41 20z\"/>\n",
              "  </svg>\n",
              "      </button>\n",
              "      \n",
              "  <style>\n",
              "    .colab-df-container {\n",
              "      display:flex;\n",
              "      flex-wrap:wrap;\n",
              "      gap: 12px;\n",
              "    }\n",
              "\n",
              "    .colab-df-convert {\n",
              "      background-color: #E8F0FE;\n",
              "      border: none;\n",
              "      border-radius: 50%;\n",
              "      cursor: pointer;\n",
              "      display: none;\n",
              "      fill: #1967D2;\n",
              "      height: 32px;\n",
              "      padding: 0 0 0 0;\n",
              "      width: 32px;\n",
              "    }\n",
              "\n",
              "    .colab-df-convert:hover {\n",
              "      background-color: #E2EBFA;\n",
              "      box-shadow: 0px 1px 2px rgba(60, 64, 67, 0.3), 0px 1px 3px 1px rgba(60, 64, 67, 0.15);\n",
              "      fill: #174EA6;\n",
              "    }\n",
              "\n",
              "    [theme=dark] .colab-df-convert {\n",
              "      background-color: #3B4455;\n",
              "      fill: #D2E3FC;\n",
              "    }\n",
              "\n",
              "    [theme=dark] .colab-df-convert:hover {\n",
              "      background-color: #434B5C;\n",
              "      box-shadow: 0px 1px 3px 1px rgba(0, 0, 0, 0.15);\n",
              "      filter: drop-shadow(0px 1px 2px rgba(0, 0, 0, 0.3));\n",
              "      fill: #FFFFFF;\n",
              "    }\n",
              "  </style>\n",
              "\n",
              "      <script>\n",
              "        const buttonEl =\n",
              "          document.querySelector('#df-923f6b72-e5cc-4f03-8a00-efc99f1a5026 button.colab-df-convert');\n",
              "        buttonEl.style.display =\n",
              "          google.colab.kernel.accessAllowed ? 'block' : 'none';\n",
              "\n",
              "        async function convertToInteractive(key) {\n",
              "          const element = document.querySelector('#df-923f6b72-e5cc-4f03-8a00-efc99f1a5026');\n",
              "          const dataTable =\n",
              "            await google.colab.kernel.invokeFunction('convertToInteractive',\n",
              "                                                     [key], {});\n",
              "          if (!dataTable) return;\n",
              "\n",
              "          const docLinkHtml = 'Like what you see? Visit the ' +\n",
              "            '<a target=\"_blank\" href=https://colab.research.google.com/notebooks/data_table.ipynb>data table notebook</a>'\n",
              "            + ' to learn more about interactive tables.';\n",
              "          element.innerHTML = '';\n",
              "          dataTable['output_type'] = 'display_data';\n",
              "          await google.colab.output.renderOutput(dataTable, element);\n",
              "          const docLink = document.createElement('div');\n",
              "          docLink.innerHTML = docLinkHtml;\n",
              "          element.appendChild(docLink);\n",
              "        }\n",
              "      </script>\n",
              "    </div>\n",
              "  </div>\n",
              "  "
            ]
          },
          "metadata": {},
          "execution_count": 159
        }
      ],
      "source": [
        "print(df.info())\n",
        "df.head(3)"
      ]
    },
    {
      "cell_type": "markdown",
      "source": [
        "**In 'Updated at' column we have nan values, so we need to impute those nan values for analysis. But as there are some information missing in that column (i.e:Date) so we can take the approach of forward fill to fill those na value.**"
      ],
      "metadata": {
        "id": "jijQfoZQ13aU"
      }
    },
    {
      "cell_type": "code",
      "source": [
        "df['updated_at'].fillna(method = 'ffill', inplace = True)"
      ],
      "metadata": {
        "id": "mI92fLBD1seO"
      },
      "execution_count": null,
      "outputs": []
    },
    {
      "cell_type": "code",
      "source": [
        "df.isnull().sum()"
      ],
      "metadata": {
        "colab": {
          "base_uri": "https://localhost:8080/"
        },
        "id": "I7mHIgGTJ2j1",
        "outputId": "45f16c1b-3a73-4dda-97bf-a88350c6555d"
      },
      "execution_count": null,
      "outputs": [
        {
          "output_type": "execute_result",
          "data": {
            "text/plain": [
              "date          0\n",
              "scanner       0\n",
              "min           0\n",
              "max           0\n",
              "err           0\n",
              "pixels        0\n",
              "minf          0\n",
              "maxf          0\n",
              "errf          0\n",
              "updated_at    0\n",
              "dtype: int64"
            ]
          },
          "metadata": {},
          "execution_count": 161
        }
      ]
    },
    {
      "cell_type": "code",
      "source": [
        "df = df.drop(['date'],axis= 1)"
      ],
      "metadata": {
        "id": "e21Gpv4l1tKd"
      },
      "execution_count": null,
      "outputs": []
    },
    {
      "cell_type": "code",
      "source": [
        "df.info()"
      ],
      "metadata": {
        "colab": {
          "base_uri": "https://localhost:8080/"
        },
        "id": "y-iSCCZo1tTM",
        "outputId": "5bb2ca05-9af7-4d5d-d2dc-046b7a526d1e"
      },
      "execution_count": null,
      "outputs": [
        {
          "output_type": "stream",
          "name": "stdout",
          "text": [
            "<class 'pandas.core.frame.DataFrame'>\n",
            "RangeIndex: 2752 entries, 0 to 2751\n",
            "Data columns (total 9 columns):\n",
            " #   Column      Non-Null Count  Dtype  \n",
            "---  ------      --------------  -----  \n",
            " 0   scanner     2752 non-null   object \n",
            " 1   min         2752 non-null   int64  \n",
            " 2   max         2752 non-null   int64  \n",
            " 3   err         2752 non-null   float64\n",
            " 4   pixels      2752 non-null   int64  \n",
            " 5   minf        2752 non-null   int64  \n",
            " 6   maxf        2752 non-null   int64  \n",
            " 7   errf        2752 non-null   float64\n",
            " 8   updated_at  2752 non-null   object \n",
            "dtypes: float64(2), int64(5), object(2)\n",
            "memory usage: 193.6+ KB\n"
          ]
        }
      ]
    },
    {
      "cell_type": "markdown",
      "source": [
        "**Data Clean-up:  Removing rows which is not having any recorded value**"
      ],
      "metadata": {
        "id": "CWIWExRY-ooO"
      }
    },
    {
      "cell_type": "code",
      "source": [
        "df = df.loc[~((df['min']<=0) & (df['max'] <= 0) & (df['err']<=0))]"
      ],
      "metadata": {
        "id": "qTrdz1s81tce"
      },
      "execution_count": null,
      "outputs": []
    },
    {
      "cell_type": "code",
      "source": [
        "df.info()"
      ],
      "metadata": {
        "colab": {
          "base_uri": "https://localhost:8080/"
        },
        "id": "dFO5lTzg-4-d",
        "outputId": "617ef66e-c531-420e-aa7d-ef81ffa01792"
      },
      "execution_count": null,
      "outputs": [
        {
          "output_type": "stream",
          "name": "stdout",
          "text": [
            "<class 'pandas.core.frame.DataFrame'>\n",
            "Int64Index: 2603 entries, 0 to 2751\n",
            "Data columns (total 9 columns):\n",
            " #   Column      Non-Null Count  Dtype  \n",
            "---  ------      --------------  -----  \n",
            " 0   scanner     2603 non-null   object \n",
            " 1   min         2603 non-null   int64  \n",
            " 2   max         2603 non-null   int64  \n",
            " 3   err         2603 non-null   float64\n",
            " 4   pixels      2603 non-null   int64  \n",
            " 5   minf        2603 non-null   int64  \n",
            " 6   maxf        2603 non-null   int64  \n",
            " 7   errf        2603 non-null   float64\n",
            " 8   updated_at  2603 non-null   object \n",
            "dtypes: float64(2), int64(5), object(2)\n",
            "memory usage: 203.4+ KB\n"
          ]
        }
      ]
    },
    {
      "cell_type": "code",
      "source": [
        "df.head()"
      ],
      "metadata": {
        "colab": {
          "base_uri": "https://localhost:8080/",
          "height": 206
        },
        "id": "agkCqguz-54Z",
        "outputId": "eb6c009c-fb34-4eb8-8a46-65609c0b7751"
      },
      "execution_count": null,
      "outputs": [
        {
          "output_type": "execute_result",
          "data": {
            "text/plain": [
              "  scanner    min    max   err  pixels   minf   maxf  errf updated_at\n",
              "0    K219  35435  35933  1.40       6  35681  35688  0.02    26:16.5\n",
              "1    H161  35155  36382  3.43      14  35731  35761  0.08    26:16.9\n",
              "2    K211  35305  36042  2.07      43  35692  35739  0.13    10:57.5\n",
              "3    K212  35216  36225  2.82      61  35686  35726  0.11    10:57.5\n",
              "4    K220  35196  36259  2.98      11  35709  35724  0.04    10:57.5"
            ],
            "text/html": [
              "\n",
              "  <div id=\"df-3514f6de-d6ca-46af-8b78-eaa18f9c38b5\">\n",
              "    <div class=\"colab-df-container\">\n",
              "      <div>\n",
              "<style scoped>\n",
              "    .dataframe tbody tr th:only-of-type {\n",
              "        vertical-align: middle;\n",
              "    }\n",
              "\n",
              "    .dataframe tbody tr th {\n",
              "        vertical-align: top;\n",
              "    }\n",
              "\n",
              "    .dataframe thead th {\n",
              "        text-align: right;\n",
              "    }\n",
              "</style>\n",
              "<table border=\"1\" class=\"dataframe\">\n",
              "  <thead>\n",
              "    <tr style=\"text-align: right;\">\n",
              "      <th></th>\n",
              "      <th>scanner</th>\n",
              "      <th>min</th>\n",
              "      <th>max</th>\n",
              "      <th>err</th>\n",
              "      <th>pixels</th>\n",
              "      <th>minf</th>\n",
              "      <th>maxf</th>\n",
              "      <th>errf</th>\n",
              "      <th>updated_at</th>\n",
              "    </tr>\n",
              "  </thead>\n",
              "  <tbody>\n",
              "    <tr>\n",
              "      <th>0</th>\n",
              "      <td>K219</td>\n",
              "      <td>35435</td>\n",
              "      <td>35933</td>\n",
              "      <td>1.40</td>\n",
              "      <td>6</td>\n",
              "      <td>35681</td>\n",
              "      <td>35688</td>\n",
              "      <td>0.02</td>\n",
              "      <td>26:16.5</td>\n",
              "    </tr>\n",
              "    <tr>\n",
              "      <th>1</th>\n",
              "      <td>H161</td>\n",
              "      <td>35155</td>\n",
              "      <td>36382</td>\n",
              "      <td>3.43</td>\n",
              "      <td>14</td>\n",
              "      <td>35731</td>\n",
              "      <td>35761</td>\n",
              "      <td>0.08</td>\n",
              "      <td>26:16.9</td>\n",
              "    </tr>\n",
              "    <tr>\n",
              "      <th>2</th>\n",
              "      <td>K211</td>\n",
              "      <td>35305</td>\n",
              "      <td>36042</td>\n",
              "      <td>2.07</td>\n",
              "      <td>43</td>\n",
              "      <td>35692</td>\n",
              "      <td>35739</td>\n",
              "      <td>0.13</td>\n",
              "      <td>10:57.5</td>\n",
              "    </tr>\n",
              "    <tr>\n",
              "      <th>3</th>\n",
              "      <td>K212</td>\n",
              "      <td>35216</td>\n",
              "      <td>36225</td>\n",
              "      <td>2.82</td>\n",
              "      <td>61</td>\n",
              "      <td>35686</td>\n",
              "      <td>35726</td>\n",
              "      <td>0.11</td>\n",
              "      <td>10:57.5</td>\n",
              "    </tr>\n",
              "    <tr>\n",
              "      <th>4</th>\n",
              "      <td>K220</td>\n",
              "      <td>35196</td>\n",
              "      <td>36259</td>\n",
              "      <td>2.98</td>\n",
              "      <td>11</td>\n",
              "      <td>35709</td>\n",
              "      <td>35724</td>\n",
              "      <td>0.04</td>\n",
              "      <td>10:57.5</td>\n",
              "    </tr>\n",
              "  </tbody>\n",
              "</table>\n",
              "</div>\n",
              "      <button class=\"colab-df-convert\" onclick=\"convertToInteractive('df-3514f6de-d6ca-46af-8b78-eaa18f9c38b5')\"\n",
              "              title=\"Convert this dataframe to an interactive table.\"\n",
              "              style=\"display:none;\">\n",
              "        \n",
              "  <svg xmlns=\"http://www.w3.org/2000/svg\" height=\"24px\"viewBox=\"0 0 24 24\"\n",
              "       width=\"24px\">\n",
              "    <path d=\"M0 0h24v24H0V0z\" fill=\"none\"/>\n",
              "    <path d=\"M18.56 5.44l.94 2.06.94-2.06 2.06-.94-2.06-.94-.94-2.06-.94 2.06-2.06.94zm-11 1L8.5 8.5l.94-2.06 2.06-.94-2.06-.94L8.5 2.5l-.94 2.06-2.06.94zm10 10l.94 2.06.94-2.06 2.06-.94-2.06-.94-.94-2.06-.94 2.06-2.06.94z\"/><path d=\"M17.41 7.96l-1.37-1.37c-.4-.4-.92-.59-1.43-.59-.52 0-1.04.2-1.43.59L10.3 9.45l-7.72 7.72c-.78.78-.78 2.05 0 2.83L4 21.41c.39.39.9.59 1.41.59.51 0 1.02-.2 1.41-.59l7.78-7.78 2.81-2.81c.8-.78.8-2.07 0-2.86zM5.41 20L4 18.59l7.72-7.72 1.47 1.35L5.41 20z\"/>\n",
              "  </svg>\n",
              "      </button>\n",
              "      \n",
              "  <style>\n",
              "    .colab-df-container {\n",
              "      display:flex;\n",
              "      flex-wrap:wrap;\n",
              "      gap: 12px;\n",
              "    }\n",
              "\n",
              "    .colab-df-convert {\n",
              "      background-color: #E8F0FE;\n",
              "      border: none;\n",
              "      border-radius: 50%;\n",
              "      cursor: pointer;\n",
              "      display: none;\n",
              "      fill: #1967D2;\n",
              "      height: 32px;\n",
              "      padding: 0 0 0 0;\n",
              "      width: 32px;\n",
              "    }\n",
              "\n",
              "    .colab-df-convert:hover {\n",
              "      background-color: #E2EBFA;\n",
              "      box-shadow: 0px 1px 2px rgba(60, 64, 67, 0.3), 0px 1px 3px 1px rgba(60, 64, 67, 0.15);\n",
              "      fill: #174EA6;\n",
              "    }\n",
              "\n",
              "    [theme=dark] .colab-df-convert {\n",
              "      background-color: #3B4455;\n",
              "      fill: #D2E3FC;\n",
              "    }\n",
              "\n",
              "    [theme=dark] .colab-df-convert:hover {\n",
              "      background-color: #434B5C;\n",
              "      box-shadow: 0px 1px 3px 1px rgba(0, 0, 0, 0.15);\n",
              "      filter: drop-shadow(0px 1px 2px rgba(0, 0, 0, 0.3));\n",
              "      fill: #FFFFFF;\n",
              "    }\n",
              "  </style>\n",
              "\n",
              "      <script>\n",
              "        const buttonEl =\n",
              "          document.querySelector('#df-3514f6de-d6ca-46af-8b78-eaa18f9c38b5 button.colab-df-convert');\n",
              "        buttonEl.style.display =\n",
              "          google.colab.kernel.accessAllowed ? 'block' : 'none';\n",
              "\n",
              "        async function convertToInteractive(key) {\n",
              "          const element = document.querySelector('#df-3514f6de-d6ca-46af-8b78-eaa18f9c38b5');\n",
              "          const dataTable =\n",
              "            await google.colab.kernel.invokeFunction('convertToInteractive',\n",
              "                                                     [key], {});\n",
              "          if (!dataTable) return;\n",
              "\n",
              "          const docLinkHtml = 'Like what you see? Visit the ' +\n",
              "            '<a target=\"_blank\" href=https://colab.research.google.com/notebooks/data_table.ipynb>data table notebook</a>'\n",
              "            + ' to learn more about interactive tables.';\n",
              "          element.innerHTML = '';\n",
              "          dataTable['output_type'] = 'display_data';\n",
              "          await google.colab.output.renderOutput(dataTable, element);\n",
              "          const docLink = document.createElement('div');\n",
              "          docLink.innerHTML = docLinkHtml;\n",
              "          element.appendChild(docLink);\n",
              "        }\n",
              "      </script>\n",
              "    </div>\n",
              "  </div>\n",
              "  "
            ]
          },
          "metadata": {},
          "execution_count": 166
        }
      ]
    },
    {
      "cell_type": "markdown",
      "source": [
        "**We can find out the difference between Max and min, minf and maxf for better analysis**"
      ],
      "metadata": {
        "id": "E7kXdbeOCOnF"
      }
    },
    {
      "cell_type": "code",
      "source": [
        "df['MaxMinDiff'] = df['max'] - df['min']\n",
        "df['MaxfMinfDiff'] = df['maxf'] - df['minf']"
      ],
      "metadata": {
        "id": "icg1JbPO-58R"
      },
      "execution_count": null,
      "outputs": []
    },
    {
      "cell_type": "code",
      "source": [
        "df.head(3)"
      ],
      "metadata": {
        "colab": {
          "base_uri": "https://localhost:8080/",
          "height": 143
        },
        "id": "ivRmfYBw-5_r",
        "outputId": "d4a29c53-dbd0-43fc-dcb3-95a7a1141eeb"
      },
      "execution_count": null,
      "outputs": [
        {
          "output_type": "execute_result",
          "data": {
            "text/plain": [
              "  scanner    min    max   err  pixels   minf   maxf  errf updated_at  \\\n",
              "0    K219  35435  35933  1.40       6  35681  35688  0.02    26:16.5   \n",
              "1    H161  35155  36382  3.43      14  35731  35761  0.08    26:16.9   \n",
              "2    K211  35305  36042  2.07      43  35692  35739  0.13    10:57.5   \n",
              "\n",
              "   MaxMinDiff  MaxfMinfDiff  \n",
              "0         498             7  \n",
              "1        1227            30  \n",
              "2         737            47  "
            ],
            "text/html": [
              "\n",
              "  <div id=\"df-45451a01-beec-490e-bf0c-96a9d2af9d88\">\n",
              "    <div class=\"colab-df-container\">\n",
              "      <div>\n",
              "<style scoped>\n",
              "    .dataframe tbody tr th:only-of-type {\n",
              "        vertical-align: middle;\n",
              "    }\n",
              "\n",
              "    .dataframe tbody tr th {\n",
              "        vertical-align: top;\n",
              "    }\n",
              "\n",
              "    .dataframe thead th {\n",
              "        text-align: right;\n",
              "    }\n",
              "</style>\n",
              "<table border=\"1\" class=\"dataframe\">\n",
              "  <thead>\n",
              "    <tr style=\"text-align: right;\">\n",
              "      <th></th>\n",
              "      <th>scanner</th>\n",
              "      <th>min</th>\n",
              "      <th>max</th>\n",
              "      <th>err</th>\n",
              "      <th>pixels</th>\n",
              "      <th>minf</th>\n",
              "      <th>maxf</th>\n",
              "      <th>errf</th>\n",
              "      <th>updated_at</th>\n",
              "      <th>MaxMinDiff</th>\n",
              "      <th>MaxfMinfDiff</th>\n",
              "    </tr>\n",
              "  </thead>\n",
              "  <tbody>\n",
              "    <tr>\n",
              "      <th>0</th>\n",
              "      <td>K219</td>\n",
              "      <td>35435</td>\n",
              "      <td>35933</td>\n",
              "      <td>1.40</td>\n",
              "      <td>6</td>\n",
              "      <td>35681</td>\n",
              "      <td>35688</td>\n",
              "      <td>0.02</td>\n",
              "      <td>26:16.5</td>\n",
              "      <td>498</td>\n",
              "      <td>7</td>\n",
              "    </tr>\n",
              "    <tr>\n",
              "      <th>1</th>\n",
              "      <td>H161</td>\n",
              "      <td>35155</td>\n",
              "      <td>36382</td>\n",
              "      <td>3.43</td>\n",
              "      <td>14</td>\n",
              "      <td>35731</td>\n",
              "      <td>35761</td>\n",
              "      <td>0.08</td>\n",
              "      <td>26:16.9</td>\n",
              "      <td>1227</td>\n",
              "      <td>30</td>\n",
              "    </tr>\n",
              "    <tr>\n",
              "      <th>2</th>\n",
              "      <td>K211</td>\n",
              "      <td>35305</td>\n",
              "      <td>36042</td>\n",
              "      <td>2.07</td>\n",
              "      <td>43</td>\n",
              "      <td>35692</td>\n",
              "      <td>35739</td>\n",
              "      <td>0.13</td>\n",
              "      <td>10:57.5</td>\n",
              "      <td>737</td>\n",
              "      <td>47</td>\n",
              "    </tr>\n",
              "  </tbody>\n",
              "</table>\n",
              "</div>\n",
              "      <button class=\"colab-df-convert\" onclick=\"convertToInteractive('df-45451a01-beec-490e-bf0c-96a9d2af9d88')\"\n",
              "              title=\"Convert this dataframe to an interactive table.\"\n",
              "              style=\"display:none;\">\n",
              "        \n",
              "  <svg xmlns=\"http://www.w3.org/2000/svg\" height=\"24px\"viewBox=\"0 0 24 24\"\n",
              "       width=\"24px\">\n",
              "    <path d=\"M0 0h24v24H0V0z\" fill=\"none\"/>\n",
              "    <path d=\"M18.56 5.44l.94 2.06.94-2.06 2.06-.94-2.06-.94-.94-2.06-.94 2.06-2.06.94zm-11 1L8.5 8.5l.94-2.06 2.06-.94-2.06-.94L8.5 2.5l-.94 2.06-2.06.94zm10 10l.94 2.06.94-2.06 2.06-.94-2.06-.94-.94-2.06-.94 2.06-2.06.94z\"/><path d=\"M17.41 7.96l-1.37-1.37c-.4-.4-.92-.59-1.43-.59-.52 0-1.04.2-1.43.59L10.3 9.45l-7.72 7.72c-.78.78-.78 2.05 0 2.83L4 21.41c.39.39.9.59 1.41.59.51 0 1.02-.2 1.41-.59l7.78-7.78 2.81-2.81c.8-.78.8-2.07 0-2.86zM5.41 20L4 18.59l7.72-7.72 1.47 1.35L5.41 20z\"/>\n",
              "  </svg>\n",
              "      </button>\n",
              "      \n",
              "  <style>\n",
              "    .colab-df-container {\n",
              "      display:flex;\n",
              "      flex-wrap:wrap;\n",
              "      gap: 12px;\n",
              "    }\n",
              "\n",
              "    .colab-df-convert {\n",
              "      background-color: #E8F0FE;\n",
              "      border: none;\n",
              "      border-radius: 50%;\n",
              "      cursor: pointer;\n",
              "      display: none;\n",
              "      fill: #1967D2;\n",
              "      height: 32px;\n",
              "      padding: 0 0 0 0;\n",
              "      width: 32px;\n",
              "    }\n",
              "\n",
              "    .colab-df-convert:hover {\n",
              "      background-color: #E2EBFA;\n",
              "      box-shadow: 0px 1px 2px rgba(60, 64, 67, 0.3), 0px 1px 3px 1px rgba(60, 64, 67, 0.15);\n",
              "      fill: #174EA6;\n",
              "    }\n",
              "\n",
              "    [theme=dark] .colab-df-convert {\n",
              "      background-color: #3B4455;\n",
              "      fill: #D2E3FC;\n",
              "    }\n",
              "\n",
              "    [theme=dark] .colab-df-convert:hover {\n",
              "      background-color: #434B5C;\n",
              "      box-shadow: 0px 1px 3px 1px rgba(0, 0, 0, 0.15);\n",
              "      filter: drop-shadow(0px 1px 2px rgba(0, 0, 0, 0.3));\n",
              "      fill: #FFFFFF;\n",
              "    }\n",
              "  </style>\n",
              "\n",
              "      <script>\n",
              "        const buttonEl =\n",
              "          document.querySelector('#df-45451a01-beec-490e-bf0c-96a9d2af9d88 button.colab-df-convert');\n",
              "        buttonEl.style.display =\n",
              "          google.colab.kernel.accessAllowed ? 'block' : 'none';\n",
              "\n",
              "        async function convertToInteractive(key) {\n",
              "          const element = document.querySelector('#df-45451a01-beec-490e-bf0c-96a9d2af9d88');\n",
              "          const dataTable =\n",
              "            await google.colab.kernel.invokeFunction('convertToInteractive',\n",
              "                                                     [key], {});\n",
              "          if (!dataTable) return;\n",
              "\n",
              "          const docLinkHtml = 'Like what you see? Visit the ' +\n",
              "            '<a target=\"_blank\" href=https://colab.research.google.com/notebooks/data_table.ipynb>data table notebook</a>'\n",
              "            + ' to learn more about interactive tables.';\n",
              "          element.innerHTML = '';\n",
              "          dataTable['output_type'] = 'display_data';\n",
              "          await google.colab.output.renderOutput(dataTable, element);\n",
              "          const docLink = document.createElement('div');\n",
              "          docLink.innerHTML = docLinkHtml;\n",
              "          element.appendChild(docLink);\n",
              "        }\n",
              "      </script>\n",
              "    </div>\n",
              "  </div>\n",
              "  "
            ]
          },
          "metadata": {},
          "execution_count": 168
        }
      ]
    },
    {
      "cell_type": "markdown",
      "source": [
        "**Let's check the relation of 'err' and 'errf' values with 'MaxMinDiff' and 'MaxfMinfdiff' columns**"
      ],
      "metadata": {
        "id": "If0ShyGGDxql"
      }
    },
    {
      "cell_type": "code",
      "source": [
        "# sns.scatterplot(x = df.err, y = df.MaxMinDiff, hue = df.scanner, legend = False)\n",
        "# plt.title('err vs MaxMindiff')\n",
        "# plt.xlabel('err')\n",
        "# plt.ylabel('MaxMinDiff')\n",
        "# plt.show()\n",
        "\n",
        "scat1 = px.scatter(df, x = 'err', y = 'MaxMinDiff', color = 'scanner',\n",
        "                  template = 'ggplot2', title= 'err vs MaxMindiff', width=700, height=400)\n",
        "scat1.show()"
      ],
      "metadata": {
        "colab": {
          "base_uri": "https://localhost:8080/",
          "height": 417
        },
        "id": "D2t8WCbY-6DE",
        "outputId": "c47bba51-c7f3-4c95-88b6-313783cf0e72"
      },
      "execution_count": null,
      "outputs": [
        {
          "output_type": "display_data",
          "data": {
            "text/html": [
              "<html>\n",
              "<head><meta charset=\"utf-8\" /></head>\n",
              "<body>\n",
              "    <div>            <script src=\"https://cdnjs.cloudflare.com/ajax/libs/mathjax/2.7.5/MathJax.js?config=TeX-AMS-MML_SVG\"></script><script type=\"text/javascript\">if (window.MathJax) {MathJax.Hub.Config({SVG: {font: \"STIX-Web\"}});}</script>                <script type=\"text/javascript\">window.PlotlyConfig = {MathJaxConfig: 'local'};</script>\n",
              "        <script src=\"https://cdn.plot.ly/plotly-2.8.3.min.js\"></script>                <div id=\"5aead313-da21-4d02-9476-78abfe5dc9eb\" class=\"plotly-graph-div\" style=\"height:400px; width:700px;\"></div>            <script type=\"text/javascript\">                                    window.PLOTLYENV=window.PLOTLYENV || {};                                    if (document.getElementById(\"5aead313-da21-4d02-9476-78abfe5dc9eb\")) {                    Plotly.newPlot(                        \"5aead313-da21-4d02-9476-78abfe5dc9eb\",                        [{\"hovertemplate\":\"scanner=K219<br>err=%{x}<br>MaxMinDiff=%{y}<extra></extra>\",\"legendgroup\":\"K219\",\"marker\":{\"color\":\"#F8766D\",\"symbol\":\"circle\"},\"mode\":\"markers\",\"name\":\"K219\",\"showlegend\":true,\"x\":[1.4,1.33,1.35,1.41,1.39,1.43,1.46,1.6,1.59,1.62,1.62,1.52,1.52,1.5,1.45,1.43,1.45,1.45,1.52,1.51,1.5,1.49,1.5,1.5,1.58,1.67,1.64,1.65,1.65,1.84,1.82,1.81,1.85,1.85,1.84,1.84,1.83,1.82],\"xaxis\":\"x\",\"y\":[498,476,483,503,495,510,520,569,567,579,579,542,542,537,517,512,518,519,542,540,535,531,535,537,564,595,586,589,590,658,649,646,660,660,656,658,652,650],\"yaxis\":\"y\",\"type\":\"scattergl\"},{\"hovertemplate\":\"scanner=H161<br>err=%{x}<br>MaxMinDiff=%{y}<extra></extra>\",\"legendgroup\":\"H161\",\"marker\":{\"color\":\"#A3A500\",\"symbol\":\"circle\"},\"mode\":\"markers\",\"name\":\"H161\",\"showlegend\":true,\"x\":[3.43,3.41,3.47,3.48,3.48,3.47,3.47,3.46,4.17,3.49,3.4,3.43,3.4,3.4,3.41,3.41,3.46,3.52,3.54,3.59,3.62,3.46,3.48,3.57,3.57,3.56,3.56,3.56,3.58,3.55,3.56,3.56,3.57,3.57,3.58,3.57,3.57,3.51,3.5,3.51,3.5,3.48,3.5,3.47,3.52,3.49,3.48,3.46,3.48,3.47,3.48,3.49,3.39,3.36,3.36,3.35,3.4,3.39,3.4,3.41,3.4,3.41,3.41,3.39,3.32,3.31,3.33,3.34],\"xaxis\":\"x\",\"y\":[1227,1219,1241,1245,1244,1240,1242,1238,1921,1249,1215,1227,1215,1215,1220,1220,1239,1260,1266,1283,1293,1238,1246,1275,1277,1274,1274,1272,1281,1271,1272,1272,1275,1277,1280,1277,1278,1254,1251,1255,1252,1246,1251,1241,1258,1247,1243,1239,1244,1242,1244,1249,1214,1203,1203,1200,1215,1214,1217,1221,1217,1218,1221,1212,1188,1184,1190,1194],\"yaxis\":\"y\",\"type\":\"scattergl\"},{\"hovertemplate\":\"scanner=K211<br>err=%{x}<br>MaxMinDiff=%{y}<extra></extra>\",\"legendgroup\":\"K211\",\"marker\":{\"color\":\"#00BF7D\",\"symbol\":\"circle\"},\"mode\":\"markers\",\"name\":\"K211\",\"showlegend\":true,\"x\":[2.07,2.0,2.09,3.29,3.28,3.2,3.0],\"xaxis\":\"x\",\"y\":[737,714,744,1174,1169,1141,1069],\"yaxis\":\"y\",\"type\":\"scattergl\"},{\"hovertemplate\":\"scanner=K212<br>err=%{x}<br>MaxMinDiff=%{y}<extra></extra>\",\"legendgroup\":\"K212\",\"marker\":{\"color\":\"#00B0F6\",\"symbol\":\"circle\"},\"mode\":\"markers\",\"name\":\"K212\",\"showlegend\":true,\"x\":[2.82,2.81,2.8,2.47,2.46,2.46,2.6],\"xaxis\":\"x\",\"y\":[1009,1002,1000,881,878,878,927],\"yaxis\":\"y\",\"type\":\"scattergl\"},{\"hovertemplate\":\"scanner=K220<br>err=%{x}<br>MaxMinDiff=%{y}<extra></extra>\",\"legendgroup\":\"K220\",\"marker\":{\"color\":\"#E76BF3\",\"symbol\":\"circle\"},\"mode\":\"markers\",\"name\":\"K220\",\"showlegend\":true,\"x\":[2.98,2.97,2.98,2.95,2.96,2.96,2.99,2.98,2.95,2.96,3.45,2.84,2.89,2.84,2.78,2.78,2.83,2.76,2.78,5.41,5.43,6.22,2.71,2.67,2.45,2.35,2.37,2.32,2.42,2.4,2.42,2.93,2.94,2.94],\"xaxis\":\"x\",\"y\":[1063,1062,1064,1053,1056,1056,1069,1066,1053,1057,1233,1018,1038,1017,997,996,1015,991,997,1937,1942,2224,967,952,876,838,845,829,862,856,865,1047,1051,1048],\"yaxis\":\"y\",\"type\":\"scattergl\"},{\"hovertemplate\":\"scanner=K221<br>err=%{x}<br>MaxMinDiff=%{y}<extra></extra>\",\"legendgroup\":\"K221\",\"marker\":{\"color\":\"#F8766D\",\"symbol\":\"circle\"},\"mode\":\"markers\",\"name\":\"K221\",\"showlegend\":true,\"x\":[1.86,1.84,1.8,2.45,2.44,2.43,2.28,2.28,2.25,2.27,2.33,2.31,2.85,2.82,2.5,2.5,2.87,2.61,2.41,2.46,2.45,2.44,2.45,2.45,2.47,2.46,2.46,2.44,2.42,2.41,2.45,2.66,2.64,2.73],\"xaxis\":\"x\",\"y\":[663,659,644,874,871,869,815,813,803,812,834,825,1018,1007,895,894,1024,932,861,878,874,871,875,877,882,878,880,873,867,862,878,952,945,978],\"yaxis\":\"y\",\"type\":\"scattergl\"},{\"hovertemplate\":\"scanner=K169<br>err=%{x}<br>MaxMinDiff=%{y}<extra></extra>\",\"legendgroup\":\"K169\",\"marker\":{\"color\":\"#A3A500\",\"symbol\":\"circle\"},\"mode\":\"markers\",\"name\":\"K169\",\"showlegend\":true,\"x\":[3.61,3.59,3.81,3.67,3.74,3.72,3.61,3.59,3.58,3.79,3.59,3.6,3.59,3.6,3.6,3.68,3.67,3.69,3.68,3.65,3.65,3.67,3.66,3.66,3.64,3.76,3.76,3.78,3.76,3.76,3.77,3.74,3.78,3.63,3.62,3.61,3.62,3.66,3.68,3.67,3.68,3.67,3.68,3.65,3.65,3.67,3.69,3.66,3.66,3.63,3.61,3.6,3.62,3.63,3.6,3.65,3.66,3.65,3.64,3.64,3.65,3.63,3.65,3.65,3.63,3.63,3.78,3.77,3.58,3.57,3.55],\"xaxis\":\"x\",\"y\":[1284,1276,1357,1306,1332,1325,1282,1277,1272,1349,1275,1281,1275,1278,1280,1308,1303,1313,1308,1298,1296,1304,1299,1300,1293,1338,1338,1346,1338,1339,1342,1331,1344,1291,1289,1284,1287,1301,1309,1307,1310,1304,1310,1300,1300,1304,1312,1301,1303,1292,1286,1282,1287,1291,1281,1300,1301,1297,1295,1294,1299,1291,1300,1298,1292,1290,1345,1342,1274,1269,1263],\"yaxis\":\"y\",\"type\":\"scattergl\"},{\"hovertemplate\":\"scanner=H162<br>err=%{x}<br>MaxMinDiff=%{y}<extra></extra>\",\"legendgroup\":\"H162\",\"marker\":{\"color\":\"#00BF7D\",\"symbol\":\"circle\"},\"mode\":\"markers\",\"name\":\"H162\",\"showlegend\":true,\"x\":[2.03,2.02,2.02,2.02,2.76,2.05,2.05,2.04,2.05,2.04,2.3,2.29,2.29,2.25,2.29,2.27,2.28,1.82,1.88,1.84,1.85,1.84,1.84,1.83,1.92,1.95,1.92,1.92,1.91,1.9,1.9,1.9,1.89,1.86,1.86,1.89,1.9,1.85,1.86,1.85,1.83,1.82,1.81,1.82,1.86,2.05,2.07,2.05,2.07,2.02,2.02,2.04,1.96,1.93,1.93,1.91,1.99,1.97,2.03,2.04,2.04,1.97,1.9,1.9,2.09,1.92,1.95,1.94],\"xaxis\":\"x\",\"y\":[725,720,720,723,1245,732,734,729,731,728,821,820,819,804,818,812,816,650,672,656,662,658,656,654,687,696,687,686,683,678,680,680,676,663,663,674,678,661,665,662,655,649,646,650,663,732,740,733,741,723,722,728,699,688,688,683,711,704,725,730,727,704,680,679,746,686,695,693],\"yaxis\":\"y\",\"type\":\"scattergl\"},{\"hovertemplate\":\"scanner=K238<br>err=%{x}<br>MaxMinDiff=%{y}<extra></extra>\",\"legendgroup\":\"K238\",\"marker\":{\"color\":\"#00B0F6\",\"symbol\":\"circle\"},\"mode\":\"markers\",\"name\":\"K238\",\"showlegend\":true,\"x\":[2.95,5.36,5.71,5.71,3.03,3.08,3.08,3.08,3.07,2.95,3.08,3.06,3.47,3.47,3.47,3.47,3.47,3.47,3.42,3.4,3.4,3.4,3.4,2.77,2.77,2.75,2.76,2.81,2.81,2.81,2.8,2.72,2.76,2.76,2.64,2.64,2.75,2.76,2.76,2.72,2.62,2.54,2.56,2.55,2.73,2.73,2.73,2.74,2.66,2.75,2.7,2.66,2.69,2.97,2.97,2.97,3.05,3.11,3.12,3.12,3.11,5.61,2.65,5.72,2.58,2.58,2.75,2.76],\"xaxis\":\"x\",\"y\":[1052,1916,2042,2042,1080,1099,1099,1099,1094,1052,1099,1091,1239,1239,1239,1239,1239,1240,1221,1216,1217,1217,1217,988,987,982,985,1002,1002,1002,998,970,985,985,943,943,980,986,985,970,935,904,912,909,975,975,975,976,950,979,964,949,960,1061,1061,1061,1090,1110,1115,1115,1112,2003,948,2042,922,922,980,983],\"yaxis\":\"y\",\"type\":\"scattergl\"},{\"hovertemplate\":\"scanner=K250<br>err=%{x}<br>MaxMinDiff=%{y}<extra></extra>\",\"legendgroup\":\"K250\",\"marker\":{\"color\":\"#E76BF3\",\"symbol\":\"circle\"},\"mode\":\"markers\",\"name\":\"K250\",\"showlegend\":true,\"x\":[1.84,1.84,1.81,1.8,1.8,1.73,200.01,1.74,1.74,2.32,2.84,1.84,2.27,2.27,2.27,2.27,2.27,1.91,1.89,1.9,1.9,1.9,1.69,1.71,1.72,1.71,1.67,1.67,1.67,1.67,1.98,2.01,1.99,1.99,2.0,2.03,1.98,2.02,1.99,1.99,2.39,2.39,2.39,2.39,5.49,5.38,7.38,7.45,2.72,2.71,2.48,2.48,2.48,2.49,2.51,2.52,2.52,2.63,2.63,2.62,2.33,2.33,2.32,2.33],\"xaxis\":\"x\",\"y\":[658,658,645,643,644,618,36018,621,621,827,1015,655,808,808,808,808,808,681,676,680,680,680,604,609,615,610,596,596,596,596,709,720,713,713,715,724,709,723,713,713,853,851,853,853,1962,1922,2638,2660,977,972,886,886,886,888,897,898,898,937,940,934,830,830,826,829],\"yaxis\":\"y\",\"type\":\"scattergl\"},{\"hovertemplate\":\"scanner=K237<br>err=%{x}<br>MaxMinDiff=%{y}<extra></extra>\",\"legendgroup\":\"K237\",\"marker\":{\"color\":\"#F8766D\",\"symbol\":\"circle\"},\"mode\":\"markers\",\"name\":\"K237\",\"showlegend\":true,\"x\":[1.72,1.72,1.54,1.54,1.54,1.54,1.54,1.54,1.59,1.54,1.54,1.54,1.59,1.59,1.59,1.59,1.59,1.59,1.68,3.15,3.15,3.15,3.14,3.14,3.17,1.9,1.9,1.9,1.9,1.9,1.9,1.9,1.9,1.9,1.45,1.45,1.45,1.45,1.45,1.41,1.4,1.39,1.41,1.41,1.49,1.41,1.41,1.41,1.4,1.35,1.35,1.35,1.34,1.35,1.35,1.34,1.24,1.24,1.25,1.26],\"xaxis\":\"x\",\"y\":[617,617,552,551,552,552,552,550,569,550,550,552,567,567,567,567,567,567,599,1126,1126,1126,1121,1121,1132,676,677,676,676,676,678,678,677,676,519,518,518,518,518,502,499,497,504,503,532,504,504,504,499,481,481,481,479,484,481,479,445,445,448,449],\"yaxis\":\"y\",\"type\":\"scattergl\"},{\"hovertemplate\":\"scanner=H173<br>err=%{x}<br>MaxMinDiff=%{y}<extra></extra>\",\"legendgroup\":\"H173\",\"marker\":{\"color\":\"#A3A500\",\"symbol\":\"circle\"},\"mode\":\"markers\",\"name\":\"H173\",\"showlegend\":true,\"x\":[1.52,1.53,1.61,1.61,1.5,2.11,2.2,2.28,1.67,1.68,2.51,2.49,2.45,1.45,1.78,1.78,1.81,1.81,1.81,1.81,1.34,1.33,1.33,1.32,1.32,1.31,1.31,1.38,1.38,1.37,1.37,1.25,1.25,1.17,1.17,1.87,1.85,1.84,1.83,2.04,2.04,2.04,2.06,4.37,3.22,3.21,2.81,2.71,2.79,2.19,2.19,2.2,2.2],\"xaxis\":\"x\",\"y\":[542,546,577,577,538,757,788,818,598,601,896,889,874,519,637,638,647,646,648,648,478,476,476,471,473,469,467,492,493,491,488,447,446,417,419,668,659,657,653,727,727,727,733,1561,1150,1143,1004,968,997,784,782,785,787],\"yaxis\":\"y\",\"type\":\"scattergl\"},{\"hovertemplate\":\"scanner=H175<br>err=%{x}<br>MaxMinDiff=%{y}<extra></extra>\",\"legendgroup\":\"H175\",\"marker\":{\"color\":\"#00BF7D\",\"symbol\":\"circle\"},\"mode\":\"markers\",\"name\":\"H175\",\"showlegend\":true,\"x\":[8.6,8.55,8.55,8.75,8.77,8.4,8.4,8.41,8.39,8.38,8.37,8.39,8.38,8.37,8.37,8.49,8.49,8.48,8.5,8.5,8.5,8.55,8.54,8.52,8.5,8.49,8.49,8.48,8.51,8.51,8.51,8.48,8.49,8.5,8.57,8.57,8.56,8.58,8.57,8.55,8.55,8.54,8.56,8.55,8.54,8.47,8.49,8.48,8.48,8.5,8.47,8.54,8.56,8.57],\"xaxis\":\"x\",\"y\":[3056,3039,3037,3110,3117,2985,2983,2989,2980,2977,2976,2980,2977,2976,2975,3017,3016,3013,3021,3022,3022,3039,3035,3027,3019,3016,3018,3014,3023,3024,3024,3014,3017,3020,3046,3047,3044,3050,3047,3039,3040,3036,3042,3040,3036,3007,3017,3014,3012,3021,3008,3033,3042,3045],\"yaxis\":\"y\",\"type\":\"scattergl\"},{\"hovertemplate\":\"scanner=H177<br>err=%{x}<br>MaxMinDiff=%{y}<extra></extra>\",\"legendgroup\":\"H177\",\"marker\":{\"color\":\"#00B0F6\",\"symbol\":\"circle\"},\"mode\":\"markers\",\"name\":\"H177\",\"showlegend\":true,\"x\":[2.72,2.71,2.71,2.71,2.54,2.5,2.51,2.51,2.5,2.5,2.49,2.48,2.48,2.47,2.48,2.49,2.48,2.48,2.11,2.12,2.12,2.11,2.11,2.05,2.06,2.19,2.23,2.22,2.25,2.23,2.22,4.47,4.51,4.53,4.53,4.47,4.48,4.55,2.25,2.23,2.25,2.26,2.29,2.26,2.23,2.23,2.23,2.2,2.23,2.24,2.59,2.55,2.58,2.57],\"xaxis\":\"x\",\"y\":[974,969,968,971,909,894,898,898,895,892,889,888,886,884,886,889,887,886,754,757,757,754,754,734,736,784,797,794,805,799,794,1600,1614,1620,1621,1599,1604,1629,804,796,804,808,820,808,798,797,798,786,796,802,926,912,921,918],\"yaxis\":\"y\",\"type\":\"scattergl\"},{\"hovertemplate\":\"scanner=H176<br>err=%{x}<br>MaxMinDiff=%{y}<extra></extra>\",\"legendgroup\":\"H176\",\"marker\":{\"color\":\"#E76BF3\",\"symbol\":\"circle\"},\"mode\":\"markers\",\"name\":\"H176\",\"showlegend\":true,\"x\":[1.49,1.53,1.54,1.56,1.52,1.42,1.4,1.4,1.39,1.62,1.61,1.6,1.61,1.63,1.63,1.62,1.63,2.86,2.85,2.84,2.84,2.84,2.85,2.87,2.83,2.84,2.87,2.84,2.85,2.86,1.73,1.75,3.38,3.4,3.38,3.37,3.4,3.43,3.56,3.56,3.54,3.54,3.52,3.52,1.6,1.6,1.59,1.58,1.59,1.56,1.56,1.57,1.56,1.55],\"xaxis\":\"x\",\"y\":[533,545,551,557,544,507,502,500,498,579,574,573,574,581,581,578,581,1023,1018,1015,1015,1015,1019,1028,1012,1017,1025,1016,1020,1022,620,627,1210,1217,1207,1204,1215,1226,1273,1273,1264,1265,1259,1259,573,570,568,563,567,557,559,560,556,553],\"yaxis\":\"y\",\"type\":\"scattergl\"},{\"hovertemplate\":\"scanner=H174<br>err=%{x}<br>MaxMinDiff=%{y}<extra></extra>\",\"legendgroup\":\"H174\",\"marker\":{\"color\":\"#F8766D\",\"symbol\":\"circle\"},\"mode\":\"markers\",\"name\":\"H174\",\"showlegend\":true,\"x\":[2.01,2.07,2.07,2.0,3.19,2.11,2.27,2.15,2.02,2.09,2.09,2.07,2.07,2.0,2.02,1.97,2.04,2.0,1.99,2.06,2.06,1.99,1.98,2.01,2.0,1.96,1.93,1.95,2.02,1.93,1.96,1.99,1.96,2.02,2.0,2.29,2.11,2.09,2.13,2.19,2.16,2.23,2.25,2.24,2.08,2.07,2.1,2.08,2.16,2.0,2.03,2.08,2.04,2.03],\"xaxis\":\"x\",\"y\":[720,739,739,716,1139,756,811,771,723,748,746,740,741,716,722,706,729,717,711,736,736,711,708,720,716,700,692,698,721,691,702,710,702,721,717,819,756,747,762,785,774,797,804,802,745,742,750,743,772,715,725,745,731,728],\"yaxis\":\"y\",\"type\":\"scattergl\"},{\"hovertemplate\":\"scanner=H128<br>err=%{x}<br>MaxMinDiff=%{y}<extra></extra>\",\"legendgroup\":\"H128\",\"marker\":{\"color\":\"#A3A500\",\"symbol\":\"circle\"},\"mode\":\"markers\",\"name\":\"H128\",\"showlegend\":true,\"x\":[1.97,2.73,2.73,2.35,2.73,2.73,2.73,2.41,2.37,2.35,2.41,2.42,2.38,2.73,2.38,2.38,2.42,2.44,2.39,2.52,2.76,2.57,2.51,2.58,2.57,2.52,2.61,2.55,6.17,6.43,6.09,6.29,6.88,6.66,6.71,6.79,6.79,1.52,1.5,1.42,1.73,2.24,2.24,2.34,1.03,1.15,1.15,1.12,1.08,1.13,1.1,1.15,1.15,1.18,1.2,1.15,1.14,1.21,2.04,2.05,2.02,2.04,2.02,2.03,1.33,1.33,1.33,1.34,1.43,1.4],\"xaxis\":\"x\",\"y\":[702,976,976,838,976,976,976,859,847,841,860,865,849,976,850,850,866,873,853,901,986,917,898,920,919,900,933,911,2198,2291,2169,2238,2450,2371,2388,2418,2418,543,536,507,615,802,802,836,369,409,409,401,387,402,392,410,411,421,428,412,407,433,729,731,722,726,721,723,477,475,475,478,510,502],\"yaxis\":\"y\",\"type\":\"scattergl\"},{\"hovertemplate\":\"scanner=H163<br>err=%{x}<br>MaxMinDiff=%{y}<extra></extra>\",\"legendgroup\":\"H163\",\"marker\":{\"color\":\"#00BF7D\",\"symbol\":\"circle\"},\"mode\":\"markers\",\"name\":\"H163\",\"showlegend\":true,\"x\":[2.65,2.62,2.67,3.26,2.65,2.64,2.68,2.65,2.69,2.56,2.79,2.85,2.87,2.75,2.5,2.75,4.22,4.14,4.36,4.21,4.45,4.4,2.39,2.38,2.37,2.37,2.33,2.32,2.37,2.28,2.31,2.31,2.51,2.52,2.45,2.53,2.53,2.56,2.56,2.59,2.5,2.57,2.5,2.4,2.47,2.52,2.43,2.49,2.48,2.52,2.42,2.47,2.47,2.55,2.55,2.46,2.45,2.5,2.49,2.51,2.57,2.58,2.53,2.58,2.66,2.54,2.63,2.59],\"xaxis\":\"x\",\"y\":[949,937,957,1500,949,946,959,949,961,916,999,1020,1026,983,896,983,1510,1481,1556,1503,1589,1571,854,850,849,849,834,830,849,817,829,829,897,903,875,905,907,915,916,927,893,920,895,860,882,901,868,891,886,901,865,883,884,914,914,883,879,895,889,900,920,924,907,924,952,910,939,928],\"yaxis\":\"y\",\"type\":\"scattergl\"},{\"hovertemplate\":\"scanner=K239<br>err=%{x}<br>MaxMinDiff=%{y}<extra></extra>\",\"legendgroup\":\"K239\",\"marker\":{\"color\":\"#00B0F6\",\"symbol\":\"circle\"},\"mode\":\"markers\",\"name\":\"K239\",\"showlegend\":true,\"x\":[2.75,2.75,2.74,3.04,3.03,3.05,3.1,3.1,3.1,3.15,3.1,3.1,3.42,3.42,3.42,3.42,3.42,3.41,2.82,2.86,2.86,2.86,2.86,2.84,2.85,2.85,2.86,2.87,2.87,2.87,2.78,2.76,2.77,2.78,2.78,2.78,2.77,2.76,2.77,2.76,2.77,2.91,3.23,3.23,3.21,3.01,3.01,3.0,2.88,3.05,2.99,3.0,5.16,5.14,5.14,5.14,5.25,5.28,5.09,5.09,5.12,5.14,3.81,5.14,3.72,3.72,3.73,3.73],\"xaxis\":\"x\",\"y\":[982,982,978,1085,1082,1089,1108,1108,1108,1128,1112,1108,1222,1222,1222,1222,1222,1220,1007,1022,1022,1022,1022,1017,1020,1020,1023,1027,1027,1027,994,987,991,992,993,993,990,988,991,987,990,1042,1156,1156,1147,1078,1078,1073,1031,1091,1070,1075,1841,1837,1837,1837,1876,1886,1820,1820,1830,1838,1362,1836,1331,1331,1333,1334],\"yaxis\":\"y\",\"type\":\"scattergl\"},{\"hovertemplate\":\"scanner=K141<br>err=%{x}<br>MaxMinDiff=%{y}<extra></extra>\",\"legendgroup\":\"K141\",\"marker\":{\"color\":\"#E76BF3\",\"symbol\":\"circle\"},\"mode\":\"markers\",\"name\":\"K141\",\"showlegend\":true,\"x\":[1.83,1.88,1.87,1.87,1.85,1.87,1.79,1.85,1.88,1.86,1.76,1.8,1.82,1.82,1.85,1.9,1.94,1.92,1.9,1.9,1.89,2.0,1.97,2.05,1.96,1.9,1.89,1.97,1.91,1.91,2.13,2.07,2.07,2.11,2.11,2.06,2.05,1.93,1.91,1.9,1.94,1.86,1.88,1.85,1.83,1.86,1.89,1.88,1.88,1.91,1.81,1.87,1.85,1.91,1.97,1.96,2.01,1.98,1.79,1.78,1.77,1.82,1.82,1.71,2.01,1.97,1.96,1.96,2.0,1.97,6.42],\"xaxis\":\"x\",\"y\":[652,673,668,669,659,667,641,659,670,663,628,642,650,651,660,680,694,684,680,678,674,715,702,732,701,680,676,703,681,682,759,740,738,754,755,735,733,689,681,680,694,663,670,662,653,665,675,672,670,682,647,667,660,681,704,701,718,707,638,637,633,649,651,612,715,702,700,699,712,703,2276],\"yaxis\":\"y\",\"type\":\"scattergl\"},{\"hovertemplate\":\"scanner=H148<br>err=%{x}<br>MaxMinDiff=%{y}<extra></extra>\",\"legendgroup\":\"H148\",\"marker\":{\"color\":\"#F8766D\",\"symbol\":\"circle\"},\"mode\":\"markers\",\"name\":\"H148\",\"showlegend\":true,\"x\":[1.59,1.72,1.72,1.72,2.0],\"xaxis\":\"x\",\"y\":[569,615,615,613,715],\"yaxis\":\"y\",\"type\":\"scattergl\"},{\"hovertemplate\":\"scanner=H131<br>err=%{x}<br>MaxMinDiff=%{y}<extra></extra>\",\"legendgroup\":\"H131\",\"marker\":{\"color\":\"#A3A500\",\"symbol\":\"circle\"},\"mode\":\"markers\",\"name\":\"H131\",\"showlegend\":true,\"x\":[1.73,1.72,1.72,1.69,1.81],\"xaxis\":\"x\",\"y\":[616,614,614,604,644],\"yaxis\":\"y\",\"type\":\"scattergl\"},{\"hovertemplate\":\"scanner=H132<br>err=%{x}<br>MaxMinDiff=%{y}<extra></extra>\",\"legendgroup\":\"H132\",\"marker\":{\"color\":\"#00BF7D\",\"symbol\":\"circle\"},\"mode\":\"markers\",\"name\":\"H132\",\"showlegend\":true,\"x\":[4.62,4.41,4.63,4.63,4.62],\"xaxis\":\"x\",\"y\":[1648,1577,1652,1652,1651],\"yaxis\":\"y\",\"type\":\"scattergl\"},{\"hovertemplate\":\"scanner=H134<br>err=%{x}<br>MaxMinDiff=%{y}<extra></extra>\",\"legendgroup\":\"H134\",\"marker\":{\"color\":\"#00B0F6\",\"symbol\":\"circle\"},\"mode\":\"markers\",\"name\":\"H134\",\"showlegend\":true,\"x\":[1.87,1.87,1.86,2.0],\"xaxis\":\"x\",\"y\":[672,669,666,717],\"yaxis\":\"y\",\"type\":\"scattergl\"},{\"hovertemplate\":\"scanner=H133<br>err=%{x}<br>MaxMinDiff=%{y}<extra></extra>\",\"legendgroup\":\"H133\",\"marker\":{\"color\":\"#E76BF3\",\"symbol\":\"circle\"},\"mode\":\"markers\",\"name\":\"H133\",\"showlegend\":true,\"x\":[5.07,5.03,5.03,5.04,5.2],\"xaxis\":\"x\",\"y\":[1811,1795,1795,1800,1854],\"yaxis\":\"y\",\"type\":\"scattergl\"},{\"hovertemplate\":\"scanner=H135<br>err=%{x}<br>MaxMinDiff=%{y}<extra></extra>\",\"legendgroup\":\"H135\",\"marker\":{\"color\":\"#F8766D\",\"symbol\":\"circle\"},\"mode\":\"markers\",\"name\":\"H135\",\"showlegend\":true,\"x\":[5.8,6.95,8.19,9.51],\"xaxis\":\"x\",\"y\":[2071,2480,2924,3397],\"yaxis\":\"y\",\"type\":\"scattergl\"},{\"hovertemplate\":\"scanner=H138<br>err=%{x}<br>MaxMinDiff=%{y}<extra></extra>\",\"legendgroup\":\"H138\",\"marker\":{\"color\":\"#A3A500\",\"symbol\":\"circle\"},\"mode\":\"markers\",\"name\":\"H138\",\"showlegend\":true,\"x\":[1.92,1.92,1.98,2.0],\"xaxis\":\"x\",\"y\":[684,685,707,714],\"yaxis\":\"y\",\"type\":\"scattergl\"},{\"hovertemplate\":\"scanner=H139<br>err=%{x}<br>MaxMinDiff=%{y}<extra></extra>\",\"legendgroup\":\"H139\",\"marker\":{\"color\":\"#00BF7D\",\"symbol\":\"circle\"},\"mode\":\"markers\",\"name\":\"H139\",\"showlegend\":true,\"x\":[3.04,3.05,3.06,3.21],\"xaxis\":\"x\",\"y\":[1087,1089,1094,1146],\"yaxis\":\"y\",\"type\":\"scattergl\"},{\"hovertemplate\":\"scanner=H149<br>err=%{x}<br>MaxMinDiff=%{y}<extra></extra>\",\"legendgroup\":\"H149\",\"marker\":{\"color\":\"#00B0F6\",\"symbol\":\"circle\"},\"mode\":\"markers\",\"name\":\"H149\",\"showlegend\":true,\"x\":[7.12,7.13,7.13,7.21,7.03],\"xaxis\":\"x\",\"y\":[2528,2530,2530,2557,2493],\"yaxis\":\"y\",\"type\":\"scattergl\"},{\"hovertemplate\":\"scanner=K115<br>err=%{x}<br>MaxMinDiff=%{y}<extra></extra>\",\"legendgroup\":\"K115\",\"marker\":{\"color\":\"#E76BF3\",\"symbol\":\"circle\"},\"mode\":\"markers\",\"name\":\"K115\",\"showlegend\":true,\"x\":[1.64,1.62,1.64,1.63,1.63,1.63,1.63,1.63,1.63,1.62,1.63,1.62,1.63,1.66,1.63,1.63,1.62,1.63,1.64,1.62,1.6,1.61,1.56,1.62,1.62,1.63,1.62,1.58,1.6,1.56,1.56,1.51,1.56,1.58,1.52,1.58,1.55,1.58,1.5,1.51,1.53,1.56,1.57,1.56,1.54,1.53,1.55,1.57,1.54,1.56,1.66,1.67,1.66,1.68,1.63,1.63,1.62,1.67,1.6,1.63,1.61,1.62,1.6,1.6,1.6,1.6,1.62,1.62,1.78,1.79,1.75,1.77,1.77,1.77,1.79,1.61,1.61,1.61],\"xaxis\":\"x\",\"y\":[584,576,582,579,579,579,579,579,579,576,580,574,579,590,579,579,577,578,583,576,569,572,553,576,577,579,576,561,570,555,554,536,556,563,542,563,550,560,535,538,543,555,557,556,548,545,551,557,547,554,591,595,591,597,581,581,575,592,570,581,572,575,570,570,568,570,576,577,633,637,621,629,628,628,638,571,571,571],\"yaxis\":\"y\",\"type\":\"scattergl\"},{\"hovertemplate\":\"scanner=H129<br>err=%{x}<br>MaxMinDiff=%{y}<extra></extra>\",\"legendgroup\":\"H129\",\"marker\":{\"color\":\"#F8766D\",\"symbol\":\"circle\"},\"mode\":\"markers\",\"name\":\"H129\",\"showlegend\":true,\"x\":[1.74,1.74,1.74,1.74,1.74,1.74,1.12,1.15,1.14,1.06,1.06,1.1,1.05,1.74,1.09,1.1,1.05,1.22,1.21,1.12,2.11,2.01,1.98,1.95,1.97,1.45,1.6,3.72,3.57,3.8,3.89,3.71,4.16,4.23,4.23,4.27,4.1,4.07,4.09,4.0,4.0,4.11,4.11,2.02,2.02,1.21,1.16,1.6,1.62,1.71,1.69,1.64,1.87,1.86,2.56,2.67,1.08,1.25,1.16,1.18,1.27,1.2,1.21,1.2,1.25,1.17,1.2,1.16],\"xaxis\":\"x\",\"y\":[620,620,620,620,620,620,401,409,406,378,378,392,376,620,390,394,376,437,432,400,751,717,708,694,702,518,573,1325,1273,1355,1386,1323,1488,1512,1512,1524,1465,1454,1463,1429,1429,1468,1468,722,722,432,415,571,577,612,603,586,669,665,915,952,385,445,416,423,454,427,432,430,448,418,430,416],\"yaxis\":\"y\",\"type\":\"scattergl\"},{\"hovertemplate\":\"scanner=H130<br>err=%{x}<br>MaxMinDiff=%{y}<extra></extra>\",\"legendgroup\":\"H130\",\"marker\":{\"color\":\"#A3A500\",\"symbol\":\"circle\"},\"mode\":\"markers\",\"name\":\"H130\",\"showlegend\":true,\"x\":[2.62,2.62,2.62,2.62,2.62,2.62,2.62,2.62,2.62,2.62,2.62,2.62,2.62,2.62,2.62,2.62,2.62,2.62,2.62,2.62,2.62,2.62,2.62,2.62,2.62,2.62,2.62,2.62,2.62,2.62,2.62,2.62,2.62,2.62,2.62,2.62,2.62,2.62,2.62,2.62,2.62,2.62,2.62,2.62,2.62,2.62,2.62,2.62,2.62,2.62,2.62,2.62,2.62,2.62,2.62,2.62,2.62,2.62,2.62,2.62,2.62,2.62,2.62,2.62,2.62,2.62,2.62,2.62,2.62,2.62],\"xaxis\":\"x\",\"y\":[934,934,934,934,934,934,934,934,934,934,934,934,934,934,934,934,934,934,934,934,934,934,934,934,934,934,934,934,934,934,934,934,934,934,934,934,934,934,934,934,934,934,934,934,934,934,934,934,934,934,934,934,934,934,934,934,934,934,934,934,934,934,934,934,934,934,934,934,934,934],\"yaxis\":\"y\",\"type\":\"scattergl\"},{\"hovertemplate\":\"scanner=H127<br>err=%{x}<br>MaxMinDiff=%{y}<extra></extra>\",\"legendgroup\":\"H127\",\"marker\":{\"color\":\"#00BF7D\",\"symbol\":\"circle\"},\"mode\":\"markers\",\"name\":\"H127\",\"showlegend\":true,\"x\":[2.01,2.01,2.01,2.02,2.01,2.01,2.01,2.07,2.02,2.04,2.07,2.06,2.01,2.01,2.0,2.03,1.97,2.07,2.12,2.12,2.11,2.09,2.2,2.24,2.31,2.31,2.3,2.06,2.04,2.1,2.05,2.06,2.02,2.07,1.87,1.93,1.93,1.91,1.94,1.97,2.01,1.98,1.98,1.88,1.92,1.9,1.9,1.85,1.91,1.9,1.94,1.88,1.86,1.88,1.93,1.99,1.99,1.99,2.34,2.3,2.27,2.36,2.27,2.3,2.36,3.84,3.87,3.83,3.77,3.73],\"xaxis\":\"x\",\"y\":[718,716,716,720,716,716,716,739,722,729,740,736,716,716,713,723,704,739,757,757,753,747,784,799,826,824,820,735,728,751,730,736,721,740,665,688,688,682,691,702,715,705,705,671,684,678,678,659,681,678,692,669,663,671,689,708,708,711,834,822,809,844,812,820,841,1373,1381,1368,1347,1331],\"yaxis\":\"y\",\"type\":\"scattergl\"},{\"hovertemplate\":\"scanner=K167<br>err=%{x}<br>MaxMinDiff=%{y}<extra></extra>\",\"legendgroup\":\"K167\",\"marker\":{\"color\":\"#00B0F6\",\"symbol\":\"circle\"},\"mode\":\"markers\",\"name\":\"K167\",\"showlegend\":true,\"x\":[4.54,4.63,4.64,4.62,4.62,4.62,4.62,4.62,4.63,4.63,4.63,4.63,4.54,4.54,4.54,4.54,4.55,4.56,4.73,4.6,4.6,4.6,5.25,5.25,5.25,5.19,5.16,5.16,5.16,5.18,5.19,5.19,5.16,5.16,5.15,5.15,5.15,5.19,5.17,5.17,5.17,5.17,5.17,5.19,5.36,5.36,5.3,5.3,5.3,5.3,5.3,5.34,5.34,5.34,5.34,5.34,5.33,5.33,5.33,5.33,5.36,5.36,5.34,5.36,5.36,5.32,5.34,5.34,5.36,5.37,5.39,5.39],\"xaxis\":\"x\",\"y\":[1616,1649,1654,1646,1646,1646,1648,1648,1652,1649,1649,1652,1618,1618,1618,1618,1623,1624,1688,1642,1642,1642,1873,1873,1873,1853,1844,1841,1844,1852,1855,1853,1842,1843,1841,1841,1841,1853,1845,1845,1846,1845,1847,1855,1912,1912,1891,1891,1891,1891,1891,1907,1907,1907,1907,1907,1903,1903,1903,1903,1913,1913,1905,1913,1913,1899,1907,1907,1912,1917,1923,1922],\"yaxis\":\"y\",\"type\":\"scattergl\"},{\"hovertemplate\":\"scanner=K150<br>err=%{x}<br>MaxMinDiff=%{y}<extra></extra>\",\"legendgroup\":\"K150\",\"marker\":{\"color\":\"#E76BF3\",\"symbol\":\"circle\"},\"mode\":\"markers\",\"name\":\"K150\",\"showlegend\":true,\"x\":[3.87,3.86,3.75,3.76,3.76,3.88,3.83,3.86,3.91,4.0,3.86,3.91,3.91,3.91,3.91,3.91,3.92,4.01,4.05,4.3,4.3,4.3,4.33,4.33,4.29,4.33,4.4,4.37,4.51,4.82,4.81,4.81,5.17,5.29,5.05,5.05,5.05,5.32,12.04,11.92,12.01,11.92,11.83,12.17,46.26,46.26,4.16,4.15,4.16,4.15,4.15,3.28,3.28,3.28,3.28,3.28,3.25,3.25,3.25,3.25,3.36,3.36,3.27,3.36,3.32,3.27,3.3,3.3,3.3,3.31,3.34,3.28],\"xaxis\":\"x\",\"y\":[1383,1380,1343,1346,1346,1389,1369,1380,1398,1431,1380,1398,1400,1400,1400,1400,1404,1435,1450,1538,1538,1538,1549,1549,1534,1546,1571,1560,1612,1726,1721,1721,1848,1892,1805,1805,1805,1902,4292,4247,4283,4247,4213,4337,16517,16517,1485,1484,1485,1484,1484,1170,1170,1170,1170,1170,1161,1161,1161,1161,1202,1202,1168,1202,1186,1167,1180,1180,1180,1181,1195,1171],\"yaxis\":\"y\",\"type\":\"scattergl\"},{\"hovertemplate\":\"scanner=K210<br>err=%{x}<br>MaxMinDiff=%{y}<extra></extra>\",\"legendgroup\":\"K210\",\"marker\":{\"color\":\"#F8766D\",\"symbol\":\"circle\"},\"mode\":\"markers\",\"name\":\"K210\",\"showlegend\":true,\"x\":[3.31,2.34,2.34,2.35,2.35,2.35,2.35,2.37,2.36,2.23,2.23,2.26,2.21,2.23,2.25,1.94,1.92,1.92,1.94,1.93,1.93,1.94,1.93,1.93,1.93,1.93,1.93,1.93,1.92,1.92,1.93,2.29,2.29,2.29,2.26,2.27,2.26,2.27,2.18,2.19,2.17,2.17,2.18,2.18,2.17,2.17,2.14,2.15,2.15,2.1,2.15,2.1,2.14,2.08,2.14,2.12,2.18,2.17,2.17,2.11,2.11,2.08,2.12,2.12,2.13],\"xaxis\":\"x\",\"y\":[1180,837,836,839,839,839,838,848,843,796,796,806,791,796,804,692,685,685,692,688,689,692,689,689,689,689,688,688,687,687,690,819,819,819,806,812,808,809,777,782,774,774,779,779,774,774,763,767,767,748,767,748,763,742,765,755,778,773,774,753,753,744,756,756,761],\"yaxis\":\"y\",\"type\":\"scattergl\"},{\"hovertemplate\":\"scanner=K209<br>err=%{x}<br>MaxMinDiff=%{y}<extra></extra>\",\"legendgroup\":\"K209\",\"marker\":{\"color\":\"#A3A500\",\"symbol\":\"circle\"},\"mode\":\"markers\",\"name\":\"K209\",\"showlegend\":true,\"x\":[2.75,2.77,2.76,2.84,2.87,2.86,2.85,2.85,2.83,3.41,3.41,3.44,3.43,4.54,5.77,5.52,5.52,5.56,6.81,6.81,5.96,6.51,6.51,6.51,6.51,6.3,6.3,6.3,6.3,6.08,5.23,5.23,5.23,5.29,5.31,4.83,4.78,4.65,4.52,4.35,4.35,4.57,3.1,3.1,3.1,3.1,3.22,3.22,3.22,3.22,3.22,3.19,4.27,3.03,4.65,4.4,4.4,4.37,4.32,4.32,4.33],\"xaxis\":\"x\",\"y\":[978,984,982,1008,1020,1017,1014,1011,1005,1211,1211,1222,1218,1611,2050,1959,1959,1975,2421,2420,2115,2315,2315,2315,2315,2236,2236,2239,2239,2158,1858,1858,1858,1878,1887,1715,1698,1650,1605,1545,1545,1623,1101,1103,1103,1101,1144,1144,1144,1144,1144,1134,1517,1077,1652,1561,1563,1553,1533,1533,1538],\"yaxis\":\"y\",\"type\":\"scattergl\"},{\"hovertemplate\":\"scanner=K149<br>err=%{x}<br>MaxMinDiff=%{y}<extra></extra>\",\"legendgroup\":\"K149\",\"marker\":{\"color\":\"#00BF7D\",\"symbol\":\"circle\"},\"mode\":\"markers\",\"name\":\"K149\",\"showlegend\":true,\"x\":[3.83,3.8,2.31,2.31,2.31,2.33,2.33,2.34,2.34,2.34,2.33,3.8,2.3,2.3,2.3,2.3,2.32,2.33,2.31,2.28,2.28,2.28,2.28,2.28,2.28,2.28,2.28,2.29,2.27,2.17,2.15,2.16,2.15,2.15,2.15,2.15,2.15,2.15,2.65,2.65,2.65,2.65,2.63,2.63,3.46,3.46,3.45,3.45,3.45,3.45,3.45,4.19,4.19,4.19,4.19,4.19,4.21,4.21,4.21,4.21,4.32,4.32,4.19,4.32,4.27,4.29,4.42,4.42,4.42,4.4,4.41,4.37],\"xaxis\":\"x\",\"y\":[1369,1357,824,823,823,831,830,834,834,834,830,1357,820,820,820,820,827,829,822,813,813,813,813,813,813,813,813,815,810,774,768,770,767,767,766,766,766,766,946,946,946,946,940,941,1230,1230,1230,1230,1230,1230,1230,1495,1495,1495,1495,1495,1501,1501,1501,1501,1542,1542,1495,1542,1525,1532,1576,1576,1576,1569,1575,1561],\"yaxis\":\"y\",\"type\":\"scattergl\"},{\"hovertemplate\":\"scanner=K120<br>err=%{x}<br>MaxMinDiff=%{y}<extra></extra>\",\"legendgroup\":\"K120\",\"marker\":{\"color\":\"#00B0F6\",\"symbol\":\"circle\"},\"mode\":\"markers\",\"name\":\"K120\",\"showlegend\":true,\"x\":[2.58,2.58,2.56,2.63,2.56,2.59,2.56,2.57,2.54,2.61,2.56,2.56,2.41,2.47,2.42,2.42,2.35,2.42,2.43,2.39,2.44,2.56,2.56,2.55,2.63,2.57,2.56,2.54,2.54,2.53,2.47,2.48,2.41,2.45,2.48,2.49,2.45,2.47,2.43,2.54,2.56,2.47,2.51,2.55,2.48,2.54,2.57,2.5,2.51,2.78,2.56,2.53,2.5,2.49,2.93,2.97,2.96,2.95,2.52,2.49,2.55,2.5,2.63,2.49,2.57],\"xaxis\":\"x\",\"y\":[916,916,908,933,907,920,910,911,901,926,910,909,855,876,860,860,833,858,864,849,866,907,909,906,933,911,907,901,903,899,878,879,854,869,879,883,869,877,862,903,908,878,890,907,880,903,914,886,891,988,909,899,886,882,1040,1054,1049,1046,893,885,904,888,932,884,910],\"yaxis\":\"y\",\"type\":\"scattergl\"},{\"hovertemplate\":\"scanner=H150<br>err=%{x}<br>MaxMinDiff=%{y}<extra></extra>\",\"legendgroup\":\"H150\",\"marker\":{\"color\":\"#E76BF3\",\"symbol\":\"circle\"},\"mode\":\"markers\",\"name\":\"H150\",\"showlegend\":true,\"x\":[1.72,1.72,1.72,3.94,3.81],\"xaxis\":\"x\",\"y\":[616,615,615,1406,1358],\"yaxis\":\"y\",\"type\":\"scattergl\"},{\"hovertemplate\":\"scanner=K121<br>err=%{x}<br>MaxMinDiff=%{y}<extra></extra>\",\"legendgroup\":\"K121\",\"marker\":{\"color\":\"#F8766D\",\"symbol\":\"circle\"},\"mode\":\"markers\",\"name\":\"K121\",\"showlegend\":true,\"x\":[1.78,1.87,1.91,1.87,1.87,1.87,1.87,1.87,1.87,1.93,1.87,1.92,1.98,1.87,1.86,1.92,1.88,1.89,1.84,1.83,1.83,1.87,1.84,1.85,2.63,2.62,2.58,2.58,2.64,2.61,2.67,2.67,2.62,2.64,2.65,2.64,2.67,2.64,2.7,2.72,2.42,2.4,2.42,2.37,2.35,2.32,2.31,2.02,2.02,2.06,2.01,2.0,2.01,2.02,2.02,2.16,2.22,2.23,2.24,2.26,2.22,2.22,2.24,2.24,2.27,2.27,2.24,2.07,2.03,1.98,2.01,2.02,2.05,1.98,1.98,1.98],\"xaxis\":\"x\",\"y\":[636,667,683,667,667,667,667,667,667,690,667,684,706,667,664,687,671,676,656,654,655,667,656,661,941,939,923,922,944,933,954,955,937,943,947,945,957,944,965,973,863,858,863,848,839,830,825,721,720,735,716,712,718,721,722,772,793,795,799,807,793,793,801,799,809,809,800,738,722,707,715,719,731,707,707,707],\"yaxis\":\"y\",\"type\":\"scattergl\"},{\"hovertemplate\":\"scanner=K168<br>err=%{x}<br>MaxMinDiff=%{y}<extra></extra>\",\"legendgroup\":\"K168\",\"marker\":{\"color\":\"#A3A500\",\"symbol\":\"circle\"},\"mode\":\"markers\",\"name\":\"K168\",\"showlegend\":true,\"x\":[2.29,2.29,2.28,2.29,2.29,2.29,2.29,2.29,2.29,2.29,2.29,2.28,2.28,2.28,2.29,2.29,2.29,2.29,2.29,2.29,2.29,2.29,2.29,2.29,2.29,2.29,2.29,2.29,3.36,3.35,3.34,3.32,3.32,2.21,2.22,2.22,2.21,2.22,2.22,2.22,2.22,2.22,2.22,2.22,2.24,2.23,2.22,2.22,2.22,2.22,2.22,2.21,2.21,2.22,2.22,2.22,2.21,2.2,2.21,2.2,2.21,2.74,2.7,2.68,2.68,2.6,2.6,2.59,2.59,2.63,2.62,2.64,2.17,2.17,2.17],\"xaxis\":\"x\",\"y\":[813,814,811,814,814,814,814,814,814,815,815,812,812,812,814,814,813,813,814,814,815,814,813,814,814,813,813,813,1188,1186,1181,1174,1177,787,789,788,787,791,790,788,790,790,789,789,795,794,789,790,790,790,788,786,787,791,788,788,787,784,787,783,786,972,961,954,954,924,924,922,919,935,930,938,772,773,773],\"yaxis\":\"y\",\"type\":\"scattergl\"},{\"hovertemplate\":\"scanner=K114<br>err=%{x}<br>MaxMinDiff=%{y}<extra></extra>\",\"legendgroup\":\"K114\",\"marker\":{\"color\":\"#00BF7D\",\"symbol\":\"circle\"},\"mode\":\"markers\",\"name\":\"K114\",\"showlegend\":true,\"x\":[2.39,2.4,2.4,2.43,2.43,2.43,2.43,2.43,2.43,2.43,2.43,2.43,2.46,2.43,2.43,2.46,2.43,2.45,2.43,2.42,2.7,2.64,2.7,2.65,2.69,2.7,2.68,2.68,2.64,2.63,2.59,2.63,2.64,2.6,2.63,2.6,2.6,2.58,2.6,2.61,2.61,2.62,2.63,2.61,2.62,2.62,2.63,2.61,2.41,2.42,2.42,2.42,2.43,2.41,2.41,2.42,2.41,2.93,2.95,2.9,2.91,2.87,2.87,2.9,2.87,2.88,2.9,2.44,2.44,2.44,2.42,2.42,2.42,2.43,2.39,2.39,2.39],\"xaxis\":\"x\",\"y\":[853,856,856,866,866,866,866,866,866,867,867,866,876,866,866,877,867,872,864,863,963,939,962,943,958,962,955,955,940,937,924,937,940,925,937,926,928,921,926,930,930,933,938,931,933,932,936,930,859,864,864,861,867,860,860,863,860,1046,1051,1034,1036,1023,1023,1033,1023,1028,1035,871,870,869,864,863,863,866,851,851,851],\"yaxis\":\"y\",\"type\":\"scattergl\"},{\"hovertemplate\":\"scanner=K171<br>err=%{x}<br>MaxMinDiff=%{y}<extra></extra>\",\"legendgroup\":\"K171\",\"marker\":{\"color\":\"#00B0F6\",\"symbol\":\"circle\"},\"mode\":\"markers\",\"name\":\"K171\",\"showlegend\":true,\"x\":[2.5,2.49,2.54,2.51,2.54,2.54,2.54,2.54,2.54,2.54,2.54,2.53,2.54,2.5,2.54,2.54,2.51,2.42,2.42,2.42,2.61,2.65,2.65,2.63,2.63,2.62,2.63,2.62,2.18,2.17,2.19,2.23,2.24,2.44,2.42,2.42,2.68,2.66,2.67,2.65,2.51,2.35,2.36,2.36,2.26,2.26,2.26,2.37,2.36,2.34,2.33,2.17,2.16,2.16,2.16,2.15,2.14,2.15,2.15,2.16,2.16,2.16,2.16,2.18,2.14,2.14,2.13,2.16,2.15,2.27,2.26,2.26,2.26],\"xaxis\":\"x\",\"y\":[893,890,905,897,905,905,905,905,905,905,907,904,905,892,905,905,896,863,862,863,931,946,945,939,940,936,938,936,777,776,781,795,799,873,865,863,958,952,955,946,897,839,842,844,808,808,806,840,838,829,828,771,769,766,769,764,760,765,765,767,767,768,768,773,761,759,758,766,765,805,803,803,803],\"yaxis\":\"y\",\"type\":\"scattergl\"},{\"hovertemplate\":\"scanner=H171<br>err=%{x}<br>MaxMinDiff=%{y}<extra></extra>\",\"legendgroup\":\"H171\",\"marker\":{\"color\":\"#E76BF3\",\"symbol\":\"circle\"},\"mode\":\"markers\",\"name\":\"H171\",\"showlegend\":true,\"x\":[2.0,1.87,1.84,1.85,1.96,1.9,1.66,1.63,1.67,1.72,1.57,1.53,2.34,1.63,1.63,2.03,2.0,2.01,1.99,1.52,1.52,1.5,1.52,1.51,1.53,1.52,1.56,1.54,1.66,1.66,1.68,1.68,1.68,1.67,1.7,1.68,1.69,1.69,1.6,1.62,1.61,1.6,1.6,1.59,1.58,1.5,1.5,1.5,1.51,1.51,1.49,1.51,1.48,1.5],\"xaxis\":\"x\",\"y\":[714,669,658,663,701,679,595,584,598,616,562,549,834,583,582,726,716,718,713,543,543,537,545,540,546,542,558,552,594,593,601,599,600,595,609,599,604,602,572,579,576,571,572,567,564,536,536,535,540,539,534,539,527,536],\"yaxis\":\"y\",\"type\":\"scattergl\"},{\"hovertemplate\":\"scanner=K147<br>err=%{x}<br>MaxMinDiff=%{y}<extra></extra>\",\"legendgroup\":\"K147\",\"marker\":{\"color\":\"#F8766D\",\"symbol\":\"circle\"},\"mode\":\"markers\",\"name\":\"K147\",\"showlegend\":true,\"x\":[2.32,2.29,2.29,1.34,1.36,1.36,1.35,1.36,1.36,1.36,1.35,1.35,1.37,1.37,1.37,1.37,1.34,1.37,1.36,1.36,1.36,1.36,1.34,1.34,1.35,1.36,1.35,1.32,1.34,1.38,1.4,1.36,1.37,1.36,1.36,1.36,1.36,1.38,1.52,1.52,1.51,1.52,1.5,1.51,1.76,1.76,1.49,1.49,1.49,1.49,1.49,1.36,1.36,1.36,1.36,1.36,1.17,1.17,1.17,1.17,1.15,1.15,1.21,1.15,1.19,1.16,1.28,1.28,1.28,1.64,1.64,1.69],\"xaxis\":\"x\",\"y\":[826,816,816,476,483,483,479,482,482,482,481,479,487,487,487,487,476,487,484,484,484,484,475,475,480,482,479,470,478,489,498,485,487,484,483,483,483,490,540,540,538,540,533,537,627,627,528,528,528,528,528,485,485,485,485,485,416,416,416,416,410,410,431,410,422,411,454,454,454,583,583,601],\"yaxis\":\"y\",\"type\":\"scattergl\"},{\"hovertemplate\":\"scanner=K172<br>err=%{x}<br>MaxMinDiff=%{y}<extra></extra>\",\"legendgroup\":\"K172\",\"marker\":{\"color\":\"#A3A500\",\"symbol\":\"circle\"},\"mode\":\"markers\",\"name\":\"K172\",\"showlegend\":true,\"x\":[2.58,2.63,2.58,2.41,2.41,2.42,2.44,2.45,2.47,2.45,2.45,2.46,2.45,2.45,2.49,3.31,3.36,3.36,3.36,3.35,3.32,3.32,2.42,2.43,2.43,2.43,2.43,2.43,2.43,2.43,2.43,2.49,2.49,2.49,2.5,2.52,2.47,2.48,2.55,2.54,2.43,2.43,2.45,2.51,2.5,2.5,2.52,2.52,2.52,2.52,2.52,2.52,2.54,2.57,2.57,2.57,2.59,2.61,2.59,2.64,2.64,2.64,2.66,2.66,2.67],\"xaxis\":\"x\",\"y\":[914,931,915,856,856,857,867,869,876,869,869,873,868,868,883,1177,1196,1196,1193,1190,1179,1182,861,865,865,865,862,862,865,865,865,885,885,885,888,896,878,881,905,900,862,862,870,892,887,887,894,897,897,897,897,897,901,911,914,912,921,927,921,936,936,937,944,944,949],\"yaxis\":\"y\",\"type\":\"scattergl\"},{\"hovertemplate\":\"scanner=K173<br>err=%{x}<br>MaxMinDiff=%{y}<extra></extra>\",\"legendgroup\":\"K173\",\"marker\":{\"color\":\"#00BF7D\",\"symbol\":\"circle\"},\"mode\":\"markers\",\"name\":\"K173\",\"showlegend\":true,\"x\":[3.77,3.76,3.76,3.75,3.79,3.79,3.81,3.8,3.8,3.8,3.81,3.79,3.8,3.8,3.8,3.8,3.79,3.81,3.77,3.79,3.79,3.79,3.8,3.8,3.8,3.79,3.81,3.13,3.13,3.08,3.08,3.08,3.02,3.02,3.02,3.02,3.02,3.0,2.99,3.26,3.27,3.27,3.53,3.53,3.53,3.53,3.53,2.75,2.75,2.75,2.75,2.75,2.75,2.75,2.75,2.75,2.73,2.73,2.74,2.73,2.77,2.81,2.75,2.75,2.75,2.8,2.81,2.8],\"xaxis\":\"x\",\"y\":[1344,1340,1340,1339,1353,1353,1357,1356,1356,1356,1360,1351,1354,1354,1354,1354,1350,1359,1346,1353,1353,1353,1355,1355,1355,1355,1362,1114,1113,1096,1096,1096,1075,1074,1076,1076,1076,1069,1064,1162,1166,1166,1260,1260,1260,1260,1260,980,980,980,980,980,980,980,980,980,970,970,975,970,987,1002,980,980,980,996,999,996],\"yaxis\":\"y\",\"type\":\"scattergl\"},{\"hovertemplate\":\"scanner=K208<br>err=%{x}<br>MaxMinDiff=%{y}<extra></extra>\",\"legendgroup\":\"K208\",\"marker\":{\"color\":\"#00B0F6\",\"symbol\":\"circle\"},\"mode\":\"markers\",\"name\":\"K208\",\"showlegend\":true,\"x\":[1.47,1.44,1.35,1.35,1.33,1.35,1.49,1.45,1.35,1.36,1.28,1.26,1.26,1.28,1.28,1.34,1.35,1.75,1.75,1.75,1.75,1.79,1.79,1.77,1.77,1.79,1.72,1.72,1.72,1.76,1.79,1.78,1.79,1.53,1.45,1.41,1.41,1.47,1.44,1.4,1.4,1.42,1.42,1.42,1.42,1.42,1.42,1.42,1.77,1.74,1.7,1.71,1.71,1.72,1.73,1.73,1.7,2.1,2.1,2.13],\"xaxis\":\"x\",\"y\":[525,514,483,483,474,481,532,516,481,484,457,448,448,456,458,479,483,625,625,625,625,638,638,633,633,640,614,614,614,629,639,637,638,546,518,503,503,526,514,501,501,506,506,506,507,506,507,507,632,620,606,610,612,613,617,617,607,749,749,762],\"yaxis\":\"y\",\"type\":\"scattergl\"},{\"hovertemplate\":\"scanner=K218<br>err=%{x}<br>MaxMinDiff=%{y}<extra></extra>\",\"legendgroup\":\"K218\",\"marker\":{\"color\":\"#E76BF3\",\"symbol\":\"circle\"},\"mode\":\"markers\",\"name\":\"K218\",\"showlegend\":true,\"x\":[1.56,1.51,1.46,1.46,3.13,1.46,1.46,1.83,1.82,1.82,1.82,1.66,1.66,1.67,1.68,2.14,2.12,2.13,1.98,1.93,1.85,1.84,1.84,1.89,1.58,6.12,6.71,6.54,6.7,1.72,1.73,1.76,1.74,1.74,1.73,1.79,1.78,1.76],\"xaxis\":\"x\",\"y\":[556,541,521,521,1116,521,522,654,651,651,651,594,594,596,601,767,758,762,707,691,660,659,656,675,564,2183,2394,2331,2388,614,618,628,622,622,618,640,634,628],\"yaxis\":\"y\",\"type\":\"scattergl\"},{\"hovertemplate\":\"scanner=H169<br>err=%{x}<br>MaxMinDiff=%{y}<extra></extra>\",\"legendgroup\":\"H169\",\"marker\":{\"color\":\"#F8766D\",\"symbol\":\"circle\"},\"mode\":\"markers\",\"name\":\"H169\",\"showlegend\":true,\"x\":[3.18,3.13],\"xaxis\":\"x\",\"y\":[1137,1120],\"yaxis\":\"y\",\"type\":\"scattergl\"},{\"hovertemplate\":\"scanner=H170<br>err=%{x}<br>MaxMinDiff=%{y}<extra></extra>\",\"legendgroup\":\"H170\",\"marker\":{\"color\":\"#A3A500\",\"symbol\":\"circle\"},\"mode\":\"markers\",\"name\":\"H170\",\"showlegend\":true,\"x\":[1.62,1.48],\"xaxis\":\"x\",\"y\":[577,530],\"yaxis\":\"y\",\"type\":\"scattergl\"},{\"hovertemplate\":\"scanner=H172<br>err=%{x}<br>MaxMinDiff=%{y}<extra></extra>\",\"legendgroup\":\"H172\",\"marker\":{\"color\":\"#00BF7D\",\"symbol\":\"circle\"},\"mode\":\"markers\",\"name\":\"H172\",\"showlegend\":true,\"x\":[2.18,2.19],\"xaxis\":\"x\",\"y\":[780,784],\"yaxis\":\"y\",\"type\":\"scattergl\"},{\"hovertemplate\":\"scanner=H168<br>err=%{x}<br>MaxMinDiff=%{y}<extra></extra>\",\"legendgroup\":\"H168\",\"marker\":{\"color\":\"#00B0F6\",\"symbol\":\"circle\"},\"mode\":\"markers\",\"name\":\"H168\",\"showlegend\":true,\"x\":[3.14,3.25],\"xaxis\":\"x\",\"y\":[1120,1160],\"yaxis\":\"y\",\"type\":\"scattergl\"},{\"hovertemplate\":\"scanner=K112<br>err=%{x}<br>MaxMinDiff=%{y}<extra></extra>\",\"legendgroup\":\"K112\",\"marker\":{\"color\":\"#E76BF3\",\"symbol\":\"circle\"},\"mode\":\"markers\",\"name\":\"K112\",\"showlegend\":true,\"x\":[4.02,4.01,4.03,4.13,4.11,4.09,4.13],\"xaxis\":\"x\",\"y\":[1429,1426,1433,1469,1461,1455,1468],\"yaxis\":\"y\",\"type\":\"scattergl\"},{\"hovertemplate\":\"scanner=K113<br>err=%{x}<br>MaxMinDiff=%{y}<extra></extra>\",\"legendgroup\":\"K113\",\"marker\":{\"color\":\"#F8766D\",\"symbol\":\"circle\"},\"mode\":\"markers\",\"name\":\"K113\",\"showlegend\":true,\"x\":[2.66,2.65,2.6,2.32,2.3,2.35,2.32,2.33],\"xaxis\":\"x\",\"y\":[947,942,925,826,820,835,825,829],\"yaxis\":\"y\",\"type\":\"scattergl\"},{\"hovertemplate\":\"scanner=H143<br>err=%{x}<br>MaxMinDiff=%{y}<extra></extra>\",\"legendgroup\":\"H143\",\"marker\":{\"color\":\"#A3A500\",\"symbol\":\"circle\"},\"mode\":\"markers\",\"name\":\"H143\",\"showlegend\":true,\"x\":[11.26,11.26,11.26,11.26,11.26,11.26],\"xaxis\":\"x\",\"y\":[4024,4024,4024,4024,4024,4024],\"yaxis\":\"y\",\"type\":\"scattergl\"},{\"hovertemplate\":\"scanner=H142<br>err=%{x}<br>MaxMinDiff=%{y}<extra></extra>\",\"legendgroup\":\"H142\",\"marker\":{\"color\":\"#00BF7D\",\"symbol\":\"circle\"},\"mode\":\"markers\",\"name\":\"H142\",\"showlegend\":true,\"x\":[3.32,2.23,3.34,3.63,4.35,4.37],\"xaxis\":\"x\",\"y\":[1185,793,1192,1293,1549,1557],\"yaxis\":\"y\",\"type\":\"scattergl\"},{\"hovertemplate\":\"scanner=H147<br>err=%{x}<br>MaxMinDiff=%{y}<extra></extra>\",\"legendgroup\":\"H147\",\"marker\":{\"color\":\"#00B0F6\",\"symbol\":\"circle\"},\"mode\":\"markers\",\"name\":\"H147\",\"showlegend\":true,\"x\":[3.4,3.38,3.32,3.26,3.26,3.27],\"xaxis\":\"x\",\"y\":[1214,1206,1184,1164,1164,1166],\"yaxis\":\"y\",\"type\":\"scattergl\"},{\"hovertemplate\":\"scanner=H151<br>err=%{x}<br>MaxMinDiff=%{y}<extra></extra>\",\"legendgroup\":\"H151\",\"marker\":{\"color\":\"#E76BF3\",\"symbol\":\"circle\"},\"mode\":\"markers\",\"name\":\"H151\",\"showlegend\":true,\"x\":[2.06,2.07,1.99,1.99,1.98,1.96],\"xaxis\":\"x\",\"y\":[739,741,712,709,707,701],\"yaxis\":\"y\",\"type\":\"scattergl\"},{\"hovertemplate\":\"scanner=H152<br>err=%{x}<br>MaxMinDiff=%{y}<extra></extra>\",\"legendgroup\":\"H152\",\"marker\":{\"color\":\"#F8766D\",\"symbol\":\"circle\"},\"mode\":\"markers\",\"name\":\"H152\",\"showlegend\":true,\"x\":[34.0,34.19,6.99,6.91,6.83,7.23],\"xaxis\":\"x\",\"y\":[12144,12209,2479,2450,2422,2567],\"yaxis\":\"y\",\"type\":\"scattergl\"},{\"hovertemplate\":\"scanner=H154<br>err=%{x}<br>MaxMinDiff=%{y}<extra></extra>\",\"legendgroup\":\"H154\",\"marker\":{\"color\":\"#A3A500\",\"symbol\":\"circle\"},\"mode\":\"markers\",\"name\":\"H154\",\"showlegend\":true,\"x\":[5.58,5.55,5.6,5.47,5.57,6.39],\"xaxis\":\"x\",\"y\":[1987,1977,1993,1948,1984,2276],\"yaxis\":\"y\",\"type\":\"scattergl\"},{\"hovertemplate\":\"scanner=H155<br>err=%{x}<br>MaxMinDiff=%{y}<extra></extra>\",\"legendgroup\":\"H155\",\"marker\":{\"color\":\"#00BF7D\",\"symbol\":\"circle\"},\"mode\":\"markers\",\"name\":\"H155\",\"showlegend\":true,\"x\":[6.04,6.06,6.09,6.0,6.07,4.88],\"xaxis\":\"x\",\"y\":[2156,2162,2172,2139,2166,1740],\"yaxis\":\"y\",\"type\":\"scattergl\"},{\"hovertemplate\":\"scanner=H156<br>err=%{x}<br>MaxMinDiff=%{y}<extra></extra>\",\"legendgroup\":\"H156\",\"marker\":{\"color\":\"#00B0F6\",\"symbol\":\"circle\"},\"mode\":\"markers\",\"name\":\"H156\",\"showlegend\":true,\"x\":[3.37,3.35,3.4,3.4,3.54,3.63],\"xaxis\":\"x\",\"y\":[1205,1198,1216,1213,1266,1295],\"yaxis\":\"y\",\"type\":\"scattergl\"},{\"hovertemplate\":\"scanner=H157<br>err=%{x}<br>MaxMinDiff=%{y}<extra></extra>\",\"legendgroup\":\"H157\",\"marker\":{\"color\":\"#E76BF3\",\"symbol\":\"circle\"},\"mode\":\"markers\",\"name\":\"H157\",\"showlegend\":true,\"x\":[8.18,8.23,8.19,8.2,8.18,7.57],\"xaxis\":\"x\",\"y\":[2914,2933,2917,2923,2913,2703],\"yaxis\":\"y\",\"type\":\"scattergl\"},{\"hovertemplate\":\"scanner=H153<br>err=%{x}<br>MaxMinDiff=%{y}<extra></extra>\",\"legendgroup\":\"H153\",\"marker\":{\"color\":\"#F8766D\",\"symbol\":\"circle\"},\"mode\":\"markers\",\"name\":\"H153\",\"showlegend\":true,\"x\":[2.78,2.78,3.36,2.82,2.72,2.78],\"xaxis\":\"x\",\"y\":[992,994,1535,1005,972,994],\"yaxis\":\"y\",\"type\":\"scattergl\"},{\"hovertemplate\":\"scanner=H166<br>err=%{x}<br>MaxMinDiff=%{y}<extra></extra>\",\"legendgroup\":\"H166\",\"marker\":{\"color\":\"#A3A500\",\"symbol\":\"circle\"},\"mode\":\"markers\",\"name\":\"H166\",\"showlegend\":true,\"x\":[3.83,3.82,3.79,3.79,3.65,3.62,3.58,3.57,3.62,3.57,3.6,3.61,3.53,3.57],\"xaxis\":\"x\",\"y\":[1371,1365,1356,1355,1306,1296,1280,1278,1294,1277,1288,1293,1264,1276],\"yaxis\":\"y\",\"type\":\"scattergl\"},{\"hovertemplate\":\"scanner=H167<br>err=%{x}<br>MaxMinDiff=%{y}<extra></extra>\",\"legendgroup\":\"H167\",\"marker\":{\"color\":\"#00BF7D\",\"symbol\":\"circle\"},\"mode\":\"markers\",\"name\":\"H167\",\"showlegend\":true,\"x\":[2.58,2.59,2.58,2.79,2.79,2.78,2.78,2.77,2.78,2.78,2.78,2.78,2.8,2.77,2.76,2.76,2.77,2.77,2.77,2.77,2.78,2.78],\"xaxis\":\"x\",\"y\":[922,926,923,998,997,995,995,991,995,993,993,995,1000,991,988,988,990,990,991,992,993,993],\"yaxis\":\"y\",\"type\":\"scattergl\"},{\"hovertemplate\":\"scanner=H165<br>err=%{x}<br>MaxMinDiff=%{y}<extra></extra>\",\"legendgroup\":\"H165\",\"marker\":{\"color\":\"#00B0F6\",\"symbol\":\"circle\"},\"mode\":\"markers\",\"name\":\"H165\",\"showlegend\":true,\"x\":[3.05,3.06,3.06,2.96,3.02,2.93,2.99,3.4,3.39,3.44,3.46,3.58,3.7,3.76,3.74,3.74,3.74,3.99,3.98,3.99,3.93,3.64],\"xaxis\":\"x\",\"y\":[1088,1094,1092,1056,1078,1046,1068,1212,1210,1228,1236,1277,1319,1340,1332,1333,1335,1422,1420,1424,1403,1296],\"yaxis\":\"y\",\"type\":\"scattergl\"}],                        {\"template\":{\"data\":{\"barpolar\":[{\"marker\":{\"line\":{\"color\":\"rgb(237,237,237)\",\"width\":0.5},\"pattern\":{\"fillmode\":\"overlay\",\"size\":10,\"solidity\":0.2}},\"type\":\"barpolar\"}],\"bar\":[{\"error_x\":{\"color\":\"rgb(51,51,51)\"},\"error_y\":{\"color\":\"rgb(51,51,51)\"},\"marker\":{\"line\":{\"color\":\"rgb(237,237,237)\",\"width\":0.5},\"pattern\":{\"fillmode\":\"overlay\",\"size\":10,\"solidity\":0.2}},\"type\":\"bar\"}],\"carpet\":[{\"aaxis\":{\"endlinecolor\":\"rgb(51,51,51)\",\"gridcolor\":\"white\",\"linecolor\":\"white\",\"minorgridcolor\":\"white\",\"startlinecolor\":\"rgb(51,51,51)\"},\"baxis\":{\"endlinecolor\":\"rgb(51,51,51)\",\"gridcolor\":\"white\",\"linecolor\":\"white\",\"minorgridcolor\":\"white\",\"startlinecolor\":\"rgb(51,51,51)\"},\"type\":\"carpet\"}],\"choropleth\":[{\"colorbar\":{\"outlinewidth\":0,\"tickcolor\":\"rgb(237,237,237)\",\"ticklen\":6,\"ticks\":\"inside\"},\"type\":\"choropleth\"}],\"contourcarpet\":[{\"colorbar\":{\"outlinewidth\":0,\"tickcolor\":\"rgb(237,237,237)\",\"ticklen\":6,\"ticks\":\"inside\"},\"type\":\"contourcarpet\"}],\"contour\":[{\"colorbar\":{\"outlinewidth\":0,\"tickcolor\":\"rgb(237,237,237)\",\"ticklen\":6,\"ticks\":\"inside\"},\"colorscale\":[[0,\"rgb(20,44,66)\"],[1,\"rgb(90,179,244)\"]],\"type\":\"contour\"}],\"heatmapgl\":[{\"colorbar\":{\"outlinewidth\":0,\"tickcolor\":\"rgb(237,237,237)\",\"ticklen\":6,\"ticks\":\"inside\"},\"colorscale\":[[0,\"rgb(20,44,66)\"],[1,\"rgb(90,179,244)\"]],\"type\":\"heatmapgl\"}],\"heatmap\":[{\"colorbar\":{\"outlinewidth\":0,\"tickcolor\":\"rgb(237,237,237)\",\"ticklen\":6,\"ticks\":\"inside\"},\"colorscale\":[[0,\"rgb(20,44,66)\"],[1,\"rgb(90,179,244)\"]],\"type\":\"heatmap\"}],\"histogram2dcontour\":[{\"colorbar\":{\"outlinewidth\":0,\"tickcolor\":\"rgb(237,237,237)\",\"ticklen\":6,\"ticks\":\"inside\"},\"colorscale\":[[0,\"rgb(20,44,66)\"],[1,\"rgb(90,179,244)\"]],\"type\":\"histogram2dcontour\"}],\"histogram2d\":[{\"colorbar\":{\"outlinewidth\":0,\"tickcolor\":\"rgb(237,237,237)\",\"ticklen\":6,\"ticks\":\"inside\"},\"colorscale\":[[0,\"rgb(20,44,66)\"],[1,\"rgb(90,179,244)\"]],\"type\":\"histogram2d\"}],\"histogram\":[{\"marker\":{\"pattern\":{\"fillmode\":\"overlay\",\"size\":10,\"solidity\":0.2}},\"type\":\"histogram\"}],\"mesh3d\":[{\"colorbar\":{\"outlinewidth\":0,\"tickcolor\":\"rgb(237,237,237)\",\"ticklen\":6,\"ticks\":\"inside\"},\"type\":\"mesh3d\"}],\"parcoords\":[{\"line\":{\"colorbar\":{\"outlinewidth\":0,\"tickcolor\":\"rgb(237,237,237)\",\"ticklen\":6,\"ticks\":\"inside\"}},\"type\":\"parcoords\"}],\"pie\":[{\"automargin\":true,\"type\":\"pie\"}],\"scatter3d\":[{\"line\":{\"colorbar\":{\"outlinewidth\":0,\"tickcolor\":\"rgb(237,237,237)\",\"ticklen\":6,\"ticks\":\"inside\"}},\"marker\":{\"colorbar\":{\"outlinewidth\":0,\"tickcolor\":\"rgb(237,237,237)\",\"ticklen\":6,\"ticks\":\"inside\"}},\"type\":\"scatter3d\"}],\"scattercarpet\":[{\"marker\":{\"colorbar\":{\"outlinewidth\":0,\"tickcolor\":\"rgb(237,237,237)\",\"ticklen\":6,\"ticks\":\"inside\"}},\"type\":\"scattercarpet\"}],\"scattergeo\":[{\"marker\":{\"colorbar\":{\"outlinewidth\":0,\"tickcolor\":\"rgb(237,237,237)\",\"ticklen\":6,\"ticks\":\"inside\"}},\"type\":\"scattergeo\"}],\"scattergl\":[{\"marker\":{\"colorbar\":{\"outlinewidth\":0,\"tickcolor\":\"rgb(237,237,237)\",\"ticklen\":6,\"ticks\":\"inside\"}},\"type\":\"scattergl\"}],\"scattermapbox\":[{\"marker\":{\"colorbar\":{\"outlinewidth\":0,\"tickcolor\":\"rgb(237,237,237)\",\"ticklen\":6,\"ticks\":\"inside\"}},\"type\":\"scattermapbox\"}],\"scatterpolargl\":[{\"marker\":{\"colorbar\":{\"outlinewidth\":0,\"tickcolor\":\"rgb(237,237,237)\",\"ticklen\":6,\"ticks\":\"inside\"}},\"type\":\"scatterpolargl\"}],\"scatterpolar\":[{\"marker\":{\"colorbar\":{\"outlinewidth\":0,\"tickcolor\":\"rgb(237,237,237)\",\"ticklen\":6,\"ticks\":\"inside\"}},\"type\":\"scatterpolar\"}],\"scatter\":[{\"marker\":{\"colorbar\":{\"outlinewidth\":0,\"tickcolor\":\"rgb(237,237,237)\",\"ticklen\":6,\"ticks\":\"inside\"}},\"type\":\"scatter\"}],\"scatterternary\":[{\"marker\":{\"colorbar\":{\"outlinewidth\":0,\"tickcolor\":\"rgb(237,237,237)\",\"ticklen\":6,\"ticks\":\"inside\"}},\"type\":\"scatterternary\"}],\"surface\":[{\"colorbar\":{\"outlinewidth\":0,\"tickcolor\":\"rgb(237,237,237)\",\"ticklen\":6,\"ticks\":\"inside\"},\"colorscale\":[[0,\"rgb(20,44,66)\"],[1,\"rgb(90,179,244)\"]],\"type\":\"surface\"}],\"table\":[{\"cells\":{\"fill\":{\"color\":\"rgb(237,237,237)\"},\"line\":{\"color\":\"white\"}},\"header\":{\"fill\":{\"color\":\"rgb(217,217,217)\"},\"line\":{\"color\":\"white\"}},\"type\":\"table\"}]},\"layout\":{\"annotationdefaults\":{\"arrowhead\":0,\"arrowwidth\":1},\"autotypenumbers\":\"strict\",\"coloraxis\":{\"colorbar\":{\"outlinewidth\":0,\"tickcolor\":\"rgb(237,237,237)\",\"ticklen\":6,\"ticks\":\"inside\"}},\"colorscale\":{\"sequential\":[[0,\"rgb(20,44,66)\"],[1,\"rgb(90,179,244)\"]],\"sequentialminus\":[[0,\"rgb(20,44,66)\"],[1,\"rgb(90,179,244)\"]]},\"colorway\":[\"#F8766D\",\"#A3A500\",\"#00BF7D\",\"#00B0F6\",\"#E76BF3\"],\"font\":{\"color\":\"rgb(51,51,51)\"},\"geo\":{\"bgcolor\":\"white\",\"lakecolor\":\"white\",\"landcolor\":\"rgb(237,237,237)\",\"showlakes\":true,\"showland\":true,\"subunitcolor\":\"white\"},\"hoverlabel\":{\"align\":\"left\"},\"hovermode\":\"closest\",\"paper_bgcolor\":\"white\",\"plot_bgcolor\":\"rgb(237,237,237)\",\"polar\":{\"angularaxis\":{\"gridcolor\":\"white\",\"linecolor\":\"white\",\"showgrid\":true,\"tickcolor\":\"rgb(51,51,51)\",\"ticks\":\"outside\"},\"bgcolor\":\"rgb(237,237,237)\",\"radialaxis\":{\"gridcolor\":\"white\",\"linecolor\":\"white\",\"showgrid\":true,\"tickcolor\":\"rgb(51,51,51)\",\"ticks\":\"outside\"}},\"scene\":{\"xaxis\":{\"backgroundcolor\":\"rgb(237,237,237)\",\"gridcolor\":\"white\",\"gridwidth\":2,\"linecolor\":\"white\",\"showbackground\":true,\"showgrid\":true,\"tickcolor\":\"rgb(51,51,51)\",\"ticks\":\"outside\",\"zerolinecolor\":\"white\"},\"yaxis\":{\"backgroundcolor\":\"rgb(237,237,237)\",\"gridcolor\":\"white\",\"gridwidth\":2,\"linecolor\":\"white\",\"showbackground\":true,\"showgrid\":true,\"tickcolor\":\"rgb(51,51,51)\",\"ticks\":\"outside\",\"zerolinecolor\":\"white\"},\"zaxis\":{\"backgroundcolor\":\"rgb(237,237,237)\",\"gridcolor\":\"white\",\"gridwidth\":2,\"linecolor\":\"white\",\"showbackground\":true,\"showgrid\":true,\"tickcolor\":\"rgb(51,51,51)\",\"ticks\":\"outside\",\"zerolinecolor\":\"white\"}},\"shapedefaults\":{\"fillcolor\":\"black\",\"line\":{\"width\":0},\"opacity\":0.3},\"ternary\":{\"aaxis\":{\"gridcolor\":\"white\",\"linecolor\":\"white\",\"showgrid\":true,\"tickcolor\":\"rgb(51,51,51)\",\"ticks\":\"outside\"},\"baxis\":{\"gridcolor\":\"white\",\"linecolor\":\"white\",\"showgrid\":true,\"tickcolor\":\"rgb(51,51,51)\",\"ticks\":\"outside\"},\"bgcolor\":\"rgb(237,237,237)\",\"caxis\":{\"gridcolor\":\"white\",\"linecolor\":\"white\",\"showgrid\":true,\"tickcolor\":\"rgb(51,51,51)\",\"ticks\":\"outside\"}},\"xaxis\":{\"automargin\":true,\"gridcolor\":\"white\",\"linecolor\":\"white\",\"showgrid\":true,\"tickcolor\":\"rgb(51,51,51)\",\"ticks\":\"outside\",\"title\":{\"standoff\":15},\"zerolinecolor\":\"white\"},\"yaxis\":{\"automargin\":true,\"gridcolor\":\"white\",\"linecolor\":\"white\",\"showgrid\":true,\"tickcolor\":\"rgb(51,51,51)\",\"ticks\":\"outside\",\"title\":{\"standoff\":15},\"zerolinecolor\":\"white\"}}},\"xaxis\":{\"anchor\":\"y\",\"domain\":[0.0,1.0],\"title\":{\"text\":\"err\"}},\"yaxis\":{\"anchor\":\"x\",\"domain\":[0.0,1.0],\"title\":{\"text\":\"MaxMinDiff\"}},\"legend\":{\"title\":{\"text\":\"scanner\"},\"tracegroupgap\":0},\"title\":{\"text\":\"err vs MaxMindiff\"},\"height\":400,\"width\":700},                        {\"responsive\": true}                    ).then(function(){\n",
              "                            \n",
              "var gd = document.getElementById('5aead313-da21-4d02-9476-78abfe5dc9eb');\n",
              "var x = new MutationObserver(function (mutations, observer) {{\n",
              "        var display = window.getComputedStyle(gd).display;\n",
              "        if (!display || display === 'none') {{\n",
              "            console.log([gd, 'removed!']);\n",
              "            Plotly.purge(gd);\n",
              "            observer.disconnect();\n",
              "        }}\n",
              "}});\n",
              "\n",
              "// Listen for the removal of the full notebook cells\n",
              "var notebookContainer = gd.closest('#notebook-container');\n",
              "if (notebookContainer) {{\n",
              "    x.observe(notebookContainer, {childList: true});\n",
              "}}\n",
              "\n",
              "// Listen for the clearing of the current output cell\n",
              "var outputEl = gd.closest('.output');\n",
              "if (outputEl) {{\n",
              "    x.observe(outputEl, {childList: true});\n",
              "}}\n",
              "\n",
              "                        })                };                            </script>        </div>\n",
              "</body>\n",
              "</html>"
            ]
          },
          "metadata": {}
        }
      ]
    },
    {
      "cell_type": "code",
      "source": [
        "scat2 = px.scatter(df, x = 'errf', y = 'MaxfMinfDiff', color = 'scanner',\n",
        "                  template = 'ggplot2', title= 'errf vs MaxfMinfdiff', width=700, height=400)\n",
        "scat2.show()"
      ],
      "metadata": {
        "colab": {
          "base_uri": "https://localhost:8080/",
          "height": 417
        },
        "id": "i9YDx4c5K8kX",
        "outputId": "032f173e-97d5-4ded-ab9c-a8029c5bf6ee"
      },
      "execution_count": null,
      "outputs": [
        {
          "output_type": "display_data",
          "data": {
            "text/html": [
              "<html>\n",
              "<head><meta charset=\"utf-8\" /></head>\n",
              "<body>\n",
              "    <div>            <script src=\"https://cdnjs.cloudflare.com/ajax/libs/mathjax/2.7.5/MathJax.js?config=TeX-AMS-MML_SVG\"></script><script type=\"text/javascript\">if (window.MathJax) {MathJax.Hub.Config({SVG: {font: \"STIX-Web\"}});}</script>                <script type=\"text/javascript\">window.PlotlyConfig = {MathJaxConfig: 'local'};</script>\n",
              "        <script src=\"https://cdn.plot.ly/plotly-2.8.3.min.js\"></script>                <div id=\"414a91c1-ac7d-4f17-8e83-0f16ee7af20f\" class=\"plotly-graph-div\" style=\"height:400px; width:700px;\"></div>            <script type=\"text/javascript\">                                    window.PLOTLYENV=window.PLOTLYENV || {};                                    if (document.getElementById(\"414a91c1-ac7d-4f17-8e83-0f16ee7af20f\")) {                    Plotly.newPlot(                        \"414a91c1-ac7d-4f17-8e83-0f16ee7af20f\",                        [{\"hovertemplate\":\"scanner=K219<br>errf=%{x}<br>MaxfMinfDiff=%{y}<extra></extra>\",\"legendgroup\":\"K219\",\"marker\":{\"color\":\"#F8766D\",\"symbol\":\"circle\"},\"mode\":\"markers\",\"name\":\"K219\",\"showlegend\":true,\"x\":[0.02,0.01,0.01,0.01,0.02,0.02,0.01,0.01,0.02,0.03,0.03,0.01,0.01,0.01,0.01,0.02,0.01,0.01,0.04,0.01,0.02,0.01,0.02,0.01,0.0,0.01,0.01,0.02,0.02,0.02,0.02,0.01,0.02,0.02,0.02,0.02,0.01,0.01],\"xaxis\":\"x\",\"y\":[7,4,4,4,7,6,5,2,8,11,11,4,4,5,5,6,5,4,14,4,7,3,6,4,1,4,4,6,6,6,7,5,6,6,6,6,4,5],\"yaxis\":\"y\",\"type\":\"scattergl\"},{\"hovertemplate\":\"scanner=H161<br>errf=%{x}<br>MaxfMinfDiff=%{y}<extra></extra>\",\"legendgroup\":\"H161\",\"marker\":{\"color\":\"#A3A500\",\"symbol\":\"circle\"},\"mode\":\"markers\",\"name\":\"H161\",\"showlegend\":true,\"x\":[0.08,0.06,0.05,0.04,0.08,0.06,0.1,0.04,1.36,0.09,0.06,0.1,0.08,0.04,0.05,0.07,0.07,0.06,0.06,0.03,0.03,0.08,0.07,0.06,0.1,0.06,0.06,0.06,0.06,0.06,0.08,0.08,0.07,0.06,0.07,0.05,0.07,0.07,0.08,0.07,0.04,0.07,0.04,0.05,0.04,0.08,0.04,0.06,0.07,0.05,0.04,0.1,0.08,0.07,0.07,0.04,0.08,0.04,0.05,0.09,0.03,0.06,0.06,0.04,0.08,0.09,0.08,0.04],\"xaxis\":\"x\",\"y\":[30,22,19,14,29,20,37,15,627,32,22,35,27,13,18,25,26,20,21,11,12,29,26,22,35,21,21,21,22,22,27,27,24,21,26,19,25,25,27,24,13,25,16,18,14,30,15,22,26,18,14,34,29,25,25,13,27,14,18,33,12,20,23,16,30,31,30,13],\"yaxis\":\"y\",\"type\":\"scattergl\"},{\"hovertemplate\":\"scanner=K211<br>errf=%{x}<br>MaxfMinfDiff=%{y}<extra></extra>\",\"legendgroup\":\"K211\",\"marker\":{\"color\":\"#00BF7D\",\"symbol\":\"circle\"},\"mode\":\"markers\",\"name\":\"K211\",\"showlegend\":true,\"x\":[0.13,0.11,0.11,0.1,0.1,0.1,0.11],\"xaxis\":\"x\",\"y\":[47,38,40,35,36,35,38],\"yaxis\":\"y\",\"type\":\"scattergl\"},{\"hovertemplate\":\"scanner=K212<br>errf=%{x}<br>MaxfMinfDiff=%{y}<extra></extra>\",\"legendgroup\":\"K212\",\"marker\":{\"color\":\"#00B0F6\",\"symbol\":\"circle\"},\"mode\":\"markers\",\"name\":\"K212\",\"showlegend\":true,\"x\":[0.11,0.11,0.12,0.12,0.11,0.11,0.11],\"xaxis\":\"x\",\"y\":[40,40,42,43,39,39,39],\"yaxis\":\"y\",\"type\":\"scattergl\"},{\"hovertemplate\":\"scanner=K220<br>errf=%{x}<br>MaxfMinfDiff=%{y}<extra></extra>\",\"legendgroup\":\"K220\",\"marker\":{\"color\":\"#E76BF3\",\"symbol\":\"circle\"},\"mode\":\"markers\",\"name\":\"K220\",\"showlegend\":true,\"x\":[0.04,0.04,0.06,0.06,0.04,0.07,0.06,0.06,0.06,0.06,0.06,0.02,0.03,0.03,0.03,0.03,0.03,0.02,0.02,0.03,0.03,0.04,0.01,0.0,0.01,0.03,0.03,0.03,0.03,0.03,0.03,0.03,0.04,0.04],\"xaxis\":\"x\",\"y\":[15,16,22,21,15,25,23,21,21,21,21,8,9,9,10,9,11,7,7,10,10,14,3,1,2,10,9,10,12,9,12,12,15,13],\"yaxis\":\"y\",\"type\":\"scattergl\"},{\"hovertemplate\":\"scanner=K221<br>errf=%{x}<br>MaxfMinfDiff=%{y}<extra></extra>\",\"legendgroup\":\"K221\",\"marker\":{\"color\":\"#F8766D\",\"symbol\":\"circle\"},\"mode\":\"markers\",\"name\":\"K221\",\"showlegend\":true,\"x\":[0.01,0.01,0.06,0.06,0.05,0.05,0.06,0.06,0.05,0.06,0.05,0.06,0.03,0.03,0.03,0.03,0.03,0.04,0.03,0.07,0.06,0.07,0.07,0.07,0.03,0.03,0.03,0.03,0.01,0.01,0.01,0.01,0.01,0.01],\"xaxis\":\"x\",\"y\":[4,5,22,20,18,19,20,20,19,20,19,20,9,10,11,11,10,13,10,25,23,24,26,24,10,10,10,10,4,3,4,4,3,3],\"yaxis\":\"y\",\"type\":\"scattergl\"},{\"hovertemplate\":\"scanner=K169<br>errf=%{x}<br>MaxfMinfDiff=%{y}<extra></extra>\",\"legendgroup\":\"K169\",\"marker\":{\"color\":\"#A3A500\",\"symbol\":\"circle\"},\"mode\":\"markers\",\"name\":\"K169\",\"showlegend\":true,\"x\":[0.03,0.03,0.03,0.03,0.03,0.03,0.03,0.03,0.03,0.03,0.03,0.03,0.04,0.03,0.04,0.03,0.03,0.03,0.04,0.03,0.03,0.04,0.03,0.03,0.03,0.03,0.03,0.03,0.03,0.03,0.03,0.03,0.03,0.03,0.03,0.03,0.03,0.03,0.03,0.03,0.03,0.04,0.03,0.03,0.03,0.03,0.03,0.03,0.03,0.03,0.03,0.03,0.03,0.03,0.03,0.04,0.03,0.03,0.03,0.03,0.04,0.03,0.03,0.03,0.03,0.03,0.03,0.03,0.03,0.03,0.03],\"xaxis\":\"x\",\"y\":[10,12,11,11,10,12,10,11,11,11,12,11,13,10,13,10,10,11,13,10,10,14,10,11,12,11,11,11,11,10,11,11,10,11,10,9,12,10,12,10,11,13,11,12,11,11,10,9,11,11,11,11,10,11,12,13,10,11,10,11,13,10,11,11,11,11,12,9,10,10,10],\"yaxis\":\"y\",\"type\":\"scattergl\"},{\"hovertemplate\":\"scanner=H162<br>errf=%{x}<br>MaxfMinfDiff=%{y}<extra></extra>\",\"legendgroup\":\"H162\",\"marker\":{\"color\":\"#00BF7D\",\"symbol\":\"circle\"},\"mode\":\"markers\",\"name\":\"H162\",\"showlegend\":true,\"x\":[0.08,0.09,0.1,0.1,1.33,0.11,0.09,0.11,0.11,0.08,0.09,0.09,0.09,0.1,0.1,0.11,0.1,0.09,0.1,0.08,0.09,0.08,0.1,0.09,0.09,0.08,0.09,0.11,0.1,0.1,0.07,0.07,0.08,0.08,0.09,0.09,0.09,0.09,0.07,0.08,0.08,0.08,0.11,0.09,0.09,0.1,0.1,0.09,0.11,0.09,0.11,0.1,0.09,0.09,0.09,0.09,0.1,0.1,0.1,0.09,0.1,0.09,0.08,0.08,0.1,0.09,0.1,0.1],\"xaxis\":\"x\",\"y\":[29,32,36,34,600,40,33,38,39,30,31,31,31,34,37,40,37,32,35,28,31,29,35,32,31,27,31,39,37,37,25,25,28,27,32,31,33,32,26,30,27,27,39,31,33,35,36,31,39,31,38,36,33,31,31,31,37,35,36,33,36,32,29,29,35,32,35,34],\"yaxis\":\"y\",\"type\":\"scattergl\"},{\"hovertemplate\":\"scanner=K238<br>errf=%{x}<br>MaxfMinfDiff=%{y}<extra></extra>\",\"legendgroup\":\"K238\",\"marker\":{\"color\":\"#00B0F6\",\"symbol\":\"circle\"},\"mode\":\"markers\",\"name\":\"K238\",\"showlegend\":true,\"x\":[0.03,0.01,0.01,0.01,0.04,0.03,0.03,0.03,0.04,0.03,0.03,0.04,0.02,0.02,0.02,0.02,0.02,0.03,0.01,0.01,0.03,0.03,0.03,0.01,0.01,0.01,0.01,0.0,0.0,0.0,0.01,0.01,0.01,0.01,0.01,0.01,0.01,0.01,0.01,0.01,0.01,0.01,0.01,0.01,0.01,0.01,0.01,0.01,0.02,0.01,0.01,0.01,0.01,0.02,0.02,0.02,0.0,0.01,0.0,0.0,0.01,0.01,0.03,0.01,0.02,0.02,0.01,0.0],\"xaxis\":\"x\",\"y\":[11,2,2,2,15,11,12,12,13,11,12,16,7,7,7,7,7,11,4,3,12,12,12,2,3,3,2,1,1,1,3,5,2,2,3,3,3,2,2,5,3,3,3,3,2,4,4,4,6,3,2,5,3,6,6,6,1,2,0,0,4,2,10,2,8,8,3,1],\"yaxis\":\"y\",\"type\":\"scattergl\"},{\"hovertemplate\":\"scanner=K250<br>errf=%{x}<br>MaxfMinfDiff=%{y}<extra></extra>\",\"legendgroup\":\"K250\",\"marker\":{\"color\":\"#E76BF3\",\"symbol\":\"circle\"},\"mode\":\"markers\",\"name\":\"K250\",\"showlegend\":true,\"x\":[0.02,0.02,0.02,0.02,0.04,0.02,200.01,0.04,0.04,0.03,0.01,0.02,0.04,0.04,0.04,0.04,0.04,0.02,0.02,0.01,0.01,0.01,0.02,0.02,0.02,0.02,0.03,0.03,0.03,0.02,0.03,0.02,0.02,0.02,0.03,0.02,0.03,0.03,0.03,0.03,0.02,0.05,0.03,0.03,0.01,0.02,0.01,0.01,0.03,0.03,0.03,0.03,0.03,0.03,0.03,0.03,0.03,0.03,0.03,0.02,0.02,0.02,0.03,0.03],\"xaxis\":\"x\",\"y\":[6,6,6,8,14,6,35708,14,14,9,2,8,13,13,13,13,13,6,7,5,5,5,6,6,6,7,9,9,9,6,10,7,8,8,10,8,10,9,9,10,8,17,12,12,3,6,3,4,9,10,12,12,12,9,11,11,11,9,9,7,7,7,10,10],\"yaxis\":\"y\",\"type\":\"scattergl\"},{\"hovertemplate\":\"scanner=K237<br>errf=%{x}<br>MaxfMinfDiff=%{y}<extra></extra>\",\"legendgroup\":\"K237\",\"marker\":{\"color\":\"#F8766D\",\"symbol\":\"circle\"},\"mode\":\"markers\",\"name\":\"K237\",\"showlegend\":true,\"x\":[0.02,0.02,0.02,0.05,0.03,0.03,0.03,0.03,0.02,0.02,0.03,0.03,0.02,0.02,0.02,0.02,0.02,0.02,0.03,0.01,0.01,0.01,0.01,0.01,0.01,0.03,0.03,0.03,0.03,0.03,0.03,0.02,0.02,0.04,0.03,0.02,0.02,0.03,0.03,0.01,0.03,0.02,0.03,0.03,0.02,0.03,0.03,0.03,0.03,0.03,0.02,0.02,0.02,0.02,0.01,0.02,0.01,0.01,0.02,0.01],\"xaxis\":\"x\",\"y\":[7,7,7,17,9,9,9,9,8,7,11,9,8,8,8,8,8,7,9,4,4,4,4,4,4,9,10,9,9,9,10,8,8,14,9,7,8,9,9,5,9,6,10,9,7,12,12,12,12,9,7,7,8,8,4,8,5,5,8,5],\"yaxis\":\"y\",\"type\":\"scattergl\"},{\"hovertemplate\":\"scanner=H173<br>errf=%{x}<br>MaxfMinfDiff=%{y}<extra></extra>\",\"legendgroup\":\"H173\",\"marker\":{\"color\":\"#A3A500\",\"symbol\":\"circle\"},\"mode\":\"markers\",\"name\":\"H173\",\"showlegend\":true,\"x\":[0.05,0.02,0.02,0.07,0.07,0.03,0.05,0.04,0.04,0.06,0.04,0.06,0.05,0.06,0.05,0.07,0.05,0.06,0.04,0.04,0.07,0.06,0.03,0.06,0.06,0.07,0.06,0.08,0.06,0.06,0.07,0.03,0.06,0.07,0.05,0.05,0.04,0.06,0.02,0.06,0.03,0.05,0.04,0.07,0.06,0.06,0.07,0.04,0.06,0.08,0.03,0.05,0.06],\"xaxis\":\"x\",\"y\":[19,8,8,24,26,12,19,16,16,22,13,22,19,21,17,26,18,23,16,16,24,23,9,21,23,24,21,27,22,21,24,11,22,24,19,19,16,21,8,21,11,17,14,26,22,23,26,15,20,28,11,17,21],\"yaxis\":\"y\",\"type\":\"scattergl\"},{\"hovertemplate\":\"scanner=H175<br>errf=%{x}<br>MaxfMinfDiff=%{y}<extra></extra>\",\"legendgroup\":\"H175\",\"marker\":{\"color\":\"#00BF7D\",\"symbol\":\"circle\"},\"mode\":\"markers\",\"name\":\"H175\",\"showlegend\":true,\"x\":[0.07,0.11,0.11,0.13,0.14,0.13,0.15,0.14,0.1,0.1,0.1,0.14,0.09,0.09,0.14,0.07,0.14,0.09,0.1,0.07,0.07,0.08,0.09,0.13,0.08,0.14,0.11,0.08,0.15,0.14,0.08,0.15,0.11,0.15,0.13,0.08,0.11,0.15,0.06,0.13,0.08,0.12,0.11,0.09,0.14,0.15,0.06,0.1,0.14,0.06,0.07,0.14,0.08,0.08],\"xaxis\":\"x\",\"y\":[25,41,39,48,50,47,55,51,37,34,34,50,31,32,51,24,51,31,37,26,26,30,32,46,30,50,40,28,52,50,29,54,41,52,46,28,38,53,22,46,27,42,39,33,50,53,20,36,49,22,26,51,30,30],\"yaxis\":\"y\",\"type\":\"scattergl\"},{\"hovertemplate\":\"scanner=H177<br>errf=%{x}<br>MaxfMinfDiff=%{y}<extra></extra>\",\"legendgroup\":\"H177\",\"marker\":{\"color\":\"#00B0F6\",\"symbol\":\"circle\"},\"mode\":\"markers\",\"name\":\"H177\",\"showlegend\":true,\"x\":[0.04,0.03,0.07,0.07,0.06,0.05,0.06,0.05,0.06,0.05,0.07,0.08,0.04,0.07,0.04,0.05,0.06,0.08,0.04,0.04,0.04,0.04,0.04,0.04,0.04,0.06,0.06,0.04,0.08,0.04,0.03,0.08,0.07,0.08,0.07,0.06,0.06,0.05,0.06,0.05,0.05,0.06,0.06,0.04,0.04,0.06,0.05,0.04,0.06,0.07,0.05,0.04,0.04,0.05],\"xaxis\":\"x\",\"y\":[16,12,25,26,23,19,20,18,21,17,26,29,14,26,13,18,23,28,13,15,15,16,13,14,16,20,22,13,27,15,12,27,25,27,24,22,22,18,21,17,18,23,22,16,14,21,19,15,20,26,19,13,15,18],\"yaxis\":\"y\",\"type\":\"scattergl\"},{\"hovertemplate\":\"scanner=H176<br>errf=%{x}<br>MaxfMinfDiff=%{y}<extra></extra>\",\"legendgroup\":\"H176\",\"marker\":{\"color\":\"#E76BF3\",\"symbol\":\"circle\"},\"mode\":\"markers\",\"name\":\"H176\",\"showlegend\":true,\"x\":[0.05,0.06,0.06,0.04,0.05,0.03,0.07,0.06,0.05,0.03,0.06,0.03,0.04,0.03,0.04,0.04,0.06,0.08,0.05,0.04,0.04,0.06,0.07,0.06,0.06,0.06,0.04,0.07,0.04,0.03,0.04,0.04,0.03,0.03,0.03,0.06,0.06,0.06,0.05,0.07,0.08,0.04,0.03,0.06,0.05,0.04,0.04,0.04,0.07,0.03,0.02,0.06,0.06,0.06],\"xaxis\":\"x\",\"y\":[18,23,21,13,17,9,24,23,19,11,22,9,16,9,16,15,23,27,18,14,14,20,25,23,21,23,13,24,13,10,14,13,12,11,10,22,22,21,17,26,27,13,9,22,19,15,15,15,25,11,7,23,23,22],\"yaxis\":\"y\",\"type\":\"scattergl\"},{\"hovertemplate\":\"scanner=H174<br>errf=%{x}<br>MaxfMinfDiff=%{y}<extra></extra>\",\"legendgroup\":\"H174\",\"marker\":{\"color\":\"#F8766D\",\"symbol\":\"circle\"},\"mode\":\"markers\",\"name\":\"H174\",\"showlegend\":true,\"x\":[0.05,0.06,0.07,0.04,0.08,0.16,0.15,0.13,0.1,0.16,0.1,0.09,0.08,0.11,0.11,0.16,0.06,0.09,0.07,0.08,0.08,0.06,0.09,0.08,0.09,0.09,0.08,0.06,0.12,0.08,0.07,0.11,0.1,0.13,0.16,0.11,0.07,0.08,0.04,0.07,0.05,0.06,0.06,0.04,0.06,0.06,0.04,0.07,0.13,0.06,0.07,0.05,0.07,0.07],\"xaxis\":\"x\",\"y\":[19,22,25,14,28,57,53,48,34,58,35,32,30,39,38,56,21,31,25,29,29,21,31,28,32,32,28,23,42,27,25,40,37,45,57,40,25,27,16,26,17,20,23,13,21,23,14,26,45,22,24,18,24,25],\"yaxis\":\"y\",\"type\":\"scattergl\"},{\"hovertemplate\":\"scanner=H128<br>errf=%{x}<br>MaxfMinfDiff=%{y}<extra></extra>\",\"legendgroup\":\"H128\",\"marker\":{\"color\":\"#A3A500\",\"symbol\":\"circle\"},\"mode\":\"markers\",\"name\":\"H128\",\"showlegend\":true,\"x\":[0.07,0.08,0.08,0.07,0.08,0.08,0.08,0.06,0.06,0.04,0.04,0.06,0.05,0.08,0.04,0.07,0.07,0.04,0.04,0.04,0.04,0.07,0.06,0.08,0.06,0.06,0.06,0.07,0.07,0.06,0.08,0.07,0.08,0.1,0.05,0.06,0.06,0.04,0.04,0.06,0.08,0.04,0.04,0.06,0.04,0.06,0.06,0.06,0.03,0.08,0.07,0.07,0.07,0.06,0.07,0.08,0.04,0.08,0.08,0.08,0.04,0.04,0.08,0.06,0.04,0.07,0.07,0.08,0.08,0.06],\"xaxis\":\"x\",\"y\":[25,29,29,26,29,29,29,23,22,14,13,21,19,29,14,26,25,14,15,13,13,25,20,27,20,21,23,25,25,23,29,25,28,34,19,23,23,13,14,23,27,13,13,21,15,20,20,21,12,28,25,25,24,22,25,28,14,27,28,27,13,13,27,22,15,26,25,28,29,20],\"yaxis\":\"y\",\"type\":\"scattergl\"},{\"hovertemplate\":\"scanner=H163<br>errf=%{x}<br>MaxfMinfDiff=%{y}<extra></extra>\",\"legendgroup\":\"H163\",\"marker\":{\"color\":\"#00BF7D\",\"symbol\":\"circle\"},\"mode\":\"markers\",\"name\":\"H163\",\"showlegend\":true,\"x\":[0.21,0.22,0.2,1.36,0.23,0.22,0.28,0.05,0.11,0.23,0.2,0.28,0.28,0.19,0.1,0.22,0.1,0.1,0.14,0.09,0.2,0.26,0.16,0.2,0.25,0.27,0.27,0.21,0.28,0.21,0.25,0.25,0.17,0.26,0.22,0.24,0.15,0.2,0.26,0.26,0.23,0.24,0.21,0.05,0.21,0.26,0.21,0.24,0.22,0.25,0.22,0.2,0.25,0.23,0.23,0.27,0.24,0.27,0.22,0.07,0.13,0.19,0.2,0.2,0.22,0.2,0.2,0.24],\"xaxis\":\"x\",\"y\":[74,79,71,628,81,80,99,19,40,83,72,100,99,69,35,80,34,35,50,33,71,92,57,70,89,97,96,76,100,76,90,90,62,94,78,85,55,73,93,94,83,87,74,17,76,92,76,86,80,89,80,73,90,82,82,96,86,95,79,24,45,69,72,72,78,70,73,84],\"yaxis\":\"y\",\"type\":\"scattergl\"},{\"hovertemplate\":\"scanner=K239<br>errf=%{x}<br>MaxfMinfDiff=%{y}<extra></extra>\",\"legendgroup\":\"K239\",\"marker\":{\"color\":\"#00B0F6\",\"symbol\":\"circle\"},\"mode\":\"markers\",\"name\":\"K239\",\"showlegend\":true,\"x\":[0.02,0.02,0.02,0.01,0.01,0.03,0.01,0.01,0.01,0.03,0.03,0.01,0.02,0.02,0.02,0.02,0.02,0.01,0.03,0.03,0.02,0.02,0.02,0.02,0.03,0.02,0.02,0.02,0.02,0.02,0.03,0.03,0.03,0.03,0.02,0.02,0.02,0.03,0.03,0.03,0.03,0.02,0.03,0.03,0.03,0.02,0.02,0.03,0.02,0.03,0.03,0.03,0.0,0.02,0.02,0.02,0.03,0.02,0.02,0.02,0.02,0.02,0.02,0.02,0.03,0.03,0.02,0.03],\"xaxis\":\"x\",\"y\":[7,7,8,5,4,9,5,5,5,9,9,5,7,7,7,7,7,3,10,9,8,8,8,8,9,8,7,6,6,6,9,9,10,10,8,8,8,10,10,9,9,8,9,10,9,8,8,10,8,9,9,9,1,8,8,8,12,8,8,8,8,8,8,8,10,10,8,9],\"yaxis\":\"y\",\"type\":\"scattergl\"},{\"hovertemplate\":\"scanner=K141<br>errf=%{x}<br>MaxfMinfDiff=%{y}<extra></extra>\",\"legendgroup\":\"K141\",\"marker\":{\"color\":\"#E76BF3\",\"symbol\":\"circle\"},\"mode\":\"markers\",\"name\":\"K141\",\"showlegend\":true,\"x\":[0.1,0.1,0.1,0.1,0.11,0.1,0.1,0.11,0.1,0.1,0.11,0.1,0.1,0.1,0.1,0.1,0.11,0.1,0.1,0.1,0.1,0.1,0.1,0.1,0.1,0.1,0.1,0.1,0.1,0.1,0.1,0.1,0.1,0.1,0.1,0.1,0.1,0.1,0.1,0.1,0.1,0.1,0.1,0.11,0.1,0.1,0.1,0.1,0.1,0.1,0.1,0.1,0.1,0.1,0.1,0.1,0.1,0.1,0.1,0.1,0.1,0.1,0.1,0.1,0.1,0.1,0.1,0.1,0.1,0.1,0.1],\"xaxis\":\"x\",\"y\":[36,34,34,35,38,34,36,38,36,34,38,35,35,35,34,35,38,35,35,35,36,35,36,37,37,35,35,36,35,35,36,36,36,36,34,37,34,34,35,35,34,34,35,38,35,35,35,35,35,37,35,35,36,34,35,34,37,35,35,35,34,37,35,35,34,34,36,35,36,35,35],\"yaxis\":\"y\",\"type\":\"scattergl\"},{\"hovertemplate\":\"scanner=H148<br>errf=%{x}<br>MaxfMinfDiff=%{y}<extra></extra>\",\"legendgroup\":\"H148\",\"marker\":{\"color\":\"#F8766D\",\"symbol\":\"circle\"},\"mode\":\"markers\",\"name\":\"H148\",\"showlegend\":true,\"x\":[0.05,0.05,0.05,0.05,0.06],\"xaxis\":\"x\",\"y\":[19,17,17,19,21],\"yaxis\":\"y\",\"type\":\"scattergl\"},{\"hovertemplate\":\"scanner=H131<br>errf=%{x}<br>MaxfMinfDiff=%{y}<extra></extra>\",\"legendgroup\":\"H131\",\"marker\":{\"color\":\"#A3A500\",\"symbol\":\"circle\"},\"mode\":\"markers\",\"name\":\"H131\",\"showlegend\":true,\"x\":[0.09,0.13,0.13,0.09,0.1],\"xaxis\":\"x\",\"y\":[32,46,46,33,35],\"yaxis\":\"y\",\"type\":\"scattergl\"},{\"hovertemplate\":\"scanner=H132<br>errf=%{x}<br>MaxfMinfDiff=%{y}<extra></extra>\",\"legendgroup\":\"H132\",\"marker\":{\"color\":\"#00BF7D\",\"symbol\":\"circle\"},\"mode\":\"markers\",\"name\":\"H132\",\"showlegend\":true,\"x\":[0.06,0.06,0.05,0.05,0.13],\"xaxis\":\"x\",\"y\":[20,21,19,19,47],\"yaxis\":\"y\",\"type\":\"scattergl\"},{\"hovertemplate\":\"scanner=H134<br>errf=%{x}<br>MaxfMinfDiff=%{y}<extra></extra>\",\"legendgroup\":\"H134\",\"marker\":{\"color\":\"#00B0F6\",\"symbol\":\"circle\"},\"mode\":\"markers\",\"name\":\"H134\",\"showlegend\":true,\"x\":[0.09,0.1,0.09,0.1],\"xaxis\":\"x\",\"y\":[32,35,33,34],\"yaxis\":\"y\",\"type\":\"scattergl\"},{\"hovertemplate\":\"scanner=H133<br>errf=%{x}<br>MaxfMinfDiff=%{y}<extra></extra>\",\"legendgroup\":\"H133\",\"marker\":{\"color\":\"#E76BF3\",\"symbol\":\"circle\"},\"mode\":\"markers\",\"name\":\"H133\",\"showlegend\":true,\"x\":[0.06,0.05,0.05,0.05,0.05],\"xaxis\":\"x\",\"y\":[21,17,17,17,18],\"yaxis\":\"y\",\"type\":\"scattergl\"},{\"hovertemplate\":\"scanner=H135<br>errf=%{x}<br>MaxfMinfDiff=%{y}<extra></extra>\",\"legendgroup\":\"H135\",\"marker\":{\"color\":\"#F8766D\",\"symbol\":\"circle\"},\"mode\":\"markers\",\"name\":\"H135\",\"showlegend\":true,\"x\":[0.08,0.09,0.07,0.07],\"xaxis\":\"x\",\"y\":[28,32,25,24],\"yaxis\":\"y\",\"type\":\"scattergl\"},{\"hovertemplate\":\"scanner=H138<br>errf=%{x}<br>MaxfMinfDiff=%{y}<extra></extra>\",\"legendgroup\":\"H138\",\"marker\":{\"color\":\"#A3A500\",\"symbol\":\"circle\"},\"mode\":\"markers\",\"name\":\"H138\",\"showlegend\":true,\"x\":[0.09,0.05,0.08,0.08],\"xaxis\":\"x\",\"y\":[31,18,30,30],\"yaxis\":\"y\",\"type\":\"scattergl\"},{\"hovertemplate\":\"scanner=H139<br>errf=%{x}<br>MaxfMinfDiff=%{y}<extra></extra>\",\"legendgroup\":\"H139\",\"marker\":{\"color\":\"#00BF7D\",\"symbol\":\"circle\"},\"mode\":\"markers\",\"name\":\"H139\",\"showlegend\":true,\"x\":[0.04,0.07,0.09,0.08],\"xaxis\":\"x\",\"y\":[16,25,31,27],\"yaxis\":\"y\",\"type\":\"scattergl\"},{\"hovertemplate\":\"scanner=H149<br>errf=%{x}<br>MaxfMinfDiff=%{y}<extra></extra>\",\"legendgroup\":\"H149\",\"marker\":{\"color\":\"#00B0F6\",\"symbol\":\"circle\"},\"mode\":\"markers\",\"name\":\"H149\",\"showlegend\":true,\"x\":[0.09,0.09,0.09,0.1,0.13],\"xaxis\":\"x\",\"y\":[33,33,33,35,46],\"yaxis\":\"y\",\"type\":\"scattergl\"},{\"hovertemplate\":\"scanner=K115<br>errf=%{x}<br>MaxfMinfDiff=%{y}<extra></extra>\",\"legendgroup\":\"K115\",\"marker\":{\"color\":\"#E76BF3\",\"symbol\":\"circle\"},\"mode\":\"markers\",\"name\":\"K115\",\"showlegend\":true,\"x\":[0.03,0.03,0.05,0.03,0.03,0.03,0.03,0.03,0.03,0.03,0.03,0.04,0.03,0.05,0.03,0.03,0.04,0.03,0.04,0.03,0.04,0.03,0.06,0.04,0.03,0.03,0.04,0.03,0.03,0.03,0.03,0.07,0.03,0.03,0.04,0.03,0.03,0.03,0.05,0.04,0.04,0.03,0.04,0.03,0.04,0.04,0.04,0.04,0.03,0.04,0.03,0.03,0.03,0.03,0.03,0.03,0.03,0.03,0.03,0.03,0.03,0.04,0.04,0.04,0.03,0.03,0.03,0.03,0.03,0.03,0.03,0.04,0.03,0.03,0.03,0.03,0.03,0.03],\"xaxis\":\"x\",\"y\":[12,11,17,12,12,12,12,12,12,11,12,15,12,16,12,12,13,10,13,12,15,12,22,14,12,11,13,12,12,11,10,25,11,11,13,12,12,11,17,15,13,12,14,11,14,15,13,14,12,13,12,12,11,12,11,11,10,10,10,12,12,13,14,14,12,10,11,12,12,11,12,15,12,12,10,10,10,10],\"yaxis\":\"y\",\"type\":\"scattergl\"},{\"hovertemplate\":\"scanner=H129<br>errf=%{x}<br>MaxfMinfDiff=%{y}<extra></extra>\",\"legendgroup\":\"H129\",\"marker\":{\"color\":\"#F8766D\",\"symbol\":\"circle\"},\"mode\":\"markers\",\"name\":\"H129\",\"showlegend\":true,\"x\":[0.16,0.16,0.16,0.16,0.16,0.16,0.15,0.16,0.17,0.16,0.16,0.16,0.17,0.16,0.14,0.13,0.15,0.14,0.15,0.15,0.15,0.17,0.16,0.15,0.15,0.16,0.14,0.16,0.13,0.15,0.16,0.15,0.14,0.14,0.14,0.15,0.13,0.15,0.15,0.16,0.16,0.16,0.16,0.12,0.12,0.13,0.12,0.11,0.13,0.14,0.13,0.12,0.14,0.12,0.13,0.13,0.13,0.13,0.14,0.11,0.14,0.13,0.12,0.13,0.14,0.13,0.14,0.11],\"xaxis\":\"x\",\"y\":[57,57,57,57,57,57,55,57,61,58,58,58,60,57,51,48,54,50,54,54,53,59,56,54,54,58,51,57,48,52,56,53,50,49,49,55,48,55,54,58,58,56,56,42,42,48,43,40,48,50,48,43,51,43,46,48,48,47,50,41,49,48,44,46,50,48,49,41],\"yaxis\":\"y\",\"type\":\"scattergl\"},{\"hovertemplate\":\"scanner=H130<br>errf=%{x}<br>MaxfMinfDiff=%{y}<extra></extra>\",\"legendgroup\":\"H130\",\"marker\":{\"color\":\"#A3A500\",\"symbol\":\"circle\"},\"mode\":\"markers\",\"name\":\"H130\",\"showlegend\":true,\"x\":[0.1,0.1,0.1,0.1,0.1,0.1,0.1,0.1,0.1,0.1,0.1,0.1,0.1,0.1,0.1,0.1,0.1,0.1,0.1,0.1,0.1,0.1,0.1,0.1,0.1,0.1,0.1,0.1,0.1,0.1,0.1,0.1,0.1,0.1,0.1,0.1,0.1,0.1,0.1,0.1,0.1,0.1,0.1,0.1,0.1,0.1,0.1,0.1,0.1,0.1,0.1,0.1,0.1,0.1,0.1,0.1,0.1,0.1,0.1,0.1,0.1,0.1,0.1,0.1,0.1,0.1,0.1,0.1,0.1,0.1],\"xaxis\":\"x\",\"y\":[34,34,34,34,34,34,34,34,34,34,34,34,34,34,34,34,34,34,34,34,34,34,34,34,34,34,34,34,34,34,34,34,34,34,34,34,34,34,34,34,34,34,34,34,34,34,34,34,34,34,34,34,34,34,34,34,34,34,34,34,34,34,34,34,34,34,34,34,34,34],\"yaxis\":\"y\",\"type\":\"scattergl\"},{\"hovertemplate\":\"scanner=H127<br>errf=%{x}<br>MaxfMinfDiff=%{y}<extra></extra>\",\"legendgroup\":\"H127\",\"marker\":{\"color\":\"#00BF7D\",\"symbol\":\"circle\"},\"mode\":\"markers\",\"name\":\"H127\",\"showlegend\":true,\"x\":[0.07,0.07,0.07,0.07,0.07,0.07,0.07,0.07,0.07,0.07,0.07,0.06,0.07,0.07,0.08,0.08,0.08,0.08,0.07,0.07,0.07,0.07,0.07,0.07,0.07,0.08,0.07,0.06,0.06,0.07,0.07,0.07,0.06,0.07,0.07,0.07,0.07,0.07,0.07,0.06,0.07,0.06,0.06,0.07,0.08,0.07,0.07,0.07,0.07,0.06,0.07,0.07,0.07,0.07,0.06,0.07,0.06,0.07,0.07,0.07,0.07,0.06,0.07,0.06,0.07,0.06,0.06,0.07,0.07,0.07],\"xaxis\":\"x\",\"y\":[26,25,25,26,25,25,26,24,25,26,24,23,25,25,27,28,27,30,24,26,25,25,24,26,25,28,24,23,23,24,26,25,22,26,24,24,24,24,25,23,25,22,22,24,28,24,24,26,24,22,24,24,25,24,23,25,23,26,26,24,24,22,24,23,24,22,23,24,26,26],\"yaxis\":\"y\",\"type\":\"scattergl\"},{\"hovertemplate\":\"scanner=K167<br>errf=%{x}<br>MaxfMinfDiff=%{y}<extra></extra>\",\"legendgroup\":\"K167\",\"marker\":{\"color\":\"#00B0F6\",\"symbol\":\"circle\"},\"mode\":\"markers\",\"name\":\"K167\",\"showlegend\":true,\"x\":[0.07,0.07,0.06,0.06,0.06,0.07,0.07,0.06,0.07,0.06,0.07,0.07,0.06,0.06,0.06,0.06,0.06,0.07,0.06,0.09,0.09,0.09,0.07,0.07,0.07,0.07,0.07,0.08,0.06,0.07,0.07,0.06,0.07,0.07,0.07,0.07,0.07,0.07,0.07,0.07,0.07,0.07,0.07,0.07,0.07,0.07,0.07,0.07,0.07,0.07,0.07,0.07,0.07,0.07,0.07,0.07,0.07,0.07,0.07,0.07,0.07,0.07,0.07,0.07,0.07,0.08,0.08,0.08,0.07,0.07,0.07,0.07],\"xaxis\":\"x\",\"y\":[24,24,22,22,22,24,25,23,24,22,24,24,22,22,22,22,23,26,22,31,31,31,24,24,24,24,24,27,23,24,25,23,26,24,26,26,26,26,25,25,25,25,25,24,25,25,25,25,25,25,25,26,26,26,26,26,26,26,26,26,25,25,26,25,25,27,27,27,24,26,25,24],\"yaxis\":\"y\",\"type\":\"scattergl\"},{\"hovertemplate\":\"scanner=K150<br>errf=%{x}<br>MaxfMinfDiff=%{y}<extra></extra>\",\"legendgroup\":\"K150\",\"marker\":{\"color\":\"#E76BF3\",\"symbol\":\"circle\"},\"mode\":\"markers\",\"name\":\"K150\",\"showlegend\":true,\"x\":[0.03,0.05,0.04,0.04,0.04,0.04,0.04,0.04,0.04,0.04,0.05,0.04,0.04,0.04,0.04,0.04,0.05,0.04,0.05,0.04,0.04,0.04,0.04,0.04,0.04,0.04,0.04,0.04,0.04,0.04,0.04,0.04,0.05,0.04,0.04,0.04,0.04,0.04,0.05,0.04,0.04,0.04,0.05,0.06,0.05,0.05,0.04,0.04,0.04,0.04,0.04,0.04,0.04,0.04,0.04,0.04,0.04,0.04,0.04,0.04,0.04,0.04,0.04,0.04,0.04,0.03,0.03,0.03,0.03,0.04,0.04,0.04],\"xaxis\":\"x\",\"y\":[12,17,13,13,13,14,13,13,16,13,17,16,13,13,13,13,19,14,19,16,16,16,16,16,15,15,15,15,16,15,16,16,18,15,15,15,15,16,18,16,16,16,17,21,19,19,13,14,13,14,14,16,16,16,16,16,14,14,14,14,14,14,14,14,14,12,12,12,12,16,14,15],\"yaxis\":\"y\",\"type\":\"scattergl\"},{\"hovertemplate\":\"scanner=K210<br>errf=%{x}<br>MaxfMinfDiff=%{y}<extra></extra>\",\"legendgroup\":\"K210\",\"marker\":{\"color\":\"#F8766D\",\"symbol\":\"circle\"},\"mode\":\"markers\",\"name\":\"K210\",\"showlegend\":true,\"x\":[0.03,0.03,0.03,0.03,0.03,0.04,0.04,0.03,0.03,0.03,0.03,0.03,0.04,0.06,0.04,0.03,0.03,0.03,0.04,0.03,0.03,0.03,0.03,0.03,0.03,0.03,0.03,0.03,0.03,0.03,0.04,0.03,0.03,0.03,0.03,0.03,0.03,0.03,0.03,0.02,0.03,0.03,0.03,0.04,0.03,0.03,0.03,0.03,0.03,0.03,0.03,0.03,0.03,0.03,0.03,0.04,0.03,0.03,0.03,0.04,0.04,0.03,0.03,0.03,0.03],\"xaxis\":\"x\",\"y\":[11,11,10,12,9,15,14,9,9,11,11,9,16,20,13,12,12,12,14,10,11,11,10,10,10,10,11,11,9,9,13,9,9,9,11,11,9,9,12,8,11,11,11,13,10,10,9,9,9,10,9,10,9,9,9,14,9,9,10,13,13,12,10,10,11],\"yaxis\":\"y\",\"type\":\"scattergl\"},{\"hovertemplate\":\"scanner=K209<br>errf=%{x}<br>MaxfMinfDiff=%{y}<extra></extra>\",\"legendgroup\":\"K209\",\"marker\":{\"color\":\"#A3A500\",\"symbol\":\"circle\"},\"mode\":\"markers\",\"name\":\"K209\",\"showlegend\":true,\"x\":[0.03,0.03,0.03,0.03,0.05,0.06,0.03,0.05,0.03,0.04,0.04,0.04,0.06,0.04,0.04,0.08,0.08,0.04,0.03,0.04,0.04,0.04,0.04,0.04,0.04,0.04,0.04,0.05,0.05,0.04,0.04,0.04,0.04,0.03,0.04,0.04,0.04,0.03,0.03,0.05,0.05,0.03,0.04,0.03,0.03,0.04,0.03,0.03,0.03,0.03,0.03,0.03,0.04,0.04,0.04,0.03,0.03,0.03,0.04,0.04,0.03],\"xaxis\":\"x\",\"y\":[10,12,12,12,16,22,11,19,12,13,13,13,22,13,13,29,29,15,12,15,15,15,15,15,15,14,14,17,17,15,13,13,13,12,13,13,13,12,11,18,18,11,15,12,12,15,12,12,12,12,12,11,13,14,14,12,12,11,14,14,11],\"yaxis\":\"y\",\"type\":\"scattergl\"},{\"hovertemplate\":\"scanner=K149<br>errf=%{x}<br>MaxfMinfDiff=%{y}<extra></extra>\",\"legendgroup\":\"K149\",\"marker\":{\"color\":\"#00BF7D\",\"symbol\":\"circle\"},\"mode\":\"markers\",\"name\":\"K149\",\"showlegend\":true,\"x\":[0.06,0.06,0.07,0.07,0.07,0.07,0.07,0.06,0.06,0.06,0.08,0.06,0.06,0.06,0.06,0.06,0.07,0.06,0.06,0.07,0.07,0.07,0.07,0.07,0.07,0.07,0.07,0.06,0.06,0.07,0.06,0.06,0.06,0.06,0.06,0.06,0.06,0.06,0.06,0.06,0.06,0.06,0.06,0.06,0.06,0.06,0.06,0.06,0.06,0.06,0.06,0.06,0.06,0.06,0.06,0.06,0.06,0.06,0.06,0.06,0.06,0.06,0.06,0.06,0.06,0.06,0.06,0.06,0.06,0.06,0.06,0.07],\"xaxis\":\"x\",\"y\":[22,22,25,24,24,25,25,23,23,23,27,22,23,23,23,23,24,23,23,25,25,25,25,25,25,25,25,23,23,24,22,22,21,21,22,22,22,22,23,23,22,23,22,23,22,22,23,23,23,23,23,23,23,23,23,23,23,23,23,23,23,23,23,23,22,22,21,21,21,23,23,24],\"yaxis\":\"y\",\"type\":\"scattergl\"},{\"hovertemplate\":\"scanner=K120<br>errf=%{x}<br>MaxfMinfDiff=%{y}<extra></extra>\",\"legendgroup\":\"K120\",\"marker\":{\"color\":\"#00B0F6\",\"symbol\":\"circle\"},\"mode\":\"markers\",\"name\":\"K120\",\"showlegend\":true,\"x\":[0.04,0.04,0.04,0.04,0.05,0.04,0.04,0.04,0.04,0.04,0.04,0.04,0.04,0.04,0.04,0.04,0.05,0.04,0.04,0.04,0.04,0.04,0.04,0.05,0.04,0.04,0.04,0.04,0.04,0.04,0.05,0.04,0.05,0.04,0.04,0.04,0.05,0.05,0.04,0.05,0.04,0.05,0.04,0.04,0.04,0.04,0.05,0.05,0.04,0.05,0.04,0.04,0.04,0.05,0.06,0.04,0.05,0.04,0.05,0.05,0.04,0.04,0.04,0.05,0.04],\"xaxis\":\"x\",\"y\":[14,15,15,15,17,15,14,15,14,14,15,15,15,14,15,15,17,15,15,14,14,14,15,16,14,15,15,15,14,15,17,14,16,15,14,15,16,19,15,16,14,17,15,14,14,15,16,16,14,16,15,15,15,17,20,15,16,15,16,16,15,15,15,16,15],\"yaxis\":\"y\",\"type\":\"scattergl\"},{\"hovertemplate\":\"scanner=H150<br>errf=%{x}<br>MaxfMinfDiff=%{y}<extra></extra>\",\"legendgroup\":\"H150\",\"marker\":{\"color\":\"#E76BF3\",\"symbol\":\"circle\"},\"mode\":\"markers\",\"name\":\"H150\",\"showlegend\":true,\"x\":[0.07,0.1,0.1,0.08,0.07],\"xaxis\":\"x\",\"y\":[26,37,37,29,25],\"yaxis\":\"y\",\"type\":\"scattergl\"},{\"hovertemplate\":\"scanner=K121<br>errf=%{x}<br>MaxfMinfDiff=%{y}<extra></extra>\",\"legendgroup\":\"K121\",\"marker\":{\"color\":\"#F8766D\",\"symbol\":\"circle\"},\"mode\":\"markers\",\"name\":\"K121\",\"showlegend\":true,\"x\":[0.06,0.06,0.05,0.06,0.06,0.06,0.06,0.06,0.06,0.05,0.06,0.05,0.05,0.06,0.05,0.06,0.06,0.04,0.06,0.05,0.06,0.05,0.05,0.05,0.05,0.05,0.05,0.05,0.05,0.05,0.05,0.05,0.05,0.05,0.05,0.05,0.05,0.05,0.05,0.05,0.05,0.05,0.05,0.05,0.05,0.05,0.05,0.05,0.06,0.04,0.06,0.05,0.05,0.05,0.05,0.05,0.05,0.04,0.05,0.04,0.04,0.04,0.05,0.05,0.05,0.05,0.05,0.05,0.06,0.05,0.05,0.05,0.05,0.05,0.05,0.05],\"xaxis\":\"x\",\"y\":[21,20,17,20,20,20,20,20,20,19,20,17,17,20,18,20,20,16,22,17,20,17,18,18,17,19,19,18,19,19,19,17,17,17,18,18,18,17,17,17,17,18,18,18,17,18,17,17,20,16,21,19,19,18,17,19,17,16,17,16,16,16,19,18,17,17,17,18,22,17,18,17,17,19,19,19],\"yaxis\":\"y\",\"type\":\"scattergl\"},{\"hovertemplate\":\"scanner=K168<br>errf=%{x}<br>MaxfMinfDiff=%{y}<extra></extra>\",\"legendgroup\":\"K168\",\"marker\":{\"color\":\"#A3A500\",\"symbol\":\"circle\"},\"mode\":\"markers\",\"name\":\"K168\",\"showlegend\":true,\"x\":[0.08,0.08,0.08,0.08,0.08,0.08,0.08,0.08,0.08,0.08,0.08,0.09,0.08,0.09,0.08,0.08,0.08,0.08,0.08,0.08,0.08,0.08,0.08,0.08,0.08,0.08,0.08,0.08,0.08,0.08,0.08,0.08,0.08,0.08,0.08,0.08,0.07,0.08,0.07,0.08,0.08,0.08,0.08,0.08,0.08,0.08,0.08,0.08,0.08,0.08,0.08,0.08,0.08,0.09,0.08,0.08,0.08,0.08,0.08,0.08,0.08,0.07,0.08,0.06,0.06,0.07,0.08,0.06,0.07,0.06,0.07,0.07,0.07,0.07,0.07],\"xaxis\":\"x\",\"y\":[28,27,28,27,27,27,27,27,27,28,27,32,30,31,27,27,27,28,29,29,30,27,28,29,27,27,28,27,28,29,27,28,30,27,28,30,26,27,26,30,27,27,27,28,28,27,28,27,27,28,27,27,27,31,27,27,28,28,29,27,27,26,27,23,23,26,27,23,24,23,24,25,26,24,24],\"yaxis\":\"y\",\"type\":\"scattergl\"},{\"hovertemplate\":\"scanner=K114<br>errf=%{x}<br>MaxfMinfDiff=%{y}<extra></extra>\",\"legendgroup\":\"K114\",\"marker\":{\"color\":\"#00BF7D\",\"symbol\":\"circle\"},\"mode\":\"markers\",\"name\":\"K114\",\"showlegend\":true,\"x\":[0.06,0.06,0.06,0.06,0.06,0.06,0.06,0.06,0.06,0.06,0.06,0.06,0.06,0.06,0.06,0.06,0.06,0.06,0.06,0.08,0.06,0.08,0.06,0.07,0.06,0.06,0.06,0.06,0.06,0.06,0.08,0.06,0.06,0.06,0.06,0.06,0.05,0.07,0.06,0.06,0.06,0.06,0.06,0.06,0.06,0.06,0.06,0.06,0.06,0.05,0.06,0.06,0.06,0.06,0.06,0.06,0.06,0.06,0.06,0.06,0.06,0.06,0.06,0.06,0.06,0.06,0.06,0.06,0.06,0.06,0.06,0.06,0.06,0.06,0.06,0.06,0.06],\"xaxis\":\"x\",\"y\":[22,22,21,21,21,21,21,21,21,20,20,21,20,21,21,21,21,22,22,28,21,29,21,25,20,20,22,21,21,21,28,20,20,21,20,21,19,26,21,22,22,20,20,23,21,20,20,20,20,19,21,23,22,20,20,21,20,22,21,22,20,21,21,20,22,21,20,21,20,22,21,20,20,22,20,20,20],\"yaxis\":\"y\",\"type\":\"scattergl\"},{\"hovertemplate\":\"scanner=K171<br>errf=%{x}<br>MaxfMinfDiff=%{y}<extra></extra>\",\"legendgroup\":\"K171\",\"marker\":{\"color\":\"#00B0F6\",\"symbol\":\"circle\"},\"mode\":\"markers\",\"name\":\"K171\",\"showlegend\":true,\"x\":[0.07,0.07,0.07,0.07,0.07,0.07,0.07,0.07,0.07,0.07,0.06,0.07,0.07,0.07,0.07,0.07,0.07,0.06,0.06,0.07,0.07,0.06,0.07,0.07,0.06,0.07,0.06,0.07,0.06,0.07,0.07,0.08,0.08,0.06,0.06,0.07,0.07,0.07,0.07,0.07,0.07,0.07,0.06,0.07,0.09,0.09,0.07,0.07,0.07,0.07,0.07,0.07,0.07,0.06,0.07,0.08,0.07,0.07,0.07,0.07,0.07,0.07,0.07,0.07,0.07,0.07,0.07,0.08,0.06,0.07,0.08,0.08,0.08],\"xaxis\":\"x\",\"y\":[25,25,24,24,24,24,24,24,24,24,23,26,24,24,24,24,25,23,23,25,25,23,26,24,23,25,23,25,23,25,24,28,28,23,23,24,24,24,25,24,26,24,23,26,33,33,25,26,25,26,24,24,24,23,26,27,25,25,25,25,25,25,25,25,26,24,25,29,23,25,27,27,27],\"yaxis\":\"y\",\"type\":\"scattergl\"},{\"hovertemplate\":\"scanner=H171<br>errf=%{x}<br>MaxfMinfDiff=%{y}<extra></extra>\",\"legendgroup\":\"H171\",\"marker\":{\"color\":\"#E76BF3\",\"symbol\":\"circle\"},\"mode\":\"markers\",\"name\":\"H171\",\"showlegend\":true,\"x\":[0.12,0.12,0.09,0.09,0.14,0.12,0.1,0.11,0.18,0.15,0.11,0.08,0.11,0.06,0.11,0.11,0.12,0.15,0.11,0.13,0.13,0.13,0.1,0.12,0.14,0.15,0.12,0.12,0.05,0.1,0.06,0.08,0.15,0.1,0.08,0.11,0.15,0.06,0.08,0.1,0.14,0.1,0.09,0.05,0.06,0.1,0.08,0.11,0.06,0.08,0.07,0.15,0.06,0.08],\"xaxis\":\"x\",\"y\":[43,44,32,32,51,43,36,39,66,53,41,30,38,21,40,41,42,53,40,47,47,48,36,42,51,52,42,42,19,36,23,30,52,34,27,39,54,22,30,37,50,36,32,19,23,36,29,40,22,27,25,52,20,28],\"yaxis\":\"y\",\"type\":\"scattergl\"},{\"hovertemplate\":\"scanner=K147<br>errf=%{x}<br>MaxfMinfDiff=%{y}<extra></extra>\",\"legendgroup\":\"K147\",\"marker\":{\"color\":\"#F8766D\",\"symbol\":\"circle\"},\"mode\":\"markers\",\"name\":\"K147\",\"showlegend\":true,\"x\":[0.03,0.04,0.04,0.03,0.03,0.03,0.03,0.03,0.03,0.03,0.03,0.03,0.03,0.03,0.03,0.03,0.03,0.03,0.03,0.03,0.03,0.03,0.03,0.03,0.03,0.04,0.03,0.03,0.03,0.03,0.03,0.03,0.03,0.03,0.03,0.03,0.03,0.03,0.03,0.03,0.04,0.03,0.04,0.03,0.03,0.03,0.03,0.03,0.03,0.03,0.03,0.06,0.06,0.06,0.06,0.06,0.03,0.03,0.03,0.03,0.03,0.03,0.03,0.03,0.03,0.03,0.03,0.03,0.03,0.03,0.03,0.04],\"xaxis\":\"x\",\"y\":[12,13,13,11,12,12,10,11,11,11,11,10,9,9,9,9,12,12,11,10,10,10,10,10,11,13,10,11,10,11,11,10,9,12,10,10,10,11,10,10,13,10,13,10,12,12,12,12,12,12,12,21,21,21,21,21,11,11,11,11,11,11,12,11,11,11,12,12,12,12,12,14],\"yaxis\":\"y\",\"type\":\"scattergl\"},{\"hovertemplate\":\"scanner=K172<br>errf=%{x}<br>MaxfMinfDiff=%{y}<extra></extra>\",\"legendgroup\":\"K172\",\"marker\":{\"color\":\"#A3A500\",\"symbol\":\"circle\"},\"mode\":\"markers\",\"name\":\"K172\",\"showlegend\":true,\"x\":[0.05,0.05,0.05,0.05,0.05,0.05,0.06,0.05,0.05,0.05,0.05,0.05,0.06,0.05,0.05,0.06,0.05,0.05,0.07,0.06,0.07,0.05,0.05,0.05,0.05,0.05,0.06,0.06,0.05,0.05,0.05,0.05,0.05,0.05,0.05,0.05,0.05,0.05,0.05,0.05,0.05,0.05,0.06,0.05,0.05,0.05,0.05,0.05,0.05,0.05,0.05,0.05,0.05,0.05,0.05,0.05,0.05,0.05,0.05,0.05,0.05,0.05,0.05,0.05,0.06],\"xaxis\":\"x\",\"y\":[18,18,18,19,19,17,20,19,19,19,19,18,21,19,18,22,18,18,24,20,26,18,19,17,17,17,22,22,19,19,17,18,18,18,18,18,17,17,19,18,18,18,20,18,19,19,19,17,17,18,17,18,19,19,18,18,17,18,17,19,19,19,19,19,20],\"yaxis\":\"y\",\"type\":\"scattergl\"},{\"hovertemplate\":\"scanner=K173<br>errf=%{x}<br>MaxfMinfDiff=%{y}<extra></extra>\",\"legendgroup\":\"K173\",\"marker\":{\"color\":\"#00BF7D\",\"symbol\":\"circle\"},\"mode\":\"markers\",\"name\":\"K173\",\"showlegend\":true,\"x\":[0.08,0.08,0.08,0.11,0.08,0.08,0.08,0.07,0.07,0.07,0.08,0.08,0.08,0.08,0.08,0.08,0.08,0.08,0.08,0.08,0.08,0.08,0.07,0.07,0.07,0.08,0.08,0.08,0.07,0.08,0.08,0.08,0.08,0.08,0.08,0.08,0.08,0.08,0.08,0.08,0.08,0.08,0.07,0.07,0.07,0.07,0.07,0.08,0.08,0.08,0.08,0.08,0.09,0.09,0.09,0.09,0.08,0.08,0.08,0.08,0.08,0.07,0.08,0.08,0.08,0.08,0.07,0.08],\"xaxis\":\"x\",\"y\":[28,28,28,41,27,27,29,26,26,26,29,27,27,27,27,27,28,28,29,28,28,28,26,26,26,28,28,30,26,27,27,28,27,27,28,28,28,27,28,28,28,28,26,26,26,26,26,28,28,28,28,28,31,31,31,31,27,27,30,27,30,26,27,27,27,27,26,28],\"yaxis\":\"y\",\"type\":\"scattergl\"},{\"hovertemplate\":\"scanner=K208<br>errf=%{x}<br>MaxfMinfDiff=%{y}<extra></extra>\",\"legendgroup\":\"K208\",\"marker\":{\"color\":\"#00B0F6\",\"symbol\":\"circle\"},\"mode\":\"markers\",\"name\":\"K208\",\"showlegend\":true,\"x\":[0.02,0.03,0.02,0.03,0.03,0.02,0.03,0.02,0.02,0.02,0.02,0.03,0.03,0.03,0.02,0.02,0.02,0.06,0.03,0.03,0.03,0.04,0.04,0.03,0.03,0.03,0.03,0.03,0.03,0.03,0.03,0.03,0.03,0.03,0.02,0.04,0.04,0.02,0.02,0.03,0.03,0.02,0.02,0.02,0.02,0.02,0.02,0.02,0.04,0.03,0.02,0.02,0.03,0.02,0.02,0.02,0.02,0.03,0.03,0.03],\"xaxis\":\"x\",\"y\":[8,12,7,11,12,7,10,7,6,7,8,11,11,12,7,7,6,22,9,9,9,13,13,11,11,10,11,11,11,9,10,9,11,9,7,16,16,7,8,9,9,8,8,8,8,8,8,8,15,10,8,7,9,8,8,8,7,11,11,9],\"yaxis\":\"y\",\"type\":\"scattergl\"},{\"hovertemplate\":\"scanner=K218<br>errf=%{x}<br>MaxfMinfDiff=%{y}<extra></extra>\",\"legendgroup\":\"K218\",\"marker\":{\"color\":\"#E76BF3\",\"symbol\":\"circle\"},\"mode\":\"markers\",\"name\":\"K218\",\"showlegend\":true,\"x\":[0.01,0.01,0.01,0.01,0.01,0.01,0.01,0.01,0.02,0.02,0.02,0.01,0.01,0.01,0.01,0.01,0.01,0.01,0.01,0.01,0.01,0.01,0.01,0.01,0.0,0.01,0.01,0.01,0.01,0.01,0.02,0.01,0.01,0.01,0.01,0.01,0.01,0.01],\"xaxis\":\"x\",\"y\":[3,4,2,3,3,4,2,5,7,6,6,5,5,5,5,5,5,5,5,5,4,5,5,4,1,4,3,4,5,4,6,4,4,4,4,5,4,4],\"yaxis\":\"y\",\"type\":\"scattergl\"},{\"hovertemplate\":\"scanner=H169<br>errf=%{x}<br>MaxfMinfDiff=%{y}<extra></extra>\",\"legendgroup\":\"H169\",\"marker\":{\"color\":\"#F8766D\",\"symbol\":\"circle\"},\"mode\":\"markers\",\"name\":\"H169\",\"showlegend\":true,\"x\":[0.24,0.11],\"xaxis\":\"x\",\"y\":[86,41],\"yaxis\":\"y\",\"type\":\"scattergl\"},{\"hovertemplate\":\"scanner=H170<br>errf=%{x}<br>MaxfMinfDiff=%{y}<extra></extra>\",\"legendgroup\":\"H170\",\"marker\":{\"color\":\"#A3A500\",\"symbol\":\"circle\"},\"mode\":\"markers\",\"name\":\"H170\",\"showlegend\":true,\"x\":[0.21,0.21],\"xaxis\":\"x\",\"y\":[76,74],\"yaxis\":\"y\",\"type\":\"scattergl\"},{\"hovertemplate\":\"scanner=H172<br>errf=%{x}<br>MaxfMinfDiff=%{y}<extra></extra>\",\"legendgroup\":\"H172\",\"marker\":{\"color\":\"#00BF7D\",\"symbol\":\"circle\"},\"mode\":\"markers\",\"name\":\"H172\",\"showlegend\":true,\"x\":[0.11,0.17],\"xaxis\":\"x\",\"y\":[40,61],\"yaxis\":\"y\",\"type\":\"scattergl\"},{\"hovertemplate\":\"scanner=H168<br>errf=%{x}<br>MaxfMinfDiff=%{y}<extra></extra>\",\"legendgroup\":\"H168\",\"marker\":{\"color\":\"#00B0F6\",\"symbol\":\"circle\"},\"mode\":\"markers\",\"name\":\"H168\",\"showlegend\":true,\"x\":[0.15,0.09],\"xaxis\":\"x\",\"y\":[53,31],\"yaxis\":\"y\",\"type\":\"scattergl\"},{\"hovertemplate\":\"scanner=K112<br>errf=%{x}<br>MaxfMinfDiff=%{y}<extra></extra>\",\"legendgroup\":\"K112\",\"marker\":{\"color\":\"#E76BF3\",\"symbol\":\"circle\"},\"mode\":\"markers\",\"name\":\"K112\",\"showlegend\":true,\"x\":[0.05,0.05,0.05,0.06,0.05,0.05,0.05],\"xaxis\":\"x\",\"y\":[18,19,19,20,19,18,19],\"yaxis\":\"y\",\"type\":\"scattergl\"},{\"hovertemplate\":\"scanner=K113<br>errf=%{x}<br>MaxfMinfDiff=%{y}<extra></extra>\",\"legendgroup\":\"K113\",\"marker\":{\"color\":\"#F8766D\",\"symbol\":\"circle\"},\"mode\":\"markers\",\"name\":\"K113\",\"showlegend\":true,\"x\":[0.05,0.05,0.05,0.06,0.05,0.05,0.06,0.06],\"xaxis\":\"x\",\"y\":[19,18,18,20,18,19,20,21],\"yaxis\":\"y\",\"type\":\"scattergl\"},{\"hovertemplate\":\"scanner=H143<br>errf=%{x}<br>MaxfMinfDiff=%{y}<extra></extra>\",\"legendgroup\":\"H143\",\"marker\":{\"color\":\"#A3A500\",\"symbol\":\"circle\"},\"mode\":\"markers\",\"name\":\"H143\",\"showlegend\":true,\"x\":[0.1,0.1,0.1,0.1,0.1,0.1],\"xaxis\":\"x\",\"y\":[34,34,34,34,34,34],\"yaxis\":\"y\",\"type\":\"scattergl\"},{\"hovertemplate\":\"scanner=H142<br>errf=%{x}<br>MaxfMinfDiff=%{y}<extra></extra>\",\"legendgroup\":\"H142\",\"marker\":{\"color\":\"#00BF7D\",\"symbol\":\"circle\"},\"mode\":\"markers\",\"name\":\"H142\",\"showlegend\":true,\"x\":[0.22,0.23,0.23,0.24,0.18,0.22],\"xaxis\":\"x\",\"y\":[77,82,81,86,66,80],\"yaxis\":\"y\",\"type\":\"scattergl\"},{\"hovertemplate\":\"scanner=H147<br>errf=%{x}<br>MaxfMinfDiff=%{y}<extra></extra>\",\"legendgroup\":\"H147\",\"marker\":{\"color\":\"#00B0F6\",\"symbol\":\"circle\"},\"mode\":\"markers\",\"name\":\"H147\",\"showlegend\":true,\"x\":[0.16,0.21,0.23,0.2,0.15,0.2],\"xaxis\":\"x\",\"y\":[57,75,83,70,53,70],\"yaxis\":\"y\",\"type\":\"scattergl\"},{\"hovertemplate\":\"scanner=H151<br>errf=%{x}<br>MaxfMinfDiff=%{y}<extra></extra>\",\"legendgroup\":\"H151\",\"marker\":{\"color\":\"#E76BF3\",\"symbol\":\"circle\"},\"mode\":\"markers\",\"name\":\"H151\",\"showlegend\":true,\"x\":[0.1,0.14,0.12,0.15,0.15,0.13],\"xaxis\":\"x\",\"y\":[36,49,42,55,55,47],\"yaxis\":\"y\",\"type\":\"scattergl\"},{\"hovertemplate\":\"scanner=H152<br>errf=%{x}<br>MaxfMinfDiff=%{y}<extra></extra>\",\"legendgroup\":\"H152\",\"marker\":{\"color\":\"#F8766D\",\"symbol\":\"circle\"},\"mode\":\"markers\",\"name\":\"H152\",\"showlegend\":true,\"x\":[0.27,0.34,0.16,0.19,0.31,0.21],\"xaxis\":\"x\",\"y\":[96,121,57,69,111,76],\"yaxis\":\"y\",\"type\":\"scattergl\"},{\"hovertemplate\":\"scanner=H154<br>errf=%{x}<br>MaxfMinfDiff=%{y}<extra></extra>\",\"legendgroup\":\"H154\",\"marker\":{\"color\":\"#A3A500\",\"symbol\":\"circle\"},\"mode\":\"markers\",\"name\":\"H154\",\"showlegend\":true,\"x\":[0.19,0.13,0.17,0.17,0.11,0.18],\"xaxis\":\"x\",\"y\":[69,48,60,62,40,63],\"yaxis\":\"y\",\"type\":\"scattergl\"},{\"hovertemplate\":\"scanner=H155<br>errf=%{x}<br>MaxfMinfDiff=%{y}<extra></extra>\",\"legendgroup\":\"H155\",\"marker\":{\"color\":\"#00BF7D\",\"symbol\":\"circle\"},\"mode\":\"markers\",\"name\":\"H155\",\"showlegend\":true,\"x\":[0.17,0.13,0.12,0.2,0.12,0.17],\"xaxis\":\"x\",\"y\":[59,45,44,72,44,59],\"yaxis\":\"y\",\"type\":\"scattergl\"},{\"hovertemplate\":\"scanner=H156<br>errf=%{x}<br>MaxfMinfDiff=%{y}<extra></extra>\",\"legendgroup\":\"H156\",\"marker\":{\"color\":\"#00B0F6\",\"symbol\":\"circle\"},\"mode\":\"markers\",\"name\":\"H156\",\"showlegend\":true,\"x\":[0.14,0.15,0.14,0.16,0.12,0.15],\"xaxis\":\"x\",\"y\":[50,52,50,58,44,54],\"yaxis\":\"y\",\"type\":\"scattergl\"},{\"hovertemplate\":\"scanner=H157<br>errf=%{x}<br>MaxfMinfDiff=%{y}<extra></extra>\",\"legendgroup\":\"H157\",\"marker\":{\"color\":\"#E76BF3\",\"symbol\":\"circle\"},\"mode\":\"markers\",\"name\":\"H157\",\"showlegend\":true,\"x\":[0.12,0.2,0.18,0.13,0.16,0.16],\"xaxis\":\"x\",\"y\":[43,71,65,48,57,57],\"yaxis\":\"y\",\"type\":\"scattergl\"},{\"hovertemplate\":\"scanner=H153<br>errf=%{x}<br>MaxfMinfDiff=%{y}<extra></extra>\",\"legendgroup\":\"H153\",\"marker\":{\"color\":\"#F8766D\",\"symbol\":\"circle\"},\"mode\":\"markers\",\"name\":\"H153\",\"showlegend\":true,\"x\":[0.18,0.15,1.36,0.17,0.17,0.14],\"xaxis\":\"x\",\"y\":[63,53,623,59,61,51],\"yaxis\":\"y\",\"type\":\"scattergl\"},{\"hovertemplate\":\"scanner=H166<br>errf=%{x}<br>MaxfMinfDiff=%{y}<extra></extra>\",\"legendgroup\":\"H166\",\"marker\":{\"color\":\"#A3A500\",\"symbol\":\"circle\"},\"mode\":\"markers\",\"name\":\"H166\",\"showlegend\":true,\"x\":[0.06,0.04,0.04,0.05,0.06,0.05,0.04,0.04,0.06,0.05,0.04,0.04,0.04,0.04],\"xaxis\":\"x\",\"y\":[22,15,15,19,22,17,16,15,22,17,14,15,14,16],\"yaxis\":\"y\",\"type\":\"scattergl\"},{\"hovertemplate\":\"scanner=H167<br>errf=%{x}<br>MaxfMinfDiff=%{y}<extra></extra>\",\"legendgroup\":\"H167\",\"marker\":{\"color\":\"#00BF7D\",\"symbol\":\"circle\"},\"mode\":\"markers\",\"name\":\"H167\",\"showlegend\":true,\"x\":[0.12,0.13,0.13,0.12,0.13,0.12,0.13,0.12,0.13,0.13,0.12,0.13,0.12,0.13,0.13,0.12,0.12,0.13,0.13,0.12,0.13,0.13],\"xaxis\":\"x\",\"y\":[43,47,46,43,48,43,46,42,47,46,44,46,44,46,47,43,44,47,45,44,45,46],\"yaxis\":\"y\",\"type\":\"scattergl\"},{\"hovertemplate\":\"scanner=H165<br>errf=%{x}<br>MaxfMinfDiff=%{y}<extra></extra>\",\"legendgroup\":\"H165\",\"marker\":{\"color\":\"#00B0F6\",\"symbol\":\"circle\"},\"mode\":\"markers\",\"name\":\"H165\",\"showlegend\":true,\"x\":[0.06,0.08,0.07,0.06,0.06,0.05,0.07,0.09,0.06,0.05,0.08,0.07,0.06,0.08,0.06,0.06,0.08,0.08,0.08,0.07,0.08,0.07],\"xaxis\":\"x\",\"y\":[21,28,26,23,23,19,24,31,21,19,27,25,23,28,20,20,27,27,29,24,27,26],\"yaxis\":\"y\",\"type\":\"scattergl\"}],                        {\"template\":{\"data\":{\"barpolar\":[{\"marker\":{\"line\":{\"color\":\"rgb(237,237,237)\",\"width\":0.5},\"pattern\":{\"fillmode\":\"overlay\",\"size\":10,\"solidity\":0.2}},\"type\":\"barpolar\"}],\"bar\":[{\"error_x\":{\"color\":\"rgb(51,51,51)\"},\"error_y\":{\"color\":\"rgb(51,51,51)\"},\"marker\":{\"line\":{\"color\":\"rgb(237,237,237)\",\"width\":0.5},\"pattern\":{\"fillmode\":\"overlay\",\"size\":10,\"solidity\":0.2}},\"type\":\"bar\"}],\"carpet\":[{\"aaxis\":{\"endlinecolor\":\"rgb(51,51,51)\",\"gridcolor\":\"white\",\"linecolor\":\"white\",\"minorgridcolor\":\"white\",\"startlinecolor\":\"rgb(51,51,51)\"},\"baxis\":{\"endlinecolor\":\"rgb(51,51,51)\",\"gridcolor\":\"white\",\"linecolor\":\"white\",\"minorgridcolor\":\"white\",\"startlinecolor\":\"rgb(51,51,51)\"},\"type\":\"carpet\"}],\"choropleth\":[{\"colorbar\":{\"outlinewidth\":0,\"tickcolor\":\"rgb(237,237,237)\",\"ticklen\":6,\"ticks\":\"inside\"},\"type\":\"choropleth\"}],\"contourcarpet\":[{\"colorbar\":{\"outlinewidth\":0,\"tickcolor\":\"rgb(237,237,237)\",\"ticklen\":6,\"ticks\":\"inside\"},\"type\":\"contourcarpet\"}],\"contour\":[{\"colorbar\":{\"outlinewidth\":0,\"tickcolor\":\"rgb(237,237,237)\",\"ticklen\":6,\"ticks\":\"inside\"},\"colorscale\":[[0,\"rgb(20,44,66)\"],[1,\"rgb(90,179,244)\"]],\"type\":\"contour\"}],\"heatmapgl\":[{\"colorbar\":{\"outlinewidth\":0,\"tickcolor\":\"rgb(237,237,237)\",\"ticklen\":6,\"ticks\":\"inside\"},\"colorscale\":[[0,\"rgb(20,44,66)\"],[1,\"rgb(90,179,244)\"]],\"type\":\"heatmapgl\"}],\"heatmap\":[{\"colorbar\":{\"outlinewidth\":0,\"tickcolor\":\"rgb(237,237,237)\",\"ticklen\":6,\"ticks\":\"inside\"},\"colorscale\":[[0,\"rgb(20,44,66)\"],[1,\"rgb(90,179,244)\"]],\"type\":\"heatmap\"}],\"histogram2dcontour\":[{\"colorbar\":{\"outlinewidth\":0,\"tickcolor\":\"rgb(237,237,237)\",\"ticklen\":6,\"ticks\":\"inside\"},\"colorscale\":[[0,\"rgb(20,44,66)\"],[1,\"rgb(90,179,244)\"]],\"type\":\"histogram2dcontour\"}],\"histogram2d\":[{\"colorbar\":{\"outlinewidth\":0,\"tickcolor\":\"rgb(237,237,237)\",\"ticklen\":6,\"ticks\":\"inside\"},\"colorscale\":[[0,\"rgb(20,44,66)\"],[1,\"rgb(90,179,244)\"]],\"type\":\"histogram2d\"}],\"histogram\":[{\"marker\":{\"pattern\":{\"fillmode\":\"overlay\",\"size\":10,\"solidity\":0.2}},\"type\":\"histogram\"}],\"mesh3d\":[{\"colorbar\":{\"outlinewidth\":0,\"tickcolor\":\"rgb(237,237,237)\",\"ticklen\":6,\"ticks\":\"inside\"},\"type\":\"mesh3d\"}],\"parcoords\":[{\"line\":{\"colorbar\":{\"outlinewidth\":0,\"tickcolor\":\"rgb(237,237,237)\",\"ticklen\":6,\"ticks\":\"inside\"}},\"type\":\"parcoords\"}],\"pie\":[{\"automargin\":true,\"type\":\"pie\"}],\"scatter3d\":[{\"line\":{\"colorbar\":{\"outlinewidth\":0,\"tickcolor\":\"rgb(237,237,237)\",\"ticklen\":6,\"ticks\":\"inside\"}},\"marker\":{\"colorbar\":{\"outlinewidth\":0,\"tickcolor\":\"rgb(237,237,237)\",\"ticklen\":6,\"ticks\":\"inside\"}},\"type\":\"scatter3d\"}],\"scattercarpet\":[{\"marker\":{\"colorbar\":{\"outlinewidth\":0,\"tickcolor\":\"rgb(237,237,237)\",\"ticklen\":6,\"ticks\":\"inside\"}},\"type\":\"scattercarpet\"}],\"scattergeo\":[{\"marker\":{\"colorbar\":{\"outlinewidth\":0,\"tickcolor\":\"rgb(237,237,237)\",\"ticklen\":6,\"ticks\":\"inside\"}},\"type\":\"scattergeo\"}],\"scattergl\":[{\"marker\":{\"colorbar\":{\"outlinewidth\":0,\"tickcolor\":\"rgb(237,237,237)\",\"ticklen\":6,\"ticks\":\"inside\"}},\"type\":\"scattergl\"}],\"scattermapbox\":[{\"marker\":{\"colorbar\":{\"outlinewidth\":0,\"tickcolor\":\"rgb(237,237,237)\",\"ticklen\":6,\"ticks\":\"inside\"}},\"type\":\"scattermapbox\"}],\"scatterpolargl\":[{\"marker\":{\"colorbar\":{\"outlinewidth\":0,\"tickcolor\":\"rgb(237,237,237)\",\"ticklen\":6,\"ticks\":\"inside\"}},\"type\":\"scatterpolargl\"}],\"scatterpolar\":[{\"marker\":{\"colorbar\":{\"outlinewidth\":0,\"tickcolor\":\"rgb(237,237,237)\",\"ticklen\":6,\"ticks\":\"inside\"}},\"type\":\"scatterpolar\"}],\"scatter\":[{\"marker\":{\"colorbar\":{\"outlinewidth\":0,\"tickcolor\":\"rgb(237,237,237)\",\"ticklen\":6,\"ticks\":\"inside\"}},\"type\":\"scatter\"}],\"scatterternary\":[{\"marker\":{\"colorbar\":{\"outlinewidth\":0,\"tickcolor\":\"rgb(237,237,237)\",\"ticklen\":6,\"ticks\":\"inside\"}},\"type\":\"scatterternary\"}],\"surface\":[{\"colorbar\":{\"outlinewidth\":0,\"tickcolor\":\"rgb(237,237,237)\",\"ticklen\":6,\"ticks\":\"inside\"},\"colorscale\":[[0,\"rgb(20,44,66)\"],[1,\"rgb(90,179,244)\"]],\"type\":\"surface\"}],\"table\":[{\"cells\":{\"fill\":{\"color\":\"rgb(237,237,237)\"},\"line\":{\"color\":\"white\"}},\"header\":{\"fill\":{\"color\":\"rgb(217,217,217)\"},\"line\":{\"color\":\"white\"}},\"type\":\"table\"}]},\"layout\":{\"annotationdefaults\":{\"arrowhead\":0,\"arrowwidth\":1},\"autotypenumbers\":\"strict\",\"coloraxis\":{\"colorbar\":{\"outlinewidth\":0,\"tickcolor\":\"rgb(237,237,237)\",\"ticklen\":6,\"ticks\":\"inside\"}},\"colorscale\":{\"sequential\":[[0,\"rgb(20,44,66)\"],[1,\"rgb(90,179,244)\"]],\"sequentialminus\":[[0,\"rgb(20,44,66)\"],[1,\"rgb(90,179,244)\"]]},\"colorway\":[\"#F8766D\",\"#A3A500\",\"#00BF7D\",\"#00B0F6\",\"#E76BF3\"],\"font\":{\"color\":\"rgb(51,51,51)\"},\"geo\":{\"bgcolor\":\"white\",\"lakecolor\":\"white\",\"landcolor\":\"rgb(237,237,237)\",\"showlakes\":true,\"showland\":true,\"subunitcolor\":\"white\"},\"hoverlabel\":{\"align\":\"left\"},\"hovermode\":\"closest\",\"paper_bgcolor\":\"white\",\"plot_bgcolor\":\"rgb(237,237,237)\",\"polar\":{\"angularaxis\":{\"gridcolor\":\"white\",\"linecolor\":\"white\",\"showgrid\":true,\"tickcolor\":\"rgb(51,51,51)\",\"ticks\":\"outside\"},\"bgcolor\":\"rgb(237,237,237)\",\"radialaxis\":{\"gridcolor\":\"white\",\"linecolor\":\"white\",\"showgrid\":true,\"tickcolor\":\"rgb(51,51,51)\",\"ticks\":\"outside\"}},\"scene\":{\"xaxis\":{\"backgroundcolor\":\"rgb(237,237,237)\",\"gridcolor\":\"white\",\"gridwidth\":2,\"linecolor\":\"white\",\"showbackground\":true,\"showgrid\":true,\"tickcolor\":\"rgb(51,51,51)\",\"ticks\":\"outside\",\"zerolinecolor\":\"white\"},\"yaxis\":{\"backgroundcolor\":\"rgb(237,237,237)\",\"gridcolor\":\"white\",\"gridwidth\":2,\"linecolor\":\"white\",\"showbackground\":true,\"showgrid\":true,\"tickcolor\":\"rgb(51,51,51)\",\"ticks\":\"outside\",\"zerolinecolor\":\"white\"},\"zaxis\":{\"backgroundcolor\":\"rgb(237,237,237)\",\"gridcolor\":\"white\",\"gridwidth\":2,\"linecolor\":\"white\",\"showbackground\":true,\"showgrid\":true,\"tickcolor\":\"rgb(51,51,51)\",\"ticks\":\"outside\",\"zerolinecolor\":\"white\"}},\"shapedefaults\":{\"fillcolor\":\"black\",\"line\":{\"width\":0},\"opacity\":0.3},\"ternary\":{\"aaxis\":{\"gridcolor\":\"white\",\"linecolor\":\"white\",\"showgrid\":true,\"tickcolor\":\"rgb(51,51,51)\",\"ticks\":\"outside\"},\"baxis\":{\"gridcolor\":\"white\",\"linecolor\":\"white\",\"showgrid\":true,\"tickcolor\":\"rgb(51,51,51)\",\"ticks\":\"outside\"},\"bgcolor\":\"rgb(237,237,237)\",\"caxis\":{\"gridcolor\":\"white\",\"linecolor\":\"white\",\"showgrid\":true,\"tickcolor\":\"rgb(51,51,51)\",\"ticks\":\"outside\"}},\"xaxis\":{\"automargin\":true,\"gridcolor\":\"white\",\"linecolor\":\"white\",\"showgrid\":true,\"tickcolor\":\"rgb(51,51,51)\",\"ticks\":\"outside\",\"title\":{\"standoff\":15},\"zerolinecolor\":\"white\"},\"yaxis\":{\"automargin\":true,\"gridcolor\":\"white\",\"linecolor\":\"white\",\"showgrid\":true,\"tickcolor\":\"rgb(51,51,51)\",\"ticks\":\"outside\",\"title\":{\"standoff\":15},\"zerolinecolor\":\"white\"}}},\"xaxis\":{\"anchor\":\"y\",\"domain\":[0.0,1.0],\"title\":{\"text\":\"errf\"}},\"yaxis\":{\"anchor\":\"x\",\"domain\":[0.0,1.0],\"title\":{\"text\":\"MaxfMinfDiff\"}},\"legend\":{\"title\":{\"text\":\"scanner\"},\"tracegroupgap\":0},\"title\":{\"text\":\"errf vs MaxfMinfdiff\"},\"height\":400,\"width\":700},                        {\"responsive\": true}                    ).then(function(){\n",
              "                            \n",
              "var gd = document.getElementById('414a91c1-ac7d-4f17-8e83-0f16ee7af20f');\n",
              "var x = new MutationObserver(function (mutations, observer) {{\n",
              "        var display = window.getComputedStyle(gd).display;\n",
              "        if (!display || display === 'none') {{\n",
              "            console.log([gd, 'removed!']);\n",
              "            Plotly.purge(gd);\n",
              "            observer.disconnect();\n",
              "        }}\n",
              "}});\n",
              "\n",
              "// Listen for the removal of the full notebook cells\n",
              "var notebookContainer = gd.closest('#notebook-container');\n",
              "if (notebookContainer) {{\n",
              "    x.observe(notebookContainer, {childList: true});\n",
              "}}\n",
              "\n",
              "// Listen for the clearing of the current output cell\n",
              "var outputEl = gd.closest('.output');\n",
              "if (outputEl) {{\n",
              "    x.observe(outputEl, {childList: true});\n",
              "}}\n",
              "\n",
              "                        })                };                            </script>        </div>\n",
              "</body>\n",
              "</html>"
            ]
          },
          "metadata": {}
        }
      ]
    },
    {
      "cell_type": "code",
      "source": [
        "print(df[['MaxMinDiff', 'err']].corr(),'\\n')\n",
        "print(df[['MaxfMinfDiff', 'errf']].corr())"
      ],
      "metadata": {
        "colab": {
          "base_uri": "https://localhost:8080/"
        },
        "id": "Y80SJr44-6GY",
        "outputId": "4077dc2b-4265-459a-ff05-9560385c977f"
      },
      "execution_count": null,
      "outputs": [
        {
          "output_type": "stream",
          "name": "stdout",
          "text": [
            "            MaxMinDiff       err\n",
            "MaxMinDiff    1.000000  0.945239\n",
            "err           0.945239  1.000000 \n",
            "\n",
            "              MaxfMinfDiff      errf\n",
            "MaxfMinfDiff      1.000000  0.999725\n",
            "errf              0.999725  1.000000\n"
          ]
        }
      ]
    },
    {
      "cell_type": "markdown",
      "source": [
        "**So we can clearly say that err and errf are highly correlated with the MaxMindiff and MaxfMinfdiff values.**"
      ],
      "metadata": {
        "id": "mLTBYIG9LcsP"
      }
    },
    {
      "cell_type": "markdown",
      "source": [
        "**Err and Errf values are dependent on Max min difference of their respective parameters.**\n",
        "\n",
        "\n",
        "*   Err value goes beyond 12% after approximate MaxMinDiff threshold value of 4283, which is failure of the device.\n",
        "*    Errf value goes beyond 0.5% after approximate MaxMinDiff threshold value of 200, which is failure of the device.\n",
        "\n"
      ],
      "metadata": {
        "id": "X8h_1b52M8dR"
      }
    },
    {
      "cell_type": "code",
      "source": [
        "## Adding 'Failure' column which will be our output column & categorized failed and non-failed data as 2 and 1\n",
        "\n",
        "df['Failure'] = np.where((df['err'] >= 12.0) | (df['errf'] >=0.5),2, 1)\n",
        "\n",
        "df.Failure.unique()"
      ],
      "metadata": {
        "colab": {
          "base_uri": "https://localhost:8080/"
        },
        "id": "0yVZsgitLbfz",
        "outputId": "310c815b-4d9f-4a7c-8221-f3554b1717df"
      },
      "execution_count": null,
      "outputs": [
        {
          "output_type": "execute_result",
          "data": {
            "text/plain": [
              "array([1, 2])"
            ]
          },
          "metadata": {},
          "execution_count": 172
        }
      ]
    },
    {
      "cell_type": "code",
      "source": [
        "df['Failure'].value_counts()"
      ],
      "metadata": {
        "colab": {
          "base_uri": "https://localhost:8080/"
        },
        "id": "U82lb_sR1tfj",
        "outputId": "9d196db1-55d5-443f-ddab-5bd91e6c48c7"
      },
      "execution_count": null,
      "outputs": [
        {
          "output_type": "execute_result",
          "data": {
            "text/plain": [
              "1    2591\n",
              "2      12\n",
              "Name: Failure, dtype: int64"
            ]
          },
          "metadata": {},
          "execution_count": 173
        }
      ]
    },
    {
      "cell_type": "markdown",
      "source": [
        "**Above here, we can see our Failure data is imbalanced. In the dataset, we have only 12 rows which has failure scanner data value available. That means we have data of very less amount of scanners' failure compared to the rest of the dataset. But this is the nature of the data. We should deal with this kind of data for further analysis.**"
      ],
      "metadata": {
        "id": "8xfbY9UYNCxw"
      }
    },
    {
      "cell_type": "code",
      "source": [
        "df.columns"
      ],
      "metadata": {
        "colab": {
          "base_uri": "https://localhost:8080/"
        },
        "id": "bcpRYXOlNxgg",
        "outputId": "9048047d-fd81-49e7-a267-90b7efbf3542"
      },
      "execution_count": null,
      "outputs": [
        {
          "output_type": "execute_result",
          "data": {
            "text/plain": [
              "Index(['scanner', 'min', 'max', 'err', 'pixels', 'minf', 'maxf', 'errf',\n",
              "       'updated_at', 'MaxMinDiff', 'MaxfMinfDiff', 'Failure'],\n",
              "      dtype='object')"
            ]
          },
          "metadata": {},
          "execution_count": 174
        }
      ]
    },
    {
      "cell_type": "code",
      "source": [
        "df_copy = df.drop(['scanner','updated_at'],axis =1)"
      ],
      "metadata": {
        "id": "TmGbB7cfNylv"
      },
      "execution_count": null,
      "outputs": []
    },
    {
      "cell_type": "code",
      "source": [
        "fig, axs = plt.subplots(ncols=2, nrows=5, figsize=(20, 20))\n",
        "index = 0\n",
        "axs = axs.flatten()\n",
        "for k,v in df_copy.items():\n",
        "    sns.boxplot(y=k, data=df_copy, ax=axs[index])\n",
        "    index += 1\n",
        "plt.tight_layout(pad=0.4, w_pad=0.5, h_pad=5.0)"
      ],
      "metadata": {
        "colab": {
          "base_uri": "https://localhost:8080/",
          "height": 1000
        },
        "id": "PBMlveA6Nyow",
        "outputId": "f6c0fc00-1568-4931-e62e-b8e7975ad6f8"
      },
      "execution_count": null,
      "outputs": [
        {
          "output_type": "display_data",
          "data": {
            "text/plain": [
              "<Figure size 1440x1440 with 10 Axes>"
            ],
            "image/png": "[encoded data removed]"
          },
          "metadata": {
            "needs_background": "light"
          }
        }
      ]
    },
    {
      "cell_type": "markdown",
      "source": [
        "**NOTE: We can see that may columns data are not distributed properly, and they have many outliers, but we should not handle these outliers as they are failure cases and they are natural in this data.**"
      ],
      "metadata": {
        "id": "_c384o9wQOqw"
      }
    },
    {
      "cell_type": "code",
      "source": [
        "df_copy.columns"
      ],
      "metadata": {
        "colab": {
          "base_uri": "https://localhost:8080/"
        },
        "id": "ESiCX28bNysA",
        "outputId": "f2bcd4eb-8cae-499b-b8d3-dde792c776f5"
      },
      "execution_count": null,
      "outputs": [
        {
          "output_type": "execute_result",
          "data": {
            "text/plain": [
              "Index(['min', 'max', 'err', 'pixels', 'minf', 'maxf', 'errf', 'MaxMinDiff',\n",
              "       'MaxfMinfDiff', 'Failure'],\n",
              "      dtype='object')"
            ]
          },
          "metadata": {},
          "execution_count": 177
        }
      ]
    },
    {
      "cell_type": "markdown",
      "source": [
        "**Now, let's see the relationship between Pixels and Failure data**"
      ],
      "metadata": {
        "id": "HjyYwqLfRIqX"
      }
    },
    {
      "cell_type": "code",
      "source": [
        "scat3 = px.scatter(df, x = 'pixels', y = 'Failure', color = 'scanner',\n",
        "                  template = 'plotly_dark', title= 'pixels vs Failure', width=700, height=400)\n",
        "scat3.show()"
      ],
      "metadata": {
        "colab": {
          "base_uri": "https://localhost:8080/",
          "height": 417
        },
        "id": "mb2UcLa6Nyuu",
        "outputId": "ef6916be-bae6-4a5a-9d7e-8c574dae47b7"
      },
      "execution_count": null,
      "outputs": [
        {
          "output_type": "display_data",
          "data": {
            "text/html": [
              "<html>\n",
              "<head><meta charset=\"utf-8\" /></head>\n",
              "<body>\n",
              "    <div>            <script src=\"https://cdnjs.cloudflare.com/ajax/libs/mathjax/2.7.5/MathJax.js?config=TeX-AMS-MML_SVG\"></script><script type=\"text/javascript\">if (window.MathJax) {MathJax.Hub.Config({SVG: {font: \"STIX-Web\"}});}</script>                <script type=\"text/javascript\">window.PlotlyConfig = {MathJaxConfig: 'local'};</script>\n",
              "        <script src=\"https://cdn.plot.ly/plotly-2.8.3.min.js\"></script>                <div id=\"654ce7db-f573-49b3-85d4-f1a574b811fb\" class=\"plotly-graph-div\" style=\"height:400px; width:700px;\"></div>            <script type=\"text/javascript\">                                    window.PLOTLYENV=window.PLOTLYENV || {};                                    if (document.getElementById(\"654ce7db-f573-49b3-85d4-f1a574b811fb\")) {                    Plotly.newPlot(                        \"654ce7db-f573-49b3-85d4-f1a574b811fb\",                        [{\"hovertemplate\":\"scanner=K219<br>pixels=%{x}<br>Failure=%{y}<extra></extra>\",\"legendgroup\":\"K219\",\"marker\":{\"color\":\"#636efa\",\"symbol\":\"circle\"},\"mode\":\"markers\",\"name\":\"K219\",\"showlegend\":true,\"x\":[6,11,10,6,8,6,6,6,6,6,6,6,6,6,8,8,7,7,8,8,8,8,7,7,5,4,5,5,6,5,5,8,7,7,6,5,5,5],\"xaxis\":\"x\",\"y\":[1,1,1,1,1,1,1,1,1,1,1,1,1,1,1,1,1,1,1,1,1,1,1,1,1,1,1,1,1,1,1,1,1,1,1,1,1,1],\"yaxis\":\"y\",\"type\":\"scattergl\"},{\"hovertemplate\":\"scanner=H161<br>pixels=%{x}<br>Failure=%{y}<extra></extra>\",\"legendgroup\":\"H161\",\"marker\":{\"color\":\"#EF553B\",\"symbol\":\"circle\"},\"mode\":\"markers\",\"name\":\"H161\",\"showlegend\":true,\"x\":[14,15,12,22,22,39,42,18,20,24,8,15,17,18,21,19,7,8,13,13,14,15,8,10,11,13,17,19,24,24,32,32,35,35,36,37,37,16,19,22,24,25,28,30,34,7,7,8,9,10,11,7,22,26,26,28,9,11,14,15,8,8,9,9,8,11,13,14],\"xaxis\":\"x\",\"y\":[1,1,1,1,1,1,1,1,2,1,1,1,1,1,1,1,1,1,1,1,1,1,1,1,1,1,1,1,1,1,1,1,1,1,1,1,1,1,1,1,1,1,1,1,1,1,1,1,1,1,1,1,1,1,1,1,1,1,1,1,1,1,1,1,1,1,1,1],\"yaxis\":\"y\",\"type\":\"scattergl\"},{\"hovertemplate\":\"scanner=K211<br>pixels=%{x}<br>Failure=%{y}<extra></extra>\",\"legendgroup\":\"K211\",\"marker\":{\"color\":\"#00cc96\",\"symbol\":\"circle\"},\"mode\":\"markers\",\"name\":\"K211\",\"showlegend\":true,\"x\":[43,43,43,56,58,60,63],\"xaxis\":\"x\",\"y\":[1,1,1,1,1,1,1],\"yaxis\":\"y\",\"type\":\"scattergl\"},{\"hovertemplate\":\"scanner=K212<br>pixels=%{x}<br>Failure=%{y}<extra></extra>\",\"legendgroup\":\"K212\",\"marker\":{\"color\":\"#ab63fa\",\"symbol\":\"circle\"},\"mode\":\"markers\",\"name\":\"K212\",\"showlegend\":true,\"x\":[61,61,61,30,30,33,37],\"xaxis\":\"x\",\"y\":[1,1,1,1,1,1,1],\"yaxis\":\"y\",\"type\":\"scattergl\"},{\"hovertemplate\":\"scanner=K220<br>pixels=%{x}<br>Failure=%{y}<extra></extra>\",\"legendgroup\":\"K220\",\"marker\":{\"color\":\"#FFA15A\",\"symbol\":\"circle\"},\"mode\":\"markers\",\"name\":\"K220\",\"showlegend\":true,\"x\":[11,11,8,6,11,6,5,5,5,5,7,9,11,10,6,5,9,5,7,11,11,9,9,10,11,10,12,10,11,10,10,10,10,9],\"xaxis\":\"x\",\"y\":[1,1,1,1,1,1,1,1,1,1,1,1,1,1,1,1,1,1,1,1,1,1,1,1,1,1,1,1,1,1,1,1,1,1],\"yaxis\":\"y\",\"type\":\"scattergl\"},{\"hovertemplate\":\"scanner=K221<br>pixels=%{x}<br>Failure=%{y}<extra></extra>\",\"legendgroup\":\"K221\",\"marker\":{\"color\":\"#19d3f3\",\"symbol\":\"circle\"},\"mode\":\"markers\",\"name\":\"K221\",\"showlegend\":true,\"x\":[5,6,5,3,3,3,3,3,3,3,3,4,5,5,3,3,3,3,3,4,3,3,3,3,4,3,5,5,5,5,5,5,5,3],\"xaxis\":\"x\",\"y\":[1,1,1,1,1,1,1,1,1,1,1,1,1,1,1,1,1,1,1,1,1,1,1,1,1,1,1,1,1,1,1,1,1,1],\"yaxis\":\"y\",\"type\":\"scattergl\"},{\"hovertemplate\":\"scanner=K169<br>pixels=%{x}<br>Failure=%{y}<extra></extra>\",\"legendgroup\":\"K169\",\"marker\":{\"color\":\"#FF6692\",\"symbol\":\"circle\"},\"mode\":\"markers\",\"name\":\"K169\",\"showlegend\":true,\"x\":[51,33,59,59,65,67,47,59,59,59,45,47,47,48,52,37,47,49,38,42,46,49,49,49,54,33,33,34,34,38,39,40,45,30,34,39,40,37,39,40,30,30,33,36,37,39,39,41,42,44,32,33,38,38,41,28,40,40,32,34,38,41,42,44,33,34,34,37,30,46,49],\"xaxis\":\"x\",\"y\":[1,1,1,1,1,1,1,1,1,1,1,1,1,1,1,1,1,1,1,1,1,1,1,1,1,1,1,1,1,1,1,1,1,1,1,1,1,1,1,1,1,1,1,1,1,1,1,1,1,1,1,1,1,1,1,1,1,1,1,1,1,1,1,1,1,1,1,1,1,1,1],\"yaxis\":\"y\",\"type\":\"scattergl\"},{\"hovertemplate\":\"scanner=H162<br>pixels=%{x}<br>Failure=%{y}<extra></extra>\",\"legendgroup\":\"H162\",\"marker\":{\"color\":\"#B6E880\",\"symbol\":\"circle\"},\"mode\":\"markers\",\"name\":\"H162\",\"showlegend\":true,\"x\":[39,41,26,32,36,43,46,47,52,42,20,24,26,29,45,32,47,21,28,28,29,33,37,37,25,27,28,28,29,29,30,30,23,23,23,25,28,22,28,30,31,36,39,41,18,31,32,33,35,38,22,24,35,35,35,23,21,23,28,31,45,23,23,23,27,22,26,27],\"xaxis\":\"x\",\"y\":[1,1,1,1,2,1,1,1,1,1,1,1,1,1,1,1,1,1,1,1,1,1,1,1,1,1,1,1,1,1,1,1,1,1,1,1,1,1,1,1,1,1,1,1,1,1,1,1,1,1,1,1,1,1,1,1,1,1,1,1,1,1,1,1,1,1,1,1],\"yaxis\":\"y\",\"type\":\"scattergl\"},{\"hovertemplate\":\"scanner=K238<br>pixels=%{x}<br>Failure=%{y}<extra></extra>\",\"legendgroup\":\"K238\",\"marker\":{\"color\":\"#FF97FF\",\"symbol\":\"circle\"},\"mode\":\"markers\",\"name\":\"K238\",\"showlegend\":true,\"x\":[6,6,6,6,6,6,6,6,6,6,6,6,7,7,7,7,7,6,5,6,6,6,6,6,6,6,6,6,6,6,6,6,5,6,5,5,6,6,5,6,6,6,6,6,6,6,6,6,6,6,6,6,6,6,6,6,6,6,6,6,6,6,6,6,4,4,6,5],\"xaxis\":\"x\",\"y\":[1,1,1,1,1,1,1,1,1,1,1,1,1,1,1,1,1,1,1,1,1,1,1,1,1,1,1,1,1,1,1,1,1,1,1,1,1,1,1,1,1,1,1,1,1,1,1,1,1,1,1,1,1,1,1,1,1,1,1,1,1,1,1,1,1,1,1,1],\"yaxis\":\"y\",\"type\":\"scattergl\"},{\"hovertemplate\":\"scanner=K250<br>pixels=%{x}<br>Failure=%{y}<extra></extra>\",\"legendgroup\":\"K250\",\"marker\":{\"color\":\"#FECB52\",\"symbol\":\"circle\"},\"mode\":\"markers\",\"name\":\"K250\",\"showlegend\":true,\"x\":[17,17,17,17,17,17,17,17,17,17,17,17,17,17,17,17,17,16,17,17,17,17,17,17,17,18,18,18,18,17,19,19,18,18,19,20,19,18,19,18,19,19,19,19,19,19,19,19,20,19,25,25,25,26,27,23,23,25,26,24,32,32,25,24],\"xaxis\":\"x\",\"y\":[1,1,1,1,1,1,2,1,1,1,1,1,1,1,1,1,1,1,1,1,1,1,1,1,1,1,1,1,1,1,1,1,1,1,1,1,1,1,1,1,1,1,1,1,1,1,1,1,1,1,1,1,1,1,1,1,1,1,1,1,1,1,1,1],\"yaxis\":\"y\",\"type\":\"scattergl\"},{\"hovertemplate\":\"scanner=K237<br>pixels=%{x}<br>Failure=%{y}<extra></extra>\",\"legendgroup\":\"K237\",\"marker\":{\"color\":\"#636efa\",\"symbol\":\"circle\"},\"mode\":\"markers\",\"name\":\"K237\",\"showlegend\":true,\"x\":[11,11,12,11,11,13,13,12,12,11,13,13,12,12,12,12,12,11,10,12,12,12,11,11,11,12,11,11,11,11,13,11,12,11,11,12,12,11,11,11,11,12,11,11,11,11,11,11,11,11,11,11,11,11,11,14,9,9,11,11],\"xaxis\":\"x\",\"y\":[1,1,1,1,1,1,1,1,1,1,1,1,1,1,1,1,1,1,1,1,1,1,1,1,1,1,1,1,1,1,1,1,1,1,1,1,1,1,1,1,1,1,1,1,1,1,1,1,1,1,1,1,1,1,1,1,1,1,1,1],\"yaxis\":\"y\",\"type\":\"scattergl\"},{\"hovertemplate\":\"scanner=H173<br>pixels=%{x}<br>Failure=%{y}<extra></extra>\",\"legendgroup\":\"H173\",\"marker\":{\"color\":\"#EF553B\",\"symbol\":\"circle\"},\"mode\":\"markers\",\"name\":\"H173\",\"showlegend\":true,\"x\":[11,13,15,20,11,27,28,28,11,15,13,15,15,17,17,19,19,20,21,21,22,23,23,23,23,24,24,8,19,24,24,26,28,38,41,43,45,65,72,8,21,22,28,29,40,44,44,50,51,7,12,14,14],\"xaxis\":\"x\",\"y\":[1,1,1,1,1,1,1,1,1,1,1,1,1,1,1,1,1,1,1,1,1,1,1,1,1,1,1,1,1,1,1,1,1,1,1,1,1,1,1,1,1,1,1,1,1,1,1,1,1,1,1,1,1],\"yaxis\":\"y\",\"type\":\"scattergl\"},{\"hovertemplate\":\"scanner=H175<br>pixels=%{x}<br>Failure=%{y}<extra></extra>\",\"legendgroup\":\"H175\",\"marker\":{\"color\":\"#00cc96\",\"symbol\":\"circle\"},\"mode\":\"markers\",\"name\":\"H175\",\"showlegend\":true,\"x\":[50,54,56,66,69,53,54,56,40,46,46,46,46,47,47,53,58,58,58,58,58,61,62,64,65,67,70,70,73,73,73,74,74,75,43,50,53,58,64,66,66,68,70,78,78,79,79,80,83,83,84,86,88,47],\"xaxis\":\"x\",\"y\":[1,1,1,1,1,1,1,1,1,1,1,1,1,1,1,1,1,1,1,1,1,1,1,1,1,1,1,1,1,1,1,1,1,1,1,1,1,1,1,1,1,1,1,1,1,1,1,1,1,1,1,1,1,1],\"yaxis\":\"y\",\"type\":\"scattergl\"},{\"hovertemplate\":\"scanner=H177<br>pixels=%{x}<br>Failure=%{y}<extra></extra>\",\"legendgroup\":\"H177\",\"marker\":{\"color\":\"#ab63fa\",\"symbol\":\"circle\"},\"mode\":\"markers\",\"name\":\"H177\",\"showlegend\":true,\"x\":[42,32,31,37,31,31,32,37,37,39,30,31,31,32,39,44,44,45,23,29,29,29,30,31,32,21,30,30,31,31,32,34,35,37,39,39,40,30,63,66,66,68,72,72,74,74,74,75,78,78,25,31,41,46],\"xaxis\":\"x\",\"y\":[1,1,1,1,1,1,1,1,1,1,1,1,1,1,1,1,1,1,1,1,1,1,1,1,1,1,1,1,1,1,1,1,1,1,1,1,1,1,1,1,1,1,1,1,1,1,1,1,1,1,1,1,1,1],\"yaxis\":\"y\",\"type\":\"scattergl\"},{\"hovertemplate\":\"scanner=H176<br>pixels=%{x}<br>Failure=%{y}<extra></extra>\",\"legendgroup\":\"H176\",\"marker\":{\"color\":\"#FFA15A\",\"symbol\":\"circle\"},\"mode\":\"markers\",\"name\":\"H176\",\"showlegend\":true,\"x\":[25,29,29,30,26,16,16,16,17,12,16,18,19,20,20,23,25,26,27,27,27,28,28,28,29,37,38,39,43,52,11,18,18,18,21,21,25,27,22,22,22,24,25,26,32,33,35,36,38,44,56,57,61,64],\"xaxis\":\"x\",\"y\":[1,1,1,1,1,1,1,1,1,1,1,1,1,1,1,1,1,1,1,1,1,1,1,1,1,1,1,1,1,1,1,1,1,1,1,1,1,1,1,1,1,1,1,1,1,1,1,1,1,1,1,1,1,1],\"yaxis\":\"y\",\"type\":\"scattergl\"},{\"hovertemplate\":\"scanner=H174<br>pixels=%{x}<br>Failure=%{y}<extra></extra>\",\"legendgroup\":\"H174\",\"marker\":{\"color\":\"#19d3f3\",\"symbol\":\"circle\"},\"mode\":\"markers\",\"name\":\"H174\",\"showlegend\":true,\"x\":[39,39,39,40,43,54,54,55,47,47,50,50,62,64,36,39,31,37,40,41,41,41,44,46,46,49,51,51,53,34,34,34,34,34,39,39,40,41,40,40,42,43,49,49,34,35,35,42,48,50,32,36,36,36],\"xaxis\":\"x\",\"y\":[1,1,1,1,1,1,1,1,1,1,1,1,1,1,1,1,1,1,1,1,1,1,1,1,1,1,1,1,1,1,1,1,1,1,1,1,1,1,1,1,1,1,1,1,1,1,1,1,1,1,1,1,1,1],\"yaxis\":\"y\",\"type\":\"scattergl\"},{\"hovertemplate\":\"scanner=H128<br>pixels=%{x}<br>Failure=%{y}<extra></extra>\",\"legendgroup\":\"H128\",\"marker\":{\"color\":\"#FF6692\",\"symbol\":\"circle\"},\"mode\":\"markers\",\"name\":\"H128\",\"showlegend\":true,\"x\":[119,119,119,121,119,119,119,130,130,131,132,134,138,119,138,139,139,139,141,141,143,146,146,146,146,146,149,151,152,153,153,153,154,156,157,158,158,159,160,160,164,164,164,166,166,175,175,175,175,175,175,175,175,175,175,175,175,175,22,24,24,25,26,28,8,10,13,13,14,15],\"xaxis\":\"x\",\"y\":[1,1,1,1,1,1,1,1,1,1,1,1,1,1,1,1,1,1,1,1,1,1,1,1,1,1,1,1,1,1,1,1,1,1,1,1,1,1,1,1,1,1,1,1,1,1,1,1,1,1,1,1,1,1,1,1,1,1,1,1,1,1,1,1,1,1,1,1,1,1],\"yaxis\":\"y\",\"type\":\"scattergl\"},{\"hovertemplate\":\"scanner=H163<br>pixels=%{x}<br>Failure=%{y}<extra></extra>\",\"legendgroup\":\"H163\",\"marker\":{\"color\":\"#B6E880\",\"symbol\":\"circle\"},\"mode\":\"markers\",\"name\":\"H163\",\"showlegend\":true,\"x\":[58,59,59,59,65,71,71,43,48,59,55,60,61,66,38,39,52,54,55,55,57,57,42,47,47,49,51,51,53,54,57,57,51,52,53,54,45,46,47,48,49,44,45,41,47,52,53,56,61,61,61,53,57,57,57,57,58,61,45,50,50,54,58,49,56,62,69,69],\"xaxis\":\"x\",\"y\":[1,1,1,2,1,1,1,1,1,1,1,1,1,1,1,1,1,1,1,1,1,1,1,1,1,1,1,1,1,1,1,1,1,1,1,1,1,1,1,1,1,1,1,1,1,1,1,1,1,1,1,1,1,1,1,1,1,1,1,1,1,1,1,1,1,1,1,1],\"yaxis\":\"y\",\"type\":\"scattergl\"},{\"hovertemplate\":\"scanner=K239<br>pixels=%{x}<br>Failure=%{y}<extra></extra>\",\"legendgroup\":\"K239\",\"marker\":{\"color\":\"#FF97FF\",\"symbol\":\"circle\"},\"mode\":\"markers\",\"name\":\"K239\",\"showlegend\":true,\"x\":[21,21,21,20,21,20,22,22,22,21,21,22,21,21,21,21,21,21,17,21,18,18,18,19,21,21,21,20,20,20,18,20,20,20,18,18,21,21,20,20,21,19,21,19,22,20,20,21,19,21,21,21,20,19,19,19,20,22,20,20,21,20,19,21,17,17,19,20],\"xaxis\":\"x\",\"y\":[1,1,1,1,1,1,1,1,1,1,1,1,1,1,1,1,1,1,1,1,1,1,1,1,1,1,1,1,1,1,1,1,1,1,1,1,1,1,1,1,1,1,1,1,1,1,1,1,1,1,1,1,1,1,1,1,1,1,1,1,1,1,1,1,1,1,1,1],\"yaxis\":\"y\",\"type\":\"scattergl\"},{\"hovertemplate\":\"scanner=K141<br>pixels=%{x}<br>Failure=%{y}<extra></extra>\",\"legendgroup\":\"K141\",\"marker\":{\"color\":\"#FECB52\",\"symbol\":\"circle\"},\"mode\":\"markers\",\"name\":\"K141\",\"showlegend\":true,\"x\":[44,32,34,41,42,43,38,34,41,43,28,29,32,32,33,29,29,31,32,33,35,27,29,30,32,33,33,33,35,37,39,40,42,43,45,49,50,26,27,27,30,34,35,41,42,43,43,44,50,50,33,35,35,57,44,44,60,60,28,29,32,32,32,29,34,35,36,38,35,42,49],\"xaxis\":\"x\",\"y\":[1,1,1,1,1,1,1,1,1,1,1,1,1,1,1,1,1,1,1,1,1,1,1,1,1,1,1,1,1,1,1,1,1,1,1,1,1,1,1,1,1,1,1,1,1,1,1,1,1,1,1,1,1,1,1,1,1,1,1,1,1,1,1,1,1,1,1,1,1,1,1],\"yaxis\":\"y\",\"type\":\"scattergl\"},{\"hovertemplate\":\"scanner=H148<br>pixels=%{x}<br>Failure=%{y}<extra></extra>\",\"legendgroup\":\"H148\",\"marker\":{\"color\":\"#636efa\",\"symbol\":\"circle\"},\"mode\":\"markers\",\"name\":\"H148\",\"showlegend\":true,\"x\":[19,27,27,21,57],\"xaxis\":\"x\",\"y\":[1,1,1,1,1],\"yaxis\":\"y\",\"type\":\"scattergl\"},{\"hovertemplate\":\"scanner=H131<br>pixels=%{x}<br>Failure=%{y}<extra></extra>\",\"legendgroup\":\"H131\",\"marker\":{\"color\":\"#EF553B\",\"symbol\":\"circle\"},\"mode\":\"markers\",\"name\":\"H131\",\"showlegend\":true,\"x\":[29,29,29,32,9],\"xaxis\":\"x\",\"y\":[1,1,1,1,1],\"yaxis\":\"y\",\"type\":\"scattergl\"},{\"hovertemplate\":\"scanner=H132<br>pixels=%{x}<br>Failure=%{y}<extra></extra>\",\"legendgroup\":\"H132\",\"marker\":{\"color\":\"#00cc96\",\"symbol\":\"circle\"},\"mode\":\"markers\",\"name\":\"H132\",\"showlegend\":true,\"x\":[49,43,49,49,41],\"xaxis\":\"x\",\"y\":[1,1,1,1,1],\"yaxis\":\"y\",\"type\":\"scattergl\"},{\"hovertemplate\":\"scanner=H134<br>pixels=%{x}<br>Failure=%{y}<extra></extra>\",\"legendgroup\":\"H134\",\"marker\":{\"color\":\"#ab63fa\",\"symbol\":\"circle\"},\"mode\":\"markers\",\"name\":\"H134\",\"showlegend\":true,\"x\":[59,61,46,47],\"xaxis\":\"x\",\"y\":[1,1,1,1],\"yaxis\":\"y\",\"type\":\"scattergl\"},{\"hovertemplate\":\"scanner=H133<br>pixels=%{x}<br>Failure=%{y}<extra></extra>\",\"legendgroup\":\"H133\",\"marker\":{\"color\":\"#FFA15A\",\"symbol\":\"circle\"},\"mode\":\"markers\",\"name\":\"H133\",\"showlegend\":true,\"x\":[76,77,77,91,63],\"xaxis\":\"x\",\"y\":[1,1,1,1,1],\"yaxis\":\"y\",\"type\":\"scattergl\"},{\"hovertemplate\":\"scanner=H135<br>pixels=%{x}<br>Failure=%{y}<extra></extra>\",\"legendgroup\":\"H135\",\"marker\":{\"color\":\"#19d3f3\",\"symbol\":\"circle\"},\"mode\":\"markers\",\"name\":\"H135\",\"showlegend\":true,\"x\":[52,56,26,45],\"xaxis\":\"x\",\"y\":[1,1,1,1],\"yaxis\":\"y\",\"type\":\"scattergl\"},{\"hovertemplate\":\"scanner=H138<br>pixels=%{x}<br>Failure=%{y}<extra></extra>\",\"legendgroup\":\"H138\",\"marker\":{\"color\":\"#FF6692\",\"symbol\":\"circle\"},\"mode\":\"markers\",\"name\":\"H138\",\"showlegend\":true,\"x\":[85,88,61,60],\"xaxis\":\"x\",\"y\":[1,1,1,1],\"yaxis\":\"y\",\"type\":\"scattergl\"},{\"hovertemplate\":\"scanner=H139<br>pixels=%{x}<br>Failure=%{y}<extra></extra>\",\"legendgroup\":\"H139\",\"marker\":{\"color\":\"#B6E880\",\"symbol\":\"circle\"},\"mode\":\"markers\",\"name\":\"H139\",\"showlegend\":true,\"x\":[98,98,83,83],\"xaxis\":\"x\",\"y\":[1,1,1,1],\"yaxis\":\"y\",\"type\":\"scattergl\"},{\"hovertemplate\":\"scanner=H149<br>pixels=%{x}<br>Failure=%{y}<extra></extra>\",\"legendgroup\":\"H149\",\"marker\":{\"color\":\"#FF97FF\",\"symbol\":\"circle\"},\"mode\":\"markers\",\"name\":\"H149\",\"showlegend\":true,\"x\":[34,34,34,42,24],\"xaxis\":\"x\",\"y\":[1,1,1,1,1],\"yaxis\":\"y\",\"type\":\"scattergl\"},{\"hovertemplate\":\"scanner=K115<br>pixels=%{x}<br>Failure=%{y}<extra></extra>\",\"legendgroup\":\"K115\",\"marker\":{\"color\":\"#FECB52\",\"symbol\":\"circle\"},\"mode\":\"markers\",\"name\":\"K115\",\"showlegend\":true,\"x\":[35,36,44,46,46,46,46,46,46,46,47,49,46,52,46,46,52,55,56,56,20,29,29,31,32,34,35,35,36,36,36,38,39,40,41,41,41,42,42,44,45,47,48,48,10,19,20,23,23,23,13,17,19,26,27,27,28,29,34,35,35,36,36,36,37,37,21,21,22,25,26,29,29,29,30,36,36,36],\"xaxis\":\"x\",\"y\":[1,1,1,1,1,1,1,1,1,1,1,1,1,1,1,1,1,1,1,1,1,1,1,1,1,1,1,1,1,1,1,1,1,1,1,1,1,1,1,1,1,1,1,1,1,1,1,1,1,1,1,1,1,1,1,1,1,1,1,1,1,1,1,1,1,1,1,1,1,1,1,1,1,1,1,1,1,1],\"yaxis\":\"y\",\"type\":\"scattergl\"},{\"hovertemplate\":\"scanner=H129<br>pixels=%{x}<br>Failure=%{y}<extra></extra>\",\"legendgroup\":\"H129\",\"marker\":{\"color\":\"#636efa\",\"symbol\":\"circle\"},\"mode\":\"markers\",\"name\":\"H129\",\"showlegend\":true,\"x\":[67,67,67,67,67,67,30,43,26,26,26,26,26,67,26,40,48,52,58,71,27,35,44,49,54,60,70,70,72,74,79,82,91,98,98,105,117,127,135,48,48,54,54,17,17,26,28,30,33,34,39,44,49,49,49,52,70,76,79,37,54,68,73,35,50,58,65,67],\"xaxis\":\"x\",\"y\":[1,1,1,1,1,1,1,1,1,1,1,1,1,1,1,1,1,1,1,1,1,1,1,1,1,1,1,1,1,1,1,1,1,1,1,1,1,1,1,1,1,1,1,1,1,1,1,1,1,1,1,1,1,1,1,1,1,1,1,1,1,1,1,1,1,1,1,1],\"yaxis\":\"y\",\"type\":\"scattergl\"},{\"hovertemplate\":\"scanner=H130<br>pixels=%{x}<br>Failure=%{y}<extra></extra>\",\"legendgroup\":\"H130\",\"marker\":{\"color\":\"#EF553B\",\"symbol\":\"circle\"},\"mode\":\"markers\",\"name\":\"H130\",\"showlegend\":true,\"x\":[-1,-1,-1,-1,-1,-1,-1,-1,-1,-1,-1,-1,-1,-1,-1,-1,-1,-1,-1,-1,-1,-1,-1,-1,-1,-1,-1,-1,-1,-1,-1,-1,-1,-1,-1,-1,-1,-1,-1,-1,-1,-1,-1,-1,-1,-1,-1,-1,-1,-1,-1,-1,-1,-1,-1,-1,-1,-1,-1,-1,-1,-1,-1,-1,-1,-1,-1,-1,-1,-1],\"xaxis\":\"x\",\"y\":[1,1,1,1,1,1,1,1,1,1,1,1,1,1,1,1,1,1,1,1,1,1,1,1,1,1,1,1,1,1,1,1,1,1,1,1,1,1,1,1,1,1,1,1,1,1,1,1,1,1,1,1,1,1,1,1,1,1,1,1,1,1,1,1,1,1,1,1,1,1],\"yaxis\":\"y\",\"type\":\"scattergl\"},{\"hovertemplate\":\"scanner=H127<br>pixels=%{x}<br>Failure=%{y}<extra></extra>\",\"legendgroup\":\"H127\",\"marker\":{\"color\":\"#00cc96\",\"symbol\":\"circle\"},\"mode\":\"markers\",\"name\":\"H127\",\"showlegend\":true,\"x\":[147,149,149,150,149,149,151,151,151,151,152,153,149,149,151,155,156,158,159,161,161,164,164,165,168,168,170,170,170,170,172,173,174,174,175,175,175,175,175,175,175,175,175,175,175,5,5,6,6,8,8,11,19,21,23,27,29,32,22,26,26,27,31,31,37,37,37,4,4,10],\"xaxis\":\"x\",\"y\":[1,1,1,1,1,1,1,1,1,1,1,1,1,1,1,1,1,1,1,1,1,1,1,1,1,1,1,1,1,1,1,1,1,1,1,1,1,1,1,1,1,1,1,1,1,1,1,1,1,1,1,1,1,1,1,1,1,1,1,1,1,1,1,1,1,1,1,1,1,1],\"yaxis\":\"y\",\"type\":\"scattergl\"},{\"hovertemplate\":\"scanner=K167<br>pixels=%{x}<br>Failure=%{y}<extra></extra>\",\"legendgroup\":\"K167\",\"marker\":{\"color\":\"#ab63fa\",\"symbol\":\"circle\"},\"mode\":\"markers\",\"name\":\"K167\",\"showlegend\":true,\"x\":[48,53,53,63,63,63,63,41,41,49,53,41,55,55,55,55,57,57,57,40,40,40,44,44,44,41,44,36,44,49,49,49,49,49,49,49,49,51,58,58,53,58,59,62,43,43,45,45,45,45,45,52,52,52,52,52,52,52,52,52,52,52,52,52,52,52,55,55,55,63,63,63],\"xaxis\":\"x\",\"y\":[1,1,1,1,1,1,1,1,1,1,1,1,1,1,1,1,1,1,1,1,1,1,1,1,1,1,1,1,1,1,1,1,1,1,1,1,1,1,1,1,1,1,1,1,1,1,1,1,1,1,1,1,1,1,1,1,1,1,1,1,1,1,1,1,1,1,1,1,1,1,1,1],\"yaxis\":\"y\",\"type\":\"scattergl\"},{\"hovertemplate\":\"scanner=K150<br>pixels=%{x}<br>Failure=%{y}<extra></extra>\",\"legendgroup\":\"K150\",\"marker\":{\"color\":\"#FFA15A\",\"symbol\":\"circle\"},\"mode\":\"markers\",\"name\":\"K150\",\"showlegend\":true,\"x\":[19,26,29,17,17,17,19,21,21,21,26,21,20,20,20,20,22,23,23,28,28,28,32,32,32,33,35,37,37,27,27,27,28,28,28,28,28,29,18,18,18,18,19,21,34,34,25,25,25,25,25,41,41,41,41,41,41,41,41,41,42,42,41,42,42,42,44,44,44,47,47,47],\"xaxis\":\"x\",\"y\":[1,1,1,1,1,1,1,1,1,1,1,1,1,1,1,1,1,1,1,1,1,1,1,1,1,1,1,1,1,1,1,1,1,1,1,1,1,1,2,1,2,1,1,2,2,2,1,1,1,1,1,1,1,1,1,1,1,1,1,1,1,1,1,1,1,1,1,1,1,1,1,1],\"yaxis\":\"y\",\"type\":\"scattergl\"},{\"hovertemplate\":\"scanner=K210<br>pixels=%{x}<br>Failure=%{y}<extra></extra>\",\"legendgroup\":\"K210\",\"marker\":{\"color\":\"#19d3f3\",\"symbol\":\"circle\"},\"mode\":\"markers\",\"name\":\"K210\",\"showlegend\":true,\"x\":[43,43,44,38,38,39,39,41,42,36,36,37,49,51,53,43,44,44,44,48,50,50,56,56,56,56,57,57,59,59,62,38,38,38,38,39,40,42,40,46,47,47,47,51,51,51,42,51,51,51,51,51,52,41,40,42,43,44,46,49,49,49,54,54,54],\"xaxis\":\"x\",\"y\":[1,1,1,1,1,1,1,1,1,1,1,1,1,1,1,1,1,1,1,1,1,1,1,1,1,1,1,1,1,1,1,1,1,1,1,1,1,1,1,1,1,1,1,1,1,1,1,1,1,1,1,1,1,1,1,1,1,1,1,1,1,1,1,1,1],\"yaxis\":\"y\",\"type\":\"scattergl\"},{\"hovertemplate\":\"scanner=K209<br>pixels=%{x}<br>Failure=%{y}<extra></extra>\",\"legendgroup\":\"K209\",\"marker\":{\"color\":\"#FF6692\",\"symbol\":\"circle\"},\"mode\":\"markers\",\"name\":\"K209\",\"showlegend\":true,\"x\":[30,38,39,26,26,27,27,25,27,24,24,26,27,23,22,23,23,26,26,27,27,26,26,26,26,26,26,26,26,26,24,24,24,24,26,26,28,29,30,30,30,30,24,24,24,24,27,27,27,27,27,26,27,27,27,30,32,33,24,24,24],\"xaxis\":\"x\",\"y\":[1,1,1,1,1,1,1,1,1,1,1,1,1,1,1,1,1,1,1,1,1,1,1,1,1,1,1,1,1,1,1,1,1,1,1,1,1,1,1,1,1,1,1,1,1,1,1,1,1,1,1,1,1,1,1,1,1,1,1,1,1],\"yaxis\":\"y\",\"type\":\"scattergl\"},{\"hovertemplate\":\"scanner=K149<br>pixels=%{x}<br>Failure=%{y}<extra></extra>\",\"legendgroup\":\"K149\",\"marker\":{\"color\":\"#B6E880\",\"symbol\":\"circle\"},\"mode\":\"markers\",\"name\":\"K149\",\"showlegend\":true,\"x\":[35,27,22,25,25,25,30,31,31,31,34,27,36,36,36,36,40,43,43,43,43,43,43,43,43,43,43,27,30,34,34,34,36,36,37,37,37,39,38,38,37,38,38,39,51,51,51,51,51,51,51,24,24,24,24,24,24,24,24,24,27,27,24,27,30,32,33,33,33,38,38,38],\"xaxis\":\"x\",\"y\":[1,1,1,1,1,1,1,1,1,1,1,1,1,1,1,1,1,1,1,1,1,1,1,1,1,1,1,1,1,1,1,1,1,1,1,1,1,1,1,1,1,1,1,1,1,1,1,1,1,1,1,1,1,1,1,1,1,1,1,1,1,1,1,1,1,1,1,1,1,1,1,1],\"yaxis\":\"y\",\"type\":\"scattergl\"},{\"hovertemplate\":\"scanner=K120<br>pixels=%{x}<br>Failure=%{y}<extra></extra>\",\"legendgroup\":\"K120\",\"marker\":{\"color\":\"#FF97FF\",\"symbol\":\"circle\"},\"mode\":\"markers\",\"name\":\"K120\",\"showlegend\":true,\"x\":[37,29,28,26,24,26,29,22,30,33,30,32,38,33,41,42,43,43,44,47,49,30,36,38,39,40,31,35,38,42,27,31,36,37,39,39,39,41,41,28,30,32,32,33,35,35,38,24,40,26,27,27,28,29,36,37,38,39,24,27,29,31,30,38,40],\"xaxis\":\"x\",\"y\":[1,1,1,1,1,1,1,1,1,1,1,1,1,1,1,1,1,1,1,1,1,1,1,1,1,1,1,1,1,1,1,1,1,1,1,1,1,1,1,1,1,1,1,1,1,1,1,1,1,1,1,1,1,1,1,1,1,1,1,1,1,1,1,1,1],\"yaxis\":\"y\",\"type\":\"scattergl\"},{\"hovertemplate\":\"scanner=H150<br>pixels=%{x}<br>Failure=%{y}<extra></extra>\",\"legendgroup\":\"H150\",\"marker\":{\"color\":\"#FECB52\",\"symbol\":\"circle\"},\"mode\":\"markers\",\"name\":\"H150\",\"showlegend\":true,\"x\":[32,32,32,35,28],\"xaxis\":\"x\",\"y\":[1,1,1,1,1],\"yaxis\":\"y\",\"type\":\"scattergl\"},{\"hovertemplate\":\"scanner=K121<br>pixels=%{x}<br>Failure=%{y}<extra></extra>\",\"legendgroup\":\"K121\",\"marker\":{\"color\":\"#636efa\",\"symbol\":\"circle\"},\"mode\":\"markers\",\"name\":\"K121\",\"showlegend\":true,\"x\":[24,33,28,33,33,33,33,33,33,26,33,28,25,33,27,30,34,37,42,32,24,34,36,37,23,30,32,32,35,35,39,44,45,47,36,37,38,34,36,40,27,33,35,35,36,39,39,31,39,40,0,19,21,21,22,17,23,16,19,19,21,21,22,22,30,30,30,19,21,22,23,23,25,19,19,19],\"xaxis\":\"x\",\"y\":[1,1,1,1,1,1,1,1,1,1,1,1,1,1,1,1,1,1,1,1,1,1,1,1,1,1,1,1,1,1,1,1,1,1,1,1,1,1,1,1,1,1,1,1,1,1,1,1,1,1,1,1,1,1,1,1,1,1,1,1,1,1,1,1,1,1,1,1,1,1,1,1,1,1,1,1],\"yaxis\":\"y\",\"type\":\"scattergl\"},{\"hovertemplate\":\"scanner=K168<br>pixels=%{x}<br>Failure=%{y}<extra></extra>\",\"legendgroup\":\"K168\",\"marker\":{\"color\":\"#EF553B\",\"symbol\":\"circle\"},\"mode\":\"markers\",\"name\":\"K168\",\"showlegend\":true,\"x\":[48,42,41,42,42,42,42,42,42,42,44,28,30,33,42,42,30,35,35,39,40,32,41,34,38,40,42,42,43,45,30,33,34,30,33,33,35,35,36,37,42,45,36,37,37,37,39,43,43,30,33,36,36,36,34,34,35,35,37,37,39,36,36,45,45,30,38,41,32,45,45,46,48,48,48],\"xaxis\":\"x\",\"y\":[1,1,1,1,1,1,1,1,1,1,1,1,1,1,1,1,1,1,1,1,1,1,1,1,1,1,1,1,1,1,1,1,1,1,1,1,1,1,1,1,1,1,1,1,1,1,1,1,1,1,1,1,1,1,1,1,1,1,1,1,1,1,1,1,1,1,1,1,1,1,1,1,1,1,1],\"yaxis\":\"y\",\"type\":\"scattergl\"},{\"hovertemplate\":\"scanner=K114<br>pixels=%{x}<br>Failure=%{y}<extra></extra>\",\"legendgroup\":\"K114\",\"marker\":{\"color\":\"#00cc96\",\"symbol\":\"circle\"},\"mode\":\"markers\",\"name\":\"K114\",\"showlegend\":true,\"x\":[24,26,26,29,29,29,29,29,29,30,30,29,34,29,29,34,35,37,39,41,18,18,18,13,18,20,22,23,23,23,23,24,24,26,27,15,18,19,19,19,19,19,17,18,18,18,18,18,16,20,21,21,21,23,23,27,28,34,36,38,15,18,18,18,18,15,15,12,15,18,14,14,14,13,17,17,17],\"xaxis\":\"x\",\"y\":[1,1,1,1,1,1,1,1,1,1,1,1,1,1,1,1,1,1,1,1,1,1,1,1,1,1,1,1,1,1,1,1,1,1,1,1,1,1,1,1,1,1,1,1,1,1,1,1,1,1,1,1,1,1,1,1,1,1,1,1,1,1,1,1,1,1,1,1,1,1,1,1,1,1,1,1,1],\"yaxis\":\"y\",\"type\":\"scattergl\"},{\"hovertemplate\":\"scanner=K171<br>pixels=%{x}<br>Failure=%{y}<extra></extra>\",\"legendgroup\":\"K171\",\"marker\":{\"color\":\"#ab63fa\",\"symbol\":\"circle\"},\"mode\":\"markers\",\"name\":\"K171\",\"showlegend\":true,\"x\":[40,53,43,38,43,43,43,43,43,43,43,41,43,41,43,35,41,38,41,44,44,40,37,39,42,33,45,47,48,49,52,53,53,35,41,35,38,39,39,40,38,32,37,34,32,32,38,40,34,42,42,36,41,46,49,49,50,52,52,53,54,53,53,54,42,43,46,47,47,47,50,50,50],\"xaxis\":\"x\",\"y\":[1,1,1,1,1,1,1,1,1,1,1,1,1,1,1,1,1,1,1,1,1,1,1,1,1,1,1,1,1,1,1,1,1,1,1,1,1,1,1,1,1,1,1,1,1,1,1,1,1,1,1,1,1,1,1,1,1,1,1,1,1,1,1,1,1,1,1,1,1,1,1,1,1],\"yaxis\":\"y\",\"type\":\"scattergl\"},{\"hovertemplate\":\"scanner=H171<br>pixels=%{x}<br>Failure=%{y}<extra></extra>\",\"legendgroup\":\"H171\",\"marker\":{\"color\":\"#FFA15A\",\"symbol\":\"circle\"},\"mode\":\"markers\",\"name\":\"H171\",\"showlegend\":true,\"x\":[18,22,22,24,26,36,13,21,21,23,28,34,18,23,25,26,26,28,31,32,32,33,33,35,36,37,37,39,28,32,34,35,35,38,40,41,42,42,37,38,22,26,38,39,39,17,19,20,27,27,18,20,22,24],\"xaxis\":\"x\",\"y\":[1,1,1,1,1,1,1,1,1,1,1,1,1,1,1,1,1,1,1,1,1,1,1,1,1,1,1,1,1,1,1,1,1,1,1,1,1,1,1,1,1,1,1,1,1,1,1,1,1,1,1,1,1,1],\"yaxis\":\"y\",\"type\":\"scattergl\"},{\"hovertemplate\":\"scanner=K147<br>pixels=%{x}<br>Failure=%{y}<extra></extra>\",\"legendgroup\":\"K147\",\"marker\":{\"color\":\"#19d3f3\",\"symbol\":\"circle\"},\"mode\":\"markers\",\"name\":\"K147\",\"showlegend\":true,\"x\":[61,41,41,44,37,37,37,48,48,48,44,52,59,59,59,59,60,61,62,66,66,66,38,38,38,41,43,47,48,61,61,61,64,64,64,64,64,39,50,50,45,50,56,57,68,68,69,69,69,69,69,101,101,101,101,101,101,101,101,101,102,102,101,102,103,103,107,107,107,111,111,111],\"xaxis\":\"x\",\"y\":[1,1,1,1,1,1,1,1,1,1,1,1,1,1,1,1,1,1,1,1,1,1,1,1,1,1,1,1,1,1,1,1,1,1,1,1,1,1,1,1,1,1,1,1,1,1,1,1,1,1,1,1,1,1,1,1,1,1,1,1,1,1,1,1,1,1,1,1,1,1,1,1],\"yaxis\":\"y\",\"type\":\"scattergl\"},{\"hovertemplate\":\"scanner=K172<br>pixels=%{x}<br>Failure=%{y}<extra></extra>\",\"legendgroup\":\"K172\",\"marker\":{\"color\":\"#FF6692\",\"symbol\":\"circle\"},\"mode\":\"markers\",\"name\":\"K172\",\"showlegend\":true,\"x\":[30,31,25,24,24,24,24,24,31,24,24,24,24,25,25,20,21,21,21,23,24,25,24,24,24,24,26,26,28,28,30,31,31,31,31,31,31,31,30,30,32,32,32,24,25,25,25,27,27,27,27,27,27,29,28,30,30,37,37,40,40,40,44,44,41],\"xaxis\":\"x\",\"y\":[1,1,1,1,1,1,1,1,1,1,1,1,1,1,1,1,1,1,1,1,1,1,1,1,1,1,1,1,1,1,1,1,1,1,1,1,1,1,1,1,1,1,1,1,1,1,1,1,1,1,1,1,1,1,1,1,1,1,1,1,1,1,1,1,1],\"yaxis\":\"y\",\"type\":\"scattergl\"},{\"hovertemplate\":\"scanner=K173<br>pixels=%{x}<br>Failure=%{y}<extra></extra>\",\"legendgroup\":\"K173\",\"marker\":{\"color\":\"#B6E880\",\"symbol\":\"circle\"},\"mode\":\"markers\",\"name\":\"K173\",\"showlegend\":true,\"x\":[53,53,53,42,50,50,52,56,56,56,60,50,65,65,65,65,65,67,68,74,74,74,77,77,77,77,81,50,54,48,48,48,56,56,56,56,56,56,59,50,64,64,67,67,67,67,67,68,68,68,68,68,68,68,68,68,69,69,68,69,69,70,70,70,70,79,79,79],\"xaxis\":\"x\",\"y\":[1,1,1,1,1,1,1,1,1,1,1,1,1,1,1,1,1,1,1,1,1,1,1,1,1,1,1,1,1,1,1,1,1,1,1,1,1,1,1,1,1,1,1,1,1,1,1,1,1,1,1,1,1,1,1,1,1,1,1,1,1,1,1,1,1,1,1,1],\"yaxis\":\"y\",\"type\":\"scattergl\"},{\"hovertemplate\":\"scanner=K208<br>pixels=%{x}<br>Failure=%{y}<extra></extra>\",\"legendgroup\":\"K208\",\"marker\":{\"color\":\"#FF97FF\",\"symbol\":\"circle\"},\"mode\":\"markers\",\"name\":\"K208\",\"showlegend\":true,\"x\":[52,63,39,39,39,46,61,63,46,40,39,41,41,43,44,46,48,51,51,51,51,51,51,52,52,52,41,41,41,41,41,49,53,55,70,73,73,73,43,43,43,44,55,55,54,55,54,55,54,54,55,56,58,58,64,64,63,67,67,67],\"xaxis\":\"x\",\"y\":[1,1,1,1,1,1,1,1,1,1,1,1,1,1,1,1,1,1,1,1,1,1,1,1,1,1,1,1,1,1,1,1,1,1,1,1,1,1,1,1,1,1,1,1,1,1,1,1,1,1,1,1,1,1,1,1,1,1,1,1],\"yaxis\":\"y\",\"type\":\"scattergl\"},{\"hovertemplate\":\"scanner=K218<br>pixels=%{x}<br>Failure=%{y}<extra></extra>\",\"legendgroup\":\"K218\",\"marker\":{\"color\":\"#FECB52\",\"symbol\":\"circle\"},\"mode\":\"markers\",\"name\":\"K218\",\"showlegend\":true,\"x\":[12,11,11,10,12,14,12,13,16,16,16,12,12,13,18,12,11,12,11,11,11,12,12,11,11,11,8,8,7,8,8,14,12,12,15,8,8,8],\"xaxis\":\"x\",\"y\":[1,1,1,1,1,1,1,1,1,1,1,1,1,1,1,1,1,1,1,1,1,1,1,1,1,1,1,1,1,1,1,1,1,1,1,1,1,1],\"yaxis\":\"y\",\"type\":\"scattergl\"},{\"hovertemplate\":\"scanner=H169<br>pixels=%{x}<br>Failure=%{y}<extra></extra>\",\"legendgroup\":\"H169\",\"marker\":{\"color\":\"#636efa\",\"symbol\":\"circle\"},\"mode\":\"markers\",\"name\":\"H169\",\"showlegend\":true,\"x\":[40,18],\"xaxis\":\"x\",\"y\":[1,1],\"yaxis\":\"y\",\"type\":\"scattergl\"},{\"hovertemplate\":\"scanner=H170<br>pixels=%{x}<br>Failure=%{y}<extra></extra>\",\"legendgroup\":\"H170\",\"marker\":{\"color\":\"#EF553B\",\"symbol\":\"circle\"},\"mode\":\"markers\",\"name\":\"H170\",\"showlegend\":true,\"x\":[36,24],\"xaxis\":\"x\",\"y\":[1,1],\"yaxis\":\"y\",\"type\":\"scattergl\"},{\"hovertemplate\":\"scanner=H172<br>pixels=%{x}<br>Failure=%{y}<extra></extra>\",\"legendgroup\":\"H172\",\"marker\":{\"color\":\"#00cc96\",\"symbol\":\"circle\"},\"mode\":\"markers\",\"name\":\"H172\",\"showlegend\":true,\"x\":[30,32],\"xaxis\":\"x\",\"y\":[1,1],\"yaxis\":\"y\",\"type\":\"scattergl\"},{\"hovertemplate\":\"scanner=H168<br>pixels=%{x}<br>Failure=%{y}<extra></extra>\",\"legendgroup\":\"H168\",\"marker\":{\"color\":\"#ab63fa\",\"symbol\":\"circle\"},\"mode\":\"markers\",\"name\":\"H168\",\"showlegend\":true,\"x\":[59,40],\"xaxis\":\"x\",\"y\":[1,1],\"yaxis\":\"y\",\"type\":\"scattergl\"},{\"hovertemplate\":\"scanner=K112<br>pixels=%{x}<br>Failure=%{y}<extra></extra>\",\"legendgroup\":\"K112\",\"marker\":{\"color\":\"#FFA15A\",\"symbol\":\"circle\"},\"mode\":\"markers\",\"name\":\"K112\",\"showlegend\":true,\"x\":[-1,-1,-1,-1,-1,-1,-1],\"xaxis\":\"x\",\"y\":[1,1,1,1,1,1,1],\"yaxis\":\"y\",\"type\":\"scattergl\"},{\"hovertemplate\":\"scanner=K113<br>pixels=%{x}<br>Failure=%{y}<extra></extra>\",\"legendgroup\":\"K113\",\"marker\":{\"color\":\"#19d3f3\",\"symbol\":\"circle\"},\"mode\":\"markers\",\"name\":\"K113\",\"showlegend\":true,\"x\":[-1,-1,-1,-1,-1,-1,-1,-1],\"xaxis\":\"x\",\"y\":[1,1,1,1,1,1,1,1],\"yaxis\":\"y\",\"type\":\"scattergl\"},{\"hovertemplate\":\"scanner=H143<br>pixels=%{x}<br>Failure=%{y}<extra></extra>\",\"legendgroup\":\"H143\",\"marker\":{\"color\":\"#FF6692\",\"symbol\":\"circle\"},\"mode\":\"markers\",\"name\":\"H143\",\"showlegend\":true,\"x\":[-1,-1,-1,-1,-1,-1],\"xaxis\":\"x\",\"y\":[1,1,1,1,1,1],\"yaxis\":\"y\",\"type\":\"scattergl\"},{\"hovertemplate\":\"scanner=H142<br>pixels=%{x}<br>Failure=%{y}<extra></extra>\",\"legendgroup\":\"H142\",\"marker\":{\"color\":\"#B6E880\",\"symbol\":\"circle\"},\"mode\":\"markers\",\"name\":\"H142\",\"showlegend\":true,\"x\":[92,91,92,94,94,107],\"xaxis\":\"x\",\"y\":[1,1,1,1,1,1],\"yaxis\":\"y\",\"type\":\"scattergl\"},{\"hovertemplate\":\"scanner=H147<br>pixels=%{x}<br>Failure=%{y}<extra></extra>\",\"legendgroup\":\"H147\",\"marker\":{\"color\":\"#FF97FF\",\"symbol\":\"circle\"},\"mode\":\"markers\",\"name\":\"H147\",\"showlegend\":true,\"x\":[68,68,70,70,74,77],\"xaxis\":\"x\",\"y\":[1,1,1,1,1,1],\"yaxis\":\"y\",\"type\":\"scattergl\"},{\"hovertemplate\":\"scanner=H151<br>pixels=%{x}<br>Failure=%{y}<extra></extra>\",\"legendgroup\":\"H151\",\"marker\":{\"color\":\"#FECB52\",\"symbol\":\"circle\"},\"mode\":\"markers\",\"name\":\"H151\",\"showlegend\":true,\"x\":[18,17,8,13,17,28],\"xaxis\":\"x\",\"y\":[1,1,1,1,1,1],\"yaxis\":\"y\",\"type\":\"scattergl\"},{\"hovertemplate\":\"scanner=H152<br>pixels=%{x}<br>Failure=%{y}<extra></extra>\",\"legendgroup\":\"H152\",\"marker\":{\"color\":\"#636efa\",\"symbol\":\"circle\"},\"mode\":\"markers\",\"name\":\"H152\",\"showlegend\":true,\"x\":[15,15,12,14,19,26],\"xaxis\":\"x\",\"y\":[2,2,1,1,1,1],\"yaxis\":\"y\",\"type\":\"scattergl\"},{\"hovertemplate\":\"scanner=H154<br>pixels=%{x}<br>Failure=%{y}<extra></extra>\",\"legendgroup\":\"H154\",\"marker\":{\"color\":\"#EF553B\",\"symbol\":\"circle\"},\"mode\":\"markers\",\"name\":\"H154\",\"showlegend\":true,\"x\":[96,96,100,100,106,44],\"xaxis\":\"x\",\"y\":[1,1,1,1,1,1],\"yaxis\":\"y\",\"type\":\"scattergl\"},{\"hovertemplate\":\"scanner=H155<br>pixels=%{x}<br>Failure=%{y}<extra></extra>\",\"legendgroup\":\"H155\",\"marker\":{\"color\":\"#00cc96\",\"symbol\":\"circle\"},\"mode\":\"markers\",\"name\":\"H155\",\"showlegend\":true,\"x\":[74,71,76,76,77,45],\"xaxis\":\"x\",\"y\":[1,1,1,1,1,1],\"yaxis\":\"y\",\"type\":\"scattergl\"},{\"hovertemplate\":\"scanner=H156<br>pixels=%{x}<br>Failure=%{y}<extra></extra>\",\"legendgroup\":\"H156\",\"marker\":{\"color\":\"#ab63fa\",\"symbol\":\"circle\"},\"mode\":\"markers\",\"name\":\"H156\",\"showlegend\":true,\"x\":[128,128,129,38,49,66],\"xaxis\":\"x\",\"y\":[1,1,1,1,1,1],\"yaxis\":\"y\",\"type\":\"scattergl\"},{\"hovertemplate\":\"scanner=H157<br>pixels=%{x}<br>Failure=%{y}<extra></extra>\",\"legendgroup\":\"H157\",\"marker\":{\"color\":\"#FFA15A\",\"symbol\":\"circle\"},\"mode\":\"markers\",\"name\":\"H157\",\"showlegend\":true,\"x\":[143,143,143,146,149,27],\"xaxis\":\"x\",\"y\":[1,1,1,1,1,1],\"yaxis\":\"y\",\"type\":\"scattergl\"},{\"hovertemplate\":\"scanner=H153<br>pixels=%{x}<br>Failure=%{y}<extra></extra>\",\"legendgroup\":\"H153\",\"marker\":{\"color\":\"#19d3f3\",\"symbol\":\"circle\"},\"mode\":\"markers\",\"name\":\"H153\",\"showlegend\":true,\"x\":[67,67,67,31,35,45],\"xaxis\":\"x\",\"y\":[1,1,2,1,1,1],\"yaxis\":\"y\",\"type\":\"scattergl\"},{\"hovertemplate\":\"scanner=H166<br>pixels=%{x}<br>Failure=%{y}<extra></extra>\",\"legendgroup\":\"H166\",\"marker\":{\"color\":\"#FF6692\",\"symbol\":\"circle\"},\"mode\":\"markers\",\"name\":\"H166\",\"showlegend\":true,\"x\":[98,98,101,48,54,58,58,58,58,62,66,67,82,84],\"xaxis\":\"x\",\"y\":[1,1,1,1,1,1,1,1,1,1,1,1,1,1],\"yaxis\":\"y\",\"type\":\"scattergl\"},{\"hovertemplate\":\"scanner=H167<br>pixels=%{x}<br>Failure=%{y}<extra></extra>\",\"legendgroup\":\"H167\",\"marker\":{\"color\":\"#B6E880\",\"symbol\":\"circle\"},\"mode\":\"markers\",\"name\":\"H167\",\"showlegend\":true,\"x\":[63,63,67,75,75,77,81,81,81,82,85,92,94,108,108,108,108,113,113,114,118,118],\"xaxis\":\"x\",\"y\":[1,1,1,1,1,1,1,1,1,1,1,1,1,1,1,1,1,1,1,1,1,1],\"yaxis\":\"y\",\"type\":\"scattergl\"},{\"hovertemplate\":\"scanner=H165<br>pixels=%{x}<br>Failure=%{y}<extra></extra>\",\"legendgroup\":\"H165\",\"marker\":{\"color\":\"#FF97FF\",\"symbol\":\"circle\"},\"mode\":\"markers\",\"name\":\"H165\",\"showlegend\":true,\"x\":[27,32,34,36,37,39,13,20,22,25,21,25,17,17,17,17,19,19,21,22,23,29],\"xaxis\":\"x\",\"y\":[1,1,1,1,1,1,1,1,1,1,1,1,1,1,1,1,1,1,1,1,1,1],\"yaxis\":\"y\",\"type\":\"scattergl\"}],                        {\"template\":{\"data\":{\"barpolar\":[{\"marker\":{\"line\":{\"color\":\"rgb(17,17,17)\",\"width\":0.5},\"pattern\":{\"fillmode\":\"overlay\",\"size\":10,\"solidity\":0.2}},\"type\":\"barpolar\"}],\"bar\":[{\"error_x\":{\"color\":\"#f2f5fa\"},\"error_y\":{\"color\":\"#f2f5fa\"},\"marker\":{\"line\":{\"color\":\"rgb(17,17,17)\",\"width\":0.5},\"pattern\":{\"fillmode\":\"overlay\",\"size\":10,\"solidity\":0.2}},\"type\":\"bar\"}],\"carpet\":[{\"aaxis\":{\"endlinecolor\":\"#A2B1C6\",\"gridcolor\":\"#506784\",\"linecolor\":\"#506784\",\"minorgridcolor\":\"#506784\",\"startlinecolor\":\"#A2B1C6\"},\"baxis\":{\"endlinecolor\":\"#A2B1C6\",\"gridcolor\":\"#506784\",\"linecolor\":\"#506784\",\"minorgridcolor\":\"#506784\",\"startlinecolor\":\"#A2B1C6\"},\"type\":\"carpet\"}],\"choropleth\":[{\"colorbar\":{\"outlinewidth\":0,\"ticks\":\"\"},\"type\":\"choropleth\"}],\"contourcarpet\":[{\"colorbar\":{\"outlinewidth\":0,\"ticks\":\"\"},\"type\":\"contourcarpet\"}],\"contour\":[{\"colorbar\":{\"outlinewidth\":0,\"ticks\":\"\"},\"colorscale\":[[0.0,\"#0d0887\"],[0.1111111111111111,\"#46039f\"],[0.2222222222222222,\"#7201a8\"],[0.3333333333333333,\"#9c179e\"],[0.4444444444444444,\"#bd3786\"],[0.5555555555555556,\"#d8576b\"],[0.6666666666666666,\"#ed7953\"],[0.7777777777777778,\"#fb9f3a\"],[0.8888888888888888,\"#fdca26\"],[1.0,\"#f0f921\"]],\"type\":\"contour\"}],\"heatmapgl\":[{\"colorbar\":{\"outlinewidth\":0,\"ticks\":\"\"},\"colorscale\":[[0.0,\"#0d0887\"],[0.1111111111111111,\"#46039f\"],[0.2222222222222222,\"#7201a8\"],[0.3333333333333333,\"#9c179e\"],[0.4444444444444444,\"#bd3786\"],[0.5555555555555556,\"#d8576b\"],[0.6666666666666666,\"#ed7953\"],[0.7777777777777778,\"#fb9f3a\"],[0.8888888888888888,\"#fdca26\"],[1.0,\"#f0f921\"]],\"type\":\"heatmapgl\"}],\"heatmap\":[{\"colorbar\":{\"outlinewidth\":0,\"ticks\":\"\"},\"colorscale\":[[0.0,\"#0d0887\"],[0.1111111111111111,\"#46039f\"],[0.2222222222222222,\"#7201a8\"],[0.3333333333333333,\"#9c179e\"],[0.4444444444444444,\"#bd3786\"],[0.5555555555555556,\"#d8576b\"],[0.6666666666666666,\"#ed7953\"],[0.7777777777777778,\"#fb9f3a\"],[0.8888888888888888,\"#fdca26\"],[1.0,\"#f0f921\"]],\"type\":\"heatmap\"}],\"histogram2dcontour\":[{\"colorbar\":{\"outlinewidth\":0,\"ticks\":\"\"},\"colorscale\":[[0.0,\"#0d0887\"],[0.1111111111111111,\"#46039f\"],[0.2222222222222222,\"#7201a8\"],[0.3333333333333333,\"#9c179e\"],[0.4444444444444444,\"#bd3786\"],[0.5555555555555556,\"#d8576b\"],[0.6666666666666666,\"#ed7953\"],[0.7777777777777778,\"#fb9f3a\"],[0.8888888888888888,\"#fdca26\"],[1.0,\"#f0f921\"]],\"type\":\"histogram2dcontour\"}],\"histogram2d\":[{\"colorbar\":{\"outlinewidth\":0,\"ticks\":\"\"},\"colorscale\":[[0.0,\"#0d0887\"],[0.1111111111111111,\"#46039f\"],[0.2222222222222222,\"#7201a8\"],[0.3333333333333333,\"#9c179e\"],[0.4444444444444444,\"#bd3786\"],[0.5555555555555556,\"#d8576b\"],[0.6666666666666666,\"#ed7953\"],[0.7777777777777778,\"#fb9f3a\"],[0.8888888888888888,\"#fdca26\"],[1.0,\"#f0f921\"]],\"type\":\"histogram2d\"}],\"histogram\":[{\"marker\":{\"pattern\":{\"fillmode\":\"overlay\",\"size\":10,\"solidity\":0.2}},\"type\":\"histogram\"}],\"mesh3d\":[{\"colorbar\":{\"outlinewidth\":0,\"ticks\":\"\"},\"type\":\"mesh3d\"}],\"parcoords\":[{\"line\":{\"colorbar\":{\"outlinewidth\":0,\"ticks\":\"\"}},\"type\":\"parcoords\"}],\"pie\":[{\"automargin\":true,\"type\":\"pie\"}],\"scatter3d\":[{\"line\":{\"colorbar\":{\"outlinewidth\":0,\"ticks\":\"\"}},\"marker\":{\"colorbar\":{\"outlinewidth\":0,\"ticks\":\"\"}},\"type\":\"scatter3d\"}],\"scattercarpet\":[{\"marker\":{\"colorbar\":{\"outlinewidth\":0,\"ticks\":\"\"}},\"type\":\"scattercarpet\"}],\"scattergeo\":[{\"marker\":{\"colorbar\":{\"outlinewidth\":0,\"ticks\":\"\"}},\"type\":\"scattergeo\"}],\"scattergl\":[{\"marker\":{\"line\":{\"color\":\"#283442\"}},\"type\":\"scattergl\"}],\"scattermapbox\":[{\"marker\":{\"colorbar\":{\"outlinewidth\":0,\"ticks\":\"\"}},\"type\":\"scattermapbox\"}],\"scatterpolargl\":[{\"marker\":{\"colorbar\":{\"outlinewidth\":0,\"ticks\":\"\"}},\"type\":\"scatterpolargl\"}],\"scatterpolar\":[{\"marker\":{\"colorbar\":{\"outlinewidth\":0,\"ticks\":\"\"}},\"type\":\"scatterpolar\"}],\"scatter\":[{\"marker\":{\"line\":{\"color\":\"#283442\"}},\"type\":\"scatter\"}],\"scatterternary\":[{\"marker\":{\"colorbar\":{\"outlinewidth\":0,\"ticks\":\"\"}},\"type\":\"scatterternary\"}],\"surface\":[{\"colorbar\":{\"outlinewidth\":0,\"ticks\":\"\"},\"colorscale\":[[0.0,\"#0d0887\"],[0.1111111111111111,\"#46039f\"],[0.2222222222222222,\"#7201a8\"],[0.3333333333333333,\"#9c179e\"],[0.4444444444444444,\"#bd3786\"],[0.5555555555555556,\"#d8576b\"],[0.6666666666666666,\"#ed7953\"],[0.7777777777777778,\"#fb9f3a\"],[0.8888888888888888,\"#fdca26\"],[1.0,\"#f0f921\"]],\"type\":\"surface\"}],\"table\":[{\"cells\":{\"fill\":{\"color\":\"#506784\"},\"line\":{\"color\":\"rgb(17,17,17)\"}},\"header\":{\"fill\":{\"color\":\"#2a3f5f\"},\"line\":{\"color\":\"rgb(17,17,17)\"}},\"type\":\"table\"}]},\"layout\":{\"annotationdefaults\":{\"arrowcolor\":\"#f2f5fa\",\"arrowhead\":0,\"arrowwidth\":1},\"autotypenumbers\":\"strict\",\"coloraxis\":{\"colorbar\":{\"outlinewidth\":0,\"ticks\":\"\"}},\"colorscale\":{\"diverging\":[[0,\"#8e0152\"],[0.1,\"#c51b7d\"],[0.2,\"#de77ae\"],[0.3,\"#f1b6da\"],[0.4,\"#fde0ef\"],[0.5,\"#f7f7f7\"],[0.6,\"#e6f5d0\"],[0.7,\"#b8e186\"],[0.8,\"#7fbc41\"],[0.9,\"#4d9221\"],[1,\"#276419\"]],\"sequential\":[[0.0,\"#0d0887\"],[0.1111111111111111,\"#46039f\"],[0.2222222222222222,\"#7201a8\"],[0.3333333333333333,\"#9c179e\"],[0.4444444444444444,\"#bd3786\"],[0.5555555555555556,\"#d8576b\"],[0.6666666666666666,\"#ed7953\"],[0.7777777777777778,\"#fb9f3a\"],[0.8888888888888888,\"#fdca26\"],[1.0,\"#f0f921\"]],\"sequentialminus\":[[0.0,\"#0d0887\"],[0.1111111111111111,\"#46039f\"],[0.2222222222222222,\"#7201a8\"],[0.3333333333333333,\"#9c179e\"],[0.4444444444444444,\"#bd3786\"],[0.5555555555555556,\"#d8576b\"],[0.6666666666666666,\"#ed7953\"],[0.7777777777777778,\"#fb9f3a\"],[0.8888888888888888,\"#fdca26\"],[1.0,\"#f0f921\"]]},\"colorway\":[\"#636efa\",\"#EF553B\",\"#00cc96\",\"#ab63fa\",\"#FFA15A\",\"#19d3f3\",\"#FF6692\",\"#B6E880\",\"#FF97FF\",\"#FECB52\"],\"font\":{\"color\":\"#f2f5fa\"},\"geo\":{\"bgcolor\":\"rgb(17,17,17)\",\"lakecolor\":\"rgb(17,17,17)\",\"landcolor\":\"rgb(17,17,17)\",\"showlakes\":true,\"showland\":true,\"subunitcolor\":\"#506784\"},\"hoverlabel\":{\"align\":\"left\"},\"hovermode\":\"closest\",\"mapbox\":{\"style\":\"dark\"},\"paper_bgcolor\":\"rgb(17,17,17)\",\"plot_bgcolor\":\"rgb(17,17,17)\",\"polar\":{\"angularaxis\":{\"gridcolor\":\"#506784\",\"linecolor\":\"#506784\",\"ticks\":\"\"},\"bgcolor\":\"rgb(17,17,17)\",\"radialaxis\":{\"gridcolor\":\"#506784\",\"linecolor\":\"#506784\",\"ticks\":\"\"}},\"scene\":{\"xaxis\":{\"backgroundcolor\":\"rgb(17,17,17)\",\"gridcolor\":\"#506784\",\"gridwidth\":2,\"linecolor\":\"#506784\",\"showbackground\":true,\"ticks\":\"\",\"zerolinecolor\":\"#C8D4E3\"},\"yaxis\":{\"backgroundcolor\":\"rgb(17,17,17)\",\"gridcolor\":\"#506784\",\"gridwidth\":2,\"linecolor\":\"#506784\",\"showbackground\":true,\"ticks\":\"\",\"zerolinecolor\":\"#C8D4E3\"},\"zaxis\":{\"backgroundcolor\":\"rgb(17,17,17)\",\"gridcolor\":\"#506784\",\"gridwidth\":2,\"linecolor\":\"#506784\",\"showbackground\":true,\"ticks\":\"\",\"zerolinecolor\":\"#C8D4E3\"}},\"shapedefaults\":{\"line\":{\"color\":\"#f2f5fa\"}},\"sliderdefaults\":{\"bgcolor\":\"#C8D4E3\",\"bordercolor\":\"rgb(17,17,17)\",\"borderwidth\":1,\"tickwidth\":0},\"ternary\":{\"aaxis\":{\"gridcolor\":\"#506784\",\"linecolor\":\"#506784\",\"ticks\":\"\"},\"baxis\":{\"gridcolor\":\"#506784\",\"linecolor\":\"#506784\",\"ticks\":\"\"},\"bgcolor\":\"rgb(17,17,17)\",\"caxis\":{\"gridcolor\":\"#506784\",\"linecolor\":\"#506784\",\"ticks\":\"\"}},\"title\":{\"x\":0.05},\"updatemenudefaults\":{\"bgcolor\":\"#506784\",\"borderwidth\":0},\"xaxis\":{\"automargin\":true,\"gridcolor\":\"#283442\",\"linecolor\":\"#506784\",\"ticks\":\"\",\"title\":{\"standoff\":15},\"zerolinecolor\":\"#283442\",\"zerolinewidth\":2},\"yaxis\":{\"automargin\":true,\"gridcolor\":\"#283442\",\"linecolor\":\"#506784\",\"ticks\":\"\",\"title\":{\"standoff\":15},\"zerolinecolor\":\"#283442\",\"zerolinewidth\":2}}},\"xaxis\":{\"anchor\":\"y\",\"domain\":[0.0,1.0],\"title\":{\"text\":\"pixels\"}},\"yaxis\":{\"anchor\":\"x\",\"domain\":[0.0,1.0],\"title\":{\"text\":\"Failure\"}},\"legend\":{\"title\":{\"text\":\"scanner\"},\"tracegroupgap\":0},\"title\":{\"text\":\"pixels vs Failure\"},\"height\":400,\"width\":700},                        {\"responsive\": true}                    ).then(function(){\n",
              "                            \n",
              "var gd = document.getElementById('654ce7db-f573-49b3-85d4-f1a574b811fb');\n",
              "var x = new MutationObserver(function (mutations, observer) {{\n",
              "        var display = window.getComputedStyle(gd).display;\n",
              "        if (!display || display === 'none') {{\n",
              "            console.log([gd, 'removed!']);\n",
              "            Plotly.purge(gd);\n",
              "            observer.disconnect();\n",
              "        }}\n",
              "}});\n",
              "\n",
              "// Listen for the removal of the full notebook cells\n",
              "var notebookContainer = gd.closest('#notebook-container');\n",
              "if (notebookContainer) {{\n",
              "    x.observe(notebookContainer, {childList: true});\n",
              "}}\n",
              "\n",
              "// Listen for the clearing of the current output cell\n",
              "var outputEl = gd.closest('.output');\n",
              "if (outputEl) {{\n",
              "    x.observe(outputEl, {childList: true});\n",
              "}}\n",
              "\n",
              "                        })                };                            </script>        </div>\n",
              "</body>\n",
              "</html>"
            ]
          },
          "metadata": {}
        }
      ]
    },
    {
      "cell_type": "markdown",
      "source": [
        "**NOTE: Pixels values does not impact Failure data.**"
      ],
      "metadata": {
        "id": "QHsNO9oaSAkk"
      }
    },
    {
      "cell_type": "markdown",
      "source": [
        "**Now let's check relationship between categorical data(Scanner) and Failure data.**"
      ],
      "metadata": {
        "id": "GEiXiQ7BSZg4"
      }
    },
    {
      "cell_type": "code",
      "source": [
        "#\n",
        "# f, axes = plt.subplots(1, 1, figsize=(50, 35), facecolor='white')\n",
        "# f.suptitle('Frequency of Categorical Features')\n",
        "# sns.countplot(x=\"scanner\", hue=\"Failure\", data=df, palette=\"Blues\")\n",
        "\n",
        "bar = px.bar(df, x= 'scanner', y = 'Failure', color = 'Failure', template = 'gridon',\n",
        "             title = 'Frequency of Categorical Features',\n",
        "             width=900, height=500)\n",
        "bar.show()"
      ],
      "metadata": {
        "colab": {
          "base_uri": "https://localhost:8080/",
          "height": 517
        },
        "id": "ycIwDIt8Nyxl",
        "outputId": "ced57ae2-9aac-4bf4-accd-20bb811a8dba"
      },
      "execution_count": null,
      "outputs": [
        {
          "output_type": "display_data",
          "data": {
            "text/html": [
              "<html>\n",
              "<head><meta charset=\"utf-8\" /></head>\n",
              "<body>\n",
              "    <div>            <script src=\"https://cdnjs.cloudflare.com/ajax/libs/mathjax/2.7.5/MathJax.js?config=TeX-AMS-MML_SVG\"></script><script type=\"text/javascript\">if (window.MathJax) {MathJax.Hub.Config({SVG: {font: \"STIX-Web\"}});}</script>                <script type=\"text/javascript\">window.PlotlyConfig = {MathJaxConfig: 'local'};</script>\n",
              "        <script src=\"https://cdn.plot.ly/plotly-2.8.3.min.js\"></script>                <div id=\"af44996c-3be9-421d-96d3-ec85652871ca\" class=\"plotly-graph-div\" style=\"height:500px; width:900px;\"></div>            <script type=\"text/javascript\">                                    window.PLOTLYENV=window.PLOTLYENV || {};                                    if (document.getElementById(\"af44996c-3be9-421d-96d3-ec85652871ca\")) {                    Plotly.newPlot(                        \"af44996c-3be9-421d-96d3-ec85652871ca\",                        [{\"alignmentgroup\":\"True\",\"hovertemplate\":\"scanner=%{x}<br>Failure=%{marker.color}<extra></extra>\",\"legendgroup\":\"\",\"marker\":{\"color\":[1,1,1,1,1,1,1,1,1,1,1,1,1,1,1,1,1,1,1,1,1,1,1,1,1,1,1,1,1,1,1,1,1,1,1,1,1,1,1,1,1,1,1,1,1,1,1,1,1,1,1,1,1,1,1,1,1,1,1,1,1,1,1,1,1,1,1,1,1,1,1,1,1,1,1,1,1,1,1,1,1,1,1,1,1,1,1,1,1,1,1,1,1,1,1,1,1,1,1,1,1,1,1,1,1,1,1,1,1,1,1,1,1,1,1,1,1,1,1,1,1,1,1,1,1,1,1,1,1,1,1,1,1,1,1,1,1,1,1,1,1,1,1,1,1,1,1,1,1,1,1,1,1,1,1,1,1,1,1,1,1,1,1,1,1,1,1,1,1,1,1,1,1,1,1,1,1,1,1,1,1,1,1,1,1,1,1,1,1,1,1,1,1,1,1,1,1,1,1,1,1,1,1,1,1,1,1,1,1,1,1,1,1,1,1,1,1,1,1,1,1,1,1,1,1,1,1,1,1,1,1,1,1,1,1,1,1,1,1,1,1,1,2,2,1,1,1,1,1,1,1,1,1,1,1,1,1,1,1,1,1,1,1,1,1,1,1,1,1,1,1,1,1,1,1,1,1,1,1,1,1,1,1,1,1,1,1,1,1,1,1,1,1,1,1,1,1,1,1,1,2,1,1,1,1,1,1,1,1,1,1,1,1,1,1,1,1,1,1,1,1,1,1,1,1,1,1,1,1,1,1,1,1,1,1,1,1,1,1,1,1,1,1,1,1,1,1,1,1,1,1,1,1,1,1,1,1,1,1,1,1,1,1,1,1,1,1,1,1,1,1,1,1,1,1,1,1,1,1,1,1,1,1,1,1,1,1,1,1,1,1,1,1,1,1,1,1,1,1,1,1,1,1,1,1,1,1,1,1,1,1,1,1,1,1,1,1,1,1,1,1,1,1,1,1,1,1,1,1,1,1,1,1,1,1,1,1,1,1,1,1,1,1,1,2,1,1,1,1,1,1,1,1,1,1,1,1,1,1,1,1,1,1,1,1,1,1,1,1,1,1,1,1,1,1,1,1,1,1,1,1,1,1,1,1,1,1,1,1,1,1,1,1,1,1,1,1,1,1,1,1,1,1,1,1,1,1,1,1,1,1,1,1,1,1,1,1,1,1,1,1,1,1,1,1,1,1,1,1,1,1,1,1,1,1,1,1,1,1,1,1,1,1,1,1,1,1,1,1,1,1,1,1,1,1,1,1,1,1,1,1,1,1,1,1,1,1,1,1,1,1,1,1,1,1,1,1,1,1,1,2,1,1,1,1,1,1,1,1,1,1,1,1,1,1,2,1,1,1,1,1,1,1,1,1,1,1,1,1,1,1,1,1,1,1,1,1,1,1,1,1,1,1,1,1,1,1,1,1,1,1,1,1,1,1,1,1,1,1,1,1,1,1,1,1,1,1,1,2,1,1,1,1,1,1,1,1,1,1,1,1,1,1,1,1,1,1,1,1,1,1,1,1,1,1,1,1,1,1,1,1,1,1,1,1,1,1,1,1,1,1,1,1,1,1,1,1,1,1,1,1,1,1,1,1,1,1,1,1,1,1,1,1,1,1,1,1,1,1,1,1,1,1,1,1,1,1,1,1,1,1,1,1,1,1,1,1,1,1,1,1,1,1,1,1,1,1,1,1,1,1,1,1,1,1,1,1,1,1,1,1,1,1,1,1,1,1,1,1,1,1,1,1,1,1,1,1,1,1,1,1,1,1,1,1,1,1,1,1,1,1,1,1,1,1,1,1,1,1,1,1,1,1,1,1,1,1,1,1,1,1,1,1,1,1,1,1,1,1,1,1,1,1,1,1,1,1,1,1,1,1,1,1,1,1,1,1,1,1,1,1,1,1,1,1,1,1,1,1,1,1,1,1,1,1,1,1,1,1,1,1,1,1,1,1,1,1,1,1,1,1,1,1,1,1,1,1,1,1,1,1,1,1,1,1,1,1,1,1,1,1,1,1,1,1,1,1,1,1,1,1,1,1,1,1,1,1,1,1,1,1,1,1,1,1,1,1,1,1,1,1,1,1,1,1,1,1,1,1,1,1,1,1,1,1,1,1,1,1,1,1,1,1,1,1,1,1,1,1,1,1,1,1,1,1,1,1,1,1,1,1,1,1,1,1,1,1,1,1,1,1,1,1,1,1,1,1,1,1,1,1,1,1,1,1,1,1,1,1,1,1,1,1,1,1,1,1,1,1,1,1,1,1,1,1,1,1,1,1,1,1,1,1,1,1,1,1,1,1,1,1,1,1,1,1,1,1,1,1,1,1,1,1,1,1,1,1,1,1,1,1,1,1,1,1,1,1,1,1,1,1,1,1,1,1,1,1,1,1,1,1,1,1,1,1,1,1,1,1,1,1,1,1,1,1,1,1,1,1,1,1,1,1,1,1,1,1,1,1,1,1,1,1,1,1,1,1,1,1,1,1,1,1,1,1,1,1,1,1,1,1,1,1,1,1,1,1,1,1,1,1,1,1,1,1,1,1,1,1,1,1,1,1,1,1,1,1,1,1,1,1,1,1,1,1,1,1,1,1,1,1,1,1,1,1,1,1,1,1,1,1,1,1,1,1,1,1,1,1,1,1,1,1,1,1,1,1,1,1,1,1,1,1,1,1,1,1,1,1,1,1,1,1,1,1,1,1,1,1,1,1,1,1,1,1,1,1,1,1,1,1,1,1,1,1,1,1,1,1,1,1,1,1,1,1,1,1,1,1,1,1,1,1,1,1,1,1,1,1,1,1,1,1,1,1,1,1,1,1,1,1,1,1,1,1,1,1,1,1,1,1,1,1,1,1,1,1,1,1,1,1,1,1,1,1,1,1,1,1,1,1,1,1,1,1,1,1,1,1,1,1,1,1,1,1,1,1,1,1,1,1,1,1,1,1,1,1,1,1,1,1,1,1,1,1,1,1,1,1,1,1,1,1,1,1,1,1,1,1,1,1,1,1,1,1,1,1,1,1,1,1,1,1,1,1,1,1,1,1,1,1,1,1,1,1,1,1,1,1,1,1,1,1,1,1,1,1,1,1,1,1,1,1,1,1,1,1,1,1,1,1,1,1,1,1,1,1,1,1,1,1,1,1,1,1,1,1,1,1,1,2,1,1,1,1,1,1,1,1,1,1,1,1,1,1,1,1,1,1,1,1,1,1,1,1,1,1,1,1,1,1,1,1,1,1,1,1,1,1,1,1,1,1,1,1,1,1,1,1,1,1,1,1,1,1,1,1,1,1,1,1,1,1,1,2,1,1,1,1,1,1,1,1,1,1,1,1,1,1,1,1,1,1,1,1,1,1,1,1,1,1,1,1,1,1,1,1,1,1,1,1,1,1,2,1,1,1,1,1,1,1,1,1,1,1,1,1,1,1,1,1,1,1,1,1,1,1,1,1,1,1,1,1,1,1,1,1,1,1,1,1,1,1,1,1,1,1,1,1,1,1,1,1,1,1,1,1,1,1,1,1,1,1,1,1,1,1,1,1,1,1,1,1,1,1,1,1,1,1,1,1,1,1,1,1,1,1,1,1,1,1,1,1,1,1,1,1,1,1,1,1,1,1,1,1,1,1,1,1,1,1,1,1,1,1,1,1,1,1,1,1,1,1,1,1,1,1,1,1,1,1,1,1,1,1,1,1,1,1,1,1,1,1,1,1,1,1,1,1,1,1,1,1,1,1,1,1,1,1,1,1,1,1,1,1,1,1,1,1,1,1,1,1,1,1,1,1,1,1,1,1,1,1,1,1,1,1,1,1,1,1,1,1,1,1,1,1,1,1,1,2,1,1,1,1,2,1,1,1,1,1,1,1,1,1,1,1,1,1,1,1,1,1,1,1,1,1,1,1,1,1,1,1,1,1,1,1,1,1,1,1,1,1,1,1,1,1,1,1,1,1,1,1,1,1,1,1,1,1,1,1,1,1,1,1,1,1,1,1,1,1,1,1,1,1,1,1,1,1,1,1,1,1,1,1,1,1,1,1,1,1,1,1,1,1,1,1,1,1,1,1,1,1,1,1,1,1,1,1,1,1,1,1,1,1,1,1,1,1,1,1,1,1,1,1,1,1,1,1,1,1,1,1,1,1,1,1,1,1,1,1,1,1,1,1,1,1,1,1,1,1,1,1,1,1,1,1,1,1,1,1,1,1,1,1,1,1,1,1,1,1,1,1,1,1,1,1,1,1,1,1,1,1,1,1,1,1,1,1,1,1,1,1,1,1,1,1,1,1,1,1,1,1,1,1,1,1,1,1,1,1,1,1,1,1,1,1,1,1,1,1,1,1,1,1,1,1,1,1,1,1,1,1,1,1,1,1,1,1,1,1,1,1,1,1,1,1,1,1,1,1,1,1,1,1,1,1,1,1,1,1,1,1,1,1,1,1,1,1,1,1,1,1,1,1,1,1,1,1,1,1,1,1,1,1,1,1,1,1,1,1,1,1,1,1,1,1,1,1,1,1,1,1,1,1,1,1,1,1,1,1,1,1,1,1,1,1,1,1,1,1,1,1,1,1,1,1,1,1,1,1,1,1,1,1,1,1,1,1,1,1,1,1,1,1,1,1,1,1,1,1,1,1,1,1,1,1,1,1,1,1,1,1,1,1,1,1,1,1,1,1,1,1,1,1,1,1,1,1,1,1,1,1,1,1,1,1,1,1,1,1,1,1,1,1,1,1,1,1,1,1,1,1,1,1,1,1,1,1,1,1,1,1,1,1,1,1,1,1,1,1,1,1,1,1,1,1,1,1,1,1,1,1,1,1,1,1,1,1,1,1,1,1,1,1,1,1,1,1,1,1,1,1,1,1,1,1,1,1,1,1,1,1,1,1,1,1,1,1,1,1,1,1,1,1,1,1,1,1,1,1,1,1,1,1,1,1,1,1,1,1,1,1,1,1,1,1,1,1,1,1,1,1,1,1,1,1,1,1,1,1,1,1,1,1,1,1,1,1,1,1,1,1,1,1,1,1,1,1,1,1,1,1,1,1,1,1,1,1,1,1,1,1,1,1,1,1,1,1,1,1,1,1,1,1,1,1,1,1,1,1,1,1,1,1,1,1,1,1,1,1,1,1,1,1,1,1,1,1,1,1,1,1,1,1,1,1,1,1,1,1,1,1,1,1,1,1,1,1,1,1,1,1,1,1,1,1,1,1,1,1,1,1,1,1,1,1,1,1,1,1,1,1,1,1,1,1,1,1,1,1,1,1,1,1,1,1,1,1,1,1,1,1,1,1,1,1,1,1,1,1,1,1,1,1,1,1,1,1,1,1,1,1,1,1,1,1,1,1,1,1,1,1,1,1,1,1,1,1,1,1,1,1,1,1,1,1,1,1,1,1,1,1,1,1,1,1,1,1,1,1,1,1,1,1,1,1,1,1,1,1,1,1,1,1,1,1,1,1,1,1,1,1,1,1,1,1,1,1,1,1,1,1,1,1,1,1,1,1,1,1,1,1,1,1,1,1,1,1,1,1,1,1,1,1,1,1,1,1,1,1,1,1,1,1,1,1,1,1,1,1,1,1,1,1,1,1,1,1,1,1,1,1,1,1,1,1,1,1,1,1,1,1,1,1,1,1,1,1,1,1,1,1,1,1,1,1,1,1,1,1,1,1,1,1,1,1,1,1,1,1,1,1,1,1,1,1,1,1,1,1,1,1,1,1,1,1,1,1,1,1,1,1,1,1,1,1,1,1,1,1,1,1,1,1,1,1,1,1,1,1,1,1,1,1,1,1,1,1,1,1,1,1,1,1,1,1,1,1,1,1,1,1,1,1,1,1,1,1,1,1,1,1,1,1,1,1,1,1,1,1,1,1],\"coloraxis\":\"coloraxis\",\"pattern\":{\"shape\":\"\"}},\"name\":\"\",\"offsetgroup\":\"\",\"orientation\":\"v\",\"showlegend\":false,\"textposition\":\"auto\",\"x\":[\"K219\",\"H161\",\"K211\",\"K212\",\"K220\",\"K221\",\"K169\",\"H162\",\"K238\",\"K250\",\"K237\",\"H173\",\"H175\",\"H177\",\"H176\",\"H174\",\"H128\",\"H163\",\"K239\",\"K141\",\"H148\",\"H131\",\"H132\",\"H134\",\"H133\",\"H135\",\"H138\",\"H139\",\"H149\",\"K115\",\"H129\",\"H130\",\"H127\",\"K167\",\"K150\",\"K210\",\"K209\",\"K149\",\"K120\",\"H150\",\"K115\",\"K121\",\"K168\",\"K114\",\"K114\",\"K171\",\"K171\",\"H171\",\"K167\",\"K147\",\"K147\",\"K147\",\"K172\",\"K150\",\"K173\",\"K173\",\"K173\",\"K208\",\"K149\",\"K218\",\"K211\",\"K212\",\"K212\",\"K220\",\"K221\",\"K221\",\"K169\",\"K120\",\"K141\",\"K141\",\"H150\",\"H148\",\"H131\",\"H134\",\"H133\",\"H135\",\"H138\",\"H139\",\"H149\",\"K115\",\"K121\",\"K121\",\"K168\",\"K168\",\"K114\",\"K171\",\"K171\",\"H171\",\"H171\",\"H173\",\"H175\",\"H175\",\"H177\",\"H177\",\"H176\",\"H174\",\"H174\",\"K218\",\"K218\",\"K219\",\"H161\",\"H161\",\"H162\",\"H162\",\"H163\",\"K239\",\"K239\",\"K239\",\"K239\",\"K239\",\"K238\",\"K238\",\"K238\",\"K238\",\"K250\",\"K250\",\"K250\",\"K250\",\"K237\",\"K237\",\"K237\",\"K237\",\"H150\",\"H148\",\"H131\",\"H133\",\"H149\",\"K115\",\"K115\",\"K115\",\"K115\",\"K121\",\"K121\",\"K121\",\"K121\",\"K121\",\"K168\",\"K168\",\"K168\",\"K168\",\"K168\",\"K114\",\"K114\",\"K114\",\"K114\",\"K114\",\"K171\",\"K171\",\"K171\",\"K171\",\"H128\",\"H128\",\"H128\",\"H128\",\"H128\",\"H128\",\"H129\",\"H129\",\"H129\",\"H129\",\"H129\",\"H130\",\"H130\",\"H130\",\"H130\",\"H130\",\"H130\",\"H127\",\"H127\",\"H127\",\"H127\",\"H127\",\"K167\",\"K147\",\"K172\",\"K150\",\"K173\",\"K210\",\"K209\",\"K149\",\"K218\",\"K219\",\"H162\",\"H163\",\"K169\",\"K120\",\"K141\",\"H150\",\"H148\",\"H131\",\"H132\",\"H133\",\"H135\",\"H138\",\"H139\",\"H169\",\"H170\",\"H170\",\"H172\",\"H172\",\"H168\",\"H168\",\"K115\",\"K115\",\"K115\",\"K115\",\"K121\",\"K168\",\"K168\",\"K168\",\"K114\",\"K114\",\"K114\",\"K171\",\"K171\",\"K171\",\"H171\",\"H173\",\"H175\",\"H177\",\"H176\",\"H128\",\"H128\",\"H129\",\"H129\",\"H130\",\"H130\",\"H127\",\"K167\",\"K167\",\"K147\",\"K147\",\"K150\",\"K150\",\"K173\",\"K173\",\"K208\",\"K210\",\"K210\",\"K209\",\"K149\",\"K149\",\"H162\",\"H163\",\"K212\",\"K220\",\"K221\",\"K169\",\"K169\",\"K120\",\"K120\",\"K120\",\"K141\",\"K141\",\"K115\",\"K121\",\"K168\",\"K171\",\"H171\",\"H173\",\"H175\",\"H177\",\"H176\",\"H128\",\"H128\",\"H129\",\"H129\",\"H130\",\"H127\",\"H127\",\"K167\",\"K167\",\"K147\",\"K172\",\"K172\",\"K172\",\"K150\",\"K150\",\"K173\",\"K208\",\"K208\",\"K210\",\"K210\",\"K209\",\"K209\",\"K149\",\"K149\",\"H161\",\"H161\",\"H162\",\"H163\",\"H163\",\"H163\",\"K239\",\"K239\",\"K239\",\"K238\",\"K238\",\"K238\",\"K250\",\"K250\",\"K250\",\"K250\",\"K237\",\"K237\",\"K237\",\"K212\",\"K220\",\"K221\",\"K238\",\"K250\",\"K237\",\"K169\",\"K120\",\"K115\",\"K115\",\"K121\",\"K121\",\"K121\",\"K168\",\"K114\",\"K114\",\"K171\",\"K171\",\"H128\",\"H128\",\"H129\",\"H129\",\"H129\",\"H130\",\"H130\",\"H127\",\"H127\",\"H127\",\"K167\",\"K167\",\"K167\",\"K147\",\"K147\",\"K147\",\"K172\",\"K172\",\"K172\",\"K150\",\"K150\",\"K150\",\"K173\",\"K173\",\"K173\",\"K173\",\"K208\",\"K208\",\"K210\",\"K210\",\"K210\",\"K209\",\"K209\",\"K149\",\"K149\",\"K149\",\"K149\",\"H161\",\"H162\",\"H162\",\"H163\",\"K239\",\"K250\",\"K237\",\"K211\",\"K211\",\"K211\",\"K220\",\"K220\",\"K221\",\"K218\",\"K219\",\"H161\",\"H162\",\"H163\",\"K239\",\"K212\",\"K169\",\"K169\",\"K169\",\"K169\",\"K169\",\"K120\",\"K120\",\"K141\",\"K141\",\"K141\",\"K141\",\"K141\",\"H132\",\"H132\",\"H134\",\"H169\",\"H149\",\"K115\",\"K115\",\"K115\",\"K121\",\"K121\",\"K168\",\"K168\",\"K168\",\"K168\",\"K114\",\"K114\",\"K114\",\"K114\",\"K171\",\"K171\",\"K171\",\"H173\",\"H176\",\"H174\",\"H174\",\"H128\",\"H128\",\"H129\",\"H130\",\"H130\",\"H130\",\"H127\",\"H127\",\"H127\",\"K167\",\"K167\",\"K147\",\"K147\",\"K172\",\"K150\",\"K150\",\"K173\",\"K208\",\"K208\",\"K208\",\"K209\",\"K209\",\"K149\",\"K211\",\"K219\",\"H161\",\"H161\",\"H161\",\"H162\",\"H163\",\"K239\",\"K238\",\"K238\",\"K238\",\"K250\",\"K237\",\"K237\",\"K121\",\"K168\",\"K115\",\"K114\",\"K171\",\"K120\",\"K141\",\"K169\",\"H161\",\"H162\",\"H163\",\"H161\",\"H162\",\"H163\",\"K141\",\"K169\",\"K120\",\"K141\",\"K169\",\"H161\",\"H162\",\"H163\",\"K121\",\"K168\",\"K115\",\"K114\",\"K171\",\"K121\",\"K168\",\"K115\",\"K114\",\"K171\",\"K237\",\"K238\",\"K239\",\"K250\",\"K237\",\"K238\",\"K239\",\"K250\",\"K237\",\"K238\",\"K239\",\"K250\",\"K237\",\"K238\",\"K239\",\"K250\",\"K237\",\"K238\",\"K239\",\"K250\",\"K121\",\"K168\",\"K115\",\"K171\",\"H161\",\"H162\",\"H163\",\"K120\",\"K141\",\"K169\",\"K211\",\"K212\",\"K220\",\"K221\",\"K112\",\"K113\",\"K150\",\"K173\",\"K147\",\"K149\",\"K167\",\"H143\",\"H129\",\"H130\",\"H128\",\"H127\",\"K210\",\"K209\",\"K172\",\"K150\",\"K173\",\"K147\",\"K149\",\"K167\",\"K150\",\"K173\",\"K147\",\"K149\",\"K167\",\"K210\",\"K209\",\"K172\",\"H130\",\"H128\",\"H127\",\"K150\",\"K173\",\"K147\",\"K149\",\"K167\",\"H129\",\"H130\",\"H128\",\"H127\",\"K237\",\"K238\",\"K239\",\"K250\",\"K150\",\"K173\",\"K147\",\"K149\",\"K167\",\"H129\",\"H130\",\"H128\",\"H127\",\"K210\",\"K209\",\"K172\",\"H142\",\"H147\",\"H151\",\"H152\",\"H154\",\"H155\",\"H156\",\"H157\",\"H153\",\"H171\",\"H175\",\"H176\",\"H177\",\"H174\",\"H173\",\"H142\",\"H147\",\"H151\",\"H152\",\"H154\",\"H155\",\"H156\",\"H157\",\"H153\",\"H171\",\"H175\",\"H176\",\"H177\",\"H174\",\"H173\",\"K220\",\"K221\",\"K167\",\"K147\",\"K150\",\"K173\",\"K149\",\"H128\",\"H129\",\"H130\",\"H127\",\"K218\",\"K219\",\"K239\",\"K238\",\"K237\",\"K115\",\"K121\",\"K168\",\"K114\",\"K171\",\"K115\",\"K121\",\"K168\",\"K114\",\"K171\",\"H161\",\"H162\",\"H163\",\"K120\",\"K141\",\"K169\",\"K120\",\"K169\",\"H161\",\"H162\",\"H163\",\"K141\",\"H142\",\"H147\",\"H152\",\"H153\",\"H154\",\"H151\",\"H157\",\"H156\",\"H155\",\"H171\",\"H173\",\"H175\",\"H177\",\"H176\",\"H174\",\"K220\",\"K221\",\"K112\",\"K113\",\"K112\",\"K113\",\"H143\",\"H143\",\"K210\",\"K209\",\"K172\",\"K150\",\"K173\",\"K147\",\"K149\",\"K167\",\"H128\",\"H129\",\"H130\",\"H127\",\"K210\",\"K172\",\"H128\",\"H129\",\"H130\",\"H127\",\"K172\",\"K208\",\"K210\",\"K209\",\"K115\",\"K121\",\"K168\",\"K114\",\"K171\",\"H161\",\"H162\",\"H163\",\"K169\",\"K120\",\"K141\",\"H171\",\"H173\",\"H175\",\"H177\",\"H176\",\"H174\",\"K220\",\"K221\",\"H150\",\"H148\",\"H131\",\"H132\",\"H133\",\"H149\",\"H134\",\"H135\",\"H138\",\"H139\",\"K150\",\"K173\",\"K147\",\"K149\",\"K167\",\"K150\",\"K173\",\"K147\",\"K149\",\"K167\",\"H142\",\"H147\",\"H152\",\"H153\",\"H154\",\"H151\",\"H157\",\"H156\",\"H155\",\"K150\",\"K173\",\"K147\",\"K149\",\"K167\",\"H128\",\"H129\",\"H130\",\"H127\",\"K208\",\"K210\",\"K209\",\"K172\",\"K121\",\"K168\",\"K115\",\"K114\",\"K171\",\"K218\",\"K219\",\"K120\",\"K141\",\"K169\",\"H161\",\"H162\",\"H163\",\"K115\",\"K121\",\"K168\",\"K114\",\"K171\",\"H161\",\"H162\",\"H163\",\"K169\",\"K120\",\"K141\",\"K239\",\"K238\",\"K250\",\"K237\",\"K239\",\"K238\",\"K250\",\"K237\",\"K239\",\"K238\",\"K250\",\"K237\",\"H171\",\"H173\",\"H175\",\"H177\",\"H176\",\"H174\",\"K239\",\"K238\",\"K250\",\"K237\",\"K169\",\"K120\",\"K141\",\"K115\",\"K121\",\"K168\",\"K114\",\"K171\",\"H161\",\"H162\",\"H163\",\"K220\",\"K221\",\"K239\",\"K238\",\"K250\",\"K237\",\"K167\",\"K147\",\"K150\",\"K173\",\"K149\",\"K147\",\"K150\",\"K173\",\"K167\",\"K149\",\"H129\",\"H130\",\"H128\",\"H127\",\"K208\",\"K210\",\"K209\",\"K172\",\"K150\",\"K173\",\"K147\",\"K149\",\"K167\",\"H129\",\"H130\",\"H128\",\"H127\",\"K172\",\"K208\",\"K210\",\"K209\",\"K150\",\"K173\",\"K147\",\"K149\",\"K167\",\"H129\",\"H130\",\"H128\",\"H127\",\"K172\",\"K208\",\"K210\",\"K209\",\"K121\",\"K168\",\"K115\",\"K114\",\"K171\",\"H161\",\"H162\",\"H163\",\"K169\",\"K120\",\"K141\",\"H142\",\"H147\",\"H152\",\"H153\",\"H154\",\"H151\",\"H157\",\"H156\",\"H155\",\"K220\",\"K221\",\"K218\",\"K219\",\"H171\",\"H175\",\"H177\",\"H176\",\"H174\",\"K239\",\"K238\",\"K250\",\"K237\",\"K150\",\"K173\",\"K147\",\"K149\",\"K167\",\"H129\",\"H130\",\"H128\",\"H127\",\"K172\",\"K208\",\"K210\",\"K209\",\"K121\",\"K168\",\"K115\",\"K114\",\"K171\",\"H161\",\"H162\",\"H163\",\"K169\",\"K120\",\"K141\",\"H171\",\"H173\",\"H175\",\"H177\",\"H176\",\"H174\",\"K239\",\"K238\",\"K250\",\"K237\",\"K167\",\"K147\",\"K150\",\"K173\",\"K149\",\"H128\",\"H129\",\"H130\",\"H127\",\"K208\",\"K210\",\"K209\",\"K172\",\"K115\",\"K121\",\"K168\",\"K114\",\"K171\",\"H161\",\"H162\",\"H163\",\"K169\",\"K120\",\"K141\",\"H171\",\"H173\",\"H175\",\"H177\",\"H176\",\"H174\",\"K220\",\"K221\",\"H166\",\"H167\",\"H165\",\"K239\",\"K238\",\"K250\",\"K237\",\"K121\",\"K168\",\"K115\",\"K114\",\"K171\",\"K169\",\"K120\",\"K141\",\"H161\",\"H162\",\"H163\",\"H166\",\"H167\",\"H165\",\"K220\",\"K221\",\"H171\",\"H173\",\"H175\",\"H177\",\"H176\",\"H174\",\"K121\",\"K168\",\"K115\",\"K114\",\"K171\",\"H166\",\"H167\",\"H165\",\"H161\",\"H162\",\"H163\",\"K169\",\"K120\",\"K141\",\"H171\",\"H173\",\"H175\",\"H177\",\"H176\",\"H174\",\"K121\",\"K168\",\"K115\",\"K114\",\"K171\",\"K120\",\"K141\",\"K169\",\"H161\",\"H162\",\"H163\",\"H142\",\"H147\",\"H152\",\"H153\",\"H154\",\"H151\",\"H157\",\"H156\",\"H155\",\"K239\",\"K238\",\"K250\",\"K237\",\"K237\",\"K238\",\"K239\",\"K250\",\"K237\",\"K238\",\"K239\",\"K250\",\"H161\",\"H162\",\"H163\",\"K169\",\"K120\",\"K141\",\"K121\",\"K168\",\"K115\",\"K114\",\"K171\",\"K220\",\"K221\",\"K113\",\"H143\",\"K218\",\"K219\",\"H171\",\"H173\",\"H175\",\"H177\",\"H176\",\"H174\",\"K115\",\"K121\",\"K168\",\"K114\",\"K171\",\"H161\",\"H162\",\"H163\",\"K169\",\"K120\",\"K141\",\"H171\",\"H173\",\"H175\",\"H177\",\"H176\",\"H174\",\"K220\",\"K221\",\"K218\",\"K219\",\"K150\",\"K173\",\"K147\",\"K149\",\"K167\",\"H128\",\"H129\",\"H130\",\"H127\",\"K239\",\"K238\",\"K250\",\"K208\",\"K210\",\"K209\",\"K172\",\"K218\",\"K219\",\"K167\",\"K147\",\"K150\",\"K173\",\"K149\",\"H129\",\"H130\",\"H128\",\"H127\",\"K172\",\"K208\",\"K210\",\"K209\",\"K167\",\"K147\",\"K150\",\"K173\",\"K149\",\"H129\",\"H130\",\"H128\",\"H127\",\"K172\",\"K208\",\"K210\",\"K209\",\"K172\",\"K208\",\"K210\",\"K209\",\"H161\",\"H162\",\"H163\",\"K169\",\"K141\",\"K121\",\"K168\",\"K115\",\"K114\",\"K171\",\"K220\",\"K221\",\"H171\",\"H173\",\"H175\",\"H177\",\"H176\",\"H174\",\"K218\",\"K219\",\"K112\",\"K113\",\"K112\",\"K113\",\"H143\",\"K218\",\"K219\",\"K115\",\"K121\",\"K168\",\"K114\",\"K171\",\"H161\",\"H162\",\"H163\",\"K169\",\"K141\",\"K220\",\"K221\",\"K218\",\"K219\",\"H171\",\"H173\",\"H175\",\"H177\",\"H176\",\"H174\",\"K147\",\"K150\",\"K173\",\"K149\",\"K167\",\"K239\",\"K238\",\"K250\",\"H129\",\"H130\",\"H128\",\"H127\",\"K172\",\"K208\",\"K210\",\"K209\",\"K150\",\"K173\",\"K147\",\"K149\",\"K167\",\"H129\",\"H130\",\"H128\",\"H127\",\"K208\",\"K210\",\"K209\",\"K172\",\"K238\",\"K239\",\"K150\",\"K173\",\"K147\",\"K149\",\"K167\",\"H128\",\"H129\",\"H130\",\"H127\",\"K208\",\"K210\",\"K209\",\"K172\",\"K167\",\"K147\",\"K150\",\"K173\",\"K149\",\"K121\",\"K168\",\"K115\",\"K114\",\"K171\",\"H161\",\"H162\",\"H163\",\"K169\",\"K141\",\"K220\",\"K221\",\"H129\",\"H130\",\"H128\",\"H127\",\"K208\",\"K210\",\"K209\",\"K172\",\"K112\",\"K113\",\"K112\",\"K113\",\"H143\",\"H171\",\"H173\",\"H175\",\"H177\",\"H176\",\"H174\",\"K121\",\"K168\",\"K115\",\"K114\",\"K171\",\"K218\",\"K219\",\"H161\",\"H162\",\"H163\",\"K169\",\"K120\",\"K141\",\"H171\",\"H173\",\"H175\",\"H177\",\"H176\",\"H174\",\"H171\",\"H173\",\"H175\",\"H177\",\"H176\",\"H174\",\"K115\",\"K121\",\"K168\",\"K114\",\"K171\",\"H167\",\"H165\",\"H161\",\"H162\",\"H163\",\"K169\",\"K120\",\"K141\",\"K239\",\"K238\",\"K250\",\"K237\",\"H171\",\"H173\",\"H175\",\"H177\",\"H176\",\"H174\",\"H161\",\"H162\",\"H163\",\"K169\",\"K120\",\"K141\",\"K121\",\"K168\",\"K115\",\"K114\",\"K171\",\"H167\",\"H165\",\"K208\",\"K210\",\"K209\",\"K172\",\"K150\",\"K173\",\"K147\",\"K149\",\"K167\",\"K150\",\"K173\",\"K147\",\"K149\",\"K167\",\"H128\",\"H129\",\"H130\",\"H127\",\"H128\",\"H129\",\"H130\",\"H127\",\"K172\",\"K208\",\"K210\",\"K209\",\"K238\",\"K239\",\"K250\",\"K238\",\"K239\",\"K250\",\"K238\",\"K239\",\"K250\",\"K239\",\"K238\",\"K250\",\"K237\",\"K238\",\"K239\",\"K239\",\"K238\",\"K250\",\"K115\",\"K121\",\"K168\",\"K114\",\"K171\",\"H161\",\"H162\",\"H163\",\"K169\",\"K120\",\"K141\",\"H167\",\"H165\",\"K239\",\"K238\",\"K250\",\"K237\",\"H171\",\"H173\",\"H175\",\"H177\",\"H176\",\"H174\",\"K167\",\"K147\",\"K150\",\"K173\",\"K149\",\"H128\",\"H129\",\"H130\",\"H127\",\"K172\",\"K208\",\"K210\",\"K209\",\"K167\",\"K147\",\"K150\",\"K149\",\"H129\",\"H130\",\"H128\",\"H127\",\"K208\",\"K210\",\"K209\",\"K172\",\"K167\",\"K147\",\"K150\",\"K149\",\"H128\",\"H129\",\"H130\",\"H127\",\"K172\",\"K208\",\"K210\",\"K209\",\"K121\",\"K168\",\"K115\",\"K114\",\"K171\",\"H171\",\"H173\",\"H175\",\"H177\",\"H176\",\"H174\",\"K169\",\"K120\",\"K141\",\"H161\",\"H162\",\"H163\",\"K239\",\"K238\",\"K250\",\"K237\",\"K115\",\"K121\",\"K168\",\"K114\",\"K171\",\"H161\",\"H162\",\"H163\",\"K169\",\"K120\",\"K141\",\"H171\",\"H173\",\"H175\",\"H177\",\"H176\",\"H174\",\"H167\",\"H165\",\"K167\",\"K147\",\"K150\",\"K173\",\"K149\",\"H129\",\"H130\",\"H128\",\"H127\",\"K172\",\"K208\",\"K210\",\"K209\",\"K167\",\"K147\",\"K150\",\"K149\",\"H128\",\"H129\",\"H130\",\"H127\",\"H128\",\"H129\",\"H130\",\"H127\",\"K172\",\"K208\",\"K210\",\"K209\",\"K167\",\"K147\",\"K150\",\"K149\",\"H128\",\"H129\",\"H130\",\"H127\",\"K172\",\"K208\",\"K210\",\"K209\",\"K150\",\"K173\",\"K147\",\"K149\",\"K167\",\"H128\",\"H129\",\"H130\",\"H127\",\"K208\",\"K210\",\"K209\",\"K172\",\"K115\",\"K121\",\"K168\",\"K114\",\"H161\",\"H162\",\"H163\",\"K169\",\"K120\",\"K141\",\"H167\",\"H165\",\"H171\",\"H173\",\"H175\",\"H177\",\"H176\",\"H174\",\"K121\",\"K168\",\"K115\",\"K114\",\"K171\",\"H167\",\"H165\",\"H161\",\"H162\",\"H163\",\"K120\",\"K141\",\"K169\",\"H171\",\"H173\",\"H175\",\"H177\",\"H176\",\"H174\",\"K121\",\"K168\",\"K115\",\"K114\",\"K171\",\"K120\",\"K141\",\"K169\",\"H161\",\"H162\",\"H163\",\"H167\",\"H165\",\"K239\",\"K238\",\"K250\",\"K237\",\"H171\",\"H173\",\"H175\",\"H177\",\"H176\",\"H174\",\"H161\",\"H162\",\"H163\",\"K169\",\"K120\",\"K141\",\"K220\",\"K221\",\"K239\",\"K238\",\"K250\",\"K237\",\"H171\",\"H173\",\"H175\",\"H177\",\"H176\",\"H174\",\"K218\",\"K219\",\"K121\",\"K168\",\"K115\",\"K114\",\"K121\",\"K168\",\"K115\",\"K114\",\"K169\",\"K120\",\"K141\",\"H161\",\"H162\",\"H163\",\"K218\",\"K219\",\"K220\",\"K221\",\"H167\",\"H165\",\"K208\",\"K210\",\"K209\",\"K172\",\"K239\",\"K238\",\"K250\",\"K237\",\"H161\",\"H162\",\"H163\",\"K169\",\"K120\",\"K141\",\"K115\",\"K121\",\"K168\",\"K114\",\"K171\",\"K218\",\"K219\",\"H171\",\"H173\",\"H175\",\"H177\",\"H176\",\"H174\",\"K220\",\"K221\",\"K121\",\"K168\",\"K115\",\"K114\",\"H163\",\"H161\",\"H162\",\"K120\",\"K141\",\"K169\",\"H171\",\"H175\",\"H176\",\"H177\",\"H174\",\"H173\",\"K218\",\"K219\",\"K220\",\"K221\",\"K115\",\"K121\",\"K168\",\"K114\",\"K169\",\"K120\",\"K141\",\"H161\",\"H162\",\"H163\",\"K218\",\"K219\",\"K220\",\"K221\",\"H171\",\"H173\",\"H175\",\"H177\",\"H176\",\"H174\",\"K121\",\"K168\",\"K115\",\"K114\",\"K171\",\"H128\",\"H129\",\"H130\",\"H127\",\"K208\",\"K210\",\"K209\",\"K172\",\"K167\",\"K147\",\"K150\",\"K173\",\"K149\",\"K167\",\"K147\",\"K150\",\"K173\",\"K149\",\"H161\",\"H162\",\"H163\",\"K120\",\"K141\",\"K169\",\"H171\",\"H173\",\"H175\",\"H177\",\"H176\",\"H174\",\"K115\",\"K121\",\"K168\",\"K114\",\"K171\",\"H161\",\"H162\",\"H163\",\"K169\",\"K120\",\"K141\",\"K237\",\"K238\",\"K239\",\"K250\",\"K218\",\"K219\",\"K169\",\"K120\",\"K141\",\"H161\",\"H162\",\"H163\",\"K220\",\"K221\",\"H171\",\"H173\",\"H175\",\"H177\",\"H176\",\"H174\",\"K239\",\"K238\",\"K250\",\"K237\",\"K239\",\"K238\",\"K250\",\"K237\",\"K239\",\"K238\",\"K250\",\"K237\",\"K239\",\"K238\",\"K250\",\"K237\",\"K115\",\"K121\",\"K168\",\"K114\",\"K171\",\"K121\",\"K168\",\"K115\",\"K114\",\"K171\",\"H171\",\"H173\",\"H175\",\"H177\",\"H176\",\"H174\",\"H161\",\"H162\",\"H163\",\"K169\",\"K120\",\"K141\",\"K218\",\"K219\",\"H166\",\"H167\",\"H165\",\"K220\",\"K221\",\"K239\",\"K238\",\"K250\",\"K237\",\"K121\",\"K168\",\"K115\",\"K114\",\"K171\",\"K169\",\"K120\",\"K141\",\"H161\",\"H162\",\"H163\",\"H171\",\"H173\",\"H175\",\"H177\",\"H176\",\"H174\",\"K218\",\"K219\",\"K220\",\"K221\",\"K239\",\"K238\",\"K250\",\"K237\",\"K115\",\"K121\",\"K168\",\"K114\",\"K171\",\"H161\",\"H162\",\"H163\",\"K169\",\"K120\",\"K141\",\"H171\",\"H173\",\"H175\",\"H177\",\"H176\",\"H174\",\"K218\",\"K219\",\"K220\",\"K221\",\"H166\",\"H167\",\"H165\",\"K239\",\"K238\",\"K250\",\"K237\",\"H171\",\"H173\",\"H175\",\"H177\",\"H176\",\"H174\",\"K120\",\"K141\",\"K169\",\"H161\",\"H162\",\"H163\",\"K169\",\"K120\",\"K141\",\"H161\",\"H162\",\"H163\",\"H171\",\"H173\",\"H175\",\"H177\",\"H176\",\"H174\",\"K115\",\"K121\",\"K168\",\"K114\",\"K171\",\"H171\",\"H173\",\"H175\",\"H177\",\"H176\",\"H174\",\"K169\",\"K120\",\"K141\",\"K169\",\"K120\",\"K141\",\"K239\",\"K238\",\"K250\",\"K237\",\"K239\",\"K238\",\"K250\",\"K237\",\"K239\",\"K238\",\"K250\",\"K237\",\"K218\",\"K219\",\"H161\",\"H162\",\"H163\",\"K120\",\"K141\",\"K169\",\"H161\",\"H162\",\"H163\",\"K121\",\"K168\",\"K115\",\"K114\",\"K171\",\"K167\",\"K147\",\"K150\",\"K173\",\"K149\",\"K150\",\"K173\",\"K147\",\"K149\",\"K167\",\"H128\",\"H129\",\"H130\",\"H127\",\"K150\",\"K173\",\"K167\",\"K147\",\"K149\",\"K208\",\"K210\",\"K209\",\"K172\",\"K239\",\"K238\",\"K250\",\"K237\",\"H171\",\"H173\",\"H175\",\"H177\",\"H176\",\"H174\",\"K121\",\"K168\",\"K115\",\"K114\",\"K171\",\"K169\",\"K120\",\"K141\",\"H161\",\"H162\",\"H163\",\"H171\",\"H173\",\"H175\",\"H177\",\"H176\",\"H174\",\"K218\",\"K219\",\"K239\",\"K238\",\"K250\",\"K237\",\"K115\",\"K121\",\"K168\",\"K114\",\"K171\",\"H161\",\"H162\",\"H163\",\"K169\",\"K120\",\"K141\",\"H171\",\"H173\",\"H175\",\"H177\",\"H176\",\"H174\",\"H166\",\"H167\",\"H165\",\"K150\",\"K173\",\"K147\",\"K149\",\"K167\",\"H128\",\"H129\",\"H130\",\"H127\",\"K208\",\"K210\",\"K209\",\"K172\",\"K150\",\"K173\",\"K147\",\"K149\",\"K167\",\"K239\",\"K238\",\"K250\",\"K237\",\"H128\",\"H129\",\"H130\",\"H127\",\"K172\",\"K208\",\"K210\",\"K209\",\"K121\",\"K115\",\"K114\",\"K171\",\"K121\",\"K115\",\"K114\",\"K171\",\"K169\",\"K120\",\"K141\",\"H161\",\"H162\",\"H163\",\"H166\",\"H167\",\"H165\",\"K218\",\"K219\",\"K115\",\"K121\",\"K168\",\"K114\",\"K171\",\"K218\",\"K219\",\"H166\",\"H167\",\"H165\",\"H171\",\"H173\",\"H175\",\"H177\",\"H176\",\"H174\",\"K121\",\"K115\",\"K114\",\"K171\",\"H166\",\"H167\",\"H165\",\"H171\",\"H173\",\"H175\",\"H177\",\"H176\",\"H174\",\"K218\",\"K219\",\"K169\",\"K120\",\"K141\",\"H161\",\"H162\",\"H163\",\"H171\",\"H173\",\"H175\",\"H177\",\"H176\",\"H174\",\"K120\",\"K141\",\"K169\",\"K239\",\"K238\",\"K250\",\"K237\",\"H166\",\"H167\",\"H165\",\"K150\",\"K173\",\"K147\",\"K149\",\"K167\",\"H161\",\"H162\",\"H163\",\"K169\",\"K120\",\"K141\",\"H128\",\"H129\",\"H130\",\"H127\",\"K220\",\"K221\",\"K208\",\"K210\",\"K209\",\"K172\",\"K167\",\"K147\",\"K150\",\"K173\",\"K149\",\"H129\",\"H130\",\"H128\",\"H127\",\"K208\",\"K210\",\"K209\",\"K172\",\"K150\",\"K173\",\"K147\",\"K149\",\"K167\",\"H129\",\"H130\",\"H128\",\"H127\",\"K172\",\"K208\",\"K210\",\"K209\",\"K150\",\"K173\",\"K147\",\"K149\",\"K167\",\"H129\",\"H130\",\"H128\",\"H127\",\"K218\",\"K219\",\"K172\",\"K208\",\"K210\",\"K209\",\"K150\",\"K173\",\"K147\",\"K149\",\"K167\",\"H129\",\"H130\",\"H128\",\"H127\",\"K172\",\"K208\",\"K210\",\"K209\",\"K167\",\"K147\",\"K150\",\"K173\",\"K149\",\"H128\",\"H129\",\"H130\",\"H127\",\"K208\",\"K210\",\"K209\",\"K172\",\"K150\",\"K173\",\"K147\",\"K149\",\"K167\",\"H128\",\"H129\",\"H130\",\"H127\",\"K172\",\"K208\",\"K210\",\"K209\",\"K208\",\"K210\",\"K209\",\"K172\",\"K167\",\"K147\",\"K150\",\"K173\",\"K149\",\"H129\",\"H130\",\"H128\",\"H127\",\"K172\",\"K208\",\"K210\",\"K209\",\"K167\",\"K147\",\"K150\",\"K173\",\"K149\",\"H129\",\"H130\",\"H128\",\"H127\",\"K172\",\"K208\",\"K210\",\"K209\",\"H171\",\"H173\",\"H175\",\"H177\",\"H176\",\"H174\",\"K121\",\"K168\",\"K115\",\"K114\",\"K171\",\"K121\",\"K168\",\"K115\",\"K114\",\"K171\",\"K220\",\"K221\",\"H161\",\"H162\",\"H163\",\"K169\",\"K120\",\"K141\",\"K239\",\"K238\",\"K250\",\"K237\",\"K239\",\"K238\",\"K250\",\"K237\",\"K218\",\"K219\",\"K115\",\"K121\",\"K168\",\"K114\",\"K171\",\"H166\",\"H167\",\"H165\",\"K220\",\"K221\",\"K167\",\"K147\",\"K150\",\"K173\",\"K149\",\"K218\",\"K219\",\"H171\",\"H173\",\"H175\",\"H177\",\"H176\",\"H174\",\"H128\",\"H129\",\"H130\",\"H127\",\"K172\",\"K208\",\"K210\",\"K209\",\"K150\",\"K173\",\"K147\",\"K149\",\"K167\",\"H128\",\"H129\",\"H130\",\"H127\",\"K208\",\"K210\",\"K209\",\"K172\",\"H128\",\"H129\",\"H130\",\"H127\",\"K167\",\"K147\",\"K150\",\"K173\",\"K149\",\"K208\",\"K210\",\"K209\",\"K172\",\"K150\",\"K173\",\"K147\",\"K149\",\"K167\",\"H128\",\"H129\",\"H130\",\"H127\",\"K208\",\"K210\",\"K209\",\"K172\",\"K167\",\"K147\",\"K150\",\"K173\",\"K149\",\"H128\",\"H129\",\"H130\",\"H127\",\"K172\",\"K208\",\"K210\",\"K209\",\"K169\",\"K120\",\"K141\",\"K237\",\"K238\",\"K239\",\"K250\",\"H161\",\"H162\",\"H163\",\"K239\",\"K238\",\"K237\",\"K121\",\"K168\",\"K115\",\"K114\",\"K171\",\"H161\",\"H162\",\"H163\",\"K120\",\"K141\",\"K169\",\"H166\",\"H167\",\"H165\",\"K218\",\"K219\",\"K218\",\"K219\",\"H171\",\"H175\",\"H176\",\"H177\",\"H174\",\"H173\",\"K115\",\"K121\",\"K168\",\"K114\",\"K171\",\"H161\",\"H162\",\"H163\",\"K169\",\"K120\",\"K141\",\"H171\",\"H173\",\"H175\",\"H177\",\"H176\",\"H174\",\"K218\",\"K219\",\"K121\",\"K168\",\"K115\",\"K114\",\"K171\",\"K120\",\"K141\",\"K169\",\"H161\",\"H162\",\"H163\",\"H171\",\"H173\",\"H175\",\"H177\",\"H176\",\"H174\",\"K150\",\"K173\",\"K147\",\"K149\",\"K167\",\"H129\",\"H130\",\"H128\",\"H127\",\"K208\",\"K210\",\"K209\",\"K172\",\"K120\",\"K141\",\"K169\",\"H161\",\"H162\",\"H163\",\"K115\",\"K121\",\"K168\",\"K114\",\"K171\",\"K115\",\"K121\",\"K168\",\"K114\",\"K171\",\"H166\",\"H167\",\"H165\",\"K218\",\"K219\",\"K167\",\"K147\",\"K150\",\"K173\",\"K149\",\"H128\",\"H129\",\"H130\",\"H127\",\"K208\",\"K210\",\"K172\",\"K239\",\"K238\",\"K250\",\"K237\",\"K208\",\"K210\",\"K172\",\"K150\",\"K173\",\"K147\",\"K149\",\"K167\",\"H128\",\"H129\",\"H130\",\"H127\",\"K150\",\"K173\",\"K147\",\"K149\",\"K167\",\"H128\",\"H129\",\"H130\",\"H127\",\"K172\",\"K208\",\"K210\",\"K239\",\"K238\",\"K250\",\"K237\",\"K120\",\"K141\",\"K169\",\"H161\",\"H162\",\"H163\",\"K121\",\"K168\",\"K115\",\"K114\",\"K171\",\"K218\",\"K219\",\"K220\",\"K221\",\"H171\",\"H173\",\"H175\",\"H177\",\"H176\",\"H174\",\"K239\",\"K238\",\"K250\",\"K237\",\"K169\",\"K120\",\"K141\",\"H161\",\"H162\",\"H163\",\"K218\",\"K219\",\"H166\",\"H167\",\"H165\",\"K220\",\"K221\",\"H171\",\"H173\",\"H175\",\"H177\",\"H176\",\"H174\",\"K239\",\"K238\",\"K250\",\"K237\",\"K150\",\"K173\",\"K147\",\"K149\",\"K167\",\"H128\",\"H129\",\"H130\",\"H127\",\"K208\",\"K210\",\"K209\",\"K172\",\"K167\",\"K147\",\"K150\",\"K173\",\"K149\",\"H129\",\"H130\",\"H128\",\"H127\",\"K208\",\"K210\",\"K209\",\"K172\",\"K150\",\"K173\",\"K147\",\"K149\",\"K167\",\"H129\",\"H130\",\"H128\",\"H127\",\"K172\",\"K208\",\"K210\",\"K209\",\"K121\",\"K168\",\"K115\",\"K114\",\"K171\",\"K115\",\"K121\",\"K168\",\"K114\",\"K171\",\"K115\",\"K121\",\"K168\",\"K114\",\"K171\",\"K220\",\"K221\"],\"xaxis\":\"x\",\"y\":[1,1,1,1,1,1,1,1,1,1,1,1,1,1,1,1,1,1,1,1,1,1,1,1,1,1,1,1,1,1,1,1,1,1,1,1,1,1,1,1,1,1,1,1,1,1,1,1,1,1,1,1,1,1,1,1,1,1,1,1,1,1,1,1,1,1,1,1,1,1,1,1,1,1,1,1,1,1,1,1,1,1,1,1,1,1,1,1,1,1,1,1,1,1,1,1,1,1,1,1,1,1,1,1,1,1,1,1,1,1,1,1,1,1,1,1,1,1,1,1,1,1,1,1,1,1,1,1,1,1,1,1,1,1,1,1,1,1,1,1,1,1,1,1,1,1,1,1,1,1,1,1,1,1,1,1,1,1,1,1,1,1,1,1,1,1,1,1,1,1,1,1,1,1,1,1,1,1,1,1,1,1,1,1,1,1,1,1,1,1,1,1,1,1,1,1,1,1,1,1,1,1,1,1,1,1,1,1,1,1,1,1,1,1,1,1,1,1,1,1,1,1,1,1,1,1,1,1,1,1,1,1,1,1,1,1,1,1,1,1,1,1,2,2,1,1,1,1,1,1,1,1,1,1,1,1,1,1,1,1,1,1,1,1,1,1,1,1,1,1,1,1,1,1,1,1,1,1,1,1,1,1,1,1,1,1,1,1,1,1,1,1,1,1,1,1,1,1,1,1,2,1,1,1,1,1,1,1,1,1,1,1,1,1,1,1,1,1,1,1,1,1,1,1,1,1,1,1,1,1,1,1,1,1,1,1,1,1,1,1,1,1,1,1,1,1,1,1,1,1,1,1,1,1,1,1,1,1,1,1,1,1,1,1,1,1,1,1,1,1,1,1,1,1,1,1,1,1,1,1,1,1,1,1,1,1,1,1,1,1,1,1,1,1,1,1,1,1,1,1,1,1,1,1,1,1,1,1,1,1,1,1,1,1,1,1,1,1,1,1,1,1,1,1,1,1,1,1,1,1,1,1,1,1,1,1,1,1,1,1,1,1,1,1,2,1,1,1,1,1,1,1,1,1,1,1,1,1,1,1,1,1,1,1,1,1,1,1,1,1,1,1,1,1,1,1,1,1,1,1,1,1,1,1,1,1,1,1,1,1,1,1,1,1,1,1,1,1,1,1,1,1,1,1,1,1,1,1,1,1,1,1,1,1,1,1,1,1,1,1,1,1,1,1,1,1,1,1,1,1,1,1,1,1,1,1,1,1,1,1,1,1,1,1,1,1,1,1,1,1,1,1,1,1,1,1,1,1,1,1,1,1,1,1,1,1,1,1,1,1,1,1,1,1,1,1,1,1,1,1,2,1,1,1,1,1,1,1,1,1,1,1,1,1,1,2,1,1,1,1,1,1,1,1,1,1,1,1,1,1,1,1,1,1,1,1,1,1,1,1,1,1,1,1,1,1,1,1,1,1,1,1,1,1,1,1,1,1,1,1,1,1,1,1,1,1,1,1,2,1,1,1,1,1,1,1,1,1,1,1,1,1,1,1,1,1,1,1,1,1,1,1,1,1,1,1,1,1,1,1,1,1,1,1,1,1,1,1,1,1,1,1,1,1,1,1,1,1,1,1,1,1,1,1,1,1,1,1,1,1,1,1,1,1,1,1,1,1,1,1,1,1,1,1,1,1,1,1,1,1,1,1,1,1,1,1,1,1,1,1,1,1,1,1,1,1,1,1,1,1,1,1,1,1,1,1,1,1,1,1,1,1,1,1,1,1,1,1,1,1,1,1,1,1,1,1,1,1,1,1,1,1,1,1,1,1,1,1,1,1,1,1,1,1,1,1,1,1,1,1,1,1,1,1,1,1,1,1,1,1,1,1,1,1,1,1,1,1,1,1,1,1,1,1,1,1,1,1,1,1,1,1,1,1,1,1,1,1,1,1,1,1,1,1,1,1,1,1,1,1,1,1,1,1,1,1,1,1,1,1,1,1,1,1,1,1,1,1,1,1,1,1,1,1,1,1,1,1,1,1,1,1,1,1,1,1,1,1,1,1,1,1,1,1,1,1,1,1,1,1,1,1,1,1,1,1,1,1,1,1,1,1,1,1,1,1,1,1,1,1,1,1,1,1,1,1,1,1,1,1,1,1,1,1,1,1,1,1,1,1,1,1,1,1,1,1,1,1,1,1,1,1,1,1,1,1,1,1,1,1,1,1,1,1,1,1,1,1,1,1,1,1,1,1,1,1,1,1,1,1,1,1,1,1,1,1,1,1,1,1,1,1,1,1,1,1,1,1,1,1,1,1,1,1,1,1,1,1,1,1,1,1,1,1,1,1,1,1,1,1,1,1,1,1,1,1,1,1,1,1,1,1,1,1,1,1,1,1,1,1,1,1,1,1,1,1,1,1,1,1,1,1,1,1,1,1,1,1,1,1,1,1,1,1,1,1,1,1,1,1,1,1,1,1,1,1,1,1,1,1,1,1,1,1,1,1,1,1,1,1,1,1,1,1,1,1,1,1,1,1,1,1,1,1,1,1,1,1,1,1,1,1,1,1,1,1,1,1,1,1,1,1,1,1,1,1,1,1,1,1,1,1,1,1,1,1,1,1,1,1,1,1,1,1,1,1,1,1,1,1,1,1,1,1,1,1,1,1,1,1,1,1,1,1,1,1,1,1,1,1,1,1,1,1,1,1,1,1,1,1,1,1,1,1,1,1,1,1,1,1,1,1,1,1,1,1,1,1,1,1,1,1,1,1,1,1,1,1,1,1,1,1,1,1,1,1,1,1,1,1,1,1,1,1,1,1,1,1,1,1,1,1,1,1,1,1,1,1,1,1,1,1,1,1,1,1,1,1,1,1,1,1,1,1,1,1,1,1,1,1,1,1,1,1,1,1,1,1,1,1,1,1,1,1,1,1,1,1,1,1,1,1,1,1,1,1,1,1,1,1,1,1,1,1,1,1,1,1,1,1,1,1,1,1,1,1,1,1,1,1,1,1,1,1,1,1,1,1,1,1,1,1,1,1,1,1,1,1,1,1,1,1,1,1,1,1,1,1,1,1,1,1,1,1,1,1,1,1,1,1,1,1,1,1,1,1,1,1,1,1,1,1,1,1,1,1,1,1,1,1,1,1,1,1,1,1,1,1,1,1,1,1,1,1,1,1,1,1,1,1,1,1,1,1,1,1,1,1,1,1,2,1,1,1,1,1,1,1,1,1,1,1,1,1,1,1,1,1,1,1,1,1,1,1,1,1,1,1,1,1,1,1,1,1,1,1,1,1,1,1,1,1,1,1,1,1,1,1,1,1,1,1,1,1,1,1,1,1,1,1,1,1,1,1,2,1,1,1,1,1,1,1,1,1,1,1,1,1,1,1,1,1,1,1,1,1,1,1,1,1,1,1,1,1,1,1,1,1,1,1,1,1,1,2,1,1,1,1,1,1,1,1,1,1,1,1,1,1,1,1,1,1,1,1,1,1,1,1,1,1,1,1,1,1,1,1,1,1,1,1,1,1,1,1,1,1,1,1,1,1,1,1,1,1,1,1,1,1,1,1,1,1,1,1,1,1,1,1,1,1,1,1,1,1,1,1,1,1,1,1,1,1,1,1,1,1,1,1,1,1,1,1,1,1,1,1,1,1,1,1,1,1,1,1,1,1,1,1,1,1,1,1,1,1,1,1,1,1,1,1,1,1,1,1,1,1,1,1,1,1,1,1,1,1,1,1,1,1,1,1,1,1,1,1,1,1,1,1,1,1,1,1,1,1,1,1,1,1,1,1,1,1,1,1,1,1,1,1,1,1,1,1,1,1,1,1,1,1,1,1,1,1,1,1,1,1,1,1,1,1,1,1,1,1,1,1,1,1,1,1,2,1,1,1,1,2,1,1,1,1,1,1,1,1,1,1,1,1,1,1,1,1,1,1,1,1,1,1,1,1,1,1,1,1,1,1,1,1,1,1,1,1,1,1,1,1,1,1,1,1,1,1,1,1,1,1,1,1,1,1,1,1,1,1,1,1,1,1,1,1,1,1,1,1,1,1,1,1,1,1,1,1,1,1,1,1,1,1,1,1,1,1,1,1,1,1,1,1,1,1,1,1,1,1,1,1,1,1,1,1,1,1,1,1,1,1,1,1,1,1,1,1,1,1,1,1,1,1,1,1,1,1,1,1,1,1,1,1,1,1,1,1,1,1,1,1,1,1,1,1,1,1,1,1,1,1,1,1,1,1,1,1,1,1,1,1,1,1,1,1,1,1,1,1,1,1,1,1,1,1,1,1,1,1,1,1,1,1,1,1,1,1,1,1,1,1,1,1,1,1,1,1,1,1,1,1,1,1,1,1,1,1,1,1,1,1,1,1,1,1,1,1,1,1,1,1,1,1,1,1,1,1,1,1,1,1,1,1,1,1,1,1,1,1,1,1,1,1,1,1,1,1,1,1,1,1,1,1,1,1,1,1,1,1,1,1,1,1,1,1,1,1,1,1,1,1,1,1,1,1,1,1,1,1,1,1,1,1,1,1,1,1,1,1,1,1,1,1,1,1,1,1,1,1,1,1,1,1,1,1,1,1,1,1,1,1,1,1,1,1,1,1,1,1,1,1,1,1,1,1,1,1,1,1,1,1,1,1,1,1,1,1,1,1,1,1,1,1,1,1,1,1,1,1,1,1,1,1,1,1,1,1,1,1,1,1,1,1,1,1,1,1,1,1,1,1,1,1,1,1,1,1,1,1,1,1,1,1,1,1,1,1,1,1,1,1,1,1,1,1,1,1,1,1,1,1,1,1,1,1,1,1,1,1,1,1,1,1,1,1,1,1,1,1,1,1,1,1,1,1,1,1,1,1,1,1,1,1,1,1,1,1,1,1,1,1,1,1,1,1,1,1,1,1,1,1,1,1,1,1,1,1,1,1,1,1,1,1,1,1,1,1,1,1,1,1,1,1,1,1,1,1,1,1,1,1,1,1,1,1,1,1,1,1,1,1,1,1,1,1,1,1,1,1,1,1,1,1,1,1,1,1,1,1,1,1,1,1,1,1,1,1,1,1,1,1,1,1,1,1,1,1,1,1,1,1,1,1,1,1,1,1,1,1,1,1,1,1,1,1,1,1,1,1,1,1,1,1,1,1,1,1,1,1,1,1,1,1,1,1,1,1,1,1,1,1,1,1,1,1,1,1,1,1,1,1,1,1,1,1,1,1,1,1,1,1,1,1,1,1,1,1,1,1,1,1,1,1,1,1,1,1,1,1,1,1,1,1,1,1,1,1,1,1,1,1,1,1,1,1,1,1,1,1,1,1,1,1,1,1,1,1,1,1,1,1,1,1,1,1,1,1,1,1,1,1,1,1,1,1,1,1,1,1,1,1,1,1,1,1,1,1,1,1,1,1,1,1,1,1,1,1,1,1,1,1,1,1,1,1,1,1,1,1,1,1,1,1,1,1,1,1,1,1,1,1,1,1,1,1,1,1,1,1,1,1,1,1,1,1,1,1,1,1,1,1,1,1,1,1,1,1,1,1,1,1,1,1,1,1,1,1,1,1,1,1,1,1,1,1,1,1,1,1,1,1,1,1,1,1,1,1,1,1,1,1,1,1,1,1,1,1,1,1,1,1,1,1,1,1,1,1,1,1,1,1,1,1,1,1,1,1,1,1,1,1,1,1,1,1,1,1,1,1,1,1,1,1,1,1,1,1,1,1,1,1,1,1,1,1,1,1,1,1,1,1,1,1,1,1,1,1,1,1,1,1,1,1,1,1,1,1,1,1,1,1,1,1,1,1,1,1,1,1,1,1,1,1,1,1,1,1,1,1,1,1,1,1,1,1,1,1,1,1,1,1,1,1,1,1,1,1,1,1,1,1,1,1,1,1,1,1,1,1,1,1,1,1,1,1,1,1,1],\"yaxis\":\"y\",\"type\":\"bar\"}],                        {\"template\":{\"data\":{\"pie\":[{\"automargin\":true,\"type\":\"pie\"}]},\"layout\":{\"xaxis\":{\"showgrid\":true,\"title\":{\"standoff\":15}},\"yaxis\":{\"showgrid\":true,\"title\":{\"standoff\":15}}}},\"xaxis\":{\"anchor\":\"y\",\"domain\":[0.0,1.0],\"title\":{\"text\":\"scanner\"}},\"yaxis\":{\"anchor\":\"x\",\"domain\":[0.0,1.0],\"title\":{\"text\":\"Failure\"}},\"coloraxis\":{\"colorbar\":{\"title\":{\"text\":\"Failure\"}},\"colorscale\":[[0.0,\"#440154\"],[0.1111111111111111,\"#482878\"],[0.2222222222222222,\"#3e4989\"],[0.3333333333333333,\"#31688e\"],[0.4444444444444444,\"#26828e\"],[0.5555555555555556,\"#1f9e89\"],[0.6666666666666666,\"#35b779\"],[0.7777777777777778,\"#6ece58\"],[0.8888888888888888,\"#b5de2b\"],[1.0,\"#fde725\"]]},\"legend\":{\"tracegroupgap\":0},\"title\":{\"text\":\"Frequency of Categorical Features\"},\"barmode\":\"relative\",\"height\":500,\"width\":900},                        {\"responsive\": true}                    ).then(function(){\n",
              "                            \n",
              "var gd = document.getElementById('af44996c-3be9-421d-96d3-ec85652871ca');\n",
              "var x = new MutationObserver(function (mutations, observer) {{\n",
              "        var display = window.getComputedStyle(gd).display;\n",
              "        if (!display || display === 'none') {{\n",
              "            console.log([gd, 'removed!']);\n",
              "            Plotly.purge(gd);\n",
              "            observer.disconnect();\n",
              "        }}\n",
              "}});\n",
              "\n",
              "// Listen for the removal of the full notebook cells\n",
              "var notebookContainer = gd.closest('#notebook-container');\n",
              "if (notebookContainer) {{\n",
              "    x.observe(notebookContainer, {childList: true});\n",
              "}}\n",
              "\n",
              "// Listen for the clearing of the current output cell\n",
              "var outputEl = gd.closest('.output');\n",
              "if (outputEl) {{\n",
              "    x.observe(outputEl, {childList: true});\n",
              "}}\n",
              "\n",
              "                        })                };                            </script>        </div>\n",
              "</body>\n",
              "</html>"
            ]
          },
          "metadata": {}
        }
      ]
    },
    {
      "cell_type": "markdown",
      "source": [
        "**NOTE:  From above, we can also determine that the dataset is not having all the failure cases of the scanners or only few of the scanners fail.**"
      ],
      "metadata": {
        "id": "WL3HGfIYUa3Z"
      }
    },
    {
      "cell_type": "code",
      "source": [
        "# Creating a new dataframe with categorical variables\n",
        "\n",
        "cat_dummy = pd.get_dummies(df['scanner'], prefix = 'scanner', drop_first = False)"
      ],
      "metadata": {
        "id": "Ld4YTEVmNy0Q"
      },
      "execution_count": null,
      "outputs": []
    },
    {
      "cell_type": "code",
      "source": [
        "cat_dummy"
      ],
      "metadata": {
        "colab": {
          "base_uri": "https://localhost:8080/",
          "height": 487
        },
        "id": "BAqID5NtWOS7",
        "outputId": "e291f97c-e0dd-4498-fd91-2759a491810a"
      },
      "execution_count": null,
      "outputs": [
        {
          "output_type": "execute_result",
          "data": {
            "text/plain": [
              "      scanner_H127  scanner_H128  scanner_H129  scanner_H130  scanner_H131  \\\n",
              "0                0             0             0             0             0   \n",
              "1                0             0             0             0             0   \n",
              "2                0             0             0             0             0   \n",
              "3                0             0             0             0             0   \n",
              "4                0             0             0             0             0   \n",
              "...            ...           ...           ...           ...           ...   \n",
              "2745             0             0             0             0             0   \n",
              "2746             0             0             0             0             0   \n",
              "2747             0             0             0             0             0   \n",
              "2750             0             0             0             0             0   \n",
              "2751             0             0             0             0             0   \n",
              "\n",
              "      scanner_H132  scanner_H133  scanner_H134  scanner_H135  scanner_H138  \\\n",
              "0                0             0             0             0             0   \n",
              "1                0             0             0             0             0   \n",
              "2                0             0             0             0             0   \n",
              "3                0             0             0             0             0   \n",
              "4                0             0             0             0             0   \n",
              "...            ...           ...           ...           ...           ...   \n",
              "2745             0             0             0             0             0   \n",
              "2746             0             0             0             0             0   \n",
              "2747             0             0             0             0             0   \n",
              "2750             0             0             0             0             0   \n",
              "2751             0             0             0             0             0   \n",
              "\n",
              "      ...  scanner_K211  scanner_K212  scanner_K218  scanner_K219  \\\n",
              "0     ...             0             0             0             1   \n",
              "1     ...             0             0             0             0   \n",
              "2     ...             1             0             0             0   \n",
              "3     ...             0             1             0             0   \n",
              "4     ...             0             0             0             0   \n",
              "...   ...           ...           ...           ...           ...   \n",
              "2745  ...             0             0             0             0   \n",
              "2746  ...             0             0             0             0   \n",
              "2747  ...             0             0             0             0   \n",
              "2750  ...             0             0             0             0   \n",
              "2751  ...             0             0             0             0   \n",
              "\n",
              "      scanner_K220  scanner_K221  scanner_K237  scanner_K238  scanner_K239  \\\n",
              "0                0             0             0             0             0   \n",
              "1                0             0             0             0             0   \n",
              "2                0             0             0             0             0   \n",
              "3                0             0             0             0             0   \n",
              "4                1             0             0             0             0   \n",
              "...            ...           ...           ...           ...           ...   \n",
              "2745             0             0             0             0             0   \n",
              "2746             0             0             0             0             0   \n",
              "2747             0             0             0             0             0   \n",
              "2750             1             0             0             0             0   \n",
              "2751             0             1             0             0             0   \n",
              "\n",
              "      scanner_K250  \n",
              "0                0  \n",
              "1                0  \n",
              "2                0  \n",
              "3                0  \n",
              "4                0  \n",
              "...            ...  \n",
              "2745             0  \n",
              "2746             0  \n",
              "2747             0  \n",
              "2750             0  \n",
              "2751             0  \n",
              "\n",
              "[2603 rows x 69 columns]"
            ],
            "text/html": [
              "\n",
              "  <div id=\"df-dc335a25-08c3-4a6f-842c-4d6fa9081117\">\n",
              "    <div class=\"colab-df-container\">\n",
              "      <div>\n",
              "<style scoped>\n",
              "    .dataframe tbody tr th:only-of-type {\n",
              "        vertical-align: middle;\n",
              "    }\n",
              "\n",
              "    .dataframe tbody tr th {\n",
              "        vertical-align: top;\n",
              "    }\n",
              "\n",
              "    .dataframe thead th {\n",
              "        text-align: right;\n",
              "    }\n",
              "</style>\n",
              "<table border=\"1\" class=\"dataframe\">\n",
              "  <thead>\n",
              "    <tr style=\"text-align: right;\">\n",
              "      <th></th>\n",
              "      <th>scanner_H127</th>\n",
              "      <th>scanner_H128</th>\n",
              "      <th>scanner_H129</th>\n",
              "      <th>scanner_H130</th>\n",
              "      <th>scanner_H131</th>\n",
              "      <th>scanner_H132</th>\n",
              "      <th>scanner_H133</th>\n",
              "      <th>scanner_H134</th>\n",
              "      <th>scanner_H135</th>\n",
              "      <th>scanner_H138</th>\n",
              "      <th>...</th>\n",
              "      <th>scanner_K211</th>\n",
              "      <th>scanner_K212</th>\n",
              "      <th>scanner_K218</th>\n",
              "      <th>scanner_K219</th>\n",
              "      <th>scanner_K220</th>\n",
              "      <th>scanner_K221</th>\n",
              "      <th>scanner_K237</th>\n",
              "      <th>scanner_K238</th>\n",
              "      <th>scanner_K239</th>\n",
              "      <th>scanner_K250</th>\n",
              "    </tr>\n",
              "  </thead>\n",
              "  <tbody>\n",
              "    <tr>\n",
              "      <th>0</th>\n",
              "      <td>0</td>\n",
              "      <td>0</td>\n",
              "      <td>0</td>\n",
              "      <td>0</td>\n",
              "      <td>0</td>\n",
              "      <td>0</td>\n",
              "      <td>0</td>\n",
              "      <td>0</td>\n",
              "      <td>0</td>\n",
              "      <td>0</td>\n",
              "      <td>...</td>\n",
              "      <td>0</td>\n",
              "      <td>0</td>\n",
              "      <td>0</td>\n",
              "      <td>1</td>\n",
              "      <td>0</td>\n",
              "      <td>0</td>\n",
              "      <td>0</td>\n",
              "      <td>0</td>\n",
              "      <td>0</td>\n",
              "      <td>0</td>\n",
              "    </tr>\n",
              "    <tr>\n",
              "      <th>1</th>\n",
              "      <td>0</td>\n",
              "      <td>0</td>\n",
              "      <td>0</td>\n",
              "      <td>0</td>\n",
              "      <td>0</td>\n",
              "      <td>0</td>\n",
              "      <td>0</td>\n",
              "      <td>0</td>\n",
              "      <td>0</td>\n",
              "      <td>0</td>\n",
              "      <td>...</td>\n",
              "      <td>0</td>\n",
              "      <td>0</td>\n",
              "      <td>0</td>\n",
              "      <td>0</td>\n",
              "      <td>0</td>\n",
              "      <td>0</td>\n",
              "      <td>0</td>\n",
              "      <td>0</td>\n",
              "      <td>0</td>\n",
              "      <td>0</td>\n",
              "    </tr>\n",
              "    <tr>\n",
              "      <th>2</th>\n",
              "      <td>0</td>\n",
              "      <td>0</td>\n",
              "      <td>0</td>\n",
              "      <td>0</td>\n",
              "      <td>0</td>\n",
              "      <td>0</td>\n",
              "      <td>0</td>\n",
              "      <td>0</td>\n",
              "      <td>0</td>\n",
              "      <td>0</td>\n",
              "      <td>...</td>\n",
              "      <td>1</td>\n",
              "      <td>0</td>\n",
              "      <td>0</td>\n",
              "      <td>0</td>\n",
              "      <td>0</td>\n",
              "      <td>0</td>\n",
              "      <td>0</td>\n",
              "      <td>0</td>\n",
              "      <td>0</td>\n",
              "      <td>0</td>\n",
              "    </tr>\n",
              "    <tr>\n",
              "      <th>3</th>\n",
              "      <td>0</td>\n",
              "      <td>0</td>\n",
              "      <td>0</td>\n",
              "      <td>0</td>\n",
              "      <td>0</td>\n",
              "      <td>0</td>\n",
              "      <td>0</td>\n",
              "      <td>0</td>\n",
              "      <td>0</td>\n",
              "      <td>0</td>\n",
              "      <td>...</td>\n",
              "      <td>0</td>\n",
              "      <td>1</td>\n",
              "      <td>0</td>\n",
              "      <td>0</td>\n",
              "      <td>0</td>\n",
              "      <td>0</td>\n",
              "      <td>0</td>\n",
              "      <td>0</td>\n",
              "      <td>0</td>\n",
              "      <td>0</td>\n",
              "    </tr>\n",
              "    <tr>\n",
              "      <th>4</th>\n",
              "      <td>0</td>\n",
              "      <td>0</td>\n",
              "      <td>0</td>\n",
              "      <td>0</td>\n",
              "      <td>0</td>\n",
              "      <td>0</td>\n",
              "      <td>0</td>\n",
              "      <td>0</td>\n",
              "      <td>0</td>\n",
              "      <td>0</td>\n",
              "      <td>...</td>\n",
              "      <td>0</td>\n",
              "      <td>0</td>\n",
              "      <td>0</td>\n",
              "      <td>0</td>\n",
              "      <td>1</td>\n",
              "      <td>0</td>\n",
              "      <td>0</td>\n",
              "      <td>0</td>\n",
              "      <td>0</td>\n",
              "      <td>0</td>\n",
              "    </tr>\n",
              "    <tr>\n",
              "      <th>...</th>\n",
              "      <td>...</td>\n",
              "      <td>...</td>\n",
              "      <td>...</td>\n",
              "      <td>...</td>\n",
              "      <td>...</td>\n",
              "      <td>...</td>\n",
              "      <td>...</td>\n",
              "      <td>...</td>\n",
              "      <td>...</td>\n",
              "      <td>...</td>\n",
              "      <td>...</td>\n",
              "      <td>...</td>\n",
              "      <td>...</td>\n",
              "      <td>...</td>\n",
              "      <td>...</td>\n",
              "      <td>...</td>\n",
              "      <td>...</td>\n",
              "      <td>...</td>\n",
              "      <td>...</td>\n",
              "      <td>...</td>\n",
              "      <td>...</td>\n",
              "    </tr>\n",
              "    <tr>\n",
              "      <th>2745</th>\n",
              "      <td>0</td>\n",
              "      <td>0</td>\n",
              "      <td>0</td>\n",
              "      <td>0</td>\n",
              "      <td>0</td>\n",
              "      <td>0</td>\n",
              "      <td>0</td>\n",
              "      <td>0</td>\n",
              "      <td>0</td>\n",
              "      <td>0</td>\n",
              "      <td>...</td>\n",
              "      <td>0</td>\n",
              "      <td>0</td>\n",
              "      <td>0</td>\n",
              "      <td>0</td>\n",
              "      <td>0</td>\n",
              "      <td>0</td>\n",
              "      <td>0</td>\n",
              "      <td>0</td>\n",
              "      <td>0</td>\n",
              "      <td>0</td>\n",
              "    </tr>\n",
              "    <tr>\n",
              "      <th>2746</th>\n",
              "      <td>0</td>\n",
              "      <td>0</td>\n",
              "      <td>0</td>\n",
              "      <td>0</td>\n",
              "      <td>0</td>\n",
              "      <td>0</td>\n",
              "      <td>0</td>\n",
              "      <td>0</td>\n",
              "      <td>0</td>\n",
              "      <td>0</td>\n",
              "      <td>...</td>\n",
              "      <td>0</td>\n",
              "      <td>0</td>\n",
              "      <td>0</td>\n",
              "      <td>0</td>\n",
              "      <td>0</td>\n",
              "      <td>0</td>\n",
              "      <td>0</td>\n",
              "      <td>0</td>\n",
              "      <td>0</td>\n",
              "      <td>0</td>\n",
              "    </tr>\n",
              "    <tr>\n",
              "      <th>2747</th>\n",
              "      <td>0</td>\n",
              "      <td>0</td>\n",
              "      <td>0</td>\n",
              "      <td>0</td>\n",
              "      <td>0</td>\n",
              "      <td>0</td>\n",
              "      <td>0</td>\n",
              "      <td>0</td>\n",
              "      <td>0</td>\n",
              "      <td>0</td>\n",
              "      <td>...</td>\n",
              "      <td>0</td>\n",
              "      <td>0</td>\n",
              "      <td>0</td>\n",
              "      <td>0</td>\n",
              "      <td>0</td>\n",
              "      <td>0</td>\n",
              "      <td>0</td>\n",
              "      <td>0</td>\n",
              "      <td>0</td>\n",
              "      <td>0</td>\n",
              "    </tr>\n",
              "    <tr>\n",
              "      <th>2750</th>\n",
              "      <td>0</td>\n",
              "      <td>0</td>\n",
              "      <td>0</td>\n",
              "      <td>0</td>\n",
              "      <td>0</td>\n",
              "      <td>0</td>\n",
              "      <td>0</td>\n",
              "      <td>0</td>\n",
              "      <td>0</td>\n",
              "      <td>0</td>\n",
              "      <td>...</td>\n",
              "      <td>0</td>\n",
              "      <td>0</td>\n",
              "      <td>0</td>\n",
              "      <td>0</td>\n",
              "      <td>1</td>\n",
              "      <td>0</td>\n",
              "      <td>0</td>\n",
              "      <td>0</td>\n",
              "      <td>0</td>\n",
              "      <td>0</td>\n",
              "    </tr>\n",
              "    <tr>\n",
              "      <th>2751</th>\n",
              "      <td>0</td>\n",
              "      <td>0</td>\n",
              "      <td>0</td>\n",
              "      <td>0</td>\n",
              "      <td>0</td>\n",
              "      <td>0</td>\n",
              "      <td>0</td>\n",
              "      <td>0</td>\n",
              "      <td>0</td>\n",
              "      <td>0</td>\n",
              "      <td>...</td>\n",
              "      <td>0</td>\n",
              "      <td>0</td>\n",
              "      <td>0</td>\n",
              "      <td>0</td>\n",
              "      <td>0</td>\n",
              "      <td>1</td>\n",
              "      <td>0</td>\n",
              "      <td>0</td>\n",
              "      <td>0</td>\n",
              "      <td>0</td>\n",
              "    </tr>\n",
              "  </tbody>\n",
              "</table>\n",
              "<p>2603 rows × 69 columns</p>\n",
              "</div>\n",
              "      <button class=\"colab-df-convert\" onclick=\"convertToInteractive('df-dc335a25-08c3-4a6f-842c-4d6fa9081117')\"\n",
              "              title=\"Convert this dataframe to an interactive table.\"\n",
              "              style=\"display:none;\">\n",
              "        \n",
              "  <svg xmlns=\"http://www.w3.org/2000/svg\" height=\"24px\"viewBox=\"0 0 24 24\"\n",
              "       width=\"24px\">\n",
              "    <path d=\"M0 0h24v24H0V0z\" fill=\"none\"/>\n",
              "    <path d=\"M18.56 5.44l.94 2.06.94-2.06 2.06-.94-2.06-.94-.94-2.06-.94 2.06-2.06.94zm-11 1L8.5 8.5l.94-2.06 2.06-.94-2.06-.94L8.5 2.5l-.94 2.06-2.06.94zm10 10l.94 2.06.94-2.06 2.06-.94-2.06-.94-.94-2.06-.94 2.06-2.06.94z\"/><path d=\"M17.41 7.96l-1.37-1.37c-.4-.4-.92-.59-1.43-.59-.52 0-1.04.2-1.43.59L10.3 9.45l-7.72 7.72c-.78.78-.78 2.05 0 2.83L4 21.41c.39.39.9.59 1.41.59.51 0 1.02-.2 1.41-.59l7.78-7.78 2.81-2.81c.8-.78.8-2.07 0-2.86zM5.41 20L4 18.59l7.72-7.72 1.47 1.35L5.41 20z\"/>\n",
              "  </svg>\n",
              "      </button>\n",
              "      \n",
              "  <style>\n",
              "    .colab-df-container {\n",
              "      display:flex;\n",
              "      flex-wrap:wrap;\n",
              "      gap: 12px;\n",
              "    }\n",
              "\n",
              "    .colab-df-convert {\n",
              "      background-color: #E8F0FE;\n",
              "      border: none;\n",
              "      border-radius: 50%;\n",
              "      cursor: pointer;\n",
              "      display: none;\n",
              "      fill: #1967D2;\n",
              "      height: 32px;\n",
              "      padding: 0 0 0 0;\n",
              "      width: 32px;\n",
              "    }\n",
              "\n",
              "    .colab-df-convert:hover {\n",
              "      background-color: #E2EBFA;\n",
              "      box-shadow: 0px 1px 2px rgba(60, 64, 67, 0.3), 0px 1px 3px 1px rgba(60, 64, 67, 0.15);\n",
              "      fill: #174EA6;\n",
              "    }\n",
              "\n",
              "    [theme=dark] .colab-df-convert {\n",
              "      background-color: #3B4455;\n",
              "      fill: #D2E3FC;\n",
              "    }\n",
              "\n",
              "    [theme=dark] .colab-df-convert:hover {\n",
              "      background-color: #434B5C;\n",
              "      box-shadow: 0px 1px 3px 1px rgba(0, 0, 0, 0.15);\n",
              "      filter: drop-shadow(0px 1px 2px rgba(0, 0, 0, 0.3));\n",
              "      fill: #FFFFFF;\n",
              "    }\n",
              "  </style>\n",
              "\n",
              "      <script>\n",
              "        const buttonEl =\n",
              "          document.querySelector('#df-dc335a25-08c3-4a6f-842c-4d6fa9081117 button.colab-df-convert');\n",
              "        buttonEl.style.display =\n",
              "          google.colab.kernel.accessAllowed ? 'block' : 'none';\n",
              "\n",
              "        async function convertToInteractive(key) {\n",
              "          const element = document.querySelector('#df-dc335a25-08c3-4a6f-842c-4d6fa9081117');\n",
              "          const dataTable =\n",
              "            await google.colab.kernel.invokeFunction('convertToInteractive',\n",
              "                                                     [key], {});\n",
              "          if (!dataTable) return;\n",
              "\n",
              "          const docLinkHtml = 'Like what you see? Visit the ' +\n",
              "            '<a target=\"_blank\" href=https://colab.research.google.com/notebooks/data_table.ipynb>data table notebook</a>'\n",
              "            + ' to learn more about interactive tables.';\n",
              "          element.innerHTML = '';\n",
              "          dataTable['output_type'] = 'display_data';\n",
              "          await google.colab.output.renderOutput(dataTable, element);\n",
              "          const docLink = document.createElement('div');\n",
              "          docLink.innerHTML = docLinkHtml;\n",
              "          element.appendChild(docLink);\n",
              "        }\n",
              "      </script>\n",
              "    </div>\n",
              "  </div>\n",
              "  "
            ]
          },
          "metadata": {},
          "execution_count": 181
        }
      ]
    },
    {
      "cell_type": "code",
      "source": [
        "df_copy1 = pd.concat([df, cat_dummy], axis =1).drop(['scanner', 'updated_at'], axis = 1)"
      ],
      "metadata": {
        "id": "oeYZLRoiVGsL"
      },
      "execution_count": null,
      "outputs": []
    },
    {
      "cell_type": "code",
      "source": [
        "df_copy1.head()"
      ],
      "metadata": {
        "colab": {
          "base_uri": "https://localhost:8080/",
          "height": 299
        },
        "id": "H5jFvdKRNy3I",
        "outputId": "fb3f419b-659f-44b4-91cd-4dd967052e11"
      },
      "execution_count": null,
      "outputs": [
        {
          "output_type": "execute_result",
          "data": {
            "text/plain": [
              "     min    max   err  pixels   minf   maxf  errf  MaxMinDiff  MaxfMinfDiff  \\\n",
              "0  35435  35933  1.40       6  35681  35688  0.02         498             7   \n",
              "1  35155  36382  3.43      14  35731  35761  0.08        1227            30   \n",
              "2  35305  36042  2.07      43  35692  35739  0.13         737            47   \n",
              "3  35216  36225  2.82      61  35686  35726  0.11        1009            40   \n",
              "4  35196  36259  2.98      11  35709  35724  0.04        1063            15   \n",
              "\n",
              "   Failure  ...  scanner_K211  scanner_K212  scanner_K218  scanner_K219  \\\n",
              "0        1  ...             0             0             0             1   \n",
              "1        1  ...             0             0             0             0   \n",
              "2        1  ...             1             0             0             0   \n",
              "3        1  ...             0             1             0             0   \n",
              "4        1  ...             0             0             0             0   \n",
              "\n",
              "   scanner_K220  scanner_K221  scanner_K237  scanner_K238  scanner_K239  \\\n",
              "0             0             0             0             0             0   \n",
              "1             0             0             0             0             0   \n",
              "2             0             0             0             0             0   \n",
              "3             0             0             0             0             0   \n",
              "4             1             0             0             0             0   \n",
              "\n",
              "   scanner_K250  \n",
              "0             0  \n",
              "1             0  \n",
              "2             0  \n",
              "3             0  \n",
              "4             0  \n",
              "\n",
              "[5 rows x 79 columns]"
            ],
            "text/html": [
              "\n",
              "  <div id=\"df-aa2cb2b0-c8ca-4c8c-adc3-b65a1a587ec6\">\n",
              "    <div class=\"colab-df-container\">\n",
              "      <div>\n",
              "<style scoped>\n",
              "    .dataframe tbody tr th:only-of-type {\n",
              "        vertical-align: middle;\n",
              "    }\n",
              "\n",
              "    .dataframe tbody tr th {\n",
              "        vertical-align: top;\n",
              "    }\n",
              "\n",
              "    .dataframe thead th {\n",
              "        text-align: right;\n",
              "    }\n",
              "</style>\n",
              "<table border=\"1\" class=\"dataframe\">\n",
              "  <thead>\n",
              "    <tr style=\"text-align: right;\">\n",
              "      <th></th>\n",
              "      <th>min</th>\n",
              "      <th>max</th>\n",
              "      <th>err</th>\n",
              "      <th>pixels</th>\n",
              "      <th>minf</th>\n",
              "      <th>maxf</th>\n",
              "      <th>errf</th>\n",
              "      <th>MaxMinDiff</th>\n",
              "      <th>MaxfMinfDiff</th>\n",
              "      <th>Failure</th>\n",
              "      <th>...</th>\n",
              "      <th>scanner_K211</th>\n",
              "      <th>scanner_K212</th>\n",
              "      <th>scanner_K218</th>\n",
              "      <th>scanner_K219</th>\n",
              "      <th>scanner_K220</th>\n",
              "      <th>scanner_K221</th>\n",
              "      <th>scanner_K237</th>\n",
              "      <th>scanner_K238</th>\n",
              "      <th>scanner_K239</th>\n",
              "      <th>scanner_K250</th>\n",
              "    </tr>\n",
              "  </thead>\n",
              "  <tbody>\n",
              "    <tr>\n",
              "      <th>0</th>\n",
              "      <td>35435</td>\n",
              "      <td>35933</td>\n",
              "      <td>1.40</td>\n",
              "      <td>6</td>\n",
              "      <td>35681</td>\n",
              "      <td>35688</td>\n",
              "      <td>0.02</td>\n",
              "      <td>498</td>\n",
              "      <td>7</td>\n",
              "      <td>1</td>\n",
              "      <td>...</td>\n",
              "      <td>0</td>\n",
              "      <td>0</td>\n",
              "      <td>0</td>\n",
              "      <td>1</td>\n",
              "      <td>0</td>\n",
              "      <td>0</td>\n",
              "      <td>0</td>\n",
              "      <td>0</td>\n",
              "      <td>0</td>\n",
              "      <td>0</td>\n",
              "    </tr>\n",
              "    <tr>\n",
              "      <th>1</th>\n",
              "      <td>35155</td>\n",
              "      <td>36382</td>\n",
              "      <td>3.43</td>\n",
              "      <td>14</td>\n",
              "      <td>35731</td>\n",
              "      <td>35761</td>\n",
              "      <td>0.08</td>\n",
              "      <td>1227</td>\n",
              "      <td>30</td>\n",
              "      <td>1</td>\n",
              "      <td>...</td>\n",
              "      <td>0</td>\n",
              "      <td>0</td>\n",
              "      <td>0</td>\n",
              "      <td>0</td>\n",
              "      <td>0</td>\n",
              "      <td>0</td>\n",
              "      <td>0</td>\n",
              "      <td>0</td>\n",
              "      <td>0</td>\n",
              "      <td>0</td>\n",
              "    </tr>\n",
              "    <tr>\n",
              "      <th>2</th>\n",
              "      <td>35305</td>\n",
              "      <td>36042</td>\n",
              "      <td>2.07</td>\n",
              "      <td>43</td>\n",
              "      <td>35692</td>\n",
              "      <td>35739</td>\n",
              "      <td>0.13</td>\n",
              "      <td>737</td>\n",
              "      <td>47</td>\n",
              "      <td>1</td>\n",
              "      <td>...</td>\n",
              "      <td>1</td>\n",
              "      <td>0</td>\n",
              "      <td>0</td>\n",
              "      <td>0</td>\n",
              "      <td>0</td>\n",
              "      <td>0</td>\n",
              "      <td>0</td>\n",
              "      <td>0</td>\n",
              "      <td>0</td>\n",
              "      <td>0</td>\n",
              "    </tr>\n",
              "    <tr>\n",
              "      <th>3</th>\n",
              "      <td>35216</td>\n",
              "      <td>36225</td>\n",
              "      <td>2.82</td>\n",
              "      <td>61</td>\n",
              "      <td>35686</td>\n",
              "      <td>35726</td>\n",
              "      <td>0.11</td>\n",
              "      <td>1009</td>\n",
              "      <td>40</td>\n",
              "      <td>1</td>\n",
              "      <td>...</td>\n",
              "      <td>0</td>\n",
              "      <td>1</td>\n",
              "      <td>0</td>\n",
              "      <td>0</td>\n",
              "      <td>0</td>\n",
              "      <td>0</td>\n",
              "      <td>0</td>\n",
              "      <td>0</td>\n",
              "      <td>0</td>\n",
              "      <td>0</td>\n",
              "    </tr>\n",
              "    <tr>\n",
              "      <th>4</th>\n",
              "      <td>35196</td>\n",
              "      <td>36259</td>\n",
              "      <td>2.98</td>\n",
              "      <td>11</td>\n",
              "      <td>35709</td>\n",
              "      <td>35724</td>\n",
              "      <td>0.04</td>\n",
              "      <td>1063</td>\n",
              "      <td>15</td>\n",
              "      <td>1</td>\n",
              "      <td>...</td>\n",
              "      <td>0</td>\n",
              "      <td>0</td>\n",
              "      <td>0</td>\n",
              "      <td>0</td>\n",
              "      <td>1</td>\n",
              "      <td>0</td>\n",
              "      <td>0</td>\n",
              "      <td>0</td>\n",
              "      <td>0</td>\n",
              "      <td>0</td>\n",
              "    </tr>\n",
              "  </tbody>\n",
              "</table>\n",
              "<p>5 rows × 79 columns</p>\n",
              "</div>\n",
              "      <button class=\"colab-df-convert\" onclick=\"convertToInteractive('df-aa2cb2b0-c8ca-4c8c-adc3-b65a1a587ec6')\"\n",
              "              title=\"Convert this dataframe to an interactive table.\"\n",
              "              style=\"display:none;\">\n",
              "        \n",
              "  <svg xmlns=\"http://www.w3.org/2000/svg\" height=\"24px\"viewBox=\"0 0 24 24\"\n",
              "       width=\"24px\">\n",
              "    <path d=\"M0 0h24v24H0V0z\" fill=\"none\"/>\n",
              "    <path d=\"M18.56 5.44l.94 2.06.94-2.06 2.06-.94-2.06-.94-.94-2.06-.94 2.06-2.06.94zm-11 1L8.5 8.5l.94-2.06 2.06-.94-2.06-.94L8.5 2.5l-.94 2.06-2.06.94zm10 10l.94 2.06.94-2.06 2.06-.94-2.06-.94-.94-2.06-.94 2.06-2.06.94z\"/><path d=\"M17.41 7.96l-1.37-1.37c-.4-.4-.92-.59-1.43-.59-.52 0-1.04.2-1.43.59L10.3 9.45l-7.72 7.72c-.78.78-.78 2.05 0 2.83L4 21.41c.39.39.9.59 1.41.59.51 0 1.02-.2 1.41-.59l7.78-7.78 2.81-2.81c.8-.78.8-2.07 0-2.86zM5.41 20L4 18.59l7.72-7.72 1.47 1.35L5.41 20z\"/>\n",
              "  </svg>\n",
              "      </button>\n",
              "      \n",
              "  <style>\n",
              "    .colab-df-container {\n",
              "      display:flex;\n",
              "      flex-wrap:wrap;\n",
              "      gap: 12px;\n",
              "    }\n",
              "\n",
              "    .colab-df-convert {\n",
              "      background-color: #E8F0FE;\n",
              "      border: none;\n",
              "      border-radius: 50%;\n",
              "      cursor: pointer;\n",
              "      display: none;\n",
              "      fill: #1967D2;\n",
              "      height: 32px;\n",
              "      padding: 0 0 0 0;\n",
              "      width: 32px;\n",
              "    }\n",
              "\n",
              "    .colab-df-convert:hover {\n",
              "      background-color: #E2EBFA;\n",
              "      box-shadow: 0px 1px 2px rgba(60, 64, 67, 0.3), 0px 1px 3px 1px rgba(60, 64, 67, 0.15);\n",
              "      fill: #174EA6;\n",
              "    }\n",
              "\n",
              "    [theme=dark] .colab-df-convert {\n",
              "      background-color: #3B4455;\n",
              "      fill: #D2E3FC;\n",
              "    }\n",
              "\n",
              "    [theme=dark] .colab-df-convert:hover {\n",
              "      background-color: #434B5C;\n",
              "      box-shadow: 0px 1px 3px 1px rgba(0, 0, 0, 0.15);\n",
              "      filter: drop-shadow(0px 1px 2px rgba(0, 0, 0, 0.3));\n",
              "      fill: #FFFFFF;\n",
              "    }\n",
              "  </style>\n",
              "\n",
              "      <script>\n",
              "        const buttonEl =\n",
              "          document.querySelector('#df-aa2cb2b0-c8ca-4c8c-adc3-b65a1a587ec6 button.colab-df-convert');\n",
              "        buttonEl.style.display =\n",
              "          google.colab.kernel.accessAllowed ? 'block' : 'none';\n",
              "\n",
              "        async function convertToInteractive(key) {\n",
              "          const element = document.querySelector('#df-aa2cb2b0-c8ca-4c8c-adc3-b65a1a587ec6');\n",
              "          const dataTable =\n",
              "            await google.colab.kernel.invokeFunction('convertToInteractive',\n",
              "                                                     [key], {});\n",
              "          if (!dataTable) return;\n",
              "\n",
              "          const docLinkHtml = 'Like what you see? Visit the ' +\n",
              "            '<a target=\"_blank\" href=https://colab.research.google.com/notebooks/data_table.ipynb>data table notebook</a>'\n",
              "            + ' to learn more about interactive tables.';\n",
              "          element.innerHTML = '';\n",
              "          dataTable['output_type'] = 'display_data';\n",
              "          await google.colab.output.renderOutput(dataTable, element);\n",
              "          const docLink = document.createElement('div');\n",
              "          docLink.innerHTML = docLinkHtml;\n",
              "          element.appendChild(docLink);\n",
              "        }\n",
              "      </script>\n",
              "    </div>\n",
              "  </div>\n",
              "  "
            ]
          },
          "metadata": {},
          "execution_count": 183
        }
      ]
    },
    {
      "cell_type": "code",
      "source": [
        "df_copy1.info()"
      ],
      "metadata": {
        "colab": {
          "base_uri": "https://localhost:8080/"
        },
        "id": "mlx061dHNy51",
        "outputId": "0a2eb36c-65aa-44b3-fd84-0c93863fd38a"
      },
      "execution_count": null,
      "outputs": [
        {
          "output_type": "stream",
          "name": "stdout",
          "text": [
            "<class 'pandas.core.frame.DataFrame'>\n",
            "Int64Index: 2603 entries, 0 to 2751\n",
            "Data columns (total 79 columns):\n",
            " #   Column        Non-Null Count  Dtype  \n",
            "---  ------        --------------  -----  \n",
            " 0   min           2603 non-null   int64  \n",
            " 1   max           2603 non-null   int64  \n",
            " 2   err           2603 non-null   float64\n",
            " 3   pixels        2603 non-null   int64  \n",
            " 4   minf          2603 non-null   int64  \n",
            " 5   maxf          2603 non-null   int64  \n",
            " 6   errf          2603 non-null   float64\n",
            " 7   MaxMinDiff    2603 non-null   int64  \n",
            " 8   MaxfMinfDiff  2603 non-null   int64  \n",
            " 9   Failure       2603 non-null   int64  \n",
            " 10  scanner_H127  2603 non-null   uint8  \n",
            " 11  scanner_H128  2603 non-null   uint8  \n",
            " 12  scanner_H129  2603 non-null   uint8  \n",
            " 13  scanner_H130  2603 non-null   uint8  \n",
            " 14  scanner_H131  2603 non-null   uint8  \n",
            " 15  scanner_H132  2603 non-null   uint8  \n",
            " 16  scanner_H133  2603 non-null   uint8  \n",
            " 17  scanner_H134  2603 non-null   uint8  \n",
            " 18  scanner_H135  2603 non-null   uint8  \n",
            " 19  scanner_H138  2603 non-null   uint8  \n",
            " 20  scanner_H139  2603 non-null   uint8  \n",
            " 21  scanner_H142  2603 non-null   uint8  \n",
            " 22  scanner_H143  2603 non-null   uint8  \n",
            " 23  scanner_H147  2603 non-null   uint8  \n",
            " 24  scanner_H148  2603 non-null   uint8  \n",
            " 25  scanner_H149  2603 non-null   uint8  \n",
            " 26  scanner_H150  2603 non-null   uint8  \n",
            " 27  scanner_H151  2603 non-null   uint8  \n",
            " 28  scanner_H152  2603 non-null   uint8  \n",
            " 29  scanner_H153  2603 non-null   uint8  \n",
            " 30  scanner_H154  2603 non-null   uint8  \n",
            " 31  scanner_H155  2603 non-null   uint8  \n",
            " 32  scanner_H156  2603 non-null   uint8  \n",
            " 33  scanner_H157  2603 non-null   uint8  \n",
            " 34  scanner_H161  2603 non-null   uint8  \n",
            " 35  scanner_H162  2603 non-null   uint8  \n",
            " 36  scanner_H163  2603 non-null   uint8  \n",
            " 37  scanner_H165  2603 non-null   uint8  \n",
            " 38  scanner_H166  2603 non-null   uint8  \n",
            " 39  scanner_H167  2603 non-null   uint8  \n",
            " 40  scanner_H168  2603 non-null   uint8  \n",
            " 41  scanner_H169  2603 non-null   uint8  \n",
            " 42  scanner_H170  2603 non-null   uint8  \n",
            " 43  scanner_H171  2603 non-null   uint8  \n",
            " 44  scanner_H172  2603 non-null   uint8  \n",
            " 45  scanner_H173  2603 non-null   uint8  \n",
            " 46  scanner_H174  2603 non-null   uint8  \n",
            " 47  scanner_H175  2603 non-null   uint8  \n",
            " 48  scanner_H176  2603 non-null   uint8  \n",
            " 49  scanner_H177  2603 non-null   uint8  \n",
            " 50  scanner_K112  2603 non-null   uint8  \n",
            " 51  scanner_K113  2603 non-null   uint8  \n",
            " 52  scanner_K114  2603 non-null   uint8  \n",
            " 53  scanner_K115  2603 non-null   uint8  \n",
            " 54  scanner_K120  2603 non-null   uint8  \n",
            " 55  scanner_K121  2603 non-null   uint8  \n",
            " 56  scanner_K141  2603 non-null   uint8  \n",
            " 57  scanner_K147  2603 non-null   uint8  \n",
            " 58  scanner_K149  2603 non-null   uint8  \n",
            " 59  scanner_K150  2603 non-null   uint8  \n",
            " 60  scanner_K167  2603 non-null   uint8  \n",
            " 61  scanner_K168  2603 non-null   uint8  \n",
            " 62  scanner_K169  2603 non-null   uint8  \n",
            " 63  scanner_K171  2603 non-null   uint8  \n",
            " 64  scanner_K172  2603 non-null   uint8  \n",
            " 65  scanner_K173  2603 non-null   uint8  \n",
            " 66  scanner_K208  2603 non-null   uint8  \n",
            " 67  scanner_K209  2603 non-null   uint8  \n",
            " 68  scanner_K210  2603 non-null   uint8  \n",
            " 69  scanner_K211  2603 non-null   uint8  \n",
            " 70  scanner_K212  2603 non-null   uint8  \n",
            " 71  scanner_K218  2603 non-null   uint8  \n",
            " 72  scanner_K219  2603 non-null   uint8  \n",
            " 73  scanner_K220  2603 non-null   uint8  \n",
            " 74  scanner_K221  2603 non-null   uint8  \n",
            " 75  scanner_K237  2603 non-null   uint8  \n",
            " 76  scanner_K238  2603 non-null   uint8  \n",
            " 77  scanner_K239  2603 non-null   uint8  \n",
            " 78  scanner_K250  2603 non-null   uint8  \n",
            "dtypes: float64(2), int64(8), uint8(69)\n",
            "memory usage: 399.1 KB\n"
          ]
        }
      ]
    },
    {
      "cell_type": "code",
      "source": [
        "print(df_copy1['min'].min())\n",
        "print(df_copy1['max'].min())\n",
        "print(df_copy1['minf'].min())\n",
        "print(df_copy1['maxf'].min())"
      ],
      "metadata": {
        "colab": {
          "base_uri": "https://localhost:8080/"
        },
        "id": "x6P7hapgNy8i",
        "outputId": "763d98e2-f1b4-4c68-e577-3bd102722175"
      },
      "execution_count": null,
      "outputs": [
        {
          "output_type": "stream",
          "name": "stdout",
          "text": [
            "-1\n",
            "35761\n",
            "-1\n",
            "35527\n"
          ]
        }
      ]
    },
    {
      "cell_type": "markdown",
      "source": [
        "**NOTE: We need to replace those negative value as those are not helpful for analysis and model building.**"
      ],
      "metadata": {
        "id": "9VHbF-z3zW-4"
      }
    },
    {
      "cell_type": "code",
      "source": [
        "df_copy1['min'] = np.where(df_copy1['min']== -1, df_copy1['min'].mean(), df_copy1['min'])"
      ],
      "metadata": {
        "id": "IwKeuLBoNy_G"
      },
      "execution_count": null,
      "outputs": []
    },
    {
      "cell_type": "code",
      "source": [
        "df_copy1['minf'] = np.where(df_copy1['minf'] == -1, df_copy1['minf'].mean(), df_copy1['minf'])"
      ],
      "metadata": {
        "id": "xAgJeuDQNzCB"
      },
      "execution_count": null,
      "outputs": []
    },
    {
      "cell_type": "code",
      "source": [
        "f, axes = plt.subplots(2,2, figsize=(15, 10))\n",
        "f.suptitle('FREQUENCY OF CATEGORICAL FEATURES')\n",
        "fig1 = sns.scatterplot(x=df_copy1['Failure'],y=df_copy1['max'],palette =\"flare\",ax=axes[0,0])\n",
        "sns.scatterplot(x=df_copy1['Failure'],y=df_copy1['min'],palette =\"crest\", ax=axes[0,1])\n",
        "sns.scatterplot(x=df_copy1['Failure'],y=df_copy1['minf'],palette =\"rocket\", ax=axes[1,0])\n",
        "sns.scatterplot(x=df_copy1['Failure'],y=df_copy1['maxf'],palette =\"cubehelix\", ax=axes[1,1])"
      ],
      "metadata": {
        "colab": {
          "base_uri": "https://localhost:8080/",
          "height": 702
        },
        "id": "edGiDq3KNzFJ",
        "outputId": "28f3bc69-6769-4508-a9e1-916712150f7c"
      },
      "execution_count": null,
      "outputs": [
        {
          "output_type": "execute_result",
          "data": {
            "text/plain": [
              "<matplotlib.axes._subplots.AxesSubplot at 0x7f1c5bcf3a90>"
            ]
          },
          "metadata": {},
          "execution_count": 188
        },
        {
          "output_type": "display_data",
          "data": {
            "text/plain": [
              "<Figure size 1080x720 with 4 Axes>"
            ],
            "image/png": "[encoded data removed]"
          },
          "metadata": {
            "needs_background": "light"
          }
        }
      ]
    },
    {
      "cell_type": "code",
      "source": [
        "fig, axs = plt.subplots(ncols=5, nrows=2, figsize=(20, 15))\n",
        "index = 0\n",
        "axs = axs.flatten()\n",
        "for k,v in df_copy1.items():\n",
        "    if k == 'updated_at':\n",
        "      continue      \n",
        "    elif k == 'Failure':\n",
        "        break\n",
        "    sns.boxplot(y=k, hue= 'Failure', palette = 'rocket',data=df_copy1, ax=axs[index])\n",
        "    index += 1\n",
        "plt.tight_layout(pad=0.4, w_pad=0.5, h_pad=5.0)"
      ],
      "metadata": {
        "colab": {
          "base_uri": "https://localhost:8080/",
          "height": 800
        },
        "id": "c2VyBxYBtMPy",
        "outputId": "e5e69e92-f090-466d-c523-9c17b6a496ab"
      },
      "execution_count": null,
      "outputs": [
        {
          "output_type": "display_data",
          "data": {
            "text/plain": [
              "<Figure size 1440x1080 with 10 Axes>"
            ],
            "image/png": "[encoded data removed]"
          },
          "metadata": {
            "needs_background": "light"
          }
        }
      ]
    },
    {
      "cell_type": "code",
      "source": [
        "df_copy1.columns.size"
      ],
      "metadata": {
        "colab": {
          "base_uri": "https://localhost:8080/"
        },
        "id": "NA0--mpZtNFr",
        "outputId": "789fd12d-9f9a-4c13-be72-3e75f8f358ed"
      },
      "execution_count": null,
      "outputs": [
        {
          "output_type": "execute_result",
          "data": {
            "text/plain": [
              "79"
            ]
          },
          "metadata": {},
          "execution_count": 190
        }
      ]
    },
    {
      "cell_type": "markdown",
      "source": [
        "# Final interpretation before modeling\n",
        "**Err and Errf values are dependent on Max min difference of their respective parameters.**\n",
        "\n",
        "\n",
        "*   Err value goes beyond 12% after approximate MaxMinDiff threshold value of 4283, which is failure of the device.\n",
        "*    Errf value goes beyond 0.5% after approximate MaxMinDiff threshold value of 200, which is failure of the device.\n",
        "\n"
      ],
      "metadata": {
        "id": "dc2Cpl3z05od"
      }
    },
    {
      "cell_type": "markdown",
      "source": [
        "**Let's define an extra category of failure**\n",
        "\n",
        "**Failure category:**\n",
        "\n",
        "*   Never fail : Failure = 1\n",
        "*   Routinely fail: Failure = 2\n",
        "*   Expected to fail/Failing faster: Failure = 3\n"
      ],
      "metadata": {
        "id": "jQ5WWTROzeSi"
      }
    },
    {
      "cell_type": "code",
      "source": [
        "df_model = df_copy1.copy()"
      ],
      "metadata": {
        "id": "vQg_bv8EtNTY"
      },
      "execution_count": null,
      "outputs": []
    },
    {
      "cell_type": "code",
      "source": [
        "df_copy1['Failure'] = np.where(((df_copy1['MaxMinDiff'] >= 4000) & (df_copy1['MaxMinDiff'] <= 4280)) |\n",
        "                               ((df_copy1['MaxfMinfDiff'] >= 90) & (df_copy1['MaxfMinfDiff'] <= 120)),3, df_copy1['Failure'])"
      ],
      "metadata": {
        "id": "VcSNuStrtNZ6"
      },
      "execution_count": null,
      "outputs": []
    },
    {
      "cell_type": "code",
      "source": [
        "df_copy1.Failure.value_counts()"
      ],
      "metadata": {
        "colab": {
          "base_uri": "https://localhost:8080/"
        },
        "id": "Y7wzGy_wtNeE",
        "outputId": "3772bc8d-99de-4f15-f95b-4efc3dd212be"
      },
      "execution_count": null,
      "outputs": [
        {
          "output_type": "execute_result",
          "data": {
            "text/plain": [
              "1    2565\n",
              "3      27\n",
              "2      11\n",
              "Name: Failure, dtype: int64"
            ]
          },
          "metadata": {},
          "execution_count": 193
        }
      ]
    },
    {
      "cell_type": "code",
      "source": [
        "sun = px.sunburst(df_copy1, path= ['Failure'], title = 'Number of different failure categories',\n",
        "                  width = 400, height = 400)\n",
        "sun.show()"
      ],
      "metadata": {
        "colab": {
          "base_uri": "https://localhost:8080/",
          "height": 417
        },
        "id": "dVHs5CI14Str",
        "outputId": "d67f0aa5-51e5-4031-bceb-2fcee56f5986"
      },
      "execution_count": null,
      "outputs": [
        {
          "output_type": "display_data",
          "data": {
            "text/html": [
              "<html>\n",
              "<head><meta charset=\"utf-8\" /></head>\n",
              "<body>\n",
              "    <div>            <script src=\"https://cdnjs.cloudflare.com/ajax/libs/mathjax/2.7.5/MathJax.js?config=TeX-AMS-MML_SVG\"></script><script type=\"text/javascript\">if (window.MathJax) {MathJax.Hub.Config({SVG: {font: \"STIX-Web\"}});}</script>                <script type=\"text/javascript\">window.PlotlyConfig = {MathJaxConfig: 'local'};</script>\n",
              "        <script src=\"https://cdn.plot.ly/plotly-2.8.3.min.js\"></script>                <div id=\"f1779606-5be2-43ac-9448-95b8876f7f07\" class=\"plotly-graph-div\" style=\"height:400px; width:400px;\"></div>            <script type=\"text/javascript\">                                    window.PLOTLYENV=window.PLOTLYENV || {};                                    if (document.getElementById(\"f1779606-5be2-43ac-9448-95b8876f7f07\")) {                    Plotly.newPlot(                        \"f1779606-5be2-43ac-9448-95b8876f7f07\",                        [{\"branchvalues\":\"total\",\"domain\":{\"x\":[0.0,1.0],\"y\":[0.0,1.0]},\"hovertemplate\":\"labels=%{label}<br>count=%{value}<br>parent=%{parent}<br>id=%{id}<extra></extra>\",\"ids\":[\"1\",\"2\",\"3\"],\"labels\":[\"1\",\"2\",\"3\"],\"name\":\"\",\"parents\":[\"\",\"\",\"\"],\"values\":[2565,11,27],\"type\":\"sunburst\"}],                        {\"template\":{\"data\":{\"bar\":[{\"error_x\":{\"color\":\"#2a3f5f\"},\"error_y\":{\"color\":\"#2a3f5f\"},\"marker\":{\"line\":{\"color\":\"#E5ECF6\",\"width\":0.5},\"pattern\":{\"fillmode\":\"overlay\",\"size\":10,\"solidity\":0.2}},\"type\":\"bar\"}],\"barpolar\":[{\"marker\":{\"line\":{\"color\":\"#E5ECF6\",\"width\":0.5},\"pattern\":{\"fillmode\":\"overlay\",\"size\":10,\"solidity\":0.2}},\"type\":\"barpolar\"}],\"carpet\":[{\"aaxis\":{\"endlinecolor\":\"#2a3f5f\",\"gridcolor\":\"white\",\"linecolor\":\"white\",\"minorgridcolor\":\"white\",\"startlinecolor\":\"#2a3f5f\"},\"baxis\":{\"endlinecolor\":\"#2a3f5f\",\"gridcolor\":\"white\",\"linecolor\":\"white\",\"minorgridcolor\":\"white\",\"startlinecolor\":\"#2a3f5f\"},\"type\":\"carpet\"}],\"choropleth\":[{\"colorbar\":{\"outlinewidth\":0,\"ticks\":\"\"},\"type\":\"choropleth\"}],\"contour\":[{\"colorbar\":{\"outlinewidth\":0,\"ticks\":\"\"},\"colorscale\":[[0.0,\"#0d0887\"],[0.1111111111111111,\"#46039f\"],[0.2222222222222222,\"#7201a8\"],[0.3333333333333333,\"#9c179e\"],[0.4444444444444444,\"#bd3786\"],[0.5555555555555556,\"#d8576b\"],[0.6666666666666666,\"#ed7953\"],[0.7777777777777778,\"#fb9f3a\"],[0.8888888888888888,\"#fdca26\"],[1.0,\"#f0f921\"]],\"type\":\"contour\"}],\"contourcarpet\":[{\"colorbar\":{\"outlinewidth\":0,\"ticks\":\"\"},\"type\":\"contourcarpet\"}],\"heatmap\":[{\"colorbar\":{\"outlinewidth\":0,\"ticks\":\"\"},\"colorscale\":[[0.0,\"#0d0887\"],[0.1111111111111111,\"#46039f\"],[0.2222222222222222,\"#7201a8\"],[0.3333333333333333,\"#9c179e\"],[0.4444444444444444,\"#bd3786\"],[0.5555555555555556,\"#d8576b\"],[0.6666666666666666,\"#ed7953\"],[0.7777777777777778,\"#fb9f3a\"],[0.8888888888888888,\"#fdca26\"],[1.0,\"#f0f921\"]],\"type\":\"heatmap\"}],\"heatmapgl\":[{\"colorbar\":{\"outlinewidth\":0,\"ticks\":\"\"},\"colorscale\":[[0.0,\"#0d0887\"],[0.1111111111111111,\"#46039f\"],[0.2222222222222222,\"#7201a8\"],[0.3333333333333333,\"#9c179e\"],[0.4444444444444444,\"#bd3786\"],[0.5555555555555556,\"#d8576b\"],[0.6666666666666666,\"#ed7953\"],[0.7777777777777778,\"#fb9f3a\"],[0.8888888888888888,\"#fdca26\"],[1.0,\"#f0f921\"]],\"type\":\"heatmapgl\"}],\"histogram\":[{\"marker\":{\"pattern\":{\"fillmode\":\"overlay\",\"size\":10,\"solidity\":0.2}},\"type\":\"histogram\"}],\"histogram2d\":[{\"colorbar\":{\"outlinewidth\":0,\"ticks\":\"\"},\"colorscale\":[[0.0,\"#0d0887\"],[0.1111111111111111,\"#46039f\"],[0.2222222222222222,\"#7201a8\"],[0.3333333333333333,\"#9c179e\"],[0.4444444444444444,\"#bd3786\"],[0.5555555555555556,\"#d8576b\"],[0.6666666666666666,\"#ed7953\"],[0.7777777777777778,\"#fb9f3a\"],[0.8888888888888888,\"#fdca26\"],[1.0,\"#f0f921\"]],\"type\":\"histogram2d\"}],\"histogram2dcontour\":[{\"colorbar\":{\"outlinewidth\":0,\"ticks\":\"\"},\"colorscale\":[[0.0,\"#0d0887\"],[0.1111111111111111,\"#46039f\"],[0.2222222222222222,\"#7201a8\"],[0.3333333333333333,\"#9c179e\"],[0.4444444444444444,\"#bd3786\"],[0.5555555555555556,\"#d8576b\"],[0.6666666666666666,\"#ed7953\"],[0.7777777777777778,\"#fb9f3a\"],[0.8888888888888888,\"#fdca26\"],[1.0,\"#f0f921\"]],\"type\":\"histogram2dcontour\"}],\"mesh3d\":[{\"colorbar\":{\"outlinewidth\":0,\"ticks\":\"\"},\"type\":\"mesh3d\"}],\"parcoords\":[{\"line\":{\"colorbar\":{\"outlinewidth\":0,\"ticks\":\"\"}},\"type\":\"parcoords\"}],\"pie\":[{\"automargin\":true,\"type\":\"pie\"}],\"scatter\":[{\"marker\":{\"colorbar\":{\"outlinewidth\":0,\"ticks\":\"\"}},\"type\":\"scatter\"}],\"scatter3d\":[{\"line\":{\"colorbar\":{\"outlinewidth\":0,\"ticks\":\"\"}},\"marker\":{\"colorbar\":{\"outlinewidth\":0,\"ticks\":\"\"}},\"type\":\"scatter3d\"}],\"scattercarpet\":[{\"marker\":{\"colorbar\":{\"outlinewidth\":0,\"ticks\":\"\"}},\"type\":\"scattercarpet\"}],\"scattergeo\":[{\"marker\":{\"colorbar\":{\"outlinewidth\":0,\"ticks\":\"\"}},\"type\":\"scattergeo\"}],\"scattergl\":[{\"marker\":{\"colorbar\":{\"outlinewidth\":0,\"ticks\":\"\"}},\"type\":\"scattergl\"}],\"scattermapbox\":[{\"marker\":{\"colorbar\":{\"outlinewidth\":0,\"ticks\":\"\"}},\"type\":\"scattermapbox\"}],\"scatterpolar\":[{\"marker\":{\"colorbar\":{\"outlinewidth\":0,\"ticks\":\"\"}},\"type\":\"scatterpolar\"}],\"scatterpolargl\":[{\"marker\":{\"colorbar\":{\"outlinewidth\":0,\"ticks\":\"\"}},\"type\":\"scatterpolargl\"}],\"scatterternary\":[{\"marker\":{\"colorbar\":{\"outlinewidth\":0,\"ticks\":\"\"}},\"type\":\"scatterternary\"}],\"surface\":[{\"colorbar\":{\"outlinewidth\":0,\"ticks\":\"\"},\"colorscale\":[[0.0,\"#0d0887\"],[0.1111111111111111,\"#46039f\"],[0.2222222222222222,\"#7201a8\"],[0.3333333333333333,\"#9c179e\"],[0.4444444444444444,\"#bd3786\"],[0.5555555555555556,\"#d8576b\"],[0.6666666666666666,\"#ed7953\"],[0.7777777777777778,\"#fb9f3a\"],[0.8888888888888888,\"#fdca26\"],[1.0,\"#f0f921\"]],\"type\":\"surface\"}],\"table\":[{\"cells\":{\"fill\":{\"color\":\"#EBF0F8\"},\"line\":{\"color\":\"white\"}},\"header\":{\"fill\":{\"color\":\"#C8D4E3\"},\"line\":{\"color\":\"white\"}},\"type\":\"table\"}]},\"layout\":{\"annotationdefaults\":{\"arrowcolor\":\"#2a3f5f\",\"arrowhead\":0,\"arrowwidth\":1},\"autotypenumbers\":\"strict\",\"coloraxis\":{\"colorbar\":{\"outlinewidth\":0,\"ticks\":\"\"}},\"colorscale\":{\"diverging\":[[0,\"#8e0152\"],[0.1,\"#c51b7d\"],[0.2,\"#de77ae\"],[0.3,\"#f1b6da\"],[0.4,\"#fde0ef\"],[0.5,\"#f7f7f7\"],[0.6,\"#e6f5d0\"],[0.7,\"#b8e186\"],[0.8,\"#7fbc41\"],[0.9,\"#4d9221\"],[1,\"#276419\"]],\"sequential\":[[0.0,\"#0d0887\"],[0.1111111111111111,\"#46039f\"],[0.2222222222222222,\"#7201a8\"],[0.3333333333333333,\"#9c179e\"],[0.4444444444444444,\"#bd3786\"],[0.5555555555555556,\"#d8576b\"],[0.6666666666666666,\"#ed7953\"],[0.7777777777777778,\"#fb9f3a\"],[0.8888888888888888,\"#fdca26\"],[1.0,\"#f0f921\"]],\"sequentialminus\":[[0.0,\"#0d0887\"],[0.1111111111111111,\"#46039f\"],[0.2222222222222222,\"#7201a8\"],[0.3333333333333333,\"#9c179e\"],[0.4444444444444444,\"#bd3786\"],[0.5555555555555556,\"#d8576b\"],[0.6666666666666666,\"#ed7953\"],[0.7777777777777778,\"#fb9f3a\"],[0.8888888888888888,\"#fdca26\"],[1.0,\"#f0f921\"]]},\"colorway\":[\"#636efa\",\"#EF553B\",\"#00cc96\",\"#ab63fa\",\"#FFA15A\",\"#19d3f3\",\"#FF6692\",\"#B6E880\",\"#FF97FF\",\"#FECB52\"],\"font\":{\"color\":\"#2a3f5f\"},\"geo\":{\"bgcolor\":\"white\",\"lakecolor\":\"white\",\"landcolor\":\"#E5ECF6\",\"showlakes\":true,\"showland\":true,\"subunitcolor\":\"white\"},\"hoverlabel\":{\"align\":\"left\"},\"hovermode\":\"closest\",\"mapbox\":{\"style\":\"light\"},\"paper_bgcolor\":\"white\",\"plot_bgcolor\":\"#E5ECF6\",\"polar\":{\"angularaxis\":{\"gridcolor\":\"white\",\"linecolor\":\"white\",\"ticks\":\"\"},\"bgcolor\":\"#E5ECF6\",\"radialaxis\":{\"gridcolor\":\"white\",\"linecolor\":\"white\",\"ticks\":\"\"}},\"scene\":{\"xaxis\":{\"backgroundcolor\":\"#E5ECF6\",\"gridcolor\":\"white\",\"gridwidth\":2,\"linecolor\":\"white\",\"showbackground\":true,\"ticks\":\"\",\"zerolinecolor\":\"white\"},\"yaxis\":{\"backgroundcolor\":\"#E5ECF6\",\"gridcolor\":\"white\",\"gridwidth\":2,\"linecolor\":\"white\",\"showbackground\":true,\"ticks\":\"\",\"zerolinecolor\":\"white\"},\"zaxis\":{\"backgroundcolor\":\"#E5ECF6\",\"gridcolor\":\"white\",\"gridwidth\":2,\"linecolor\":\"white\",\"showbackground\":true,\"ticks\":\"\",\"zerolinecolor\":\"white\"}},\"shapedefaults\":{\"line\":{\"color\":\"#2a3f5f\"}},\"ternary\":{\"aaxis\":{\"gridcolor\":\"white\",\"linecolor\":\"white\",\"ticks\":\"\"},\"baxis\":{\"gridcolor\":\"white\",\"linecolor\":\"white\",\"ticks\":\"\"},\"bgcolor\":\"#E5ECF6\",\"caxis\":{\"gridcolor\":\"white\",\"linecolor\":\"white\",\"ticks\":\"\"}},\"title\":{\"x\":0.05},\"xaxis\":{\"automargin\":true,\"gridcolor\":\"white\",\"linecolor\":\"white\",\"ticks\":\"\",\"title\":{\"standoff\":15},\"zerolinecolor\":\"white\",\"zerolinewidth\":2},\"yaxis\":{\"automargin\":true,\"gridcolor\":\"white\",\"linecolor\":\"white\",\"ticks\":\"\",\"title\":{\"standoff\":15},\"zerolinecolor\":\"white\",\"zerolinewidth\":2}}},\"legend\":{\"tracegroupgap\":0},\"title\":{\"text\":\"Number of different failure categories\"},\"height\":400,\"width\":400},                        {\"responsive\": true}                    ).then(function(){\n",
              "                            \n",
              "var gd = document.getElementById('f1779606-5be2-43ac-9448-95b8876f7f07');\n",
              "var x = new MutationObserver(function (mutations, observer) {{\n",
              "        var display = window.getComputedStyle(gd).display;\n",
              "        if (!display || display === 'none') {{\n",
              "            console.log([gd, 'removed!']);\n",
              "            Plotly.purge(gd);\n",
              "            observer.disconnect();\n",
              "        }}\n",
              "}});\n",
              "\n",
              "// Listen for the removal of the full notebook cells\n",
              "var notebookContainer = gd.closest('#notebook-container');\n",
              "if (notebookContainer) {{\n",
              "    x.observe(notebookContainer, {childList: true});\n",
              "}}\n",
              "\n",
              "// Listen for the clearing of the current output cell\n",
              "var outputEl = gd.closest('.output');\n",
              "if (outputEl) {{\n",
              "    x.observe(outputEl, {childList: true});\n",
              "}}\n",
              "\n",
              "                        })                };                            </script>        </div>\n",
              "</body>\n",
              "</html>"
            ]
          },
          "metadata": {}
        }
      ]
    },
    {
      "cell_type": "markdown",
      "source": [
        "# **Data Spliting & importing Libraries**"
      ],
      "metadata": {
        "id": "wPLNbfrO3_mm"
      }
    },
    {
      "cell_type": "code",
      "source": [
        "from sklearn.model_selection import train_test_split \n",
        "from sklearn.model_selection import KFold\n",
        "from sklearn.model_selection import GridSearchCV\n",
        "from sklearn.model_selection import RandomizedSearchCV\n",
        "from sklearn.preprocessing import StandardScaler\n",
        "from sklearn.model_selection import cross_val_score\n",
        "from sklearn.metrics import classification_report\n",
        "from sklearn.metrics import confusion_matrix\n",
        "from sklearn.feature_selection import SelectFromModel\n",
        "\n",
        "from sklearn.ensemble import RandomForestClassifier\n",
        "from sklearn.ensemble import GradientBoostingClassifier\n",
        "import lightgbm\n",
        "from sklearn.model_selection import GridSearchCV\n",
        "\n",
        "from sklearn import metrics"
      ],
      "metadata": {
        "id": "jaRPebbh8SDi"
      },
      "execution_count": null,
      "outputs": []
    },
    {
      "cell_type": "code",
      "source": [
        "x = df_copy1.drop('Failure', axis = 1)\n",
        "y = df_copy1['Failure']"
      ],
      "metadata": {
        "id": "HjEn0fPctNhl"
      },
      "execution_count": null,
      "outputs": []
    },
    {
      "cell_type": "code",
      "source": [
        "x_train,x_test,y_train,y_test = train_test_split(x,y, test_size = 0.3, stratify = y, random_state = 45)"
      ],
      "metadata": {
        "id": "UuDITIT2tNkn"
      },
      "execution_count": null,
      "outputs": []
    },
    {
      "cell_type": "markdown",
      "source": [
        "# **Model Generation and Prediction**"
      ],
      "metadata": {
        "id": "5_X2-8eOFB-2"
      }
    },
    {
      "cell_type": "code",
      "source": [
        "def model_classifier(model):\n",
        "      brk_str = '=='*50  \n",
        "      parameters = {'n_estimators': [50, 150, 250],'max_depth': [4, 8, 16, 32, 64, None]}  \n",
        "      print(brk_str)\n",
        "      cv = GridSearchCV(model, param_grid=parameters, cv=10, n_jobs= -1)\n",
        "      cv.fit(x_train, y_train)\n",
        "      print(brk_str)\n",
        "      print(cv.best_params_)\n",
        "      print(brk_str)\n",
        "      y_pred= cv.predict(x_test)\n",
        "      print('Accuracy:', metrics.accuracy_score(y_pred,y_test))\n",
        "     \n",
        "      cv_scores =cross_val_score(cv, x, y, cv=5)\n",
        "      print(brk_str)\n",
        "      print(' Print the 5-fold cross-validation scores')\n",
        "      print(brk_str)\n",
        "      print(classification_report(y_test, y_pred))\n",
        "      print()\n",
        "      print(\"Average 5-Fold CV Score: {}\".format(round(np.mean(cv_scores),4)),\", Standard deviation: {}\".format(round(np.std(cv_scores),4)))\n",
        "      ConfMatrix = confusion_matrix(y_test,cv.predict(x_test))\n",
        "      print()\n",
        "      print(ConfMatrix)\n",
        "      print()\n",
        "      print(brk_str)\n",
        "\n",
        "      print('Sample Test check')\n",
        "      sample_test = df_copy1.loc[(df_copy1['scanner_K150'] == 1) & (df_copy1['Failure'] == 3)]\n",
        "      ypred_sample = cv.predict(sample_test.drop(['Failure'],axis = 1))\n",
        "      print(ypred_sample)\n",
        "      print(brk_str)"
      ],
      "metadata": {
        "id": "VRUEgvhrtNoG"
      },
      "execution_count": null,
      "outputs": []
    },
    {
      "cell_type": "markdown",
      "source": [
        "# Random Forest Classifier"
      ],
      "metadata": {
        "id": "CrowZiQZOyOD"
      }
    },
    {
      "cell_type": "code",
      "source": [
        "model_classifier(RandomForestClassifier())"
      ],
      "metadata": {
        "colab": {
          "base_uri": "https://localhost:8080/"
        },
        "id": "RMSXzrn635va",
        "outputId": "5c19deae-2d34-4d9e-faab-aa2bfa6ef642"
      },
      "execution_count": null,
      "outputs": [
        {
          "output_type": "stream",
          "name": "stdout",
          "text": [
            "====================================================================================================\n",
            "====================================================================================================\n",
            "{'max_depth': 8, 'n_estimators': 250}\n",
            "====================================================================================================\n",
            "Accuracy: 0.9974391805377721\n",
            "====================================================================================================\n",
            " Print the 5-fold cross-validation scores\n",
            "====================================================================================================\n",
            "              precision    recall  f1-score   support\n",
            "\n",
            "           1       1.00      1.00      1.00       770\n",
            "           2       1.00      1.00      1.00         3\n",
            "           3       0.80      1.00      0.89         8\n",
            "\n",
            "    accuracy                           1.00       781\n",
            "   macro avg       0.93      1.00      0.96       781\n",
            "weighted avg       1.00      1.00      1.00       781\n",
            "\n",
            "\n",
            "Average 5-Fold CV Score: 0.9969 , Standard deviation: 0.0026\n",
            "\n",
            "[[768   0   2]\n",
            " [  0   3   0]\n",
            " [  0   0   8]]\n",
            "\n",
            "====================================================================================================\n",
            "Sample Test check\n",
            "[3 3 3]\n",
            "====================================================================================================\n"
          ]
        }
      ]
    },
    {
      "cell_type": "markdown",
      "source": [
        "# Gradient Boosting Classifier"
      ],
      "metadata": {
        "id": "BQofJfqFV8dL"
      }
    },
    {
      "cell_type": "code",
      "source": [
        "model_classifier(GradientBoostingClassifier())"
      ],
      "metadata": {
        "colab": {
          "base_uri": "https://localhost:8080/"
        },
        "id": "vLV3dI-336L_",
        "outputId": "38aa16db-dd74-42da-f728-10a16b19354f"
      },
      "execution_count": null,
      "outputs": [
        {
          "output_type": "stream",
          "name": "stdout",
          "text": [
            "====================================================================================================\n",
            "====================================================================================================\n",
            "{'max_depth': 4, 'n_estimators': 50}\n",
            "====================================================================================================\n",
            "Accuracy: 0.9974391805377721\n",
            "====================================================================================================\n",
            " Print the 5-fold cross-validation scores\n",
            "====================================================================================================\n",
            "              precision    recall  f1-score   support\n",
            "\n",
            "           1       1.00      1.00      1.00       770\n",
            "           2       1.00      1.00      1.00         3\n",
            "           3       0.80      1.00      0.89         8\n",
            "\n",
            "    accuracy                           1.00       781\n",
            "   macro avg       0.93      1.00      0.96       781\n",
            "weighted avg       1.00      1.00      1.00       781\n",
            "\n",
            "\n",
            "Average 5-Fold CV Score: 0.9977 , Standard deviation: 0.0022\n",
            "\n",
            "[[768   0   2]\n",
            " [  0   3   0]\n",
            " [  0   0   8]]\n",
            "\n",
            "====================================================================================================\n",
            "Sample Test check\n",
            "[3 3 3]\n",
            "====================================================================================================\n"
          ]
        }
      ]
    },
    {
      "cell_type": "markdown",
      "source": [
        "# Light Gbm Classifier"
      ],
      "metadata": {
        "id": "eTeln6sCXcR1"
      }
    },
    {
      "cell_type": "code",
      "source": [
        "lgbmc = lightgbm.LGBMClassifier()\n",
        "model_classifier(lgbmc)"
      ],
      "metadata": {
        "colab": {
          "base_uri": "https://localhost:8080/"
        },
        "id": "ve4VACKRW3gS",
        "outputId": "8db2411f-9e42-49fe-8afa-caf3c5b77b4a"
      },
      "execution_count": null,
      "outputs": [
        {
          "output_type": "stream",
          "name": "stdout",
          "text": [
            "====================================================================================================\n",
            "====================================================================================================\n",
            "{'max_depth': 4, 'n_estimators': 150}\n",
            "====================================================================================================\n",
            "Accuracy: 0.9974391805377721\n",
            "====================================================================================================\n",
            " Print the 5-fold cross-validation scores\n",
            "====================================================================================================\n",
            "              precision    recall  f1-score   support\n",
            "\n",
            "           1       1.00      1.00      1.00       770\n",
            "           2       0.75      1.00      0.86         3\n",
            "           3       1.00      0.75      0.86         8\n",
            "\n",
            "    accuracy                           1.00       781\n",
            "   macro avg       0.92      0.92      0.90       781\n",
            "weighted avg       1.00      1.00      1.00       781\n",
            "\n",
            "\n",
            "Average 5-Fold CV Score: 0.9958 , Standard deviation: 0.0026\n",
            "\n",
            "[[770   0   0]\n",
            " [  0   3   0]\n",
            " [  1   1   6]]\n",
            "\n",
            "====================================================================================================\n",
            "Sample Test check\n",
            "[2 2 3]\n",
            "====================================================================================================\n"
          ]
        }
      ]
    },
    {
      "cell_type": "markdown",
      "source": [
        "# **Conclusion**\n",
        "\n",
        "\n",
        "1.   Based on the model estimation each model's accuracy and precision and recall values are satisfactory along with cross-validation scores\n",
        "2.   LightGBM model gives results faster than Random Forest and Gradient Boosting.\n",
        "\n"
      ],
      "metadata": {
        "id": "mwZk-wuDb2SI"
      }
    },
    {
      "cell_type": "code",
      "source": [
        ""
      ],
      "metadata": {
        "id": "pZHo8wH6W4yB"
      },
      "execution_count": null,
      "outputs": []
    }
  ],
  "metadata": {
    "colab": {
      "collapsed_sections": [],
      "name": "Scanner_maintenance.ipynb",
      "provenance": [],
      "authorship_tag": "ABX9TyOl1mbGDC2qGnWpuWfjY4TJ",
      "include_colab_link": true
    },
    "kernelspec": {
      "display_name": "Python 3",
      "name": "python3"
    },
    "language_info": {
      "name": "python"
    }
  },
  "nbformat": 4,
  "nbformat_minor": 0
}